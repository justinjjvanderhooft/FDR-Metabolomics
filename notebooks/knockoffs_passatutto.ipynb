{
 "cells": [
  {
   "cell_type": "code",
   "execution_count": 1,
   "metadata": {},
   "outputs": [],
   "source": [
    "import gensim\n",
    "import numpy as np\n",
    "import os\n",
    "import sys\n",
    "\n",
    "ROOT = os.path.dirname(os.getcwd())\n",
    "path_data = 'C:\\\\Users\\\\Gosia\\\\Desktop\\\\'\n",
    "sys.path.insert(0, ROOT)\n",
    "\n",
    "sys.path.append('C:\\\\Users\\\\Gosia\\\\Desktop\\\\FDR-Metabolomics\\\\src\\\\')"
   ]
  },
  {
   "cell_type": "code",
   "execution_count": null,
   "metadata": {},
   "outputs": [],
   "source": [
    "import passatutto_parser as pp\n",
    "from matchms.importing.load_from_json import as_spectrum\n",
    "\n",
    "\n",
    "pre_spectrums_query = pp.PassatuttoParser(r'C:\\\\Users\\\\Gosia\\\\Desktop\\\\MassbankOrbi').parse_folder()\n",
    "pre_spectrums_lib = pp.PassatuttoParser('C:\\\\Users\\\\Gosia\\\\Desktop\\\\Gnps').parse_folder()\n",
    "\n",
    "# Using MatchMS to create spectra for both\n",
    "spectrums_query = []\n",
    "for i, s in enumerate( pre_spectrums_query ):\n",
    "    spectrums_query.append(as_spectrum(s))\n",
    "    if i and i % 100 == 0:\n",
    "        print('processed %d' % i)\n",
    "        \n",
    "spectrums_lib = []\n",
    "for i, s in enumerate( pre_spectrums_lib ):\n",
    "    spectrums_lib.append(as_spectrum(s))\n",
    "    if i and i % 100 == 0:\n",
    "        print('processed %d' % i)\n",
    "        "
   ]
  },
  {
   "cell_type": "code",
   "execution_count": null,
   "metadata": {},
   "outputs": [],
   "source": [
    "# Loading the decoy database\n",
    "pre_spectrums_decoys_cond = pp.DecoyParserPassattuto(r'C:\\\\Users\\\\Gosia\\\\Desktop\\\\GnpsDecoyConditionalPeaks').parse_folder()\n",
    "pre_spectrums_decoys_rand = pp.DecoyParserPassattuto(r'C:\\\\Users\\\\Gosia\\\\Desktop\\\\GnpsDecoyRandomPeaks').parse_folder()\n",
    "\n",
    "# Using MatchMS to create decoy spectra\n",
    "decoys_cond = []\n",
    "for i, s in enumerate( pre_spectrums_decoys_cond ):\n",
    "    decoys_cond.append(as_spectrum(s))\n",
    "    if i and i % 100 == 0:\n",
    "        print('processed %d'% i)\n",
    "\n",
    "decoys_rand = []\n",
    "for i, s in enumerate( pre_spectrums_decoys_rand ):\n",
    "    decoys_rand.append(as_spectrum(s))\n",
    "    if i and i % 100 == 0:\n",
    "        print('processed %d'% i)"
   ]
  },
  {
   "cell_type": "code",
   "execution_count": 4,
   "metadata": {},
   "outputs": [],
   "source": [
    "from matchms.filtering import normalize_intensities\n",
    "# Spec2Vec trained model requires normalizing\n",
    "spectrums_query = [normalize_intensities(s) for s in spectrums_query]\n",
    "spectrums_lib = [normalize_intensities(s) for s in spectrums_lib]\n",
    "\n",
    "decoys_cond = [normalize_intensities(s) for s in decoys_cond]\n",
    "decoys_rand = [normalize_intensities(s) for s in decoys_rand]\n"
   ]
  },
  {
   "cell_type": "markdown",
   "metadata": {},
   "source": [
    "Load pretrained spec2vec model"
   ]
  },
  {
   "cell_type": "code",
   "execution_count": 5,
   "metadata": {},
   "outputs": [
    {
     "name": "stdout",
     "output_type": "stream",
     "text": [
      "C:\\Users\\Gosia\\Desktop\\trained_models_1\\spec2vec_size_170.model\n"
     ]
    }
   ],
   "source": [
    "path_models = os.path.join(path_data, \"trained_models_1\")\n",
    "model_file = os.path.join(path_models, \"spec2vec_size_170.model\")\n",
    "\n",
    "model = gensim.models.Word2Vec.load(model_file)\n",
    "print(model_file)"
   ]
  },
  {
   "cell_type": "markdown",
   "metadata": {},
   "source": [
    "Create spectrum \"documents\""
   ]
  },
  {
   "cell_type": "code",
   "execution_count": 6,
   "metadata": {},
   "outputs": [],
   "source": [
    "from spec2vec import Spec2Vec\n",
    "from spec2vec import SpectrumDocument\n",
    "\n",
    "documents_query = [SpectrumDocument(s, n_decimals=2) for s in spectrums_query]\n",
    "documents_lib = [SpectrumDocument(s, n_decimals=2) for s in spectrums_lib]\n",
    "\n",
    "documents_decoys_cond = [SpectrumDocument(s, n_decimals=2) for s in decoys_cond]\n",
    "documents_decoys_rand = [SpectrumDocument(s, n_decimals=2) for s in decoys_rand]"
   ]
  },
  {
   "cell_type": "markdown",
   "metadata": {},
   "source": [
    "\n",
    "Derive embeddings"
   ]
  },
  {
   "cell_type": "code",
   "execution_count": null,
   "metadata": {},
   "outputs": [],
   "source": [
    "from tqdm.notebook import tqdm  # optional, just to get a progress bar\n",
    "from spec2vec.vector_operations import calc_vector\n",
    "\n",
    "\n",
    "intensity_weighting_power = 0.5\n",
    "allowed_missing_percentage = 70 # specify the maximum (weighted) fraction of the spectrum that is allowed to be missing\n",
    "\n",
    "vector_size = model.vector_size\n",
    "print(f\"Embedding vector size: {vector_size}\")\n",
    "\n",
    "embeddings_spec2vec_query = np.zeros((len(documents_query), vector_size), dtype=\"float\")\n",
    "for i, doc in enumerate(tqdm(documents_query)):\n",
    "    embeddings_spec2vec_query[i, 0:vector_size] = calc_vector(model, doc,\n",
    "                                                        intensity_weighting_power,\n",
    "                                                        allowed_missing_percentage)\n",
    "embeddings_spec2vec_lib = np.zeros((len(documents_lib), vector_size), dtype=\"float\")\n",
    "for i, doc in enumerate(tqdm(documents_lib)):\n",
    "    embeddings_spec2vec_lib[i, 0:vector_size] = calc_vector(model, doc,\n",
    "                                                        intensity_weighting_power,\n",
    "                                                        allowed_missing_percentage)"
   ]
  },
  {
   "cell_type": "code",
   "execution_count": null,
   "metadata": {},
   "outputs": [],
   "source": [
    "\n",
    "\n",
    "embeddings_spec2vec_decoys_cond = np.zeros((len(documents_decoys_cond), vector_size), dtype=\"float\")\n",
    "for i, doc in enumerate(tqdm(documents_decoys_cond)):\n",
    "    embeddings_spec2vec_decoys_cond[i, 0:vector_size] = calc_vector(model, doc,\n",
    "                                                        intensity_weighting_power,\n",
    "                                                        allowed_missing_percentage)\n",
    "embeddings_spec2vec_decoys_rand = np.zeros((len(documents_decoys_rand), vector_size), dtype=\"float\")\n",
    "for i, doc in enumerate(tqdm(documents_decoys_rand)):\n",
    "    embeddings_spec2vec_decoys_rand[i, 0:vector_size] = calc_vector(model, doc,\n",
    "                                                        intensity_weighting_power,\n",
    "                                                        allowed_missing_percentage)"
   ]
  },
  {
   "cell_type": "code",
   "execution_count": 9,
   "metadata": {},
   "outputs": [
    {
     "data": {
      "text/plain": [
       "<module 'cosine_calc' from 'C:\\\\Users\\\\Gosia\\\\Desktop\\\\FDR-Metabolomics\\\\src\\\\cosine_calc.py'>"
      ]
     },
     "execution_count": 9,
     "metadata": {},
     "output_type": "execute_result"
    }
   ],
   "source": [
    "import importlib\n",
    "import cosine_calc\n",
    "importlib.reload(cosine_calc)"
   ]
  },
  {
   "cell_type": "code",
   "execution_count": 10,
   "metadata": {},
   "outputs": [],
   "source": [
    "from cosine_calc import get_spec2vec_hits\n",
    "\n",
    "hits = get_spec2vec_hits( documents_query, documents_lib, model, precursor_tol=3,\n",
    "                            intensity_weighting_power=intensity_weighting_power,\n",
    "                            allowed_missing_percentage=allowed_missing_percentage, passatutto=True,\n",
    "                embeddings_query=embeddings_spec2vec_query, embeddings_library=embeddings_spec2vec_lib)"
   ]
  },
  {
   "cell_type": "code",
   "execution_count": 11,
   "metadata": {},
   "outputs": [],
   "source": [
    "def add_pmz(specs):\n",
    "    from rdkit.Chem import MolFromSmiles, MolToSmiles, MolFromInchi\n",
    "    from rdkit.Chem.rdMolDescriptors import CalcExactMolWt, CalcMolFormula\n",
    "    for s in specs:\n",
    "        s._obj.set('precursor_mz', s._obj.get('parent_mass', 0))\n",
    "        \n",
    "add_pmz(documents_query)"
   ]
  },
  {
   "cell_type": "code",
   "execution_count": 12,
   "metadata": {},
   "outputs": [],
   "source": [
    "import copy\n",
    "documents_decoys_cond = []\n",
    "for v,d in zip(embeddings_spec2vec_decoys_cond,documents_lib):\n",
    "    decoy_doc = copy.deepcopy(d)\n",
    "    decoy_doc._obj.set('inchi', 'knockoff')\n",
    "    decoy_doc._obj.set('vector', v)\n",
    "    documents_decoys_cond.append(decoy_doc)\n",
    "\n",
    "hits_decoys_cond = get_spec2vec_hits(documents_query, documents_decoys_cond, decoys=True, model=model, precursor_tol=3, metaKey=\"precursor_mz\",\n",
    "                                                        intensity_weighting_power=intensity_weighting_power,\n",
    "                                                        allowed_missing_percentage=allowed_missing_percentage, passatutto=True,\n",
    "                                    embeddings_query=embeddings_spec2vec_query )\n",
    "\n",
    "\n",
    "documents_decoys_rand = []\n",
    "for v,d in zip(embeddings_spec2vec_decoys_rand,documents_lib):\n",
    "    decoy_doc = copy.deepcopy(d)\n",
    "    decoy_doc._obj.set('inchi', 'knockoff')\n",
    "    decoy_doc._obj.set('vector', v)\n",
    "    documents_decoys_rand.append(decoy_doc)\n",
    "\n",
    "hits_decoys_rand = get_spec2vec_hits(documents_query, documents_decoys_rand, decoys=True, model=model, precursor_tol=3, metaKey=\"precursor_mz\",\n",
    "                                                        intensity_weighting_power=intensity_weighting_power,\n",
    "                                                        allowed_missing_percentage=allowed_missing_percentage, passatutto=True,\n",
    "                                    embeddings_query=embeddings_spec2vec_query )"
   ]
  },
  {
   "cell_type": "code",
   "execution_count": 13,
   "metadata": {},
   "outputs": [],
   "source": [
    "# Calculating true q-value scores\n",
    "from q_value_calc import calculate_q_value\n",
    "q_list_true = calculate_q_value(hits)"
   ]
  },
  {
   "cell_type": "code",
   "execution_count": 14,
   "metadata": {},
   "outputs": [],
   "source": [
    "# Calculating estimated q-value scores\n",
    "q_list_decoys = {}\n",
    "q_list_decoys['spectrum-based method'] = calculate_q_value(hits+hits_decoys_cond,True)\n",
    "q_list_decoys['naive method'] = calculate_q_value(hits+hits_decoys_rand,True)"
   ]
  },
  {
   "cell_type": "code",
   "execution_count": 15,
   "metadata": {},
   "outputs": [
    {
     "name": "stdout",
     "output_type": "stream",
     "text": [
      "Embedding vector size: 170\n"
     ]
    }
   ],
   "source": [
    "from knockoffs import generate_knockoffs\n",
    "\n",
    "knockoff_documents = generate_knockoffs(model,documents_lib,allowed_missing_percentage=allowed_missing_percentage,n_components=3, diagonal_matrix=110, embeddings=embeddings_spec2vec_lib)\n",
    "hits_knockoffs = get_spec2vec_hits(documents_query, knockoff_documents, decoys=True, model=model, precursor_tol=3, metaKey=\"precursor_mz\",\n",
    "                                   intensity_weighting_power=intensity_weighting_power,\n",
    "                                   allowed_missing_percentage=allowed_missing_percentage, passatutto=True, embeddings_query=embeddings_spec2vec_query)\n",
    "q_list_decoys[\"knockoff method\"] = calculate_q_value(hits+hits_knockoffs,True)"
   ]
  },
  {
   "cell_type": "code",
   "execution_count": 16,
   "metadata": {},
   "outputs": [
    {
     "data": {
      "image/png": "[encoded data removed]",
      "text/plain": [
       "<Figure size 576x432 with 1 Axes>"
      ]
     },
     "metadata": {
      "needs_background": "light"
     },
     "output_type": "display_data"
    }
   ],
   "source": [
    "import plot_q_vals\n",
    "plot_q_vals.plot_q_vals( q_list_true, q_list_decoys )"
   ]
  }
 ],
 "metadata": {
  "kernelspec": {
   "display_name": "Python 3",
   "language": "python",
   "name": "python3"
  },
  "language_info": {
   "codemirror_mode": {
    "name": "ipython",
    "version": 3
   },
   "file_extension": ".py",
   "mimetype": "text/x-python",
   "name": "python",
   "nbconvert_exporter": "python",
   "pygments_lexer": "ipython3",
   "version": "3.8.5"
  }
 },
 "nbformat": 4,
 "nbformat_minor": 4
}
