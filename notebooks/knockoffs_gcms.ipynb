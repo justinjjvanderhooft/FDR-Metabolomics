{
 "cells": [
  {
   "cell_type": "code",
   "execution_count": null,
   "metadata": {},
   "outputs": [],
   "source": [
    "import os\n",
    "import sys\n",
    "import gensim\n",
    "import numpy as np\n",
    "\n",
    "path_data = 'C:\\\\Users\\\\Gosia\\\\Desktop\\\\'\n",
    "\n",
    "# this is the path to the source code of this project\n",
    "sys.path.append('../src/')"
   ]
  },
  {
   "cell_type": "code",
   "execution_count": null,
   "metadata": {},
   "outputs": [],
   "source": [
    "import cosine_calc"
   ]
  },
  {
   "cell_type": "code",
   "execution_count": 2,
   "metadata": {},
   "outputs": [
    {
     "name": "stdout",
     "output_type": "stream",
     "text": [
      "18898\n"
     ]
    }
   ],
   "source": [
    "from matchms.importing.load_from_msp import load_from_msp\n",
    "spectrums = list(load_from_msp('C:\\\\Users\\\\Gosia\\\\Desktop\\\\MoNA-export-GC-MS_Spectra-msp\\\\MoNA-export-GC-MS_Spectra.msp'))\n",
    "print(len(spectrums))"
   ]
  },
  {
   "cell_type": "code",
   "execution_count": 3,
   "metadata": {},
   "outputs": [],
   "source": [
    "from matchms.filtering import normalize_intensities\n",
    "from matchms.filtering import select_by_mz\n",
    "from matchms.filtering import select_by_relative_intensity\n",
    "from matchms.filtering import reduce_to_number_of_peaks\n",
    "from matchms.filtering import require_minimum_number_of_peaks\n",
    "\n",
    "def apply_my_filters(s):\n",
    "    if 'exactmass' in s.metadata:\n",
    "        s.set('exactmass', float(s.metadata['exactmass']))\n",
    "        s = select_by_mz(s, mz_from=0, mz_to=1000)\n",
    "        s = normalize_intensities(s)\n",
    "        s = require_minimum_number_of_peaks(s,5)\n",
    "        s = select_by_relative_intensity(s, intensity_from=0.05, intensity_to=1)\n",
    "        return s"
   ]
  },
  {
   "cell_type": "code",
   "execution_count": 4,
   "metadata": {},
   "outputs": [
    {
     "name": "stdout",
     "output_type": "stream",
     "text": [
      "18731 remaining spectra.\n"
     ]
    }
   ],
   "source": [
    "# apply filters to the data\n",
    "spectrums_classical = [apply_my_filters(s) for s in spectrums]\n",
    "\n",
    "# omit spectrums that didn't qualify for analysis\n",
    "spectrums = [s for s in spectrums_classical if s is not None and 'inchikey' in s.metadata ]\n",
    "\n",
    "print(\"{} remaining spectra.\".format(len(spectrums)))"
   ]
  },
  {
   "cell_type": "code",
   "execution_count": 5,
   "metadata": {},
   "outputs": [],
   "source": [
    "# remove duplicate peaks\n",
    "specs_by_peaks = {}\n",
    "for s in spectrums:\n",
    "    specs_by_peaks[''.join( ('%.0f' % p) for p in sorted(s.peaks[0]))] = s"
   ]
  },
  {
   "cell_type": "code",
   "execution_count": 6,
   "metadata": {},
   "outputs": [],
   "source": [
    "spectrums = list(specs_by_peaks.values())"
   ]
  },
  {
   "cell_type": "code",
   "execution_count": 7,
   "metadata": {},
   "outputs": [],
   "source": [
    "inchi_dict = {}\n",
    "for s in spectrums:\n",
    "    ik = s.metadata.get('inchikey','')\n",
    "    init_ik = ik.split('-')[0]\n",
    "    if not init_ik in inchi_dict:\n",
    "        inchi_dict[init_ik] = [s]\n",
    "    else:\n",
    "        inchi_dict[init_ik].append(s)\n"
   ]
  },
  {
   "cell_type": "code",
   "execution_count": 8,
   "metadata": {},
   "outputs": [],
   "source": [
    "query_size = 1000"
   ]
  },
  {
   "cell_type": "code",
   "execution_count": 9,
   "metadata": {},
   "outputs": [],
   "source": [
    "# choosing queries from multis ensures a possible true match\n",
    "multis = set([i for i,v in inchi_dict.items() if len(v) > 1])\n",
    "matching_keys = np.random.choice(list(multis), size=query_size, replace=False)\n",
    "\n",
    "query_spec = {}\n",
    "spectrums_lib = []\n",
    "# We select query_size queries that have at least 1 matching spectrum in the library\n",
    "for q in matching_keys:\n",
    "    spec_to_add = np.random.choice(inchi_dict[q], size=1, replace=False)\n",
    "    query_spec[spec_to_add[0].metadata['inchikey']] = spec_to_add[0]\n",
    "\n",
    "# And everything else goes into the library\n",
    "for s in spectrums:\n",
    "    if s.metadata['inchikey'] not in query_spec or s != query_spec[s.metadata['inchikey']]:\n",
    "        spectrums_lib.append(s)\n",
    "\n",
    "spectrums_query = list(query_spec.values())"
   ]
  },
  {
   "cell_type": "code",
   "execution_count": 10,
   "metadata": {},
   "outputs": [
    {
     "name": "stdout",
     "output_type": "stream",
     "text": [
      "1000 13658\n"
     ]
    }
   ],
   "source": [
    "print(len(spectrums_query), len(spectrums_lib))"
   ]
  },
  {
   "cell_type": "code",
   "execution_count": 11,
   "metadata": {},
   "outputs": [],
   "source": [
    "from spec2vec import Spec2Vec\n",
    "from spec2vec import SpectrumDocument\n",
    "\n",
    "documents = [SpectrumDocument(s, n_decimals=0) for s in spectrums]\n"
   ]
  },
  {
   "cell_type": "code",
   "execution_count": 12,
   "metadata": {},
   "outputs": [
    {
     "name": "stdout",
     "output_type": "stream",
     "text": [
      "The value of size is set from 300 (default) to 75\n",
      "  Epoch 1 of 30.Change in loss after epoch 1: 119041.65625\n",
      "Saving model with name: C:\\Users\\Gosia\\Desktop\\trained_models\\spec2vec_gcms_model_75_iter_1.model\n",
      "  Epoch 2 of 30.Change in loss after epoch 2: 104470.765625\n",
      "  Epoch 3 of 30.Change in loss after epoch 3: 103702.921875\n",
      "Saving model with name: C:\\Users\\Gosia\\Desktop\\trained_models\\spec2vec_gcms_model_75_iter_3.model\n",
      "  Epoch 4 of 30.Change in loss after epoch 4: 87371.34375\n",
      "  Epoch 5 of 30.Change in loss after epoch 5: 98585.59375\n",
      "Saving model with name: C:\\Users\\Gosia\\Desktop\\trained_models\\spec2vec_gcms_model_75_iter_5.model\n",
      "  Epoch 6 of 30.Change in loss after epoch 6: 98009.34375\n",
      "  Epoch 7 of 30.Change in loss after epoch 7: 95909.5\n",
      "  Epoch 8 of 30.Change in loss after epoch 8: 94733.3125\n",
      "  Epoch 9 of 30.Change in loss after epoch 9: 96520.9375\n",
      "  Epoch 10 of 30.Change in loss after epoch 10: 96806.5625\n",
      "Saving model with name: C:\\Users\\Gosia\\Desktop\\trained_models\\spec2vec_gcms_model_75_iter_10.model\n",
      "  Epoch 11 of 30.Change in loss after epoch 11: 96172.1875\n",
      "  Epoch 12 of 30.Change in loss after epoch 12: 97169.5\n",
      "  Epoch 13 of 30.Change in loss after epoch 13: 94487.625\n",
      "  Epoch 14 of 30.Change in loss after epoch 14: 93638.125\n",
      "  Epoch 15 of 30.Change in loss after epoch 15: 105954.125\n",
      "Saving model with name: C:\\Users\\Gosia\\Desktop\\trained_models\\spec2vec_gcms_model_75_iter_15.model\n",
      "  Epoch 16 of 30.Change in loss after epoch 16: 91436.125\n",
      "  Epoch 17 of 30.Change in loss after epoch 17: 92465.5\n",
      "  Epoch 18 of 30.Change in loss after epoch 18: 93017.75\n",
      "  Epoch 19 of 30.Change in loss after epoch 19: 107199.25\n",
      "  Epoch 20 of 30.Change in loss after epoch 20: 94376.375\n",
      "Saving model with name: C:\\Users\\Gosia\\Desktop\\trained_models\\spec2vec_gcms_model_75_iter_20.model\n",
      "  Epoch 21 of 30.Change in loss after epoch 21: 80691.75\n",
      "  Epoch 22 of 30.Change in loss after epoch 22: 105032.25\n",
      "  Epoch 23 of 30.Change in loss after epoch 23: 104363.5\n",
      "  Epoch 24 of 30.Change in loss after epoch 24: 89973.75\n",
      "  Epoch 25 of 30.Change in loss after epoch 25: 107200.5\n",
      "Saving model with name: C:\\Users\\Gosia\\Desktop\\trained_models\\spec2vec_gcms_model_75_iter_25.model\n",
      "  Epoch 26 of 30.Change in loss after epoch 26: 89912.0\n",
      "  Epoch 27 of 30.Change in loss after epoch 27: 80867.5\n",
      "  Epoch 28 of 30.Change in loss after epoch 28: 90452.0\n",
      "  Epoch 29 of 30.Change in loss after epoch 29: 89686.0\n",
      "  Epoch 30 of 30.Change in loss after epoch 30: 103525.5\n",
      "Saving model with name: C:\\Users\\Gosia\\Desktop\\trained_models\\spec2vec_gcms_model_75.model\n"
     ]
    }
   ],
   "source": [
    "from spec2vec.model_building import train_new_word2vec_model\n",
    "\n",
    "path_models = os.path.join(path_data, \"trained_models\")\n",
    "model_file = os.path.join(path_models, \"spec2vec_gcms_model_75.model\")\n",
    "\n",
    "iterations = [1, 3, 5, 10, 15, 20, 25, 30]\n",
    "\n",
    "# Train model with default parameters\n",
    "model = train_new_word2vec_model(documents, iterations, model_file, size=75)"
   ]
  },
  {
   "cell_type": "code",
   "execution_count": 13,
   "metadata": {},
   "outputs": [],
   "source": [
    "from spec2vec import Spec2Vec\n",
    "from spec2vec import SpectrumDocument\n",
    "\n",
    "documents_query = [SpectrumDocument(s, n_decimals=0) for s in spectrums_query]\n",
    "documents_lib = [SpectrumDocument(s, n_decimals=0) for s in spectrums_lib]"
   ]
  },
  {
   "cell_type": "code",
   "execution_count": 14,
   "metadata": {},
   "outputs": [
    {
     "name": "stdout",
     "output_type": "stream",
     "text": [
      "Embedding vector size: 75\n"
     ]
    },
    {
     "data": {
      "application/vnd.jupyter.widget-view+json": {
       "model_id": "bffeff2913914158883847d775fc5024",
       "version_major": 2,
       "version_minor": 0
      },
      "text/plain": [
       "HBox(children=(HTML(value=''), FloatProgress(value=0.0, max=1000.0), HTML(value='')))"
      ]
     },
     "metadata": {},
     "output_type": "display_data"
    },
    {
     "name": "stdout",
     "output_type": "stream",
     "text": [
      "\n"
     ]
    },
    {
     "data": {
      "application/vnd.jupyter.widget-view+json": {
       "model_id": "3552d1b3a017419bac281a3dc5861111",
       "version_major": 2,
       "version_minor": 0
      },
      "text/plain": [
       "HBox(children=(HTML(value=''), FloatProgress(value=0.0, max=13658.0), HTML(value='')))"
      ]
     },
     "metadata": {},
     "output_type": "display_data"
    },
    {
     "name": "stdout",
     "output_type": "stream",
     "text": [
      "\n"
     ]
    }
   ],
   "source": [
    "from spec2vec.vector_operations import calc_vector\n",
    "\n",
    "intensity_weighting_power = 0.5\n",
    "allowed_missing_percentage = 15 # specify the maximum (weighted) fraction of the spectrum that is allowed to be missing\n",
    "\n",
    "vector_size = model.vector_size\n",
    "print(f\"Embedding vector size: {vector_size}\")\n",
    "\n",
    "embeddings_spec2vec_query = np.zeros((len(documents_query), vector_size), dtype=\"float\")\n",
    "for i, doc in enumerate(documents_query):\n",
    "    embeddings_spec2vec_query[i, 0:vector_size] = calc_vector(model, doc,\n",
    "                                                        intensity_weighting_power,\n",
    "                                                        allowed_missing_percentage)\n",
    "embeddings_spec2vec_lib = np.zeros((len(documents_lib), vector_size), dtype=\"float\")\n",
    "for i, doc in enumerate(documents_lib):\n",
    "    embeddings_spec2vec_lib[i, 0:vector_size] = calc_vector(model, doc,\n",
    "                                                        intensity_weighting_power,\n",
    "                                                        allowed_missing_percentage)"
   ]
  },
  {
   "cell_type": "code",
   "execution_count": 15,
   "metadata": {},
   "outputs": [],
   "source": [
    "from cosine_calc import get_spec2vec_hits\n",
    "\n",
    "hits = get_spec2vec_hits(documents_query, documents_lib, metaKey='exactmass', model=model, precursor_tol=3,\n",
    "                         intensity_weighting_power=intensity_weighting_power,\n",
    "                         allowed_missing_percentage=allowed_missing_percentage,\n",
    "                         embeddings_query=embeddings_spec2vec_query, embeddings_library=embeddings_spec2vec_lib)\n"
   ]
  },
  {
   "cell_type": "code",
   "execution_count": 16,
   "metadata": {},
   "outputs": [
    {
     "name": "stdout",
     "output_type": "stream",
     "text": [
      "349\n"
     ]
    }
   ],
   "source": [
    "# amount of false hits\n",
    "print( len( [ h for h in hits if not h.hit ]))"
   ]
  },
  {
   "cell_type": "code",
   "execution_count": 17,
   "metadata": {},
   "outputs": [],
   "source": [
    "# Calculate true q-value scores\n",
    "from q_value_calc import calculate_q_value\n",
    "q_list_true = calculate_q_value(hits)"
   ]
  },
  {
   "cell_type": "code",
   "execution_count": 18,
   "metadata": {},
   "outputs": [
    {
     "name": "stdout",
     "output_type": "stream",
     "text": [
      "Embedding vector size: 75\n"
     ]
    }
   ],
   "source": [
    "from knockoffs import generate_knockoffs\n",
    "diags = [6]\n",
    "\n",
    "q_list_knockoffs = {}\n",
    "for diag in diags:\n",
    "        for comp in [5]:\n",
    "                try:\n",
    "                    knockoff_documents = generate_knockoffs(model,documents_lib,allowed_missing_percentage=allowed_missing_percentage,n_components=comp, diagonal_matrix=diag)\n",
    "\n",
    "                    hits_knockoffs = get_spec2vec_hits(documents_query, knockoff_documents, decoys=True, model=model, precursor_tol=3, metaKey=\"exactmass\",\n",
    "                                                       intensity_weighting_power=intensity_weighting_power,\n",
    "                                                       allowed_missing_percentage=allowed_missing_percentage,embeddings_query=embeddings_spec2vec_query)\n",
    "                    q_list_knockoffs[(diag, comp)] = calculate_q_value(hits+hits_knockoffs,True)\n",
    "                except Exception as e:\n",
    "                    print( diag, \"failed\", e )"
   ]
  },
  {
   "cell_type": "code",
   "execution_count": 55,
   "metadata": {},
   "outputs": [
    {
     "data": {
      "image/png": "[encoded data removed]",
      "text/plain": [
       "<Figure size 576x432 with 1 Axes>"
      ]
     },
     "metadata": {
      "needs_background": "light"
     },
     "output_type": "display_data"
    }
   ],
   "source": [
    "import plot_q_vals\n",
    "plot_q_vals.plot_q_vals( q_list_true, q_list_knockoffs, labels=False )"
   ]
  },
  {
   "cell_type": "code",
   "execution_count": 53,
   "metadata": {},
   "outputs": [
    {
     "data": {
      "image/png": "[encoded data removed]",
      "text/plain": [
       "<Figure size 1080x432 with 1 Axes>"
      ]
     },
     "metadata": {
      "needs_background": "light"
     },
     "output_type": "display_data"
    }
   ],
   "source": [
    "import pylab as plt\n",
    "    \n",
    "# plot estimated and true q-values\n",
    "def combine_true_est_2(q_val_true,q_val_est):\n",
    "    res = []\n",
    "    q_idx = 0\n",
    "    for q_e, _, score in q_val_est:\n",
    "        while q_idx < len(q_val_true)-1 and q_val_true[q_idx+1][2] >= score:\n",
    "            q_idx += 1\n",
    "        res.append((score, q_e-q_val_true[q_idx][0]))\n",
    "    return res\n",
    "\n",
    "def plot_q_vals3(trues, knockoffs):\n",
    "    fig, ax = plt.subplots(figsize=(15,6))\n",
    "    for label, knockoff in knockoffs.items():\n",
    "            scores, ys = zip(*combine_true_est_2(q_list_true, knockoff))\n",
    "            plt.plot(scores,ys, 'o', color='gray', markersize=1, label=label)\n",
    "    plt.plot([0.2,1.0], [0,0], 'k--')\n",
    "    plt.xlabel('Similarity score')\n",
    "    plt.ylabel('Difference between estimated and true q-values')\n",
    "\n",
    "    ax.spines['right'].set_visible(False)\n",
    "    ax.spines['top'].set_visible(False)\n",
    "    plt.xlim([0.2, 1.0])\n",
    "         \n",
    "    \n",
    "plot_q_vals3(q_list_true,q_list_knockoffs)"
   ]
  }
 ],
 "metadata": {
  "kernelspec": {
   "display_name": "Python 3",
   "language": "python",
   "name": "python3"
  },
  "language_info": {
   "codemirror_mode": {
    "name": "ipython",
    "version": 3
   },
   "file_extension": ".py",
   "mimetype": "text/x-python",
   "name": "python",
   "nbconvert_exporter": "python",
   "pygments_lexer": "ipython3",
   "version": "3.7.10"
  }
 },
 "nbformat": 4,
 "nbformat_minor": 4
}
