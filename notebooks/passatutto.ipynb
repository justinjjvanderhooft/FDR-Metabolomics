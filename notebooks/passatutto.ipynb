{
 "cells": [
  {
   "cell_type": "code",
   "execution_count": 1,
   "metadata": {},
   "outputs": [],
   "source": [
    "# Parser for Passatutto data\n",
    "import sys\n",
    "sys.path.append('C:\\\\Users\\\\Gosia\\\\Desktop\\\\FDR-Metabolomics\\\\src\\\\')\n",
    "import passatutto_parser as pp"
   ]
  },
  {
   "cell_type": "code",
   "execution_count": 2,
   "metadata": {},
   "outputs": [
    {
     "name": "stdout",
     "output_type": "stream",
     "text": [
      "processed 100 files\n",
      "processed 200 files\n",
      "processed 300 files\n",
      "processed 400 files\n",
      "Finished parsing of 458 spectra \n"
     ]
    }
   ],
   "source": [
    "# Taking all the files from MassBankOrbi (queries) and parsing them to json objects\n",
    "pre_spectrums_query = pp.PassatuttoParser(r'C:\\\\Users\\\\Gosia\\\\Desktop\\\\MassbankOrbi').parse_folder()"
   ]
  },
  {
   "cell_type": "code",
   "execution_count": null,
   "metadata": {},
   "outputs": [
    {
     "name": "stdout",
     "output_type": "stream",
     "text": [
      "processed 100 files\n",
      "processed 200 files\n",
      "processed 300 files\n",
      "processed 400 files\n",
      "processed 500 files\n",
      "processed 600 files\n",
      "processed 700 files\n",
      "processed 800 files\n",
      "processed 900 files\n",
      "processed 1000 files\n",
      "processed 1100 files\n",
      "processed 1200 files\n",
      "processed 1300 files\n",
      "processed 1400 files\n",
      "processed 1500 files\n",
      "processed 1600 files\n",
      "processed 1700 files\n",
      "processed 1800 files\n",
      "processed 1900 files\n",
      "processed 2000 files\n",
      "processed 2100 files\n",
      "processed 2200 files\n",
      "processed 2300 files\n",
      "processed 2400 files\n",
      "processed 2500 files\n",
      "processed 2600 files\n",
      "processed 2700 files\n",
      "processed 2800 files\n",
      "processed 2900 files\n",
      "processed 3000 files\n",
      "processed 3100 files\n",
      "processed 3200 files\n",
      "processed 3300 files\n",
      "processed 3400 files\n",
      "processed 3500 files\n",
      "processed 3600 files\n"
     ]
    }
   ],
   "source": [
    "# Taking all files from Gnps (library) and parsing them to json objects\n",
    "pre_spectrums_lib = pp.PassatuttoParser('C:\\\\Users\\\\Gosia\\\\Desktop\\\\Gnps').parse_folder()"
   ]
  },
  {
   "cell_type": "code",
   "execution_count": null,
   "metadata": {},
   "outputs": [],
   "source": [
    "# Taking all files from decoys and parsing them to json objects\n",
    "pre_spectrums_decoys_cond = pp.DecoyParserPassattuto(r'C:\\\\Users\\\\Gosia\\\\Desktop\\\\GnpsDecoyConditionalPeaks').parse_folder()\n",
    "pre_spectrums_decoys_rand = pp.DecoyParserPassattuto(r'C:\\\\Users\\\\Gosia\\\\Desktop\\\\GnpsDecoyRandomPeaks').parse_folder()"
   ]
  },
  {
   "cell_type": "code",
   "execution_count": null,
   "metadata": {},
   "outputs": [],
   "source": [
    "# Using MatchMS to create spectra for both\n",
    "from matchms.importing.load_from_json import as_spectrum\n",
    "spectrums_query = []\n",
    "for i, s in enumerate( pre_spectrums_query ):\n",
    "    spectrums_query.append(as_spectrum(s))\n",
    "    if i and i % 100 == 0:\n",
    "        print('processed %d' % i)\n",
    "spectrums_lib = []\n",
    "for i, s in enumerate( pre_spectrums_lib ):\n",
    "    spectrums_lib.append(as_spectrum(s))\n",
    "    if i and i % 100 == 0:\n",
    "        print('processed %d' % i)"
   ]
  },
  {
   "cell_type": "code",
   "execution_count": null,
   "metadata": {},
   "outputs": [],
   "source": [
    "# Using MatchMS to create decoy spectra\n",
    "decoys_cond = []\n",
    "for i, s in enumerate( pre_spectrums_decoys_cond ):\n",
    "    decoys_cond.append(as_spectrum(s))\n",
    "    if i and i % 100 == 0:\n",
    "        print('processed %d'% i)\n",
    "\n",
    "decoys_rand = []\n",
    "for i, s in enumerate( pre_spectrums_decoys_rand ):\n",
    "    decoys_rand.append(as_spectrum(s))\n",
    "    if i and i % 100 == 0:\n",
    "        print('processed %d'% i)\n"
   ]
  },
  {
   "cell_type": "code",
   "execution_count": null,
   "metadata": {},
   "outputs": [],
   "source": [
    "# Calculating cosine similarity for target-query match\n",
    "from cosine_calc import get_hits\n",
    "hits = get_hits(spectrums_query, spectrums_lib, 3, cosine_tol=0.005, passatutto=True)"
   ]
  },
  {
   "cell_type": "code",
   "execution_count": null,
   "metadata": {},
   "outputs": [],
   "source": [
    "from rdkit.Chem import MolFromSmiles, MolToSmiles, MolFromInchi\n",
    "from rdkit.Chem.rdMolDescriptors import CalcExactMolWt, CalcMolFormula\n",
    "def add_pmz(specs):\n",
    "    for s in specs:\n",
    "        s.set('precursor_mz', s.get('parent_mass', 0))\n",
    "\n",
    "add_pmz(spectrums_query)"
   ]
  },
  {
   "cell_type": "code",
   "execution_count": null,
   "metadata": {},
   "outputs": [],
   "source": [
    "# Calculating cosine similarity for query-decoy match\n",
    "from cosine_calc import get_hits\n",
    "hits_decoys_cond = get_hits(spectrums_query, decoys_cond, 3, \"precursor_mz\", cosine_tol=0.005, decoys=True, passatutto=True)\n",
    "hits_decoys_rand = get_hits(spectrums_query, decoys_rand, 3, \"precursor_mz\", cosine_tol=0.005, decoys=True, passatutto=True)\n"
   ]
  },
  {
   "cell_type": "code",
   "execution_count": null,
   "metadata": {},
   "outputs": [],
   "source": [
    "print(len(hits))\n",
    "print(len(hits_decoys_cond))\n",
    "print(len(hits_decoys_rand))"
   ]
  },
  {
   "cell_type": "code",
   "execution_count": null,
   "metadata": {},
   "outputs": [],
   "source": [
    "# Calculating true q-value scores\n",
    "from q_value_calc import calculate_q_value\n",
    "q_list_true = calculate_q_value(hits)"
   ]
  },
  {
   "cell_type": "code",
   "execution_count": null,
   "metadata": {
    "scrolled": true
   },
   "outputs": [],
   "source": [
    "# Calculating estimated q-value scores\n",
    "q_list_estimated_cond = calculate_q_value(hits+hits_decoys_cond,True)\n",
    "q_list_estimated_rand = calculate_q_value(hits+hits_decoys_rand,True)"
   ]
  },
  {
   "cell_type": "code",
   "execution_count": null,
   "metadata": {},
   "outputs": [],
   "source": [
    "import plot_q_vals\n",
    "\n",
    "# plot estimated and true q-values\n",
    "def combine_true_est(q_val_true,q_val_est):\n",
    "    res = []\n",
    "    q_idx = 0\n",
    "    for q_e, _, score in q_val_est:\n",
    "        while q_idx < len(q_val_true)-1 and q_val_true[q_idx+1][2] >= score:\n",
    "            q_idx += 1\n",
    "        res.append((score, q_val_true[q_idx][0], q_e))\n",
    "    return res\n",
    "        \n",
    "scores_cond, trues_cond, estimateds_cond = zip(*combine_true_est(q_list_true, q_list_estimated_cond))\n",
    "scores_rand, trues_rand, estimateds_rand = zip(*combine_true_est(q_list_true, q_list_estimated_rand))\n",
    "\n",
    "plot_q_vals.plot_q_vals( {'spectrum-based method':(trues_cond,estimateds_cond), 'naive method':(trues_rand,estimateds_rand)} )"
   ]
  }
 ],
 "metadata": {
  "kernelspec": {
   "display_name": "Python 3",
   "language": "python",
   "name": "python3"
  },
  "language_info": {
   "codemirror_mode": {
    "name": "ipython",
    "version": 3
   },
   "file_extension": ".py",
   "mimetype": "text/x-python",
   "name": "python",
   "nbconvert_exporter": "python",
   "pygments_lexer": "ipython3",
   "version": "3.8.5"
  }
 },
 "nbformat": 4,
 "nbformat_minor": 4
}
