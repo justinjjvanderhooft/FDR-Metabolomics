{
 "cells": [
  {
   "cell_type": "markdown",
   "metadata": {},
   "source": [
    "## Creation of knockoffs from Spec2Vec embeddings\n"
   ]
  },
  {
   "cell_type": "markdown",
   "metadata": {},
   "source": [
    "load files with spectra, put your own path"
   ]
  },
  {
   "cell_type": "code",
   "execution_count": 11,
   "metadata": {},
   "outputs": [],
   "source": [
    "import numpy as np\n",
    "import os\n",
    "import sys\n",
    "from matchms.importing import load_from_json\n",
    "from spec2vec import Spec2Vec\n",
    "from spec2vec import SpectrumDocument\n",
    "\n",
    "\n",
    "folder_name = 'C:\\\\Users\\\\Gosia\\\\Desktop'\n",
    "json_file_name = os.path.join(folder_name,'FDR-datsets', 'specs.json')\n",
    "sys.path.append(os.path.join(folder_name,'FDR-Metabolomics', 'src'))\n",
    "\n",
    "spectrums = load_from_json(json_file_name)"
   ]
  },
  {
   "cell_type": "code",
   "execution_count": 12,
   "metadata": {},
   "outputs": [
    {
     "name": "stdout",
     "output_type": "stream",
     "text": [
      "35609\n"
     ]
    }
   ],
   "source": [
    "print(len(spectrums))"
   ]
  },
  {
   "cell_type": "markdown",
   "metadata": {},
   "source": [
    "Optional: preprocessing with MatchMS"
   ]
  },
  {
   "cell_type": "code",
   "execution_count": 13,
   "metadata": {},
   "outputs": [
    {
     "name": "stdout",
     "output_type": "stream",
     "text": [
      "29051 remaining spectra.\n"
     ]
    }
   ],
   "source": [
    "from matchms.filtering import normalize_intensities\n",
    "from matchms.filtering import require_minimum_number_of_peaks\n",
    "from matchms.filtering import select_by_mz\n",
    "from matchms.filtering import select_by_relative_intensity\n",
    "from matchms.filtering import reduce_to_number_of_peaks\n",
    "from matchms.filtering import add_losses\n",
    "\n",
    "def post_process_classical(s):\n",
    "    s = normalize_intensities(s)\n",
    "    s = select_by_mz(s)\n",
    "    s = require_minimum_number_of_peaks(s)\n",
    "    s = select_by_relative_intensity(s, intensity_from=0.01)\n",
    "    return s\n",
    "\n",
    "# apply filters to the data\n",
    "spectrums_classical = [post_process_classical(s) for s in spectrums]\n",
    "\n",
    "# omit spectrums that didn't qualify for analysis\n",
    "spectrums_classical = [s for s in spectrums_classical if s is not None]\n",
    "\n",
    "print(\"{} remaining spectra.\".format(len(spectrums_classical)))"
   ]
  },
  {
   "cell_type": "code",
   "execution_count": 15,
   "metadata": {},
   "outputs": [],
   "source": [
    "import bisect\n",
    "# a new filter to check if there is a fragment within N ppm of the precursor\n",
    "def has_frag(spectrum, mz, tol, tol_units='absolute'):\n",
    "    if tol_units == 'ppm':\n",
    "        di = tol_ppm*mz/1e6\n",
    "    else:\n",
    "        di = tol\n",
    "    min_mz = mz - di\n",
    "    max_mz = mz + di\n",
    "    pos = bisect.bisect_right(spectrum.peaks[0], min_mz)\n",
    "    pos2 = bisect.bisect_right(spectrum.peaks[0], max_mz)\n",
    "    if pos == pos2:\n",
    "        return None\n",
    "    else:\n",
    "        max_pos = pos + np.argmax(spectrum.peaks[1][pos:pos2])\n",
    "        return (spectrum.peaks[0][max_pos], spectrum.peaks[1][max_pos])"
   ]
  },
  {
   "cell_type": "code",
   "execution_count": 16,
   "metadata": {},
   "outputs": [],
   "source": [
    "spectrums = [s for s in spectrums_classical if has_frag(s, s.metadata['precursor_mz'], 0.2)  is not None]"
   ]
  },
  {
   "cell_type": "markdown",
   "metadata": {},
   "source": [
    "End of optional preprocessing"
   ]
  },
  {
   "cell_type": "markdown",
   "metadata": {},
   "source": [
    "Creating a mapping of the inchi key prefixes to the spectrums in order to identify matching spectra"
   ]
  },
  {
   "cell_type": "code",
   "execution_count": 22,
   "metadata": {},
   "outputs": [],
   "source": [
    "inchi_dict = {}\n",
    "for s in spectrums:\n",
    "    ik = s.metadata['inchikey_inchi']\n",
    "    init_ik = ik.split('-')[0]\n",
    "    if not init_ik in inchi_dict:\n",
    "        inchi_dict[init_ik] = [s]\n",
    "    else:\n",
    "        inchi_dict[init_ik].append(s)"
   ]
  },
  {
   "cell_type": "markdown",
   "metadata": {},
   "source": [
    "Dividing the spectra into library and queries"
   ]
  },
  {
   "cell_type": "code",
   "execution_count": 23,
   "metadata": {},
   "outputs": [
    {
     "name": "stdout",
     "output_type": "stream",
     "text": [
      "2498 1461\n"
     ]
    }
   ],
   "source": [
    "# choosing queries from multis ensures a possible true match\n",
    "singletons = set([i for i,v in inchi_dict.items() if len(v) == 1])\n",
    "multis = set([i for i,v in inchi_dict.items() if len(v) > 1])\n",
    "print(len(singletons), len(multis))"
   ]
  },
  {
   "cell_type": "code",
   "execution_count": 27,
   "metadata": {},
   "outputs": [],
   "source": [
    "query_size = 1461\n",
    "library_size = 2500"
   ]
  },
  {
   "cell_type": "markdown",
   "metadata": {},
   "source": [
    "Building the library with matching queries plus noise"
   ]
  },
  {
   "cell_type": "code",
   "execution_count": 28,
   "metadata": {},
   "outputs": [],
   "source": [
    "query_and_library_inchis = np.random.choice(list(multis), size=query_size, replace=False)\n",
    "library_noise_inchis = np.random.choice(list(singletons), size=library_size-query_size, replace=False)\n",
    "spectrums_query = []\n",
    "spectrums_lib = []\n",
    "for inchi in query_and_library_inchis:\n",
    "    query_spectrum, library_spectrum = np.random.choice(inchi_dict[inchi], size=2, replace=False)\n",
    "    spectrums_query.append(query_spectrum)\n",
    "    spectrums_lib.append(library_spectrum)\n",
    "for inchi in library_noise_inchis:\n",
    "    library_spectrum = np.random.choice(inchi_dict[inchi], size=1, replace=False)\n",
    "    spectrums_lib.append(library_spectrum[0])"
   ]
  },
  {
   "cell_type": "markdown",
   "metadata": {},
   "source": [
    "Create spectrum \"documents\""
   ]
  },
  {
   "cell_type": "code",
   "execution_count": 39,
   "metadata": {},
   "outputs": [],
   "source": [
    "documents_query = [SpectrumDocument(s, n_decimals=2) for s in spectrums_query]\n",
    "documents_lib = [SpectrumDocument(s, n_decimals=2) for s in spectrums_lib]\n"
   ]
  },
  {
   "cell_type": "markdown",
   "metadata": {},
   "source": [
    "Load pretrained model"
   ]
  },
  {
   "cell_type": "code",
   "execution_count": 41,
   "metadata": {},
   "outputs": [],
   "source": [
    "import gensim\n",
    "model_file = os.path.join('C:\\\\Users\\\\Gosia\\\\Desktop\\\\trained_models_1\\\\spec2vec_size_170.model')\n",
    "model = gensim.models.Word2Vec.load(model_file)\n"
   ]
  },
  {
   "cell_type": "markdown",
   "metadata": {},
   "source": [
    "## Creation of knockoffs"
   ]
  },
  {
   "cell_type": "code",
   "execution_count": 40,
   "metadata": {},
   "outputs": [
    {
     "ename": "TypeError",
     "evalue": "generate_knockoffs() got an unexpected keyword argument 'covariance_type'",
     "output_type": "error",
     "traceback": [
      "\u001b[1;31m---------------------------------------------------------------------------\u001b[0m",
      "\u001b[1;31mTypeError\u001b[0m                                 Traceback (most recent call last)",
      "\u001b[1;32m<ipython-input-40-962d6099ebd5>\u001b[0m in \u001b[0;36m<module>\u001b[1;34m\u001b[0m\n\u001b[0;32m      3\u001b[0m \u001b[1;32mfor\u001b[0m \u001b[0mdiag\u001b[0m \u001b[1;32min\u001b[0m \u001b[0mdiags\u001b[0m\u001b[1;33m:\u001b[0m\u001b[1;33m\u001b[0m\u001b[1;33m\u001b[0m\u001b[0m\n\u001b[0;32m      4\u001b[0m     \u001b[0msave_file\u001b[0m \u001b[1;33m=\u001b[0m \u001b[1;34mr'C:\\Users\\Gosia\\Desktop\\FDR-Metabolomics\\data\\opt_lcms_dim\\knockoff_%.8f.png'\u001b[0m \u001b[1;33m%\u001b[0m \u001b[0mdiag\u001b[0m\u001b[1;33m\u001b[0m\u001b[1;33m\u001b[0m\u001b[0m\n\u001b[1;32m----> 5\u001b[1;33m     \u001b[0mknockoff_documents\u001b[0m \u001b[1;33m=\u001b[0m \u001b[0mgenerate_knockoffs\u001b[0m\u001b[1;33m(\u001b[0m\u001b[0mmodel\u001b[0m\u001b[1;33m,\u001b[0m\u001b[0mdocuments_lib\u001b[0m\u001b[1;33m,\u001b[0m\u001b[0mallowed_missing_percentage\u001b[0m\u001b[1;33m=\u001b[0m\u001b[1;36m30\u001b[0m\u001b[1;33m,\u001b[0m\u001b[0mn_components\u001b[0m\u001b[1;33m=\u001b[0m\u001b[1;36m170\u001b[0m\u001b[1;33m,\u001b[0m \u001b[0mcovariance_type\u001b[0m\u001b[1;33m=\u001b[0m\u001b[1;34m'diag'\u001b[0m\u001b[1;33m,\u001b[0m \u001b[0mdiagonal_matrix\u001b[0m\u001b[1;33m=\u001b[0m\u001b[0mdiag\u001b[0m\u001b[1;33m)\u001b[0m\u001b[1;33m\u001b[0m\u001b[1;33m\u001b[0m\u001b[0m\n\u001b[0m\u001b[0;32m      6\u001b[0m     \u001b[0mq_list_true\u001b[0m\u001b[1;33m,\u001b[0m \u001b[0mq_list_estimated\u001b[0m \u001b[1;33m=\u001b[0m \u001b[0mevaluate_knockoff_performance\u001b[0m\u001b[1;33m(\u001b[0m\u001b[0mdocuments_lib\u001b[0m\u001b[1;33m,\u001b[0m \u001b[0mdocuments_query\u001b[0m\u001b[1;33m,\u001b[0m \u001b[0mknockoff_documents\u001b[0m\u001b[1;33m,\u001b[0m \u001b[0mmodel\u001b[0m\u001b[1;33m,\u001b[0m\u001b[0mallowed_missing_percentage\u001b[0m\u001b[1;33m=\u001b[0m\u001b[1;36m30\u001b[0m\u001b[1;33m,\u001b[0m \u001b[0msave_file\u001b[0m\u001b[1;33m=\u001b[0m\u001b[0msave_file\u001b[0m\u001b[1;33m)\u001b[0m\u001b[1;33m\u001b[0m\u001b[1;33m\u001b[0m\u001b[0m\n",
      "\u001b[1;31mTypeError\u001b[0m: generate_knockoffs() got an unexpected keyword argument 'covariance_type'"
     ]
    }
   ],
   "source": [
    "diags = [0.00000080, 0.00000085, 0.00000090, 0.00000095, 0.00000100]\n",
    "from knockoffs import generate_knockoffs, evaluate_knockoff_performance\n",
    "for diag in diags:\n",
    "    save_file = r'C:\\Users\\Gosia\\Desktop\\FDR-Metabolomics\\data\\opt_lcms_dim\\knockoff_%.8f.png' % diag\n",
    "    knockoff_documents = generate_knockoffs(model,documents_lib,allowed_missing_percentage=30,n_components=170, covariance_type='diag', diagonal_matrix=diag)\n",
    "    q_list_true, q_list_estimated = evaluate_knockoff_performance(documents_lib, documents_query, knockoff_documents, model,allowed_missing_percentage=30, save_file=save_file)"
   ]
  },
  {
   "cell_type": "markdown",
   "metadata": {},
   "source": [
    "Calculation of true/estimated q-values for knockoffs"
   ]
  },
  {
   "cell_type": "code",
   "execution_count": 10,
   "metadata": {},
   "outputs": [
    {
     "data": {
      "image/png": "[encoded data removed]",
      "text/plain": [
       "<Figure size 576x432 with 1 Axes>"
      ]
     },
     "metadata": {
      "needs_background": "light"
     },
     "output_type": "display_data"
    }
   ],
   "source": [
    "import pylab as plt\n",
    "plt.figure(figsize=(8,6))\n",
    "q_true, _, score = zip(*q_list_true)\n",
    "plt.plot(q_true, score, label='true')\n",
    "q_est, _, score_est = zip(*q_list_estimated)\n",
    "plt.plot(q_est, score_est, label='estimated')\n",
    "#plt.plot([0,0.5], [0,0.5], 'k--')\n",
    "plt.xlabel('Q-value')\n",
    "plt.ylabel('Score')\n",
    "plt.legend()\n",
    "plt.grid()"
   ]
  },
  {
   "cell_type": "code",
   "execution_count": null,
   "metadata": {},
   "outputs": [],
   "source": []
  }
 ],
 "metadata": {
  "kernelspec": {
   "display_name": "Python 3",
   "language": "python",
   "name": "python3"
  },
  "language_info": {
   "codemirror_mode": {
    "name": "ipython",
    "version": 3
   },
   "file_extension": ".py",
   "mimetype": "text/x-python",
   "name": "python",
   "nbconvert_exporter": "python",
   "pygments_lexer": "ipython3",
   "version": "3.8.5"
  }
 },
 "nbformat": 4,
 "nbformat_minor": 4
}
