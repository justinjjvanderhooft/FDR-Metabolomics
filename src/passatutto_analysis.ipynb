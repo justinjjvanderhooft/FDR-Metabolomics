{
 "cells": [
  {
   "cell_type": "code",
   "execution_count": 1,
   "metadata": {},
   "outputs": [],
   "source": [
    "import sys\n",
    "sys.path.append(r'C:\\Users\\Gosia\\Desktop\\FDR-Metabolomics\\src\\passatutto_parser.py')\n",
    "import passatutto_parser as pp"
   ]
  },
  {
   "cell_type": "code",
   "execution_count": 2,
   "metadata": {
    "scrolled": true
   },
   "outputs": [
    {
     "name": "stdout",
     "output_type": "stream",
     "text": [
      "processed 100 files\n",
      "processed 200 files\n",
      "processed 300 files\n",
      "processed 400 files\n",
      "processed 500 files\n",
      "processed 600 files\n",
      "processed 700 files\n",
      "processed 800 files\n",
      "processed 900 files\n",
      "processed 1000 files\n",
      "processed 1100 files\n",
      "processed 1200 files\n",
      "processed 1300 files\n",
      "processed 1400 files\n",
      "processed 1500 files\n",
      "processed 1600 files\n",
      "processed 1700 files\n",
      "processed 1800 files\n",
      "processed 1900 files\n",
      "processed 2000 files\n",
      "processed 2100 files\n",
      "processed 2200 files\n",
      "processed 2300 files\n",
      "processed 2400 files\n",
      "processed 2500 files\n",
      "processed 2600 files\n",
      "processed 2700 files\n",
      "processed 2800 files\n",
      "processed 2900 files\n",
      "processed 3000 files\n",
      "processed 3100 files\n",
      "processed 3200 files\n",
      "processed 3300 files\n",
      "processed 3400 files\n",
      "processed 3500 files\n",
      "processed 3600 files\n",
      "processed 3700 files\n",
      "processed 3800 files\n",
      "processed 3900 files\n",
      "processed 4000 files\n"
     ]
    }
   ],
   "source": [
    "pre_spectrums = pp.parse_passatuto_folder(r'C:\\Users\\Gosia\\Downloads\\Gnps')"
   ]
  },
  {
   "cell_type": "code",
   "execution_count": 3,
   "metadata": {},
   "outputs": [],
   "source": [
    "from matchms.importing.load_from_json import as_spectrum\n",
    "spectrums = []\n",
    "for s in pre_spectrums:\n",
    "    spectrums.append(as_spectrum(s))"
   ]
  },
  {
   "cell_type": "code",
   "execution_count": 4,
   "metadata": {},
   "outputs": [
    {
     "name": "stdout",
     "output_type": "stream",
     "text": [
      "4053 remaining spectra.\n"
     ]
    }
   ],
   "source": [
    "from matchms.filtering import normalize_intensities\n",
    "from matchms.filtering import require_minimum_number_of_peaks\n",
    "from matchms.filtering import select_by_mz\n",
    "from matchms.filtering import select_by_relative_intensity\n",
    "from matchms.filtering import reduce_to_number_of_peaks\n",
    "from matchms.filtering import add_losses\n",
    "\n",
    "def post_process(s):\n",
    "    s = normalize_intensities(s)\n",
    "    s = select_by_mz(s, mz_from=0, mz_to=1000)\n",
    "    s = require_minimum_number_of_peaks(s, n_required=10)\n",
    "    s = select_by_relative_intensity(s, intensity_from=0.01, intensity_to=1.0)\n",
    "    return s\n",
    "\n",
    "# apply filters to the data\n",
    "spectrums = [post_process(s) for s in spectrums]\n",
    "\n",
    "# omit spectrums that didn't qualify for analysis\n",
    "spectrums = [s for s in spectrums if s is not None]\n",
    "\n",
    "print(\"{} remaining spectra.\".format(len(spectrums)))"
   ]
  },
  {
   "cell_type": "code",
   "execution_count": 5,
   "metadata": {},
   "outputs": [],
   "source": [
    "import bisect\n",
    "import numpy as np\n",
    "# a filter to check if there is a fragment within N ppm of the precursor\n",
    "def has_frag(spectrum, mz, tol, tol_units='absolute'):\n",
    "    if tol_units == 'ppm':\n",
    "        di = tol_ppm*mz/1e6\n",
    "    else:\n",
    "        di = tol\n",
    "    min_mz = mz - di\n",
    "    max_mz = mz + di\n",
    "    pos = bisect.bisect_right(spectrum.peaks[0], min_mz)\n",
    "    pos2 = bisect.bisect_right(spectrum.peaks[0], max_mz)\n",
    "    if pos == pos2:\n",
    "        return None\n",
    "    else:\n",
    "        max_pos = pos + np.argmax(spectrum.peaks[1][pos:pos2])\n",
    "        return (spectrum.peaks[0][max_pos], spectrum.peaks[1][max_pos])"
   ]
  },
  {
   "cell_type": "code",
   "execution_count": 6,
   "metadata": {},
   "outputs": [],
   "source": [
    "spec_with_precursor = [s for s in spectrums if has_frag(s, s.metadata['precursor_mz'], 0.2)  is not None]"
   ]
  },
  {
   "cell_type": "code",
   "execution_count": 7,
   "metadata": {},
   "outputs": [
    {
     "name": "stdout",
     "output_type": "stream",
     "text": [
      "2682\n"
     ]
    }
   ],
   "source": [
    "print(len(spec_with_precursor))"
   ]
  },
  {
   "cell_type": "code",
   "execution_count": 8,
   "metadata": {},
   "outputs": [],
   "source": [
    "inchi_dict = {}\n",
    "for s in spec_with_precursor:\n",
    "    ik = s.metadata['inchikey']\n",
    "    if not ik in inchi_dict:\n",
    "        inchi_dict[ik] = [s]\n",
    "    else:\n",
    "        inchi_dict[ik].append(s)"
   ]
  },
  {
   "cell_type": "code",
   "execution_count": 9,
   "metadata": {},
   "outputs": [
    {
     "name": "stdout",
     "output_type": "stream",
     "text": [
      "1475 467\n"
     ]
    }
   ],
   "source": [
    "library_spec = set()\n",
    "query_spec = set()\n",
    "singletons = set([i for i,v in inchi_dict.items() if len(v) == 1])\n",
    "multis = set([i for i,v in inchi_dict.items() if len(v) > 1])\n",
    "print(len(singletons), len(multis))"
   ]
  },
  {
   "cell_type": "code",
   "execution_count": 14,
   "metadata": {},
   "outputs": [],
   "source": [
    "query_size = 400\n",
    "library_size = 1000"
   ]
  },
  {
   "cell_type": "code",
   "execution_count": 15,
   "metadata": {},
   "outputs": [],
   "source": [
    "used = set()\n",
    "query_keys = np.random.choice(list(multis), size=query_size, replace=False)\n",
    "other_library_keys = np.random.choice(list(singletons), size=library_size-query_size, replace=False)\n",
    "query_spec = []\n",
    "library_spec = []\n",
    "for q in query_keys:\n",
    "    ss = np.random.choice(inchi_dict[q], size=2, replace=False)\n",
    "    query_spec.append(ss[0])\n",
    "    library_spec.append(ss[1])\n",
    "for o in other_library_keys:\n",
    "    ss = np.random.choice(inchi_dict[o], size=1, replace=False)\n",
    "    library_spec.append(ss[0])\n",
    "\n",
    "assert len(library_spec) == library_size\n",
    "assert len(query_spec) == query_size"
   ]
  },
  {
   "cell_type": "code",
   "execution_count": 59,
   "metadata": {},
   "outputs": [],
   "source": [
    "# compute similarities between query and library spec"
   ]
  },
  {
   "cell_type": "code",
   "execution_count": 23,
   "metadata": {},
   "outputs": [],
   "source": [
    "from matchms.similarity import CosineGreedy\n",
    "cs = CosineGreedy()"
   ]
  },
  {
   "cell_type": "code",
   "execution_count": 24,
   "metadata": {},
   "outputs": [],
   "source": [
    "library_spec.sort(key = lambda x: x.metadata['precursor_mz'])"
   ]
  },
  {
   "cell_type": "code",
   "execution_count": 25,
   "metadata": {},
   "outputs": [],
   "source": [
    "def query(query_spec, library_spec, precursor_tol = 1):\n",
    "    hits = []\n",
    "    library_prec_list = [x.metadata['precursor_mz'] for x in library_spec]\n",
    "    for q in query_spec:\n",
    "        min_mz = q.metadata['precursor_mz'] - precursor_tol\n",
    "        max_mz = q.metadata['precursor_mz'] + precursor_tol\n",
    "        pos = bisect.bisect_right(library_prec_list, min_mz)\n",
    "        pos2 = pos\n",
    "        while library_prec_list[pos2]  < max_mz:\n",
    "            pos2 += 1\n",
    "        if pos == pos2:\n",
    "            # nothing in precursor range\n",
    "            hits.append((q, None, None))\n",
    "        else:\n",
    "            scores = []\n",
    "            for l in library_spec[pos:pos2]:\n",
    "                s,_ = cs.pair(l,q)\n",
    "                scores.append((s, l))\n",
    "            scores.sort(key = lambda x: x[0], reverse=True)\n",
    "            hits.append((q, scores[0][0], scores[0][1]))\n",
    "    return hits\n",
    "hits = query(query_spec, library_spec)"
   ]
  },
  {
   "cell_type": "code",
   "execution_count": 27,
   "metadata": {},
   "outputs": [],
   "source": [
    "hits = list(filter(lambda x: x[1] is not None, hits))\n",
    "hits.sort(key = lambda x: x[1], reverse=True)\n",
    "q,s,l = zip(*hits)"
   ]
  },
  {
   "cell_type": "code",
   "execution_count": 28,
   "metadata": {},
   "outputs": [
    {
     "data": {
      "text/plain": [
       "(array([ 10.,   8.,   4.,  11.,   9.,   6.,  13.,   6.,  10.,  10.,  13.,\n",
       "         12.,  17.,  14.,  18.,  18.,  21.,  21.,  33., 133.]),\n",
       " array([0.        , 0.04997562, 0.09995123, 0.14992685, 0.19990247,\n",
       "        0.24987809, 0.2998537 , 0.34982932, 0.39980494, 0.44978055,\n",
       "        0.49975617, 0.54973179, 0.59970741, 0.64968302, 0.69965864,\n",
       "        0.74963426, 0.79960987, 0.84958549, 0.89956111, 0.94953672,\n",
       "        0.99951234]),\n",
       " <BarContainer object of 20 artists>)"
      ]
     },
     "execution_count": 28,
     "metadata": {},
     "output_type": "execute_result"
    },
    {
     "data": {
      "image/png": "[encoded data removed]",
      "text/plain": [
       "<Figure size 432x288 with 1 Axes>"
      ]
     },
     "metadata": {
      "needs_background": "light"
     },
     "output_type": "display_data"
    }
   ],
   "source": [
    "import pylab as plt\n",
    "%matplotlib inline\n",
    "plt.hist(s, bins=20)"
   ]
  },
  {
   "cell_type": "code",
   "execution_count": null,
   "metadata": {},
   "outputs": [],
   "source": []
  }
 ],
 "metadata": {
  "kernelspec": {
   "display_name": "Python 3",
   "language": "python",
   "name": "python3"
  },
  "language_info": {
   "codemirror_mode": {
    "name": "ipython",
    "version": 3
   },
   "file_extension": ".py",
   "mimetype": "text/x-python",
   "name": "python",
   "nbconvert_exporter": "python",
   "pygments_lexer": "ipython3",
   "version": "3.8.5"
  }
 },
 "nbformat": 4,
 "nbformat_minor": 4
}
