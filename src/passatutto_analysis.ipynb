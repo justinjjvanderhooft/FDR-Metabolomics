{
 "cells": [
  {
   "cell_type": "code",
   "execution_count": 14,
   "metadata": {},
   "outputs": [],
   "source": [
    "import sys\n",
    "sys.path.append(r'C:\\Users\\Gosia\\Desktop\\FDR-Metabolomics\\src\\passatutto_parser.py')\n",
    "import passatutto_parser as pp"
   ]
  },
  {
   "cell_type": "code",
   "execution_count": 15,
   "metadata": {
    "scrolled": true
   },
   "outputs": [
    {
     "name": "stdout",
     "output_type": "stream",
     "text": [
      "processed 100 files\n",
      "processed 200 files\n",
      "processed 300 files\n",
      "processed 400 files\n",
      "Finished parsing of 457 spectra \n"
     ]
    }
   ],
   "source": [
    "pre_spectrums = pp.PassatuttoParser(r'C:\\Users\\Gosia\\Downloads\\MassbankOrbi').parse_folder()"
   ]
  },
  {
   "cell_type": "code",
   "execution_count": 3,
   "metadata": {},
   "outputs": [
    {
     "name": "stdout",
     "output_type": "stream",
     "text": [
      "{'adduct': '[M+H]+',\n",
      " 'charge': 1,\n",
      " 'compound_name': 'Acamprosate',\n",
      " 'formula_smiles': 'C5H11NO4S',\n",
      " 'inchi': 'InChI=1S/C5H11NO4S/c1-5(7)6-3-2-4-11(8,9)10/h2-4H2,1H3,(H,6,7)(H,8,9,10)',\n",
      " 'instrument': 'LTQ Orbitrap XL Thermo Scientific',\n",
      " 'parent_mass': 182.0482,\n",
      " 'peaks_json': [[58.0651, 9230.4],\n",
      "                [59.0491, 8262.0],\n",
      "                [100.0756, 3969.7],\n",
      "                [122.0272, 3243.7],\n",
      "                [123.011, 90917.6],\n",
      "                [140.0376, 17074.2],\n",
      "                [58.0651, 6595.5],\n",
      "                [59.0491, 10267.6],\n",
      "                [100.0756, 23581.3],\n",
      "                [122.0269, 14661.9],\n",
      "                [123.011, 363161.2],\n",
      "                [140.0376, 492845.9],\n",
      "                [58.065, 3497.2],\n",
      "                [59.0493, 7641.8],\n",
      "                [100.0757, 46941.1],\n",
      "                [122.0269, 15808.6],\n",
      "                [123.011, 295065.8],\n",
      "                [140.0376, 1862696.7],\n",
      "                [182.0483, 28342.8],\n",
      "                [123.0113, 13818.1],\n",
      "                [140.0375, 4869598.4],\n",
      "                [100.0756, 13105.3],\n",
      "                [122.0268, 3822.3],\n",
      "                [123.011, 68431.4],\n",
      "                [140.0375, 1611048.8],\n",
      "                [182.0481, 245863.4],\n",
      "                [58.0651, 8367.6],\n",
      "                [59.0491, 19535.7],\n",
      "                [100.0757, 40513.6],\n",
      "                [122.0269, 26541.6],\n",
      "                [123.011, 592821.6],\n",
      "                [140.0376, 828957.7],\n",
      "                [59.0491, 6135.4],\n",
      "                [100.0756, 31932.2],\n",
      "                [122.0268, 9941.9],\n",
      "                [123.0109, 208987.4],\n",
      "                [140.0375, 1208746.1],\n",
      "                [182.0483, 15401.3],\n",
      "                [123.0113, 5767.6],\n",
      "                [140.0376, 544352.2],\n",
      "                [182.0481, 689634.7],\n",
      "                [123.0114, 13565.8],\n",
      "                [140.0377, 856022.5],\n",
      "                [182.0483, 1128454.9],\n",
      "                [58.0651, 7554.8],\n",
      "                [59.0491, 13178.7],\n",
      "                [100.0756, 11592.8],\n",
      "                [122.0269, 10945.5],\n",
      "                [123.011, 256373.8],\n",
      "                [140.0375, 104330.8],\n",
      "                [58.065, 12762.6],\n",
      "                [59.0491, 17001.4],\n",
      "                [100.0755, 5643.8],\n",
      "                [122.0276, 6712.3],\n",
      "                [123.0109, 168775.2],\n",
      "                [140.0371, 25067.0],\n",
      "                [58.0651, 18416.2],\n",
      "                [59.0491, 23932.2],\n",
      "                [100.0756, 18806.6],\n",
      "                [101.0044, 2134.7],\n",
      "                [122.0269, 17487.6],\n",
      "                [123.011, 429300.3],\n",
      "                [140.0374, 184340.1],\n",
      "                [123.0113, 3887.0],\n",
      "                [140.0375, 1910878.0],\n",
      "                [100.0757, 18887.0],\n",
      "                [122.0268, 6274.6],\n",
      "                [123.011, 86471.6],\n",
      "                [140.0376, 2463390.6],\n",
      "                [182.0481, 387815.0]],\n",
      " 'smiles': 'O=S(=O)(O)CCCNC(=O)C'}\n"
     ]
    }
   ],
   "source": [
    "from pprint import pprint\n",
    "pprint(pre_spectrums[0])"
   ]
  },
  {
   "cell_type": "code",
   "execution_count": 4,
   "metadata": {},
   "outputs": [
    {
     "name": "stdout",
     "output_type": "stream",
     "text": [
      "processed %d 10\n",
      "processed %d 20\n",
      "processed %d 30\n",
      "processed %d 40\n",
      "processed %d 50\n",
      "processed %d 60\n",
      "processed %d 70\n",
      "processed %d 80\n",
      "processed %d 90\n",
      "processed %d 100\n",
      "processed %d 110\n",
      "processed %d 120\n",
      "processed %d 130\n",
      "processed %d 140\n",
      "processed %d 150\n",
      "processed %d 160\n",
      "processed %d 170\n",
      "processed %d 180\n",
      "processed %d 190\n",
      "processed %d 200\n",
      "processed %d 210\n",
      "processed %d 220\n",
      "processed %d 230\n",
      "processed %d 240\n",
      "processed %d 250\n",
      "processed %d 260\n",
      "processed %d 270\n",
      "processed %d 280\n",
      "processed %d 290\n",
      "processed %d 300\n",
      "processed %d 310\n",
      "processed %d 320\n",
      "processed %d 330\n",
      "processed %d 340\n",
      "processed %d 350\n",
      "processed %d 360\n",
      "processed %d 370\n",
      "processed %d 380\n",
      "processed %d 390\n",
      "processed %d 400\n",
      "processed %d 410\n",
      "processed %d 420\n",
      "processed %d 430\n",
      "processed %d 440\n",
      "processed %d 450\n"
     ]
    }
   ],
   "source": [
    "from matchms.importing.load_from_json import as_spectrum\n",
    "spectrums = []\n",
    "for i, s in enumerate( pre_spectrums ):\n",
    "    spectrums.append(as_spectrum(s))\n",
    "    if i and i % 10 == 0:\n",
    "        print('processed %d', i)"
   ]
  },
  {
   "cell_type": "code",
   "execution_count": 9,
   "metadata": {},
   "outputs": [
    {
     "data": {
      "text/plain": [
       "458"
      ]
     },
     "execution_count": 9,
     "metadata": {},
     "output_type": "execute_result"
    }
   ],
   "source": [
    "len(spectrums)"
   ]
  },
  {
   "cell_type": "code",
   "execution_count": 11,
   "metadata": {},
   "outputs": [
    {
     "data": {
      "text/plain": [
       "454"
      ]
     },
     "execution_count": 11,
     "metadata": {},
     "output_type": "execute_result"
    }
   ],
   "source": [
    "d = {s.get('compound_name'):s for s in spectrums}\n",
    "len(d)"
   ]
  },
  {
   "cell_type": "code",
   "execution_count": 13,
   "metadata": {},
   "outputs": [
    {
     "name": "stdout",
     "output_type": "stream",
     "text": [
      "Erythromycin InChI=1S/C37H67NO13/c1-14-25-37(10,45)30(41)20(4)27(39)18(2)16-35(8,44)32(51-34-28(40)24(38(11)12)15-19(3)47-34)21(5)29(22(6)33(43)49-25)50-26-17-36(9,46-13)31(42)23(7)48-26/h18-26,28-32,34,40-42,44-45H,14-17H2,1-13H3/t18-,19-,20+,21+,22-,23+,24+,25-,26+,28-,29+,30-,31+,32-,34+,35-,36-,37-/m1/s1\n",
      "Reserpine InChI=1S/C33H40N2O9/c1-38-19-7-8-20-21-9-10-35-16-18-13-27(44-32(36)17-11-25(39-2)30(41-4)26(12-17)40-3)31(42-5)28(33(37)43-6)22(18)15-24(35)29(21)34-23(20)14-19/h7-8,11-12,14,18,22,24,27-28,31,34H,9-10,13,15-16H2,1-6H3\n",
      "Adenosine InChI=1S/C10H13N5O4/c11-8-5-9(13-2-12-8)15(3-14-5)10-7(18)6(17)4(1-16)19-10/h2-4,6-7,10,16-18H,1H2,(H2,11,12,13)/t4-,6-,7-,10-/m1/s1\n",
      "Erythromycin InChI=1S/C37H67NO13/c1-14-25-37(10,45)30(41)20(4)27(39)18(2)16-35(8,44)32(51-34-28(40)24(38(11)12)15-19(3)47-34)21(5)29(22(6)33(43)49-25)50-26-17-36(9,46-13)31(42)23(7)48-26/h18-26,28-32,34,40-42,44-45H,14-17H2,1-13H3/t18-,19-,20+,21+,22-,23+,24+,25-,26+,28-,29+,30-,31+,32-,34+,35-,36-,37-/m1/s1\n",
      "Reserpine InChI=1S/C33H40N2O9/c1-38-19-7-8-20-21-9-10-35-16-18-13-27(44-32(36)17-11-25(39-2)30(41-4)26(12-17)40-3)31(42-5)28(33(37)43-6)22(18)15-24(35)29(21)34-23(20)14-19/h7-8,11-12,14,18,22,24,27-28,31,34H,9-10,13,15-16H2,1-6H3/t18-,22+,24-,27-,28+,31+/m1/s1\n",
      "Tyramine InChI=1S/C8H11NO/c9-6-5-7-1-3-8(10)4-2-7/h1-4,10H,5-6,9H2\n",
      "Adenosine InChI=1S/C10H13N5O4/c11-8-5-9(13-2-12-8)15(3-14-5)10-7(18)6(17)4(1-16)19-10/h2-4,6-7,10,16-18H,1H2,(H2,11,12,13)/t4-,6-,7-,10-/m1/s1\n",
      "Tyramine InChI=1S/C8H11NO/c9-6-5-7-1-3-8(10)4-2-7/h1-4,10H,5-6,9H2\n"
     ]
    }
   ],
   "source": [
    "from collections import Counter\n",
    "c = Counter( s.get('compound_name') for s in spectrums )\n",
    "names = [ n for n,_ in c.most_common(4) ]\n",
    "for s in spectrums:\n",
    "    if s.get('compound_name') in names:\n",
    "        print( s.get('compound_name'), s.get('inchi') )"
   ]
  },
  {
   "cell_type": "code",
   "execution_count": null,
   "metadata": {},
   "outputs": [],
   "source": []
  },
  {
   "cell_type": "code",
   "execution_count": 41,
   "metadata": {},
   "outputs": [
    {
     "name": "stdout",
     "output_type": "stream",
     "text": [
      "4053 remaining spectra.\n"
     ]
    }
   ],
   "source": [
    "from matchms.filtering import normalize_intensities\n",
    "from matchms.filtering import require_minimum_number_of_peaks\n",
    "from matchms.filtering import select_by_mz\n",
    "from matchms.filtering import select_by_relative_intensity\n",
    "from matchms.filtering import reduce_to_number_of_peaks\n",
    "from matchms.filtering import add_losses\n",
    "\n",
    "def post_process(s):\n",
    "    s = normalize_intensities(s)\n",
    "    s = select_by_mz(s, mz_from=0, mz_to=1000)\n",
    "    s = require_minimum_number_of_peaks(s, n_required=10)\n",
    "    s = select_by_relative_intensity(s, intensity_from=0.01, intensity_to=1.0)\n",
    "    return s\n",
    "\n",
    "# apply filters to the data\n",
    "spectrums = [post_process(s) for s in spectrums]\n",
    "\n",
    "# omit spectrums that didn't qualify for analysis\n",
    "spectrums = [s for s in spectrums if s is not None]\n",
    "\n",
    "print(\"{} remaining spectra.\".format(len(spectrums)))"
   ]
  },
  {
   "cell_type": "code",
   "execution_count": 42,
   "metadata": {},
   "outputs": [],
   "source": [
    "import bisect\n",
    "import numpy as np\n",
    "# a filter to check if there is a fragment within N ppm of the precursor\n",
    "def has_frag(spectrum, mz, tol, tol_units='absolute'):\n",
    "    if tol_units == 'ppm':\n",
    "        di = tol_ppm*mz/1e6\n",
    "    else:\n",
    "        di = tol\n",
    "    min_mz = mz - di\n",
    "    max_mz = mz + di\n",
    "    pos = bisect.bisect_right(spectrum.peaks[0], min_mz)\n",
    "    pos2 = bisect.bisect_right(spectrum.peaks[0], max_mz)\n",
    "    if pos == pos2:\n",
    "        return None\n",
    "    else:\n",
    "        max_pos = pos + np.argmax(spectrum.peaks[1][pos:pos2])\n",
    "        return (spectrum.peaks[0][max_pos], spectrum.peaks[1][max_pos])"
   ]
  },
  {
   "cell_type": "code",
   "execution_count": 43,
   "metadata": {},
   "outputs": [],
   "source": [
    "spec_with_precursor = [s for s in spectrums if has_frag(s, s.metadata['precursor_mz'], 0.2)  is not None]"
   ]
  },
  {
   "cell_type": "code",
   "execution_count": 44,
   "metadata": {},
   "outputs": [
    {
     "name": "stdout",
     "output_type": "stream",
     "text": [
      "2682\n"
     ]
    }
   ],
   "source": [
    "print(len(spec_with_precursor))"
   ]
  },
  {
   "cell_type": "code",
   "execution_count": 45,
   "metadata": {},
   "outputs": [],
   "source": [
    "inchi_dict = {}\n",
    "for s in spec_with_precursor:\n",
    "    ik = s.metadata['inchikey']\n",
    "    if not ik in inchi_dict:\n",
    "        inchi_dict[ik] = [s]\n",
    "    else:\n",
    "        inchi_dict[ik].append(s)"
   ]
  },
  {
   "cell_type": "code",
   "execution_count": 46,
   "metadata": {},
   "outputs": [
    {
     "name": "stdout",
     "output_type": "stream",
     "text": [
      "1475 467\n"
     ]
    }
   ],
   "source": [
    "library_spec = set()\n",
    "query_spec = set()\n",
    "singletons = set([i for i,v in inchi_dict.items() if len(v) == 1])\n",
    "multis = set([i for i,v in inchi_dict.items() if len(v) > 1])\n",
    "print(len(singletons), len(multis))"
   ]
  },
  {
   "cell_type": "code",
   "execution_count": 48,
   "metadata": {},
   "outputs": [],
   "source": [
    "query_size = 400\n",
    "library_size = 1000"
   ]
  },
  {
   "cell_type": "code",
   "execution_count": 49,
   "metadata": {},
   "outputs": [],
   "source": [
    "used = set()\n",
    "query_keys = np.random.choice(list(multis), size=query_size, replace=False)\n",
    "other_library_keys = np.random.choice(list(singletons), size=library_size-query_size, replace=False)\n",
    "query_spec = []\n",
    "library_spec = []\n",
    "for q in query_keys:\n",
    "    ss = np.random.choice(inchi_dict[q], size=2, replace=False)\n",
    "    query_spec.append(ss[0])\n",
    "    library_spec.append(ss[1])\n",
    "for o in other_library_keys:\n",
    "    ss = np.random.choice(inchi_dict[o], size=1, replace=False)\n",
    "    library_spec.append(ss[0])\n",
    "\n",
    "assert len(library_spec) == library_size\n",
    "assert len(query_spec) == query_size"
   ]
  },
  {
   "cell_type": "code",
   "execution_count": 50,
   "metadata": {},
   "outputs": [],
   "source": [
    "# compute similarities between query and library spec"
   ]
  },
  {
   "cell_type": "code",
   "execution_count": 51,
   "metadata": {},
   "outputs": [],
   "source": [
    "from matchms.similarity import CosineGreedy\n",
    "cs = CosineGreedy(0.2)"
   ]
  },
  {
   "cell_type": "code",
   "execution_count": 52,
   "metadata": {},
   "outputs": [],
   "source": [
    "library_spec.sort(key = lambda x: x.metadata['precursor_mz'])"
   ]
  },
  {
   "cell_type": "code",
   "execution_count": 53,
   "metadata": {},
   "outputs": [],
   "source": [
    "def query(query_spec, library_spec, precursor_tol = 1):\n",
    "    hits = []\n",
    "    library_prec_list = [x.metadata['precursor_mz'] for x in library_spec]\n",
    "    for q in query_spec:\n",
    "        min_mz = q.metadata['precursor_mz'] - precursor_tol\n",
    "        max_mz = q.metadata['precursor_mz'] + precursor_tol\n",
    "        pos = bisect.bisect_right(library_prec_list, min_mz)\n",
    "        pos2 = pos\n",
    "        while library_prec_list[pos2]  < max_mz:\n",
    "            pos2 += 1\n",
    "        if pos == pos2:\n",
    "            # nothing in precursor range\n",
    "            hits.append((q, None, None))\n",
    "        else:\n",
    "            scores = []\n",
    "            for l in library_spec[pos:pos2]:\n",
    "                s,_ = cs.pair(l,q)\n",
    "                scores.append((s, l))\n",
    "            scores.sort(key = lambda x: x[0], reverse=True)\n",
    "            hits.append((q, scores[0][0], scores[0][1]))\n",
    "    return hits\n",
    "hits = query(query_spec, library_spec)"
   ]
  },
  {
   "cell_type": "code",
   "execution_count": 54,
   "metadata": {},
   "outputs": [],
   "source": [
    "hits = list(filter(lambda x: x[1] is not None, hits))\n",
    "hits.sort(key = lambda x: x[1], reverse=True)\n",
    "q,s,l = zip(*hits)"
   ]
  },
  {
   "cell_type": "code",
   "execution_count": 55,
   "metadata": {},
   "outputs": [
    {
     "data": {
      "text/plain": [
       "(array([ 11.,   4.,  10.,  11.,   8.,   8.,  13.,  11.,   9.,   7.,  17.,\n",
       "          8.,  12.,  18.,  21.,  15.,  18.,  22.,  27., 137.]),\n",
       " array([4.98313306e-04, 5.04611373e-02, 1.00423961e-01, 1.50386785e-01,\n",
       "        2.00349609e-01, 2.50312433e-01, 3.00275257e-01, 3.50238081e-01,\n",
       "        4.00200905e-01, 4.50163730e-01, 5.00126554e-01, 5.50089378e-01,\n",
       "        6.00052202e-01, 6.50015026e-01, 6.99977850e-01, 7.49940674e-01,\n",
       "        7.99903498e-01, 8.49866322e-01, 8.99829146e-01, 9.49791970e-01,\n",
       "        9.99754794e-01]),\n",
       " <BarContainer object of 20 artists>)"
      ]
     },
     "execution_count": 55,
     "metadata": {},
     "output_type": "execute_result"
    },
    {
     "data": {
      "image/png": "[encoded data removed]",
      "text/plain": [
       "<Figure size 432x288 with 1 Axes>"
      ]
     },
     "metadata": {
      "needs_background": "light"
     },
     "output_type": "display_data"
    }
   ],
   "source": [
    "import pylab as plt\n",
    "%matplotlib inline\n",
    "plt.hist(s, bins=20)"
   ]
  },
  {
   "cell_type": "code",
   "execution_count": 56,
   "metadata": {},
   "outputs": [],
   "source": [
    "def make_all_peaks(library):\n",
    "    all_peak_mz = []\n",
    "    all_peak_intensity = []\n",
    "    all_spec = []\n",
    "    for s in library:\n",
    "        mz_list = list(s.peaks[0])\n",
    "        all_peak_mz += mz_list\n",
    "        intensity_list = list(s.peaks[1])\n",
    "        all_peak_intensity += intensity_list\n",
    "        all_spec += [s for m in mz_list]\n",
    "    return list(zip(all_peak_mz, all_peak_intensity, all_spec))"
   ]
  },
  {
   "cell_type": "code",
   "execution_count": 57,
   "metadata": {},
   "outputs": [
    {
     "name": "stdout",
     "output_type": "stream",
     "text": [
      "115073\n"
     ]
    }
   ],
   "source": [
    "all_peaks = make_all_peaks(library_spec)\n",
    "all_peaks.sort(key = lambda x: x[0])\n",
    "all_mz, all_intensity, all_s = zip(*all_peaks)\n",
    "print(len(all_peaks))"
   ]
  },
  {
   "cell_type": "code",
   "execution_count": 58,
   "metadata": {},
   "outputs": [],
   "source": [
    "from matchms.Spectrum import Spectrum\n",
    "import copy\n",
    "def create_random_decoy(spectrum, all_mz, all_intensity):\n",
    "    n_peaks = len(all_mz)\n",
    "    precursor_mz = spectrum.metadata['precursor_mz']\n",
    "    (pmz,pi) = has_frag(spectrum, precursor_mz, 0.2)\n",
    "    mz = []\n",
    "    intensity = []\n",
    "    mz.append(pmz)\n",
    "    intensity.append(pi)\n",
    "    \n",
    "    n_peaks = len(spectrum.peaks[0]) - 1\n",
    "    max_pos = bisect.bisect_right(all_mz, precursor_mz)\n",
    "    pos = np.random.choice(range(max_pos), size=n_peaks, replace=False)\n",
    "    \n",
    "    for p in pos:\n",
    "        mz.append(all_mz[p])\n",
    "        intensity.append(all_intensity[p])\n",
    "    \n",
    "    idx = np.argsort(mz)\n",
    "    mz = np.array(mz)\n",
    "    intensity = np.array(intensity)\n",
    "    mz = mz[idx]\n",
    "    intensity = intensity[idx]\n",
    "    \n",
    "    new_spectrum = Spectrum(np.array(mz), np.array(intensity), copy.deepcopy(spectrum.metadata))\n",
    "\n",
    "    return new_spectrum\n",
    "\n",
    "decoy_library = []\n",
    "for l in library_spec:\n",
    "    spec = create_random_decoy(l, all_mz, all_intensity)\n",
    "    decoy_library.append(spec)"
   ]
  },
  {
   "cell_type": "code",
   "execution_count": 59,
   "metadata": {},
   "outputs": [
    {
     "data": {
      "text/plain": [
       "<matchms.Spectrum.Spectrum at 0x28cac2a24f0>"
      ]
     },
     "execution_count": 59,
     "metadata": {},
     "output_type": "execute_result"
    }
   ],
   "source": [
    "def create_spectral_decoy(spectrum, all_mz, all_intensity, all_s):\n",
    "    precursor_mz = spectrum.metadata['precursor_mz']\n",
    "    (pmz,pi) = has_frag(spectrum, precursor_mz, 0.2)\n",
    "    mz = []\n",
    "    intensity = []\n",
    "    \n",
    "    new_mz = pmz\n",
    "    new_intensity = pi\n",
    "    possible_peaks = []\n",
    "    \n",
    "    \n",
    "    n_peaks = len(spectrum.peaks[0])\n",
    "    for i in range(n_peaks):\n",
    "        mz.append(new_mz)\n",
    "        intensity.append(new_intensity)\n",
    "    \n",
    "        # find all spectra with something within 0.2\n",
    "        min_mz = new_mz - 0.2\n",
    "        max_mz = new_mz + 0.2\n",
    "        pos = bisect.bisect_right(all_mz, min_mz)\n",
    "        pos2 = bisect.bisect_right(all_mz, max_mz)\n",
    "        assert pos2 > pos\n",
    "        N = min(5, pos2 - pos)\n",
    "        pos = np.random.choice(range(pos,pos2), size=N, replace=False)\n",
    "        for p in pos:\n",
    "            spec = all_s[p]\n",
    "            max_pos = bisect.bisect_right(spec.peaks[0], pmz)\n",
    "            if max_pos > 0:\n",
    "                peak_pos = np.random.choice(max_pos)\n",
    "                possible_peaks.append((spec.peaks[0][peak_pos], spec.peaks[1][peak_pos]))\n",
    "        next_peak_idx = np.random.choice(len(possible_peaks))\n",
    "        next_peak = possible_peaks[next_peak_idx]\n",
    "        del possible_peaks[next_peak_idx]\n",
    "        new_mz = next_peak[0]\n",
    "        new_intensity = next_peak[1]\n",
    "        \n",
    "        \n",
    "    idx = np.argsort(mz)\n",
    "    mz = np.array(mz)\n",
    "    intensity = np.array(intensity)\n",
    "    mz = mz[idx]\n",
    "    intensity = intensity[idx]\n",
    "\n",
    "    new_spectrum = Spectrum(np.array(mz), np.array(intensity), copy.deepcopy(spectrum.metadata))\n",
    "\n",
    "    return new_spectrum\n",
    "    \n",
    "create_spectral_decoy(library_spec[0], all_mz, all_intensity, all_s)"
   ]
  },
  {
   "cell_type": "code",
   "execution_count": 26,
   "metadata": {},
   "outputs": [
    {
     "name": "stdout",
     "output_type": "stream",
     "text": [
      "0 2000\n",
      "100 2000\n",
      "200 2000\n",
      "300 2000\n",
      "400 2000\n",
      "500 2000\n",
      "600 2000\n",
      "700 2000\n",
      "800 2000\n",
      "900 2000\n",
      "1000 2000\n",
      "1100 2000\n",
      "1200 2000\n",
      "1300 2000\n",
      "1400 2000\n",
      "1500 2000\n",
      "1600 2000\n",
      "1700 2000\n",
      "1800 2000\n",
      "1900 2000\n"
     ]
    }
   ],
   "source": [
    "spec_library = []\n",
    "for i,l in enumerate(library_spec):\n",
    "    if i%100 == 0:\n",
    "        print(i,len(library_spec))\n",
    "    spec = create_spectral_decoy(l, all_mz, all_intensity, all_s)\n",
    "    spec_library.append(spec)"
   ]
  },
  {
   "cell_type": "code",
   "execution_count": 60,
   "metadata": {},
   "outputs": [],
   "source": [
    "decoy_hits = query(query_spec, decoy_library)"
   ]
  },
  {
   "cell_type": "code",
   "execution_count": 61,
   "metadata": {},
   "outputs": [],
   "source": [
    "spec_decoy_hits = query(query_spec, spec_library)"
   ]
  },
  {
   "cell_type": "code",
   "execution_count": 62,
   "metadata": {},
   "outputs": [],
   "source": [
    "decoy_hits = list(filter(lambda x: x[1] is not None, decoy_hits))\n",
    "decoy_hits.sort(key = lambda x: x[1], reverse=True)\n",
    "q,s,l = zip(*decoy_hits)"
   ]
  },
  {
   "cell_type": "code",
   "execution_count": 63,
   "metadata": {},
   "outputs": [
    {
     "data": {
      "text/plain": [
       "(array([34., 48., 48., 29., 28., 23., 23., 16., 17., 15., 12., 14., 14.,\n",
       "        10., 10., 10., 12.,  7., 14.,  8.]),\n",
       " array([0.        , 0.04978225, 0.0995645 , 0.14934675, 0.199129  ,\n",
       "        0.24891125, 0.2986935 , 0.34847575, 0.398258  , 0.44804025,\n",
       "        0.4978225 , 0.54760475, 0.597387  , 0.64716925, 0.6969515 ,\n",
       "        0.74673375, 0.796516  , 0.84629825, 0.8960805 , 0.94586275,\n",
       "        0.995645  ]),\n",
       " <BarContainer object of 20 artists>)"
      ]
     },
     "execution_count": 63,
     "metadata": {},
     "output_type": "execute_result"
    },
    {
     "data": {
      "image/png": "[encoded data removed]",
      "text/plain": [
       "<Figure size 432x288 with 1 Axes>"
      ]
     },
     "metadata": {
      "needs_background": "light"
     },
     "output_type": "display_data"
    }
   ],
   "source": [
    "spec_decoy_hits = list(filter(lambda x: x[1] is not None, spec_decoy_hits))\n",
    "spec_decoy_hits.sort(key = lambda x: x[1], reverse=True)\n",
    "q,s,l = zip(*spec_decoy_hits)\n",
    "\n",
    "plt.hist(s, bins=20)"
   ]
  },
  {
   "cell_type": "code",
   "execution_count": 64,
   "metadata": {},
   "outputs": [
    {
     "data": {
      "text/plain": [
       "[<matplotlib.lines.Line2D at 0x28cab3ed730>]"
      ]
     },
     "execution_count": 64,
     "metadata": {},
     "output_type": "execute_result"
    },
    {
     "data": {
      "image/png": "[encoded data removed]",
      "text/plain": [
       "<Figure size 1440x144 with 1 Axes>"
      ]
     },
     "metadata": {
      "needs_background": "light"
     },
     "output_type": "display_data"
    }
   ],
   "source": [
    "# table 1, columns are score, db (target/decoy)\n",
    "fdr_table = []\n",
    "for h in hits:\n",
    "    fdr_table.append((h[0], h[1], 0))\n",
    "for h in decoy_hits:\n",
    "    fdr_table.append((h[0], h[1], 1))\n",
    "fdr_table.sort(key = lambda x: x[1], reverse = True)\n",
    "q, s, ss = zip(*fdr_table)\n",
    "plt.figure(figsize=(20,2))\n",
    "plt.plot(range(len(ss)), ss)"
   ]
  },
  {
   "cell_type": "code",
   "execution_count": 65,
   "metadata": {},
   "outputs": [],
   "source": [
    "def fdr_q(fdr_table):\n",
    "    fdr_table.sort(key=lambda x: x[1], reverse=True)\n",
    "    fdr_vals = []\n",
    "    queries,s,ss = zip(*fdr_table)\n",
    "    for i in range(len(fdr_table)):\n",
    "        fdr = sum(ss[:i])/(i+1)\n",
    "        fdr_vals.append(fdr)\n",
    "    q_vals = [0 for f in fdr_vals]\n",
    "    q_vals[-1] = fdr_vals[-1]\n",
    "    for i in range(len(q_vals)-2,0,-1):\n",
    "        q_vals[i] = min(fdr_vals[i],q_vals[i+1])\n",
    "    q_list = []\n",
    "    for i,q in enumerate(queries):\n",
    "        if ss[i] == 0: # i.e. the true one\n",
    "            q_list.append((q, q_vals[i]))\n",
    "    return fdr_vals, q_vals, q_list"
   ]
  },
  {
   "cell_type": "code",
   "execution_count": 66,
   "metadata": {},
   "outputs": [],
   "source": [
    "fdr_vals, q_vals, q_list = fdr_q(fdr_table)"
   ]
  },
  {
   "cell_type": "code",
   "execution_count": 67,
   "metadata": {},
   "outputs": [],
   "source": [
    "# table 1, columns are score, db (target/decoy)\n",
    "spec_fdr_table = []\n",
    "for h in hits:\n",
    "    spec_fdr_table.append((h[0], h[1], 0))\n",
    "for h in spec_decoy_hits:\n",
    "    spec_fdr_table.append((h[0], h[1], 1))\n",
    "spec_fdr_table.sort(key = lambda x: x[1], reverse = True)\n",
    "spec_fdr_vals, spec_q_vals, spec_q_list = fdr_q(spec_fdr_table)"
   ]
  },
  {
   "cell_type": "code",
   "execution_count": 68,
   "metadata": {},
   "outputs": [],
   "source": [
    "# make the true one\n",
    "true_fdr_table = []\n",
    "for h in hits:\n",
    "    # check if it is correct\n",
    "    query_ik = h[0].metadata['inchikey']\n",
    "    library_ik = h[2].metadata['inchikey']\n",
    "    if query_ik == library_ik:\n",
    "        false = 0\n",
    "    else:\n",
    "        false = 1\n",
    "    true_fdr_table.append((h[0], h[1], false))\n",
    "true_fdr, true_q, true_q_list = fdr_q(true_fdr_table)"
   ]
  },
  {
   "cell_type": "code",
   "execution_count": 69,
   "metadata": {},
   "outputs": [],
   "source": [
    "# find the pairs for the plot\n",
    "plot_true = []\n",
    "plot_estimated = []\n",
    "spec_plot_estimated = []\n",
    "qq,qqq = zip(*q_list)\n",
    "spec_qq, spec_qqq = zip(*spec_q_list)\n",
    "for qs, qval in true_q_list:\n",
    "    assert qs in qq\n",
    "    pos = qq.index(qs)\n",
    "    plot_true.append(qval)\n",
    "    plot_estimated.append(qqq[pos])\n",
    "    pos = spec_qq.index(qs)\n",
    "    spec_plot_estimated.append(spec_qqq[pos])"
   ]
  },
  {
   "cell_type": "code",
   "execution_count": 70,
   "metadata": {},
   "outputs": [
    {
     "data": {
      "image/png": "[encoded data removed]",
      "text/plain": [
       "<Figure size 576x432 with 1 Axes>"
      ]
     },
     "metadata": {
      "needs_background": "light"
     },
     "output_type": "display_data"
    }
   ],
   "source": [
    "plt.figure(figsize=(8,6))\n",
    "plt.plot(plot_true, plot_estimated, label='random')\n",
    "plt.plot([0,0.5], [0,0.5], 'k--')\n",
    "plt.plot(plot_true, spec_plot_estimated, label='spectral')\n",
    "plt.xlabel('True')\n",
    "plt.ylabel('Estimated')\n",
    "plt.legend()\n",
    "plt.grid()"
   ]
  },
  {
   "cell_type": "code",
   "execution_count": null,
   "metadata": {},
   "outputs": [],
   "source": []
  }
 ],
 "metadata": {
  "kernelspec": {
   "display_name": "Python 3",
   "language": "python",
   "name": "python3"
  },
  "language_info": {
   "codemirror_mode": {
    "name": "ipython",
    "version": 3
   },
   "file_extension": ".py",
   "mimetype": "text/x-python",
   "name": "python",
   "nbconvert_exporter": "python",
   "pygments_lexer": "ipython3",
   "version": "3.8.5"
  }
 },
 "nbformat": 4,
 "nbformat_minor": 4
}
