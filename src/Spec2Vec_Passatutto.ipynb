{
 "cells": [
  {
   "cell_type": "markdown",
   "metadata": {},
   "source": [
    "Derive spec2vec embeddings of MS/MS spectra"
   ]
  },
  {
   "cell_type": "code",
   "execution_count": 1,
   "metadata": {},
   "outputs": [],
   "source": [
    "import os\n",
    "import sys\n",
    "import gensim\n",
    "import numpy as np\n",
    "\n",
    "ROOT = os.path.dirname(os.getcwd())\n",
    "#path_data = os.path.join(ROOT, 'data')\n",
    "path_data = 'C:\\\\Users\\\\Gosia\\\\Desktop\\\\'\n",
    "sys.path.insert(0, ROOT)"
   ]
  },
  {
   "cell_type": "markdown",
   "metadata": {},
   "source": [
    "Import dataset to create embeddings from, here: pre-processed dataset \"Unique InchiKeys\""
   ]
  },
  {
   "cell_type": "code",
   "execution_count": null,
   "metadata": {},
   "outputs": [],
   "source": [
    "import passatuto_parser as pp\n",
    "sys.path.append('C:\\\\Users\\\\Gosia\\\\Desktop\\\\FDR-Metabolomics\\\\src\\\\passatuto_parser.py')\n",
    "\n",
    "\n",
    "pre_spectrums_query = pp.PassatutoParser(r'C:\\\\Users\\\\Gosia\\\\Desktop\\\\MassbankOrbi').parse_folder()\n",
    "pre_spectrums_lib = pp.PassatutoParser('C:\\\\Users\\\\Gosia\\\\Desktop\\\\Gnps_Noise_Filtered').parse_folder()\n",
    "\n",
    "# Using MatchMS to create spectra for both\n",
    "from matchms.importing.load_from_json import as_spectrum\n",
    "spectrums_query = []\n",
    "for i, s in enumerate( pre_spectrums_query ):\n",
    "    spectrums_query.append(as_spectrum(s))\n",
    "    if i and i % 100 == 0:\n",
    "        print('processed %d' % i)\n",
    "        \n",
    "spectrums_lib = []\n",
    "for i, s in enumerate( pre_spectrums_lib ):\n",
    "    spectrums_lib.append(as_spectrum(s))\n",
    "    if i and i % 100 == 0:\n",
    "        print('processed %d' % i)\n",
    "        "
   ]
  },
  {
   "cell_type": "code",
   "execution_count": 3,
   "metadata": {},
   "outputs": [],
   "source": [
    "from matchms.filtering import normalize_intensities\n",
    "# Spec2Vec trained model requires normalizing\n",
    "spectrums_query = [normalize_intensities(s) for s in spectrums_query]\n",
    "spectrums_lib = [normalize_intensities(s) for s in spectrums_lib]\n"
   ]
  },
  {
   "cell_type": "markdown",
   "metadata": {},
   "source": [
    "Load pretrained spec2vec model"
   ]
  },
  {
   "cell_type": "code",
   "execution_count": 4,
   "metadata": {},
   "outputs": [],
   "source": [
    "path_models = os.path.join(path_data, \"trained_models\")\n",
    "model_file = os.path.join(path_models, \"spec2vec_AllPositive_ratio05_filtered_201101_iter_15.model\")\n",
    "\n",
    "# Load pretrained model\n",
    "model = gensim.models.Word2Vec.load(model_file)"
   ]
  },
  {
   "cell_type": "markdown",
   "metadata": {},
   "source": [
    "Create spectrum \"documents\""
   ]
  },
  {
   "cell_type": "code",
   "execution_count": null,
   "metadata": {},
   "outputs": [],
   "source": [
    "from spec2vec import Spec2Vec\n",
    "from spec2vec import SpectrumDocument\n",
    "\n",
    "documents_query = [SpectrumDocument(s, n_decimals=2) for s in spectrums_query]\n",
    "documents_lib = [SpectrumDocument(s, n_decimals=2) for s in spectrums_lib]\n",
    "print(documents_query)\n"
   ]
  },
  {
   "cell_type": "markdown",
   "metadata": {},
   "source": [
    "\n",
    "Derive embeddings"
   ]
  },
  {
   "cell_type": "code",
   "execution_count": 6,
   "metadata": {},
   "outputs": [
    {
     "name": "stdout",
     "output_type": "stream",
     "text": [
      "Embedding vector size: 300\n"
     ]
    },
    {
     "data": {
      "application/vnd.jupyter.widget-view+json": {
       "model_id": "8bddd7e5b562480684b969f12a37aac4",
       "version_major": 2,
       "version_minor": 0
      },
      "text/plain": [
       "HBox(children=(HTML(value=''), FloatProgress(value=0.0, max=458.0), HTML(value='')))"
      ]
     },
     "metadata": {},
     "output_type": "display_data"
    },
    {
     "name": "stdout",
     "output_type": "stream",
     "text": [
      "Found 11 word(s) missing in the model. Weighted missing percentage not covered by the given model is 10.32%.\n",
      "Found 7 word(s) missing in the model. Weighted missing percentage not covered by the given model is 4.24%.\n",
      "Found 4 word(s) missing in the model. Weighted missing percentage not covered by the given model is 0.59%.\n",
      "Found 66 word(s) missing in the model. Weighted missing percentage not covered by the given model is 53.56%.\n",
      "Found 14 word(s) missing in the model. Weighted missing percentage not covered by the given model is 28.03%.\n",
      "\n"
     ]
    },
    {
     "data": {
      "application/vnd.jupyter.widget-view+json": {
       "model_id": "965cc125707f47b2b463236afac4f1c0",
       "version_major": 2,
       "version_minor": 0
      },
      "text/plain": [
       "HBox(children=(HTML(value=''), FloatProgress(value=0.0, max=4096.0), HTML(value='')))"
      ]
     },
     "metadata": {},
     "output_type": "display_data"
    },
    {
     "name": "stdout",
     "output_type": "stream",
     "text": [
      "\n"
     ]
    }
   ],
   "source": [
    "from tqdm.notebook import tqdm  # optional, just to get a progress bar\n",
    "from spec2vec.vector_operations import calc_vector\n",
    "\n",
    "\n",
    "intensity_weighting_power = 0.5\n",
    "allowed_missing_percentage = 70 # specify the maximum (weighted) fraction of the spectrum that is allowed to be missing\n",
    "\n",
    "vector_size = model.vector_size\n",
    "print(f\"Embedding vector size: {vector_size}\")\n",
    "\n",
    "embeddings_spec2vec_query = np.zeros((len(documents_query), vector_size), dtype=\"float\")\n",
    "for i, doc in enumerate(tqdm(documents_query)):\n",
    "    embeddings_spec2vec_query[i, 0:vector_size] = calc_vector(model, doc,\n",
    "                                                        intensity_weighting_power,\n",
    "                                                        allowed_missing_percentage)\n",
    "embeddings_spec2vec_lib = np.zeros((len(documents_lib), vector_size), dtype=\"float\")\n",
    "for i, doc in enumerate(tqdm(documents_lib)):\n",
    "    embeddings_spec2vec_lib[i, 0:vector_size] = calc_vector(model, doc,\n",
    "                                                        intensity_weighting_power,\n",
    "                                                        allowed_missing_percentage)"
   ]
  },
  {
   "cell_type": "code",
   "execution_count": 7,
   "metadata": {},
   "outputs": [
    {
     "name": "stdout",
     "output_type": "stream",
     "text": [
      "[10.8166, 30.5137, 42.5149, 3.3139, 35.3586, -10.0035, 31.2397, -47.1424, -1.2455, 6.8336, -30.7934, 30.8163, 6.4209, 1.9532, -23.2228, -25.9214, -18.3388, -46.101, 66.0784, -28.9613, 34.9018, -72.261, -8.7241, 41.7448, 10.6812, -29.5364, -79.3635, 7.3907, -53.3976, 49.7313, -67.425, -47.3549, 32.8641, -40.4461, -61.4245, -37.9506, 63.7082, 3.3079, -19.0751, -42.6691, 77.1452, -28.2637, -14.6276, -7.0479, 4.4177, -1.3345, -12.8005, 19.899, -65.0877, -11.9504, -22.8452, -17.3685, -49.6183, -24.7174, 16.6456, -52.0691, -30.1849, 26.8297, 16.679, 22.4903, 41.3793, 44.5005, 115.4647, 36.6748, -68.9138, -8.3474, 48.6162, -15.5162, 37.8943, -14.6371, 45.3029, 20.7899, -38.73, 49.5187, -2.1863, -56.7607, 20.1322, 39.6387, -5.3523, 19.3667, 18.3156, -19.2091, 55.6139, -58.6915, 22.8559, 7.1698, -13.0064, -6.755, -35.7894, -21.5922, 5.6973, -24.7423, -49.0696, -11.9025, 49.41, -7.9325, 45.3136, -41.3073, -33.4759, 17.4322, -9.0041, -5.6946, 56.9676, -28.6833, 35.2828, 19.3479, -44.0346, 83.5209, 12.093, -19.6354, -2.6071, -9.3777, 98.0365, 44.6684, -9.205, -69.5442, 20.1356, 52.7304, 44.0317, 53.6939, -7.9265, -10.1442, -2.2692, -49.3178, 0.7509, -2.1317, -9.6373, -60.0359, -44.8918, -62.1399, -46.9748, -17.113, 19.8667, -10.935, 31.248, 1.5265, 13.9969, -28.9218, -14.1889, 54.4057, -19.4648, 15.1214, 7.0456, -6.5003, 59.3642, -25.1364, 15.6433, -67.178, -56.8166, 44.2991, 63.4492, -64.1714, -34.335, 6.6132, -33.481, 8.2266, 29.5433, -11.1685, 55.7047, 31.4169, 32.6439, -5.2953, 4.6833, 43.8789, 12.4218, -3.9878, 47.1605, -32.3675, -20.3582, -14.1428, -19.8703, -55.4385, 22.8538, -32.2637, 29.466, 10.2961, -5.2152, 54.0839, -27.5126, 17.7036, 22.6649, 17.01, -4.9507, -28.6601, 2.7017, 13.9735, 16.0748, -4.5825, -14.4839, 36.1526, -63.0595, 2.1999, -42.6681, 49.6967, 5.8379, -8.8709, 21.2678, -17.6556, 20.6493, 33.8377, -31.1305, 22.6059, -12.9131, 37.0963, -61.7738, -28.0627, 49.1366, 2.0045, 17.9486, -43.2502, 73.1649, 24.4357, 15.486, 15.4347, -24.0759, -15.585, 9.2034, -45.0168, 7.0896, -45.4257, 19.9634, 25.1703, 41.4617, -11.9253, 61.2699, -20.6792, -32.1107, -20.9484, -35.6175, -31.143, 36.1249, -2.6955, -22.08, -2.7017, 42.5758, 26.143, 21.2725, -4.5085, 16.9532, -53.6627, -34.3996, 8.5236, -21.0485, 6.1347, -106.8051, 2.3526, 7.7744, -34.4144, 5.0294, -9.009, -10.6929, 19.0457, -93.4819, 22.3636, -16.6126, 35.654, 32.9908, 60.9704, -66.0247, -18.8053, 18.3873, 26.8492, -3.7267, -33.5891, -45.1945, 8.0324, 4.7874, 2.0546, -15.3725, -59.8023, 66.0376, 15.5301, -42.5514, 19.7484, -2.7223, -16.0262, -5.4351, 9.2379, 24.47, 29.6034, 0.6944, -9.3162, -37.2841, 22.2992, 7.5377, 27.8624, 7.9445, 0.6263, -27.4512, 47.2788, 3.5144, 20.3786, 69.6701, -59.1965, -40.7095, -47.3029, -56.5173, 9.8102, -22.2597, -29.1247]\n",
      "[-19.4401, -8.3975, -31.1954, -20.0808, -20.3819, 33.5856, -10.9515, -11.0398, -2.2852, -13.9204, 6.318, 14.9999, 14.1591, 50.6806, -6.3985, 5.1734, 3.5395, -30.2262, 17.5477, -48.4802, -27.1322, -5.6846, -8.0975, 11.4587, -4.9211, -26.353, 34.5855, 27.661, -7.8538, 7.7398, -7.3395, 7.164, -15.5686, 28.5438, -3.6008, -25.0225, -9.5258, 16.7413, 1.2353, 34.9274, -2.3807, 33.6297, -0.2243, 18.0868, -33.4928, 7.5916, -6.5095, -22.9149, 4.8808, 24.3559, 2.7429, 1.7377, 11.7181, -35.8018, -13.773, 6.5564, -17.6672, -1.1303, -16.6798, -22.4581, -35.425, -8.637, -8.9789, -0.9571, -1.0747, -2.8172, 1.4755, -4.0662, 44.0658, -13.3811, 21.432, -30.2705, -16.4076, 31.4063, 14.1714, 9.1328, 18.2822, 23.1794, 12.4314, 11.6286, 1.0906, 17.5653, 41.6259, 14.7913, -27.1062, 7.7983, -49.7459, 0.2346, 18.6265, -3.1128, 12.1941, -1.3398, 8.3671, -37.1332, 13.3674, -11.7831, -16.6344, -11.3914, -2.7659, -1.8343, 5.5398, -14.9131, -14.9824, 26.2024, 2.1555, -20.5977, -28.9243, -1.1547, -14.7845, 19.0536, -12.9137, -33.6914, 8.1332, -16.1068, 11.3577, 18.7085, 10.7917, -8.001, 18.3596, -23.2355, -8.2841, -36.358, 2.8156, 12.6099, -32.714, 4.4316, -12.6295, 40.509, -23.6238, 19.1344, 5.7217, 16.5712, 13.6255, 1.9965, -15.1655, -36.3671, -34.7412, -1.4017, -28.6184, 3.2622, -41.0773, 2.0523, 11.0329, 30.4171, -5.8732, -12.7003, 7.861, 20.8824, -3.8962, 18.1948, -3.1318, 14.5105, 20.2924, 6.6611, -20.5943, 2.2101, 1.8333, -6.9169, -17.4245, -25.7898, 20.7994, 17.239, 11.8027, -13.5641, 6.2634, -9.9078, 11.4717, 1.8688, 17.756, -1.9888, 17.5824, 6.5577, -27.0287, -9.4095, -18.24, 0.4306, -10.8543, -1.1837, 2.5962, 19.0584, -8.82, 17.661, -0.9858, 2.5144, 14.37, 10.3049, -7.3039, 5.2334, -1.7006, 4.0137, -9.3664, 13.268, 5.3129, 0.5956, -7.6714, -3.6756, 19.2548, -11.2426, 11.161, -10.0722, -18.771, 31.2229, 22.1101, 12.2841, -3.7998, -14.236, 9.2575, 23.3936, -38.7545, -2.5283, 4.8915, -18.7754, -0.9015, -10.2922, -21.3196, -17.8117, -2.5764, -8.0151, 19.4007, 6.6865, -9.4849, -27.313, -24.9701, 25.186, -17.1694, -0.9311, 17.1556, 18.8713, -12.1878, 14.2704, 13.0212, 27.0279, -31.8957, 26.5913, 16.7761, -40.2851, -24.7245, -23.6075, -12.9844, -4.8609, 5.7599, 11.0983, 23.7569, 45.5117, 42.7202, 10.7611, 16.4549, 6.703, -40.105, 38.2571, -8.7014, 0.8312, -20.7401, -16.7733, 5.795, -7.3487, 6.0918, 27.2273, 0.726, -12.4489, -31.0662, 14.5746, -2.7508, 28.8535, -5.986, -2.7327, -11.1804, -17.9198, -3.593, -26.4329, 12.0016, 15.4701, -40.5559, -2.1089, 2.0222, 17.5427, 17.089, 16.4167, -43.3239, 31.423, 11.4515, -7.8025, -0.8172, 34.0183, 7.2924, 27.3335, 1.1861, -9.1122, -0.4691, -4.3048, 22.603, 18.2096, 34.3954, -25.4003, -9.4297, 12.1015, -6.3861, 2.6417, -22.027, 16.0548]\n"
     ]
    }
   ],
   "source": [
    "print([np.round(x, 4) for x in embeddings_spec2vec_query[0,:]])\n",
    "print([np.round(x, 4) for x in embeddings_spec2vec_lib[0,:]])"
   ]
  },
  {
   "cell_type": "code",
   "execution_count": 8,
   "metadata": {},
   "outputs": [],
   "source": [
    "import scipy \n",
    "\n",
    "def s2v_score(embedding_1, embedding_2):\n",
    "    \n",
    "    cdist = scipy.spatial.distance.cosine(embedding_1, embedding_2)\n",
    "    return (1-cdist)\n"
   ]
  },
  {
   "cell_type": "code",
   "execution_count": 9,
   "metadata": {},
   "outputs": [],
   "source": [
    "def get_hits(query_vector, lib_vector, documents_query, documents_lib, precursor_tol=1, metaKey='parent_mass', decoys=False, include_impossible_hits=True):\n",
    "    hits = []\n",
    "    misses = []\n",
    "    for q, v in zip( documents_query, query_vector ):\n",
    "        if metaKey not in q._obj.metadata:\n",
    "            continue\n",
    "        else:\n",
    "            found = decoys\n",
    "            scores = []\n",
    "            for l, lv in zip( documents_lib, lib_vector ):\n",
    "                if abs( q._obj.metadata[metaKey] - l._obj.metadata.get(metaKey,0.0) ) > precursor_tol:\n",
    "                    continue\n",
    "                if inchis_equal(q._obj, l._obj):\n",
    "                    found = True\n",
    "                s = s2v_score(v, lv)\n",
    "                if s != s:\n",
    "                    print('got nan for', q._obj.get('compound_name'))\n",
    "                    continue\n",
    "                scores.append((s, l))\n",
    "            # if all( s[0] == 0.0 for s in scores ):\n",
    "            #    print(q.get('compound_name'))\n",
    "            scores.sort(key=lambda x: x[0], reverse=True)\n",
    "            if not scores:\n",
    "                misses.append(q)\n",
    "                continue\n",
    "            score, target = scores[0]\n",
    "            if found:\n",
    "                if decoys:\n",
    "                    hits.append(Hit(q, target, score, 'decoy'))\n",
    "                else:\n",
    "                    hits.append(Hit(q, target, score, inchis_equal(q._obj, scores[0][1]._obj)))\n",
    "            else:\n",
    "                misses.append(q)\n",
    "                if include_impossible_hits:\n",
    "                    hits.append(Hit(q, target, score, False))\n",
    "    return hits, misses"
   ]
  },
  {
   "cell_type": "code",
   "execution_count": 10,
   "metadata": {},
   "outputs": [],
   "source": [
    "def inchis_equal(s1, s2):\n",
    "    return s1.metadata.get('inchi',\"\").split(\"/\")[:4] == s2.metadata.get('inchi', \"\").split(\"/\")[:4]\n",
    "    # return InchiToInchiKey(s1.metadata['inchi']).split('-')[0] == InchiToInchiKey(s2.metadata['inchi']).split('-')[0]\n",
    "\n",
    "from collections import namedtuple\n",
    "import numpy as np\n",
    "\n",
    "Hit = namedtuple('Hit', ['query', 'target', 'score', 'hit'])\n"
   ]
  },
  {
   "cell_type": "code",
   "execution_count": 11,
   "metadata": {},
   "outputs": [],
   "source": [
    "hits,_ = get_hits( embeddings_spec2vec_query, embeddings_spec2vec_lib, documents_query, documents_lib )\n"
   ]
  },
  {
   "cell_type": "code",
   "execution_count": null,
   "metadata": {},
   "outputs": [],
   "source": [
    "# Loading the decoy database\n",
    "pre_spectrums_decoys = pp.DecoyParserPassatuto(r'C:\\\\Users\\\\Gosia\\\\Desktop\\\\GnpsDecoyConditionalPeaks').parse_folder()\n",
    "pre_spectrums_decoys_rand = pp.DecoyParserPassatuto(r'C:\\\\Users\\\\Gosia\\\\Desktop\\\\GnpsDecoyRandomPeaks').parse_folder()"
   ]
  },
  {
   "cell_type": "code",
   "execution_count": null,
   "metadata": {},
   "outputs": [],
   "source": [
    "# Using MatchMS to create spectra decoy\n",
    "decoys = []\n",
    "for i, s in enumerate( pre_spectrums_decoys ):\n",
    "    decoys.append(as_spectrum(s))\n",
    "    if i and i % 100 == 0:\n",
    "        print('processed %d'% i)\n",
    "\n",
    "decoys_rand = []\n",
    "for i, s in enumerate( pre_spectrums_decoys_rand ):\n",
    "    decoys_rand.append(as_spectrum(s))\n",
    "    if i and i % 100 == 0:\n",
    "        print('processed %d'% i)\n"
   ]
  },
  {
   "cell_type": "code",
   "execution_count": 14,
   "metadata": {},
   "outputs": [
    {
     "name": "stderr",
     "output_type": "stream",
     "text": [
      "C:\\Users\\Gosia\\anaconda3\\envs\\fdr-metab\\lib\\site-packages\\matchms\\filtering\\normalize_intensities.py:21: RuntimeWarning: invalid value encountered in true_divide\n",
      "  normalized_intensities = intensities / max_intensity\n"
     ]
    }
   ],
   "source": [
    "\n",
    "from matchms.filtering import normalize_intensities\n",
    "from matchms.filtering import require_minimum_number_of_peaks\n",
    "from matchms.filtering import select_by_mz\n",
    "from matchms.filtering import select_by_relative_intensity\n",
    "from matchms.filtering import reduce_to_number_of_peaks\n",
    "from matchms.filtering import add_losses\n",
    "\n",
    "def post_process(s):\n",
    "    s = normalize_intensities(s)\n",
    "    s = select_by_mz(s, mz_from=0, mz_to=1000)\n",
    "    s = require_minimum_number_of_peaks(s, n_required=10)\n",
    "    s = reduce_to_number_of_peaks(s, n_required=10, ratio_desired=0.5)\n",
    "    if s is None:\n",
    "        return None\n",
    "    s_remove_low_peaks = select_by_relative_intensity(s, intensity_from=0.001)\n",
    "    if len(s_remove_low_peaks.peaks) >= 10:\n",
    "        s = s_remove_low_peaks\n",
    "        \n",
    "    s = add_losses(s, loss_mz_from=5.0, loss_mz_to=200.0)\n",
    "    return s\n",
    "\n",
    "# Spec2Vec trained model requires normalizing\n",
    "decoys = [post_process(s) for s in decoys]\n",
    "decoys_rand = [post_process(s) for s in decoys_rand]\n",
    "# omit spectrums that didn't qualify for analysis\n",
    "\n",
    "decoys = [s for s in decoys if s is not None]\n",
    "decoys_rand = [s for s in decoys_rand if s is not None]"
   ]
  },
  {
   "cell_type": "code",
   "execution_count": 15,
   "metadata": {},
   "outputs": [],
   "source": [
    "documents_decoys = [SpectrumDocument(s, n_decimals=2) for s in decoys]\n",
    "documents_decoys_rand = [SpectrumDocument(s, n_decimals=2) for s in decoys_rand]\n"
   ]
  },
  {
   "cell_type": "code",
   "execution_count": 16,
   "metadata": {},
   "outputs": [
    {
     "name": "stdout",
     "output_type": "stream",
     "text": [
      "Embedding vector size: 300\n"
     ]
    },
    {
     "data": {
      "application/vnd.jupyter.widget-view+json": {
       "model_id": "1cdfeaa721ec4cfbaf9c11598aa55818",
       "version_major": 2,
       "version_minor": 0
      },
      "text/plain": [
       "HBox(children=(HTML(value=''), FloatProgress(value=0.0, max=3439.0), HTML(value='')))"
      ]
     },
     "metadata": {},
     "output_type": "display_data"
    },
    {
     "name": "stdout",
     "output_type": "stream",
     "text": [
      "\n"
     ]
    },
    {
     "data": {
      "application/vnd.jupyter.widget-view+json": {
       "model_id": "df1748bcffef43099c2afb3b865c2afc",
       "version_major": 2,
       "version_minor": 0
      },
      "text/plain": [
       "HBox(children=(HTML(value=''), FloatProgress(value=0.0, max=3439.0), HTML(value='')))"
      ]
     },
     "metadata": {},
     "output_type": "display_data"
    },
    {
     "name": "stdout",
     "output_type": "stream",
     "text": [
      "\n"
     ]
    }
   ],
   "source": [
    "intensity_weighting_power = 0.5\n",
    "allowed_missing_percentage = 10 # specify the maximum (weighted) fraction of the spectrum that is allowed to be missing\n",
    "\n",
    "vector_size = model.vector_size\n",
    "print(f\"Embedding vector size: {vector_size}\")\n",
    "\n",
    "embeddings_spec2vec_decoys = np.zeros((len(documents_decoys), vector_size), dtype=\"float\")\n",
    "for i, doc in enumerate(tqdm(documents_decoys)):\n",
    "    embeddings_spec2vec_decoys[i, 0:vector_size] = calc_vector(model, doc,\n",
    "                                                        intensity_weighting_power,\n",
    "                                                        allowed_missing_percentage)\n",
    "embeddings_spec2vec_decoys_rand = np.zeros((len(documents_decoys_rand), vector_size), dtype=\"float\")\n",
    "for i, doc in enumerate(tqdm(documents_decoys_rand)):\n",
    "    embeddings_spec2vec_decoys_rand[i, 0:vector_size] = calc_vector(model, doc,\n",
    "                                                        intensity_weighting_power,\n",
    "                                                        allowed_missing_percentage)"
   ]
  },
  {
   "cell_type": "code",
   "execution_count": 17,
   "metadata": {},
   "outputs": [],
   "source": [
    "\n",
    "def add_pmz(specs):\n",
    "    from rdkit.Chem import MolFromSmiles, MolToSmiles, MolFromInchi\n",
    "    from rdkit.Chem.rdMolDescriptors import CalcExactMolWt, CalcMolFormula\n",
    "    for s in specs:\n",
    "        s._obj.set('precursor_mz', s._obj.get('parent_mass', 0))\n",
    "        \n",
    "add_pmz(documents_query)"
   ]
  },
  {
   "cell_type": "code",
   "execution_count": 18,
   "metadata": {},
   "outputs": [],
   "source": [
    "\n",
    "hits_decoys,missss = get_hits( embeddings_spec2vec_query, embeddings_spec2vec_decoys, documents_query, documents_decoys, precursor_tol=3,  metaKey=\"precursor_mz\", decoys=True)\n",
    "hits_decoys_rand,_ = get_hits( embeddings_spec2vec_query, embeddings_spec2vec_decoys_rand, documents_query, documents_decoys_rand, precursor_tol=3, metaKey=\"precursor_mz\", decoys=True)"
   ]
  },
  {
   "cell_type": "code",
   "execution_count": 19,
   "metadata": {},
   "outputs": [],
   "source": [
    "# Calculating true q-value scores\n",
    "from q_value_calc import calculate_q_value\n",
    "q_list_true = calculate_q_value(hits)"
   ]
  },
  {
   "cell_type": "code",
   "execution_count": 21,
   "metadata": {},
   "outputs": [
    {
     "name": "stdout",
     "output_type": "stream",
     "text": [
      "[(0, True, 0.9758500631928977), (0.0, True, 0.9729620495460636), (0.0, True, 0.9708995815093324), (0.0, True, 0.957731749534336), (0.0, True, 0.9549534996346307), (0.0, True, 0.9454393228356858), (0.0, True, 0.9431926609261765), (0.0, True, 0.9400754117799179), (0.0, True, 0.9380448697244916), (0.0, True, 0.9376780450376974), (0.0, True, 0.9351877027914685), (0.0, True, 0.9238529537911914), (0.0, True, 0.9197115729078361), (0.0, True, 0.9171202307029571), (0.0, True, 0.913192127225209), (0.0, True, 0.9124671017482033), (0.0, True, 0.9102511462661695), (0.0, True, 0.9078108965888338), (0.0, True, 0.9061537208558075), (0.0, True, 0.9040810538456545), (0.0, True, 0.9028355598216621), (0.0, True, 0.9027838420865936), (0.0, True, 0.9021131003033994), (0.0, True, 0.8969807207673839), (0.0, True, 0.8853393667833286), (0.0, True, 0.8825240884370025), (0.0, True, 0.8795129484394975), (0.0, True, 0.8762806550161997), (0.0, True, 0.8727564816865537), (0.0, True, 0.8691195987273651), (0.0, True, 0.8648969509191479), (0.0, True, 0.8628980659706288), (0.0, True, 0.8601567015384012), (0.0, True, 0.8585354393743309), (0.0, True, 0.8558823882756164), (0.0, True, 0.8554678785163011), (0.0, True, 0.8537995708729222), (0.0, False, 0.8528022250443676), (0.0, True, 0.8493046156264338), (0.0, True, 0.846858597505445), (0.0, True, 0.8442826263604959), (0.0, True, 0.8432650481015033), (0.0, True, 0.8428422987874165), (0.0, True, 0.8421278374169205), (0.0, False, 0.8352715511406704), (0.0, True, 0.8339590241526685), (0.0, True, 0.8326264096797596), (0.0, True, 0.8299240757800644), (0.0, True, 0.8290093371515247), (0.0, True, 0.818653993416175), (0.0, True, 0.8179103616949234), (0.0, True, 0.8158838921117662), (0.0, True, 0.8152359092439144), (0.0, True, 0.8088960357139142), (0.0, True, 0.8077157999114633), (0.0, True, 0.8024325112484371), (0.0, True, 0.7989295202485961), (0.0, True, 0.7959623653911648), (0.0, True, 0.7936246035540061), (0.0, True, 0.7875184911979167), (0.0, True, 0.7874864896393415), (0.0, False, 0.780468633144572), (0.0, True, 0.7799983051007581), (0.0, False, 0.7775274299296968), (0.0, True, 0.7722249466024764), (0.0, True, 0.7677199018210943), (0.0, True, 0.7644837890993047), (0.0, False, 0.7524879824044606), (0.0, True, 0.7461934784809269), (0.0, True, 0.7319475992003857), (0.0, True, 0.728558302022231), (0.0, True, 0.7226486875230693), (0.0, True, 0.7189474255142975), (0.0, True, 0.7124585656760271), (0.0, True, 0.7115958716780932), (0.0, True, 0.7097064630574432), (0.011363636363636364, 'decoy', 0.7018625286246922), (0.011363636363636364, True, 0.6986458465901684), (0.011363636363636364, True, 0.6967060916922457), (0.011363636363636364, True, 0.6723546028706446), (0.011363636363636364, True, 0.6710931566899082), (0.011363636363636364, True, 0.6679951370480975), (0.011363636363636364, True, 0.6677470247035362), (0.011363636363636364, True, 0.6635066140008201), (0.011363636363636364, True, 0.6632261596022216), (0.011363636363636364, True, 0.6632005667045928), (0.011363636363636364, True, 0.6628029427739573), (0.011363636363636364, True, 0.6389100628623035), (0.021739130434782608, 'decoy', 0.6342474732284947), (0.021739130434782608, True, 0.6320665441456378), (0.021739130434782608, True, 0.6269454175405231), (0.021739130434782608, False, 0.6251429471920946), (0.03225806451612903, 'decoy', 0.6201823324426253), (0.04040404040404041, 'decoy', 0.6193500753413437), (0.04040404040404041, True, 0.6158148497390638), (0.04040404040404041, False, 0.61483006435574), (0.04040404040404041, True, 0.6028392785314558), (0.04040404040404041, False, 0.5830128389126475), (0.04040404040404041, True, 0.5750676382972408), (0.05, 'decoy', 0.5728246077460243), (0.0594059405940594, 'decoy', 0.5570850709981755), (0.06862745098039216, 'decoy', 0.5543576003684402), (0.07692307692307693, 'decoy', 0.5515052287033816), (0.07692307692307693, True, 0.5505178076240019), (0.08571428571428572, 'decoy', 0.5350600098621986), (0.09433962264150944, 'decoy', 0.51566023455474), (0.1, 'decoy', 0.5154940867338375), (0.1, True, 0.5119343028920353), (0.1, False, 0.5054549958390732), (0.1, False, 0.505262094149795), (0.10810810810810811, 'decoy', 0.5025791321496025), (0.11607142857142858, 'decoy', 0.5004720935140753), (0.12280701754385964, 'decoy', 0.4929054774341235), (0.12280701754385964, True, 0.49094223479618737), (0.12931034482758622, 'decoy', 0.49036434636779236), (0.12931034482758622, False, 0.4896366143156554), (0.13333333333333333, 'decoy', 0.4881738067341649), (0.13333333333333333, False, 0.48636359783090755), (0.13333333333333333, True, 0.47390334104728893), (0.13333333333333333, True, 0.46782844655386135), (0.14049586776859505, 'decoy', 0.4625044870327617), (0.14754098360655737, 'decoy', 0.45519730752898524), (0.15447154471544716, 'decoy', 0.447868977622523), (0.16, 'decoy', 0.44311376280588743), (0.16, False, 0.44248263624095197), (0.16535433070866143, 'decoy', 0.4377702379067252), (0.16535433070866143, True, 0.43583372688308697), (0.171875, 'decoy', 0.43372707290305623), (0.17692307692307693, 'decoy', 0.42418013505672225), (0.17692307692307693, True, 0.41892060135191767), (0.183206106870229, 'decoy', 0.4186768047467747), (0.1893939393939394, 'decoy', 0.4033002820954954), (0.19548872180451127, 'decoy', 0.3959896653008119), (0.20149253731343283, 'decoy', 0.39587766488795895), (0.2074074074074074, 'decoy', 0.3956107512681908), (0.21323529411764705, 'decoy', 0.3936551352088411), (0.21897810218978103, 'decoy', 0.39239695678920894), (0.22302158273381295, 'decoy', 0.38641453259806535), (0.22302158273381295, False, 0.3863171276557096), (0.22857142857142856, 'decoy', 0.3840129378311903), (0.23404255319148937, 'decoy', 0.37875038877667744), (0.23943661971830985, 'decoy', 0.37474657732099526), (0.24475524475524477, 'decoy', 0.3734972287996956), (0.2482758620689655, 'decoy', 0.37278567598920886), (0.2482758620689655, False, 0.37254799849609044), (0.2534246575342466, 'decoy', 0.3700006282902073), (0.25675675675675674, 'decoy', 0.36943924310502807), (0.25675675675675674, True, 0.3674666247854208), (0.26174496644295303, 'decoy', 0.36727356721554205), (0.26666666666666666, 'decoy', 0.3665968761573024), (0.271523178807947, 'decoy', 0.3604931539567938), (0.27631578947368424, 'decoy', 0.35907599646636656), (0.28104575163398693, 'decoy', 0.35729217384617773), (0.2857142857142857, 'decoy', 0.35518010815962564), (0.2903225806451613, 'decoy', 0.3543928451068874), (0.2948717948717949, 'decoy', 0.35244709250462836), (0.29936305732484075, 'decoy', 0.3517310041197407), (0.3037974683544304, 'decoy', 0.350616452608543), (0.30434782608695654, 'decoy', 0.34872597989862), (0.30434782608695654, True, 0.34595887987795537), (0.30434782608695654, True, 0.3440104578631318), (0.30864197530864196, 'decoy', 0.34292714000133584), (0.31097560975609756, 'decoy', 0.3406499079455635), (0.31097560975609756, False, 0.34062651016103884), (0.3151515151515151, 'decoy', 0.34050059485386874), (0.3192771084337349, 'decoy', 0.3399080351243551), (0.32335329341317365, 'decoy', 0.3397914714287822), (0.3273809523809524, 'decoy', 0.3369295128028369), (0.33136094674556216, 'decoy', 0.33681638468543773), (0.3352941176470588, 'decoy', 0.33504110578432234), (0.3391812865497076, 'decoy', 0.3347232635451578), (0.34285714285714286, 'decoy', 0.3346565935021548), (0.34285714285714286, 'decoy', 0.33287395687301913), (0.34285714285714286, True, 0.3308590854313881), (0.34285714285714286, False, 0.33000229136812564), (0.34615384615384615, 'decoy', 0.3262779392118107), (0.34615384615384615, 'decoy', 0.32503613251504127), (0.34615384615384615, False, 0.3248703271057183), (0.34615384615384615, False, 0.3220294728922789), (0.34615384615384615, 'decoy', 0.3213562222364612), (0.34615384615384615, False, 0.3212672703888588), (0.34615384615384615, True, 0.32070923138515695), (0.34782608695652173, 'decoy', 0.32058317563963534), (0.34782608695652173, False, 0.3192848453844037), (0.35135135135135137, 'decoy', 0.3181139151536345), (0.3548387096774194, 'decoy', 0.3180464161505324), (0.3582887700534759, 'decoy', 0.31782669894054316), (0.3612565445026178, 'decoy', 0.31489411866706585), (0.3612565445026178, 'decoy', 0.31473828689658734), (0.3612565445026178, False, 0.3097291465379488), (0.3612565445026178, False, 0.3086299739734544), (0.3645833333333333, 'decoy', 0.30804664385295477), (0.36787564766839376, 'decoy', 0.3074712987294217), (0.37055837563451777, 'decoy', 0.30626360921528273), (0.37055837563451777, 'decoy', 0.3044505996834146), (0.37055837563451777, False, 0.3037934206202004), (0.37055837563451777, False, 0.30086981204368124), (0.37185929648241206, 'decoy', 0.2930257414525801), (0.37185929648241206, False, 0.28868678125115), (0.375, 'decoy', 0.2874020798968938), (0.3781094527363184, 'decoy', 0.2849783721128838), (0.3811881188118812, 'decoy', 0.2821178384209784), (0.3842364532019704, 'decoy', 0.28121164687428757), (0.3853658536585366, 'decoy', 0.28003845914936065), (0.3853658536585366, False, 0.27959973381767433), (0.3883495145631068, 'decoy', 0.2777244439329173), (0.3891402714932127, 'decoy', 0.27656540284626074), (0.3891402714932127, 'decoy', 0.27471199024656145), (0.3891402714932127, False, 0.27458166322326494), (0.3891402714932127, False, 0.273367702474569), (0.3891402714932127, 'decoy', 0.27293822603973483), (0.3891402714932127, False, 0.271657206458215), (0.3891402714932127, 'decoy', 0.2710628608746193), (0.3891402714932127, False, 0.2700856658881412), (0.3891402714932127, 'decoy', 0.26977371982619136), (0.3891402714932127, False, 0.2675805953483641), (0.3891402714932127, False, 0.2599073430597074), (0.3891402714932127, 'decoy', 0.2577934515282918), (0.3891402714932127, False, 0.2575410952417895), (0.3891402714932127, False, 0.25739863477565705), (0.3891402714932127, False, 0.25604651729560235), (0.3918918918918919, 'decoy', 0.2546709032842327), (0.39461883408071746, 'decoy', 0.25378411561653214), (0.39732142857142855, 'decoy', 0.2516104755899813), (0.39823008849557523, 'decoy', 0.25122822063808814), (0.39823008849557523, False, 0.24869074573828942), (0.4008810572687225, 'decoy', 0.24806273276032864), (0.40350877192982454, 'decoy', 0.2478624245441342), (0.40611353711790393, 'decoy', 0.24760924387732264), (0.40869565217391307, 'decoy', 0.24598937666465137), (0.41125541125541126, 'decoy', 0.24410985988692246), (0.41379310344827586, 'decoy', 0.24357400920725847), (0.41630901287553645, 'decoy', 0.2431212181114426), (0.4186991869918699, 'decoy', 0.24193136184374964), (0.4186991869918699, 'decoy', 0.24101123422377535), (0.4186991869918699, 'decoy', 0.24090424855523063), (0.4186991869918699, 'decoy', 0.24057305222172132), (0.4186991869918699, 'decoy', 0.24037791168548828), (0.4186991869918699, False, 0.2394746693561699), (0.4186991869918699, False, 0.23885148292505654), (0.4186991869918699, False, 0.2388454081935909), (0.4186991869918699, 'decoy', 0.23812066832666878), (0.4186991869918699, False, 0.23763217039109885), (0.4186991869918699, False, 0.23696858838524282), (0.4186991869918699, False, 0.23562863662921463), (0.4186991869918699, False, 0.23486187636515776), (0.41935483870967744, 'decoy', 0.23460743989923105), (0.41935483870967744, False, 0.2335376640315543), (0.42, 'decoy', 0.23341199137215163), (0.42, False, 0.23292609275546472), (0.42231075697211157, 'decoy', 0.2317411095767523), (0.4246031746031746, 'decoy', 0.23096998590629403), (0.4268774703557312, 'decoy', 0.23078127844784013), (0.42913385826771655, 'decoy', 0.22974471893495174), (0.43137254901960786, 'decoy', 0.22950949393817166), (0.43359375, 'decoy', 0.2274998208456822), (0.4357976653696498, 'decoy', 0.22703282209259967), (0.437984496124031, 'decoy', 0.22662651851392768), (0.43846153846153846, 'decoy', 0.22536795592161007), (0.43846153846153846, False, 0.22527578176507868), (0.4402730375426621, 'decoy', 0.22502973744232846), (0.4402730375426621, 'decoy', 0.22470443781050764), (0.4402730375426621, 'decoy', 0.22412474528438742), (0.4402730375426621, False, 0.2232106363697952), (0.4402730375426621, False, 0.222973005870863), (0.4402730375426621, 'decoy', 0.22246133021974157), (0.4402730375426621, False, 0.2219983193149564), (0.4402730375426621, False, 0.22155804789534073), (0.4402730375426621, 'decoy', 0.22035638109187006), (0.4402730375426621, False, 0.22002749362109886), (0.4402730375426621, 'decoy', 0.21979348699142742), (0.4402730375426621, 'decoy', 0.21935203943443315), (0.4402730375426621, 'decoy', 0.21869788789845557), (0.4402730375426621, 'decoy', 0.2172728213101366), (0.4402730375426621, False, 0.21422698740463908), (0.4402730375426621, 'decoy', 0.21360236770773366), (0.4402730375426621, False, 0.21360040740628394), (0.4402730375426621, False, 0.21329030057852305), (0.4402730375426621, False, 0.21317679409482038), (0.4402730375426621, False, 0.2126412925373533), (0.4402730375426621, 'decoy', 0.2125295588701126), (0.4402730375426621, False, 0.211225876354457), (0.4402730375426621, False, 0.2081831525787674), (0.4402730375426621, 'decoy', 0.20812198614437805), (0.4402730375426621, False, 0.2077514772810789), (0.4402730375426621, False, 0.20662523551071466), (0.4402730375426621, 'decoy', 0.204318689449007), (0.4402730375426621, 'decoy', 0.20405649099734058), (0.4402730375426621, False, 0.2036700175653242), (0.4402730375426621, False, 0.2036240618120223), (0.4402730375426621, 'decoy', 0.20358425124809443), (0.4402730375426621, False, 0.20306759806486963), (0.4402730375426621, False, 0.20081786610897656), (0.4421768707482993, 'decoy', 0.20063008973670404), (0.4440677966101695, 'decoy', 0.20046416607347095), (0.4444444444444444, 'decoy', 0.19992470881054558), (0.4444444444444444, False, 0.19892822916499964), (0.44481605351170567, 'decoy', 0.1973286921403633), (0.44481605351170567, False, 0.19668892154903572), (0.44660194174757284, 'decoy', 0.1963964511896037), (0.44660194174757284, 'decoy', 0.19612210226803628), (0.44660194174757284, False, 0.19546256566114473), (0.44660194174757284, 'decoy', 0.19478705949882735), (0.44660194174757284, 'decoy', 0.194277661714933), (0.44660194174757284, 'decoy', 0.19348768868597277), (0.44660194174757284, False, 0.19192850479282586), (0.44660194174757284, False, 0.19177096028720986), (0.44660194174757284, False, 0.19164583250037004), (0.44660194174757284, False, 0.19155173865374664), (0.4483870967741935, 'decoy', 0.19097102755169937), (0.44904458598726116, 'decoy', 0.1906668005795168), (0.44904458598726116, 'decoy', 0.1906643007073121), (0.44904458598726116, False, 0.1892241596892701), (0.44904458598726116, False, 0.18813418581281138), (0.4507936507936508, 'decoy', 0.18790893094210492), (0.45110410094637227, 'decoy', 0.18605327683351702), (0.45110410094637227, False, 0.18425477260520984), (0.4528301886792453, 'decoy', 0.18376511683984353), (0.45454545454545453, 'decoy', 0.18375608217186112), (0.45625, 'decoy', 0.1834009363311534), (0.45794392523364486, 'decoy', 0.18325329520191946), (0.45962732919254656, 'decoy', 0.18284203265656984), (0.4613003095975232, 'decoy', 0.18209101751283296), (0.4617737003058104, 'decoy', 0.1817803219497902), (0.4617737003058104, 'decoy', 0.18075238316121267), (0.4617737003058104, False, 0.18046058524566067), (0.4617737003058104, False, 0.18023131199412834), (0.4634146341463415, 'decoy', 0.17997544063723314), (0.46504559270516715, 'decoy', 0.17886656221584907), (0.4652567975830816, 'decoy', 0.17864298476068186), (0.4652567975830816, False, 0.17852291453642577), (0.46546546546546547, 'decoy', 0.1782170637666246), (0.46546546546546547, False, 0.17793798025552343), (0.46706586826347307, 'decoy', 0.17761953482616888), (0.46726190476190477, 'decoy', 0.17739951784023944), (0.46726190476190477, False, 0.17729941589379083), (0.4688427299703264, 'decoy', 0.17719445849024784), (0.4690265486725664, 'decoy', 0.17571665492933097), (0.4690265486725664, False, 0.17511794976633788), (0.47058823529411764, 'decoy', 0.17423821088450675), (0.47214076246334313, 'decoy', 0.17380482388282126), (0.47368421052631576, 'decoy', 0.17367752692882032), (0.4752186588921283, 'decoy', 0.17348056733489214), (0.4755043227665706, 'decoy', 0.17323560494611745), (0.4755043227665706, 'decoy', 0.17291628254732416), (0.4755043227665706, False, 0.17270711895754098), (0.4755043227665706, False, 0.1725683329328258), (0.47701149425287354, 'decoy', 0.17246627100468004), (0.47714285714285715, 'decoy', 0.171913468256929), (0.47714285714285715, False, 0.17186316114918987), (0.4779220779220779, 'decoy', 0.171477525478681), (0.4779220779220779, 'decoy', 0.17145043286467687), (0.4779220779220779, 'decoy', 0.17139649860164508), (0.4779220779220779, 'decoy', 0.17124501867783992), (0.4779220779220779, False, 0.17079355488118608), (0.4779220779220779, False, 0.1703337771272151), (0.4779220779220779, False, 0.16986786952255195), (0.4779220779220779, 'decoy', 0.16967285964233692), (0.4779220779220779, False, 0.16944226344896196), (0.4779220779220779, 'decoy', 0.16896450761655657), (0.4779220779220779, 'decoy', 0.168543586292645), (0.4779220779220779, 'decoy', 0.16848065568287907), (0.4779220779220779, False, 0.1680648188564151), (0.4779220779220779, 'decoy', 0.16759760339232654), (0.4779220779220779, 'decoy', 0.16757415751090088), (0.4779220779220779, 'decoy', 0.16697554427828853), (0.4779220779220779, False, 0.16687737337979058), (0.4779220779220779, False, 0.16672843882230615), (0.4779220779220779, 'decoy', 0.16658175633922467), (0.4779220779220779, 'decoy', 0.16645413159946687), (0.4779220779220779, False, 0.16641940349275708), (0.4779220779220779, False, 0.16613406650627027), (0.4779220779220779, False, 0.16594619686880285), (0.4779220779220779, False, 0.1654873197824649), (0.4779220779220779, 'decoy', 0.16499002192146472), (0.4779220779220779, False, 0.16495214294349025), (0.4779220779220779, 'decoy', 0.16486400446490546), (0.4779220779220779, 'decoy', 0.16444946540241867), (0.4779220779220779, 'decoy', 0.16440845771645596), (0.4779220779220779, False, 0.16267425621513243), (0.4779220779220779, False, 0.1625229396077046), (0.4779220779220779, False, 0.16233370039278505), (0.4779220779220779, False, 0.16231642876065722), (0.4779220779220779, False, 0.16230563438541623), (0.4779220779220779, False, 0.16215081774150375), (0.4782608695652174, 'decoy', 0.1621476203119785), (0.4782608695652174, 'decoy', 0.161863140518403), (0.4782608695652174, False, 0.16175474421986713), (0.4782608695652174, 'decoy', 0.16125685980320337), (0.4782608695652174, False, 0.1607820264444918), (0.4782608695652174, False, 0.1607314360499501), (0.47890818858560796, 'decoy', 0.1602734427391208), (0.47890818858560796, 'decoy', 0.16024197589120326), (0.47890818858560796, False, 0.15979722200047586), (0.47890818858560796, 'decoy', 0.15975695176516158), (0.47890818858560796, 'decoy', 0.15973755511282595), (0.47890818858560796, False, 0.1594509235575028), (0.47890818858560796, 'decoy', 0.15939761876086989), (0.47890818858560796, False, 0.15849132650369757), (0.47890818858560796, False, 0.15837209764298987), (0.47890818858560796, 'decoy', 0.1581057685504227), (0.47890818858560796, False, 0.15779096718804952), (0.47890818858560796, False, 0.1576716909209176), (0.4794188861985472, 'decoy', 0.1575616248716296), (0.4794188861985472, 'decoy', 0.15722063087194715), (0.4794188861985472, False, 0.1570082216157077), (0.4794188861985472, 'decoy', 0.15698734990562402), (0.4794188861985472, False, 0.15653801480297203), (0.4794188861985472, 'decoy', 0.15604218621107546), (0.4794188861985472, False, 0.1557378876054647), (0.4794188861985472, 'decoy', 0.15537890106001728), (0.4794188861985472, False, 0.15524893165487796), (0.4794188861985472, False, 0.15512389331250243), (0.4806763285024155, 'decoy', 0.15488436191482546), (0.4807692307692308, 'decoy', 0.15386216533447916), (0.4807692307692308, False, 0.15383535787766967), (0.48201438848920863, 'decoy', 0.15369987441945587), (0.48325358851674644, 'decoy', 0.1533612129579972), (0.48333333333333334, 'decoy', 0.1533332704043674), (0.48333333333333334, False, 0.15328139915859296), (0.4845605700712589, 'decoy', 0.1530779660514573), (0.48578199052132703, 'decoy', 0.1528004882284002), (0.4858490566037736, 'decoy', 0.15264571767139368), (0.4858490566037736, False, 0.1523373455520891), (0.48705882352941177, 'decoy', 0.1520413348537919), (0.48711943793911006, 'decoy', 0.15151881087512642), (0.48711943793911006, False, 0.15135060070140316), (0.4883177570093458, 'decoy', 0.15124250605097322), (0.48951048951048953, 'decoy', 0.15083964831965546), (0.4895591647331787, 'decoy', 0.15033428094519619), (0.4895591647331787, False, 0.14987930805734717), (0.49074074074074076, 'decoy', 0.14981093919294008), (0.49191685912240185, 'decoy', 0.14945035330226153), (0.49195402298850577, 'decoy', 0.14863173734660362), (0.49195402298850577, False, 0.14858000698076035), (0.49311926605504586, 'decoy', 0.14855299931727184), (0.494279176201373, 'decoy', 0.14846007013157547), (0.4943310657596372, 'decoy', 0.1482995957359463), (0.4943310657596372, 'decoy', 0.14809330826989742), (0.4943310657596372, False, 0.14774179653313546), (0.4943310657596372, False, 0.14763326661796627), (0.49547511312217196, 'decoy', 0.1474272331860773), (0.4965034965034965, 'decoy', 0.14711573782889786), (0.4965034965034965, 'decoy', 0.1463242036958472), (0.4965034965034965, 'decoy', 0.1459191284762943), (0.4965034965034965, 'decoy', 0.14517038499972257), (0.4965034965034965, False, 0.14500813529090417), (0.4965034965034965, 'decoy', 0.1446266329538719), (0.4965034965034965, 'decoy', 0.14408181891989302), (0.4965034965034965, 'decoy', 0.14380255135386177), (0.4965034965034965, 'decoy', 0.1437020540031978), (0.4965034965034965, False, 0.14295329458411188), (0.4965034965034965, 'decoy', 0.14273250982764474), (0.4965034965034965, 'decoy', 0.14272516456539996), (0.4965034965034965, 'decoy', 0.1424906105934277), (0.4965034965034965, 'decoy', 0.14209378750140067), (0.4965034965034965, False, 0.14199865805542178), (0.4965034965034965, 'decoy', 0.1416740229969805), (0.4965034965034965, False, 0.1414391589700511), (0.4965034965034965, False, 0.14124165833926283), (0.4965034965034965, False, 0.14119440076622114), (0.4965034965034965, 'decoy', 0.14111421465959817), (0.4965034965034965, False, 0.14080493792061044), (0.4965034965034965, 'decoy', 0.14025345346311058), (0.4965034965034965, False, 0.1395654993593931), (0.4965034965034965, 'decoy', 0.13934914223181305), (0.4965034965034965, 'decoy', 0.13927113982071537), (0.4965034965034965, 'decoy', 0.13845544343925553), (0.4965034965034965, False, 0.13811189609455798), (0.4965034965034965, False, 0.13749825127853899), (0.4965034965034965, 'decoy', 0.13745409839899914), (0.4965034965034965, 'decoy', 0.13729470217889372), (0.4965034965034965, 'decoy', 0.13725343031490922), (0.4965034965034965, 'decoy', 0.13696646020923176), (0.4965034965034965, False, 0.13611771271567652), (0.4965034965034965, False, 0.13609193327577818), (0.4965034965034965, 'decoy', 0.1360340097507987), (0.4965034965034965, 'decoy', 0.13592855905764423), (0.4965034965034965, 'decoy', 0.13528594156401108), (0.4965034965034965, 'decoy', 0.13525245489588245), (0.4965034965034965, 'decoy', 0.13518205626366941), (0.4965034965034965, 'decoy', 0.135045256965734), (0.4965034965034965, False, 0.13498939889447037), (0.4965034965034965, 'decoy', 0.13493476240972402), (0.4965034965034965, 'decoy', 0.13471000611266315), (0.4965034965034965, False, 0.13442272709263958), (0.4965034965034965, False, 0.13441766573282776), (0.4965034965034965, 'decoy', 0.13440430032907913), (0.4965034965034965, 'decoy', 0.13438596528273716), (0.4965034965034965, 'decoy', 0.134376792588069), (0.4965034965034965, 'decoy', 0.13429601813705805), (0.4965034965034965, 'decoy', 0.13427763548205318), (0.4965034965034965, False, 0.13382364942448088), (0.4965034965034965, 'decoy', 0.13374642181416774), (0.4965034965034965, 'decoy', 0.13338967886514175), (0.4965034965034965, 'decoy', 0.13261533585483454), (0.4965034965034965, 'decoy', 0.13195607300400036), (0.4965034965034965, 'decoy', 0.13193256968527844), (0.4965034965034965, False, 0.1317229162292316), (0.4965034965034965, 'decoy', 0.13106855677301987), (0.4965034965034965, 'decoy', 0.13071763156125016), (0.4965034965034965, 'decoy', 0.13044662082323244), (0.4965034965034965, False, 0.13029589840146505), (0.4965034965034965, 'decoy', 0.1302655918051684), (0.4965034965034965, False, 0.130015799703601), (0.4965034965034965, 'decoy', 0.12999322019565973), (0.4965034965034965, False, 0.12981772373736122), (0.4965034965034965, False, 0.12937228223017283), (0.4965034965034965, False, 0.1292801532038481), (0.4965034965034965, False, 0.12913240138189563), (0.4965034965034965, 'decoy', 0.12912788752291027), (0.4965034965034965, 'decoy', 0.12909901412149138), (0.4965034965034965, 'decoy', 0.1288070795553068), (0.4965034965034965, 'decoy', 0.12876706628513868), (0.4965034965034965, False, 0.12859677286893567), (0.4965034965034965, 'decoy', 0.12767162625649442), (0.4965034965034965, False, 0.12765428026194392), (0.4965034965034965, 'decoy', 0.12698414126894808), (0.4965034965034965, 'decoy', 0.1266236267402978), (0.4965034965034965, False, 0.12644440259349599), (0.4965034965034965, False, 0.1263809929046773), (0.4965034965034965, 'decoy', 0.12596449451346547), (0.4965034965034965, False, 0.12581055012069364), (0.4965034965034965, 'decoy', 0.12543433349714683), (0.4965034965034965, 'decoy', 0.1244510549457647), (0.4965034965034965, False, 0.12411821781324117), (0.4965034965034965, False, 0.12393023690869442), (0.4965034965034965, False, 0.12376069568166448), (0.4965034965034965, 'decoy', 0.12316102607837942), (0.4965034965034965, False, 0.12276970377319885), (0.4965034965034965, 'decoy', 0.12237347472313442), (0.4965034965034965, 'decoy', 0.1222971499619051), (0.4965034965034965, False, 0.12222235588179342), (0.4965034965034965, False, 0.12209144042464715), (0.4965034965034965, 'decoy', 0.12170442476285948), (0.4965034965034965, False, 0.12142506366738626), (0.4965034965034965, 'decoy', 0.1205761755304624), (0.4965034965034965, False, 0.1205072622862271), (0.4965034965034965, 'decoy', 0.1204091212120677), (0.4965034965034965, False, 0.12029228446512319), (0.4965034965034965, False, 0.12020843344785004), (0.4965034965034965, 'decoy', 0.11981257413057755), (0.4965034965034965, False, 0.11950652337828416), (0.4965034965034965, False, 0.11941633341628044), (0.4965034965034965, 'decoy', 0.11934762164217227), (0.4965034965034965, 'decoy', 0.11914234520991285), (0.4965034965034965, 'decoy', 0.11902164265695248), (0.4965034965034965, 'decoy', 0.11896328058284666), (0.4965034965034965, False, 0.1187746481134605), (0.4965034965034965, False, 0.11843171710080747), (0.4965034965034965, False, 0.11830731767955749), (0.4965034965034965, 'decoy', 0.11793333532525829), (0.4965034965034965, 'decoy', 0.11752499693678631), (0.4965034965034965, False, 0.1174616959239495), (0.4965034965034965, 'decoy', 0.11721966735567124), (0.4965034965034965, False, 0.11721583282446235), (0.4965034965034965, 'decoy', 0.1171206709617989), (0.4965034965034965, False, 0.11698884320954162), (0.4965034965034965, False, 0.11629527605881862), (0.4965034965034965, False, 0.11615379589608632), (0.4965034965034965, False, 0.11612083278593988), (0.4965034965034965, False, 0.11584899171164464), (0.4965034965034965, False, 0.11479803759831164), (0.4965034965034965, False, 0.11405570295079148), (0.4965034965034965, 'decoy', 0.1135969718814267), (0.4965034965034965, False, 0.11350218013416091), (0.4965034965034965, False, 0.11238670925114258), (0.4965034965034965, False, 0.1122325093813672), (0.4965034965034965, 'decoy', 0.11210746551630413), (0.4965034965034965, True, 0.11114983101535958), (0.4965034965034965, 'decoy', 0.11079574147986604), (0.4965034965034965, 'decoy', 0.11073608186434081), (0.4965034965034965, False, 0.11062436478064053), (0.4965034965034965, 'decoy', 0.1099737914264477), (0.4965034965034965, False, 0.10968016586293594), (0.4965034965034965, 'decoy', 0.10897091000057013), (0.4965034965034965, False, 0.10888638778915838), (0.4965034965034965, False, 0.10862570146722395), (0.4965034965034965, 'decoy', 0.10777681931330751), (0.4965034965034965, 'decoy', 0.10747015104429991), (0.4965034965034965, 'decoy', 0.1067560865659345), (0.4965034965034965, 'decoy', 0.10662588117705463), (0.4965034965034965, 'decoy', 0.1065183442308425), (0.4965034965034965, False, 0.10640718468239296), (0.4965034965034965, False, 0.1049921649135469), (0.4965034965034965, 'decoy', 0.10459820828973454), (0.4965034965034965, False, 0.10451354185930406), (0.4965034965034965, False, 0.10412413157347344), (0.4965034965034965, False, 0.10373432153782303), (0.4965034965034965, False, 0.10349634937908792), (0.4965034965034965, 'decoy', 0.10336450576534495), (0.4965034965034965, False, 0.10302448096355787), (0.4965034965034965, 'decoy', 0.10297806664336906), (0.4965034965034965, 'decoy', 0.10294373854454086), (0.4965034965034965, 'decoy', 0.10275129135340011), (0.4965034965034965, 'decoy', 0.10262135773997672), (0.4965034965034965, False, 0.10198346075724307), (0.4965034965034965, False, 0.10074001438093916), (0.4965034965034965, 'decoy', 0.10059512759401912), (0.4965034965034965, False, 0.10056882998452099), (0.4965034965034965, False, 0.09915663551235565), (0.4965034965034965, 'decoy', 0.09905639303323155), (0.4965034965034965, False, 0.09895454572825046), (0.4965034965034965, False, 0.09846865781732295), (0.4965034965034965, 'decoy', 0.09836087478662559), (0.4965034965034965, 'decoy', 0.09831731031709223), (0.4965034965034965, 'decoy', 0.09822950118883977), (0.4965034965034965, 'decoy', 0.09786058782120977), (0.4965034965034965, False, 0.09727851274296873), (0.4965034965034965, 'decoy', 0.09664450222783194), (0.4965034965034965, 'decoy', 0.0966202486004224), (0.4965034965034965, 'decoy', 0.09659124543429187), (0.4965034965034965, 'decoy', 0.09648710989840592), (0.4965034965034965, False, 0.09608280686680448), (0.4965034965034965, False, 0.09574464109350012), (0.4965034965034965, False, 0.09557612636691326), (0.4965034965034965, False, 0.09491387488620773), (0.4965034965034965, False, 0.0942873693430778), (0.4965034965034965, 'decoy', 0.09414723126988733), (0.4965034965034965, 'decoy', 0.09402114789367444), (0.4965034965034965, 'decoy', 0.09342616104359269), (0.4965034965034965, 'decoy', 0.09310395793721693), (0.4965034965034965, False, 0.09291324674549917), (0.4965034965034965, 'decoy', 0.09255580331694802), (0.4965034965034965, False, 0.09224846121167629), (0.4965034965034965, 'decoy', 0.09197657923596869), (0.4965034965034965, 'decoy', 0.09094794083697177), (0.4965034965034965, False, 0.08972697676366437), (0.4965034965034965, 'decoy', 0.08954275105983267), (0.4965034965034965, False, 0.08837639012958354), (0.4965034965034965, False, 0.08745603657924361), (0.4965034965034965, 'decoy', 0.08738842813467929), (0.4965034965034965, False, 0.08732950803560557), (0.4965034965034965, 'decoy', 0.08718001228850403), (0.4965034965034965, False, 0.08625295367263686), (0.4965034965034965, False, 0.08601327864272257), (0.4965034965034965, False, 0.08491268825805287), (0.4965034965034965, 'decoy', 0.08453054713987929), (0.4965034965034965, 'decoy', 0.08381246532222153), (0.4965034965034965, False, 0.0830002205079321), (0.4965034965034965, 'decoy', 0.08287450745204417), (0.4965034965034965, False, 0.08208400533752169), (0.4965034965034965, False, 0.08156008321592512), (0.4965034965034965, False, 0.08122014837576785), (0.4965034965034965, 'decoy', 0.08116632910116373), (0.4965034965034965, 'decoy', 0.08107879089048908), (0.4965034965034965, 'decoy', 0.08106287326564876), (0.4965034965034965, 'decoy', 0.08035502588277121), (0.4965034965034965, 'decoy', 0.07868686065259156), (0.4965034965034965, 'decoy', 0.07856466269984796), (0.4965034965034965, 'decoy', 0.07678117429592268), (0.4965034965034965, False, 0.07664256051499097), (0.4965034965034965, 'decoy', 0.07660109805602289), (0.4965034965034965, False, 0.07638810944678565), (0.4965034965034965, False, 0.07479317880361513), (0.4965034965034965, False, 0.07425661346492485), (0.4965034965034965, False, 0.07212567865394981), (0.4965034965034965, False, 0.0719057011609543), (0.4965034965034965, 'decoy', 0.07051692562750722), (0.4965034965034965, False, 0.07020616167488569), (0.4965034965034965, False, 0.06902013853241595), (0.4965034965034965, 'decoy', 0.0688325513007173), (0.4965034965034965, False, 0.06676845702645073), (0.4965034965034965, False, 0.06665683049352922), (0.4965034965034965, False, 0.06567897139404866), (0.4965034965034965, True, 0.06501933833839857), (0.4965034965034965, 'decoy', 0.0648404050777629), (0.4965034965034965, False, 0.06406102925428414), (0.4965034965034965, False, 0.06243577041019999), (0.4965034965034965, False, 0.06163406815770367), (0.4965034965034965, False, 0.06110662208649176), (0.4965034965034965, False, 0.060441956389772344), (0.4965034965034965, 'decoy', 0.059950644256015706), (0.4965034965034965, 'decoy', 0.059908951209687644), (0.4965034965034965, False, 0.05955568757600693), (0.4965034965034965, 'decoy', 0.059071921725499354), (0.4965034965034965, False, 0.05896498783648485), (0.4965034965034965, 'decoy', 0.0588836542989174), (0.4965034965034965, False, 0.057969903816190715), (0.4965034965034965, False, 0.05640034691305573), (0.4965034965034965, False, 0.05598062277971738), (0.4965034965034965, False, 0.05507673139114344), (0.4965034965034965, 'decoy', 0.054628563111466355), (0.4965034965034965, False, 0.054586247229771456), (0.4965034965034965, False, 0.05347699545507745), (0.4965034965034965, 'decoy', 0.05148792646129263), (0.4965034965034965, 'decoy', 0.050701782942616735), (0.4965034965034965, False, 0.04970264969117444), (0.4965034965034965, 'decoy', 0.0481894009913737), (0.4965034965034965, False, 0.04609820637147921), (0.4965034965034965, 'decoy', 0.04546852755613895), (0.4965034965034965, 'decoy', 0.0450761166957252), (0.4965034965034965, False, 0.04473671310517524), (0.4965034965034965, 'decoy', 0.04347491636460599), (0.4965034965034965, False, 0.0420056142524019), (0.4965034965034965, False, 0.036114031478813424), (0.4965034965034965, False, 0.033973415779630534), (0.4965034965034965, 'decoy', 0.02672774287133839), (0.4965034965034965, False, 0.02670505953721758), (0.4965034965034965, False, 0.02447911717411555), (0.4965034965034965, False, 0.021871842837272615), (0.4965034965034965, False, 0.019135352084113988), (0.4965034965034965, False, 0.017783644356276218), (0.4965034965034965, False, 0.011810936875107036), (0.4965034965034965, 'decoy', 0.01133837209305455), (0.4965034965034965, False, 0.010337544653759245), (0.4965034965034965, False, 0.007902983537818487), (0.4965034965034965, False, 0.003959120743156186), (0.4965034965034965, False, 0.0022130090388198242), (0.4965034965034965, 'decoy', 0.00013435768818004235), (0.4965034965034965, False, -0.0010121512824163847), (0.4965034965034965, False, -0.0024085843327861234), (0.4965034965034965, 'decoy', -0.005565582456010132), (0.4965034965034965, False, -0.014199780181342492), (0.4965034965034965, False, -0.016403395549794197), (0.4972067039106145, 'decoy', -0.019953094807674265), (0.4972144846796657, 'decoy', -0.05219967077052412), (0.4972144846796657, False, -0.06786593456857704), (0.49791376912378305, 'decoy', -0.08229688592336704), (0.49791955617198336, 'decoy', -0.13883346506366778), (0.49791955617198336, False, -0.14487814487185924)]\n"
     ]
    }
   ],
   "source": [
    "# Calculating estimated q-value scores\n",
    "q_list_estimated = calculate_q_value(hits+hits_decoys,True)\n",
    "q_list_estimated_rand = calculate_q_value(hits+hits_decoys_rand,True)\n",
    "print(q_list_estimated)"
   ]
  },
  {
   "cell_type": "code",
   "execution_count": 22,
   "metadata": {},
   "outputs": [
    {
     "data": {
      "image/png": "[encoded data removed]",
      "text/plain": [
       "<Figure size 576x432 with 1 Axes>"
      ]
     },
     "metadata": {
      "needs_background": "light"
     },
     "output_type": "display_data"
    }
   ],
   "source": [
    "# plot estimated and true q-values\n",
    "def combine_true_est(q_val_true,q_val_est):\n",
    "    res = []\n",
    "    q_idx = 0\n",
    "    for q_e, _, score in q_val_est:\n",
    "        while q_idx < len(q_val_true)-1 and q_val_true[q_idx+1][2] >= score:\n",
    "            q_idx += 1\n",
    "        res.append((score, q_val_true[q_idx][0], q_e))\n",
    "    return res\n",
    "        \n",
    "scores, trues, estimateds = zip(*combine_true_est(q_list_true, q_list_estimated))\n",
    "scores_rand, trues_rand, estimateds_rand = zip(*combine_true_est(q_list_true, q_list_estimated_rand))\n",
    "\n",
    "import plot_q_vals\n",
    "plot_q_vals.plot_q_vals( {'contiditonal':(trues,estimateds), 'random':(trues_rand,estimateds_rand)} )"
   ]
  }
 ],
 "metadata": {
  "kernelspec": {
   "display_name": "Python 3",
   "language": "python",
   "name": "python3"
  },
  "language_info": {
   "codemirror_mode": {
    "name": "ipython",
    "version": 3
   },
   "file_extension": ".py",
   "mimetype": "text/x-python",
   "name": "python",
   "nbconvert_exporter": "python",
   "pygments_lexer": "ipython3",
   "version": "3.8.5"
  }
 },
 "nbformat": 4,
 "nbformat_minor": 4
}
