{
 "cells": [
  {
   "cell_type": "code",
   "execution_count": null,
   "metadata": {},
   "outputs": [],
   "source": [
    "all_text = open(r'C:\\Users\\Gosia\\Desktop\\q_values\\MassbankOrbi-Gnps_qValues_EBA.txt', 'r').readlines()"
   ]
  },
  {
   "cell_type": "code",
   "execution_count": null,
   "metadata": {},
   "outputs": [],
   "source": [
    "q_value_list = []\n",
    "for line in all_text[1:]:\n",
    "    q_value_list.append(float(line.split('\\t')[-1].strip()))"
   ]
  },
  {
   "cell_type": "code",
   "execution_count": null,
   "metadata": {
    "scrolled": false
   },
   "outputs": [],
   "source": [
    "from pprint import pprint\n",
    "print(len(all_text_b))\n",
    "pprint([a.split('\\t') for a in all_text_b])"
   ]
  },
  {
   "cell_type": "code",
   "execution_count": null,
   "metadata": {},
   "outputs": [],
   "source": [
    "all_text_b = open(r'C:\\Users\\Gosia\\Desktop\\q_values\\MassbankOrbi-Gnps_qValues_TDA_RandomPeaks.txt', 'r').readlines()\n"
   ]
  },
  {
   "cell_type": "code",
   "execution_count": null,
   "metadata": {},
   "outputs": [],
   "source": [
    "q_value_list_b = []\n",
    "for line in all_text_b[1:]:\n",
    "    q_value_list_b.append(float(line.split('\\t')[-1].strip()))"
   ]
  },
  {
   "cell_type": "code",
   "execution_count": null,
   "metadata": {},
   "outputs": [],
   "source": [
    "import pylab as plt\n",
    "plt.figure(figsize=(8,6))\n",
    "plt.plot(q_value_list_b, q_value_list, label='random')\n",
    "plt.plot([0,0.4], [0,0.4], 'k--')\n",
    "plt.xlabel('True')\n",
    "plt.ylabel('Estimated')\n",
    "plt.legend()\n",
    "plt.grid()"
   ]
  },
  {
   "cell_type": "code",
   "execution_count": null,
   "metadata": {},
   "outputs": [],
   "source": [
    "#calculating the true q_values\n",
    "con_peaks_all = open(r'C:\\Users\\Gosia\\Desktop\\q_values\\MassbankOrbi-GnpsDecoyConditionalPeaks.txt', 'r').readlines()\n",
    "cond_peaks_scores = []\n",
    "for line in con_peaks_all[1:]:\n",
    "    cond_peaks_scores.append(float(line.split('\\t')[-1].strip()))"
   ]
  },
  {
   "cell_type": "code",
   "execution_count": null,
   "metadata": {},
   "outputs": [],
   "source": [
    "print(cond_peaks_scores)"
   ]
  },
  {
   "cell_type": "code",
   "execution_count": null,
   "metadata": {},
   "outputs": [],
   "source": [
    "from pprint import pprint\n",
    "pprint([a.split('\\t') for a in con_peaks_all])"
   ]
  },
  {
   "cell_type": "code",
   "execution_count": null,
   "metadata": {},
   "outputs": [],
   "source": [
    "def calculate_q_value(scores):\n",
    "    fdr_vals = []\n",
    "    for i in range(len(scores)):\n",
    "        fdr = sum(scores[:i])/(i+1)\n",
    "        fdr_vals.append(fdr)\n",
    "    q_vals = [0 for f in fdr_vals]\n",
    "    q_vals[-1] = fdr_vals[-1]\n",
    "    for i in range(len(q_vals)-2,0,-1):\n",
    "        q_vals[i] = min(fdr_vals[i],q_vals[i+1])\n",
    "    return q_vals"
   ]
  },
  {
   "cell_type": "code",
   "execution_count": null,
   "metadata": {},
   "outputs": [],
   "source": [
    "calculate_q_value(cond_peaks_scores)"
   ]
  },
  {
   "cell_type": "code",
   "execution_count": null,
   "metadata": {},
   "outputs": [],
   "source": [
    "def fdr_q(fdr_table):\n",
    "    fdr_table.sort(key=lambda x: x[1], reverse=True)\n",
    "    fdr_vals = []\n",
    "    queries,s,ss = zip(*fdr_table)\n",
    "    for i in range(len(fdr_table)):\n",
    "        fdr = sum(ss[:i])/(i+1)\n",
    "        fdr_vals.append(fdr)\n",
    "    q_vals = [0 for f in fdr_vals]\n",
    "    q_vals[-1] = fdr_vals[-1]\n",
    "    for i in range(len(q_vals)-2,0,-1):\n",
    "        q_vals[i] = min(fdr_vals[i],q_vals[i+1])\n",
    "    q_list = []\n",
    "    for i,q in enumerate(queries):\n",
    "        if ss[i] == 0: # i.e. the true one\n",
    "            q_list.append((q, q_vals[i]))\n",
    "    return fdr_vals, q_vals, q_list"
   ]
  },
  {
   "cell_type": "code",
   "execution_count": null,
   "metadata": {},
   "outputs": [],
   "source": [
    "\"1S/C13H18ClNO/c1-9(15-13(2,3)4)12(16)10-6-5-7-11(14)8-10/h5-9,15H,1-4H3\"==\"1S/C13H18ClNO/c1-9(15-13(2,3)4)12(16)10-6-5-7-11(14)8-10/h5-9,15H,1-4H3\""
   ]
  },
  {
   "cell_type": "code",
   "execution_count": null,
   "metadata": {},
   "outputs": [],
   "source": [
    "import sys\n",
    "sys.path.append(r'C:\\Users\\Gosia\\Desktop\\FDR-Metabolomics\\src\\passatutto_parser.py')\n",
    "import passatutto_parser as pp\n",
    "pre_spectrums = pp.PassatuttoParser(r'C:\\Users\\Gosia\\Downloads\\MassbankOrbi').parse_folder()"
   ]
  },
  {
   "cell_type": "code",
   "execution_count": null,
   "metadata": {},
   "outputs": [],
   "source": [
    "from matchms.importing.load_from_json import as_spectrum\n",
    "spectrums = []\n",
    "for i, s in enumerate( pre_spectrums ):\n",
    "    spectrums.append(as_spectrum(s))\n",
    "    if i and i % 10 == 0:\n",
    "        print('processed %d'%i)"
   ]
  },
  {
   "cell_type": "code",
   "execution_count": null,
   "metadata": {
    "scrolled": false
   },
   "outputs": [],
   "source": [
    "file = open(r'C:\\Users\\Gosia\\Desktop\\q_values\\MassbankOrbi-Gnps.txt', 'r').readlines()"
   ]
  },
  {
   "cell_type": "code",
   "execution_count": null,
   "metadata": {},
   "outputs": [],
   "source": []
  }
 ],
 "metadata": {
  "kernelspec": {
   "display_name": "Python 3",
   "language": "python",
   "name": "python3"
  },
  "language_info": {
   "codemirror_mode": {
    "name": "ipython",
    "version": 3
   },
   "file_extension": ".py",
   "mimetype": "text/x-python",
   "name": "python",
   "nbconvert_exporter": "python",
   "pygments_lexer": "ipython3",
   "version": "3.8.5"
  }
 },
 "nbformat": 4,
 "nbformat_minor": 4
}
