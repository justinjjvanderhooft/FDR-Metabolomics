{
 "cells": [
  {
   "cell_type": "code",
   "execution_count": null,
   "metadata": {},
   "outputs": [],
   "source": [
    "import dimension_optim\n",
    "dims = [5,10,20,50,100,150] # number of dimensions the Spec2Vec model is trained on\n",
    "Ds = [0.05, 0.1, 0.13, 0.17, 0.20] # parameter D in the knockoff creation (diagonal matrix)\n",
    "intensities = [0.5] # intensity_weighting_power for embedding spectra\n",
    "miss_percentages = [15] # the maximum (weighted) fraction of the spectrum that is allowed to be missing for embedding spectra\n",
    "fails = [] # I think that usually it fails because the matrix might not be positive semi-definitie, maybe it has to do with D  \n",
    "\n",
    "for dim in dims:\n",
    "    for d in Ds:\n",
    "        for i in intensities:\n",
    "            for p in miss_percentages:\n",
    "                kwargs = dict(size=dim,factorD=d,intensity_weighting_power=i,allowed_missing_percentage=p)\n",
    "                try:\n",
    "                    dimension_optim.f(**kwargs)\n",
    "                except AssertionError:\n",
    "                    fails.append(kwargs)\n",
    "                    pass"
   ]
  },
  {
   "cell_type": "code",
   "execution_count": null,
   "metadata": {},
   "outputs": [],
   "source": [
    "print(fails)"
   ]
  }
 ],
 "metadata": {
  "kernelspec": {
   "display_name": "Python 3",
   "language": "python",
   "name": "python3"
  },
  "language_info": {
   "codemirror_mode": {
    "name": "ipython",
    "version": 3
   },
   "file_extension": ".py",
   "mimetype": "text/x-python",
   "name": "python",
   "nbconvert_exporter": "python",
   "pygments_lexer": "ipython3",
   "version": "3.8.5"
  }
 },
 "nbformat": 4,
 "nbformat_minor": 4
}
