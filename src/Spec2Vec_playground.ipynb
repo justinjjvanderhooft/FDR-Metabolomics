{
 "cells": [
  {
   "cell_type": "markdown",
   "metadata": {},
   "source": [
    "# A notebook for familiarisation with Spec2Vec and MatchMS"
   ]
  },
  {
   "cell_type": "code",
   "execution_count": 1,
   "metadata": {},
   "outputs": [],
   "source": [
    "import os\n",
    "from matchms.importing import load_from_mgf"
   ]
  },
  {
   "cell_type": "code",
   "execution_count": 2,
   "metadata": {},
   "outputs": [],
   "source": [
    "from matchms.filtering import normalize_intensities\n",
    "from matchms.filtering import reduce_to_number_of_peaks\n",
    "from matchms.filtering import select_by_mz\n",
    "from matchms.filtering import require_minimum_number_of_peaks\n",
    "\n",
    "\"\"\"Test typical user workflow to get from mass spectra to spec2vec similarities.\n",
    "    This test will run a typical workflow example using a small dataset and a\n",
    "    pretrained word2vec model.\"\"\"\n",
    "\n",
    "def apply_filters(s):\n",
    "    s = normalize_intensities(s)\n",
    "    s = reduce_to_number_of_peaks(s, n_required=10, ratio_desired=0.5)\n",
    "    s = select_by_mz(s, mz_from=0, mz_to=1000)\n",
    "    s = require_minimum_number_of_peaks(s, n_required=10)\n",
    "    return s\n"
   ]
  },
  {
   "cell_type": "code",
   "execution_count": 12,
   "metadata": {},
   "outputs": [],
   "source": [
    "from matchms.importing import load_from_msp\n",
    "from spec2vec import SpectrumDocument\n",
    "\n",
    "file = 'pesticides.mgf'\n",
    "    \n",
    "\n",
    "# apply my filters to the data\n",
    "spectra = [apply_filters(s) for s in load_from_mgf(file)]\n",
    "\n",
    "# omit spectra that didn't qualify for analysis\n",
    "spectra = [s for s in spectra if s is not None]\n",
    "\n",
    "documents = [SpectrumDocument(s) for s in spectra]\n"
   ]
  },
  {
   "cell_type": "code",
   "execution_count": 5,
   "metadata": {},
   "outputs": [
    {
     "name": "stdout",
     "output_type": "stream",
     "text": [
      "The value of workers is set from 4 (default) to 2\n",
      "  Epoch 1 of 30.Change in loss after epoch 1: 18559.12109375\n",
      "  Epoch 2 of 30.Change in loss after epoch 2: 18567.2421875\n",
      "  Epoch 3 of 30.Change in loss after epoch 3: 18576.72265625\n",
      "  Epoch 4 of 30.Change in loss after epoch 4: 18595.6875\n",
      "  Epoch 5 of 30.Change in loss after epoch 5: 18453.109375\n",
      "  Epoch 6 of 30.Change in loss after epoch 6: 17604.7265625\n",
      "  Epoch 7 of 30.Change in loss after epoch 7: 14992.296875\n",
      "  Epoch 8 of 30.Change in loss after epoch 8: 13308.34375\n",
      "  Epoch 9 of 30.Change in loss after epoch 9: 12822.15625\n",
      "  Epoch 10 of 30.Change in loss after epoch 10: 12589.84375\n",
      "Saving model with name: reference_spectrums_iter_10.model\n",
      "  Epoch 11 of 30.Change in loss after epoch 11: 12581.765625\n",
      "  Epoch 12 of 30.Change in loss after epoch 12: 12536.1875\n",
      "  Epoch 13 of 30.Change in loss after epoch 13: 12492.359375\n",
      "  Epoch 14 of 30.Change in loss after epoch 14: 12461.4375\n",
      "  Epoch 15 of 30.Change in loss after epoch 15: 12408.875\n",
      "  Epoch 16 of 30.Change in loss after epoch 16: 12453.734375\n",
      "  Epoch 17 of 30.Change in loss after epoch 17: 12386.015625\n",
      "  Epoch 18 of 30.Change in loss after epoch 18: 12323.46875\n",
      "  Epoch 19 of 30.Change in loss after epoch 19: 12315.125\n",
      "  Epoch 20 of 30.Change in loss after epoch 20: 12297.03125\n",
      "Saving model with name: reference_spectrums_iter_20.model\n",
      "  Epoch 21 of 30.Change in loss after epoch 21: 12295.125\n",
      "  Epoch 22 of 30.Change in loss after epoch 22: 12234.25\n",
      "  Epoch 23 of 30.Change in loss after epoch 23: 12210.1875\n",
      "  Epoch 24 of 30.Change in loss after epoch 24: 12068.75\n",
      "  Epoch 25 of 30.Change in loss after epoch 25: 11946.8125\n",
      "  Epoch 26 of 30.Change in loss after epoch 26: 11782.625\n",
      "  Epoch 27 of 30.Change in loss after epoch 27: 11581.9375\n",
      "  Epoch 28 of 30.Change in loss after epoch 28: 11399.15625\n",
      "  Epoch 29 of 30.Change in loss after epoch 29: 11204.6875\n",
      "  Epoch 30 of 30.Change in loss after epoch 30: 10984.8125\n",
      "Saving model with name: reference_spectrums.model\n"
     ]
    }
   ],
   "source": [
    "from spec2vec import Spec2Vec\n",
    "from spec2vec.model_building import train_new_word2vec_model\n",
    "\n",
    "model_file = \"reference_spectrums.model\"\n",
    "model = train_new_word2vec_model(documents, filename=model_file, iterations=[10, 20, 30], \n",
    "                                workers=2, progress_logger=True)"
   ]
  }
 ],
 "metadata": {
  "kernelspec": {
   "display_name": "Python 3",
   "language": "python",
   "name": "python3"
  },
  "language_info": {
   "codemirror_mode": {
    "name": "ipython",
    "version": 3
   },
   "file_extension": ".py",
   "mimetype": "text/x-python",
   "name": "python",
   "nbconvert_exporter": "python",
   "pygments_lexer": "ipython3",
   "version": "3.8.5"
  }
 },
 "nbformat": 4,
 "nbformat_minor": 4
}
