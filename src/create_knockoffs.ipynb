{
 "cells": [
  {
   "cell_type": "markdown",
   "metadata": {},
   "source": [
    "Derive spec2vec embeddings of MS/MS spectra"
   ]
  },
  {
   "cell_type": "code",
   "execution_count": 1,
   "metadata": {},
   "outputs": [],
   "source": [
    "import os\n",
    "import sys\n",
    "import gensim\n",
    "import numpy as np\n",
    "\n",
    "ROOT = os.path.dirname(os.getcwd())\n",
    "#path_data = os.path.join(ROOT, 'data')\n",
    "path_data = 'C:\\\\Users\\\\Gosia\\\\Desktop\\\\'\n",
    "sys.path.insert(0, ROOT)"
   ]
  },
  {
   "cell_type": "code",
   "execution_count": 2,
   "metadata": {},
   "outputs": [],
   "source": [
    "from matchms.importing import load_from_json\n",
    "spectrums_lib = []\n",
    "path_lcms = 'C:\\\\Users\\\\Gosia\\\\Desktop\\\\gnps_from_simon'\n",
    "counter = 0\n",
    "for s in os.listdir(path_lcms):\n",
    "    if counter <= 5: \n",
    "        spectrums_lib += load_from_json(os.path.join(path_lcms,s))\n",
    "        counter += 1"
   ]
  },
  {
   "cell_type": "code",
   "execution_count": 3,
   "metadata": {},
   "outputs": [],
   "source": [
    "from matchms.filtering import normalize_intensities\n",
    "from matchms.filtering import require_minimum_number_of_peaks\n",
    "from matchms.filtering import select_by_mz\n",
    "from matchms.filtering import select_by_relative_intensity\n",
    "from matchms.filtering import reduce_to_number_of_peaks\n",
    "from matchms.filtering import add_losses\n",
    "def post_process_s2v(s):\n",
    "    \n",
    "    s = normalize_intensities(s)\n",
    "    s = select_by_mz(s, mz_from=0, mz_to=1000)\n",
    "    s = require_minimum_number_of_peaks(s, n_required=10)\n",
    "    s = reduce_to_number_of_peaks(s, n_required=10, ratio_desired=0.5)\n",
    "    if s is None:\n",
    "        return None\n",
    "    s_remove_low_peaks = select_by_relative_intensity(s, intensity_from=0.001)\n",
    "    if len(s_remove_low_peaks.peaks) >= 10:\n",
    "        s = s_remove_low_peaks\n",
    "        \n",
    "    s = add_losses(s, loss_mz_from=5.0, loss_mz_to=200.0)\n",
    "    return s"
   ]
  },
  {
   "cell_type": "code",
   "execution_count": 4,
   "metadata": {},
   "outputs": [],
   "source": [
    "# apply post processing steps to the data\n",
    "\n",
    "spectrums_lib = [post_process_s2v(s) for s in spectrums_lib]\n",
    "\n",
    "# omit spectrums that didn't qualify for analysis\n",
    "\n",
    "spectrums_lib = [s for s in spectrums_lib if s is not None]\n"
   ]
  },
  {
   "cell_type": "markdown",
   "metadata": {},
   "source": [
    "Create spectrum \"documents\""
   ]
  },
  {
   "cell_type": "code",
   "execution_count": 5,
   "metadata": {},
   "outputs": [],
   "source": [
    "from spec2vec import Spec2Vec\n",
    "from spec2vec import SpectrumDocument\n",
    "\n",
    "documents_lib = [SpectrumDocument(s, n_decimals=2) for s in spectrums_lib]\n"
   ]
  },
  {
   "cell_type": "code",
   "execution_count": 6,
   "metadata": {
    "scrolled": true
   },
   "outputs": [
    {
     "name": "stdout",
     "output_type": "stream",
     "text": [
      "The value of size is set from 300 (default) to 3\n",
      "  Epoch 1 of 10.Change in loss after epoch 1: 125506.109375\n",
      "Saving model with name: C:\\Users\\Gosia\\Desktop\\trained_models\\spec2vec_librarymatching_size_3_iter_1.model\n",
      "  Epoch 2 of 10.Change in loss after epoch 2: 125567.125\n",
      "  Epoch 3 of 10.Change in loss after epoch 3: 125132.890625\n",
      "Saving model with name: C:\\Users\\Gosia\\Desktop\\trained_models\\spec2vec_librarymatching_size_3_iter_3.model\n",
      "  Epoch 4 of 10.Change in loss after epoch 4: 106334.03125\n",
      "  Epoch 5 of 10.Change in loss after epoch 5: 91926.15625\n",
      "Saving model with name: C:\\Users\\Gosia\\Desktop\\trained_models\\spec2vec_librarymatching_size_3_iter_5.model\n",
      "  Epoch 6 of 10.Change in loss after epoch 6: 87820.75\n",
      "  Epoch 7 of 10.Change in loss after epoch 7: 83405.125\n",
      "  Epoch 8 of 10.Change in loss after epoch 8: 81045.3125\n",
      "  Epoch 9 of 10.Change in loss after epoch 9: 81739.0\n",
      "  Epoch 10 of 10.Change in loss after epoch 10: 79668.8125\n",
      "Saving model with name: C:\\Users\\Gosia\\Desktop\\trained_models\\spec2vec_librarymatching_size_3.model\n"
     ]
    }
   ],
   "source": [
    "from spec2vec.model_building import train_new_word2vec_model\n",
    "path_models = os.path.join(path_data, \"trained_models\")\n",
    "\n",
    "model_file = os.path.join(path_models, \"spec2vec_librarymatching_size_3.model\")\n",
    "\n",
    "iterations = [1, 3, 5, 10]\n",
    "\n",
    "#Train model with size 10 and default parameters\n",
    "\n",
    "model = train_new_word2vec_model(documents_lib, iterations, model_file, size = 3)"
   ]
  },
  {
   "cell_type": "markdown",
   "metadata": {},
   "source": [
    "\n",
    "Derive embeddings"
   ]
  },
  {
   "cell_type": "code",
   "execution_count": 105,
   "metadata": {},
   "outputs": [
    {
     "name": "stdout",
     "output_type": "stream",
     "text": [
      "Embedding vector size: 3\n"
     ]
    },
    {
     "data": {
      "application/vnd.jupyter.widget-view+json": {
       "model_id": "07320dc9957c4e7ba824a4c4354dfd55",
       "version_major": 2,
       "version_minor": 0
      },
      "text/plain": [
       "HBox(children=(HTML(value=''), FloatProgress(value=0.0, max=573.0), HTML(value='')))"
      ]
     },
     "metadata": {},
     "output_type": "display_data"
    },
    {
     "name": "stdout",
     "output_type": "stream",
     "text": [
      "\n"
     ]
    }
   ],
   "source": [
    "from tqdm.notebook import tqdm  # optional, just to get a progress bar\n",
    "from spec2vec.vector_operations import calc_vector\n",
    "\n",
    "\n",
    "intensity_weighting_power = 0.5\n",
    "allowed_missing_percentage = 15 # specify the maximum (weighted) fraction of the spectrum that is allowed to be missing\n",
    "\n",
    "vector_size = model.vector_size\n",
    "print(f\"Embedding vector size: {vector_size}\")\n",
    "\n",
    "embeddings_spec2vec_lib = np.zeros((len(documents_lib), vector_size), dtype=\"float\")\n",
    "for i, doc in enumerate(tqdm(documents_lib)):\n",
    "    embeddings_spec2vec_lib[i, 0:vector_size] = calc_vector(model, doc,)"
   ]
  },
  {
   "cell_type": "code",
   "execution_count": 106,
   "metadata": {},
   "outputs": [],
   "source": [
    "embeddings_spec2vec_query = embeddings_spec2vec_lib"
   ]
  },
  {
   "cell_type": "code",
   "execution_count": 107,
   "metadata": {},
   "outputs": [
    {
     "name": "stdout",
     "output_type": "stream",
     "text": [
      "[array([-28.7226,  39.6422, -55.4355]), array([  -5.5959,   61.5135, -103.6425]), array([-26.7974,  24.2837, -71.2194]), array([ -24.3973,  231.2826, -135.7283]), array([ -76.0284,  567.9523, -375.1597]), array([-109.5058, 1008.2638, -769.6439]), array([-166.1142, 1113.4421, -879.6349]), array([-199.5607, 1013.7787, -815.3101]), array([  25.0763,  387.7781, -810.9878]), array([-34.1186,   5.0048, -46.3929]), array([-28.2508,   6.5709, -39.0017]), array([ -18.5365,   84.4125, -125.3482]), array([ -98.2311,  153.1556, -250.0005]), array([-40.5643,  42.3847, -69.8166]), array([  80.5984,  740.4262, -892.2452]), array([-109.7528,  924.2487, -727.9415]), array([  -2.9181,  223.7927, -233.1898]), array([ -75.2812,  744.7568, -729.9123]), array([ -83.0759,  878.2758, -869.2554]), array([-156.4886,  798.2658, -843.8853]), array([-135.8989,   46.7828, -188.1453]), array([-56.3202,  24.97  , -85.6823]), array([ -23.9925,   95.7475, -102.6257]), array([ -27.035 ,  448.0081, -234.171 ]), array([   4.8624, 1184.4043, -833.0429]), array([ -93.9843, 1074.5484, -882.6603]), array([ -92.2046, 1106.0991, -900.4312]), array([-264.5542,  234.007 , -609.0471]), array([-123.0003,   73.5317, -223.1975]), array([ -83.8371,  161.0832, -283.4486]), array([    3.4981,  1615.1584, -1089.6245]), array([-242.6812,  422.2932, -551.5054]), array([ -89.0667,  842.4255, -830.7687]), array([ -80.3936, 1067.4251, -972.9161]), array([  -78.5469,  1021.7242, -1015.5001]), array([ -55.1691, 1174.4948, -661.4699]), array([ -43.8399,  294.2422, -175.3343]), array([ -95.7256,  723.3908, -471.3842]), array([-155.8684, 1065.5216, -857.4635]), array([-170.7378, 1128.7432, -905.3845]), array([-332.8825,  329.5728, -740.3349]), array([-394.6484,  304.0448, -723.0692]), array([-103.534 ,   33.7284, -172.2922]), array([  39.8523,  690.7614, -562.1907]), array([-214.3921,  296.7184, -558.857 ]), array([-181.1113,  456.1615, -694.6329]), array([-160.1854,  474.7993, -713.6682]), array([-197.2139,  469.29  , -674.4189]), array([-148.1876,   37.4765, -190.5431]), array([ -70.5208,  166.3841, -303.9226]), array([ -72.4195,   84.6934, -183.7983]), array([ -54.5021,  209.2616, -185.017 ]), array([-133.893 ,  638.0106, -588.0434]), array([-217.4931,  635.1087, -591.3285]), array([-194.0005,  499.8336, -477.376 ]), array([ -76.0334,  324.7964, -270.4289]), array([-218.728 ,  775.6012, -669.2671]), array([-110.6281,  656.1805, -504.5491]), array([ -67.4545,  471.1688, -342.7669]), array([-109.1426, 1146.6423, -858.6228]), array([-204.5073,  423.3318, -432.0786]), array([-339.1534,  688.1742, -732.4982]), array([-263.5897,  812.3449, -808.3643]), array([-296.2485,  715.2231, -748.6518]), array([-154.0086, 1393.1235, -935.9757]), array([ -49.6037,  154.216 , -122.2924]), array([-227.4051,  668.3944, -611.8581]), array([-260.4665,  895.0777, -892.3548]), array([-186.4961,  866.9589, -722.2928]), array([   22.4969,  1418.7554, -1295.804 ]), array([-148.7204,  318.8072, -433.7437]), array([-265.7624,  530.9806, -682.1004]), array([-303.5769,  512.3348, -726.3869]), array([-161.5144,  555.6848, -658.7518]), array([-167.7605,  226.1492, -476.9357]), array([-100.112 ,  173.9966, -285.2476]), array([-508.9423,  182.5823, -846.722 ]), array([ -74.8511,   42.4556, -153.6518]), array([-450.8003,  330.1141, -928.7644]), array([-266.8087,  375.0937, -717.5918]), array([-291.6734,  479.5358, -905.8691]), array([-41.3314,  36.4617, -87.874 ]), array([-416.361 ,  274.8136, -817.7657]), array([-535.2522,  165.5318, -786.4068]), array([ -46.6375,  274.3095, -139.611 ]), array([-111.8534,  457.407 , -306.4522]), array([ -83.833 ,  357.741 , -193.2303]), array([ -53.723,  348.486, -191.951]), array([-167.4253,  353.6398, -306.3742]), array([-320.2973,  585.5577, -663.1441]), array([-243.8341,  649.2029, -607.5254]), array([-193.2526,  525.8942, -510.7139]), array([-40.515 ,  12.638 , -75.8505]), array([-465.4019,  233.294 , -817.7842]), array([-347.6586,  375.901 , -927.4197]), array([-103.4179,  232.8903, -415.1028]), array([-528.8818,  254.0618, -931.4308]), array([  114.5845,  1027.5104, -1356.1046]), array([-341.8976,  184.986 , -449.3743]), array([ -44.2488,   57.8664, -106.7217]), array([-624.5052,   79.9056, -842.4749]), array([-674.4199,  102.68  , -874.5049]), array([ -91.4233,  133.6363, -263.0259]), array([-41.6072,  38.4062, -92.0021]), array([-45.8849,  30.3687, -94.3928]), array([ -60.0781,  127.5391, -205.4075]), array([ -18.3189,  107.0528, -136.4694]), array([-20.3432,  93.3552, -95.3272]), array([-177.7688,  650.9557, -816.1982]), array([-100.4466,  472.7438, -546.0023]), array([ -68.8091,  272.0847, -300.7453]), array([ -63.8999,  249.655 , -408.3462]), array([-155.2056,  332.0483, -534.3273]), array([ -92.4212,  189.6951, -248.1838]), array([ -70.6523,  190.148 , -261.4412]), array([-175.2122,   96.2007, -326.8276]), array([-163.9664,  182.3534, -326.8422]), array([-122.6492,  160.5612, -283.4796]), array([-129.2163,   68.6892, -205.2356]), array([ -24.4721,   69.2713, -102.3587]), array([ -26.7568,  111.6883, -157.2614]), array([ -32.6745,  133.6085, -167.3048]), array([   8.1485,  141.9869, -117.6862]), array([-102.7865,  124.1303, -244.6171]), array([-643.6896,   -8.8803, -759.8267]), array([-657.9448,  200.5772, -851.9248]), array([ -89.3105,   76.4835, -197.5513]), array([ -120.2637,   555.5953, -1066.846 ]), array([-248.3858,  259.2711, -429.6103]), array([ -81.2631,  103.6308, -251.3586]), array([-530.6561,  153.3489, -796.2987]), array([-219.4607,  322.454 , -632.2176]), array([    9.8386,  1197.5342, -1161.7019]), array([-676.8815,  102.769 , -797.5637]), array([-274.9495,  158.7722, -463.4034]), array([-54.6781,  22.751 , -95.0129]), array([-21.803 ,  56.2887, -99.1629]), array([-741.7454,  -10.8043, -782.9485]), array([-208.076 ,  171.962 , -461.8534]), array([-20.8377,  36.8457, -93.7598]), array([-310.2828,  331.2727, -969.8479]), array([ 315.7615,  742.3215, -887.5601]), array([ -55.8884,   29.4545, -104.8094]), array([-44.9774,   3.8014, -56.3667]), array([-264.1593,  122.0868, -425.1006]), array([ -81.6666,   29.0198, -133.8904]), array([-139.5689,   82.0138, -281.4273]), array([ -275.0069,   333.7745, -1007.3291]), array([-444.9503,  199.5785, -801.4053]), array([  26.0376,  187.2731, -254.2266]), array([-598.5495,  255.9333, -973.3129]), array([-163.5611,  348.0146, -627.104 ]), array([-340.1734,  920.9437, -995.4456]), array([-302.0274,  368.574 , -770.7518]), array([-170.6576,  227.0654, -412.2715]), array([-171.3182,  305.8719, -558.0494]), array([-215.7652,  282.7015, -588.0357]), array([-216.4885, 1049.477 , -974.9517]), array([-446.034 ,  426.2367, -909.3283]), array([ -74.1034,  126.493 , -263.2289]), array([ -29.395 ,   85.7983, -155.0469]), array([ -153.7916,   813.6044, -1020.9258]), array([  -32.1838,  1075.7909, -1189.2821]), array([  -14.3486,  1119.7019, -1124.8656]), array([   4.5439,  943.3184, -882.3301]), array([  -11.8859,   829.8648, -1210.4196]), array([ -188.0737,   524.5289, -1054.5801]), array([ -53.2292,  237.6212, -428.8617]), array([ -27.9801,   73.6846, -174.3293]), array([-538.757 ,  182.0096, -828.3158]), array([-553.9574,   43.8703, -725.4726]), array([-727.0805,   -6.9078, -877.0757]), array([-776.8168,  -33.1611, -950.6394]), array([-587.4468,  192.231 , -951.7716]), array([-737.118 ,   56.3536, -903.8887]), array([-702.5647,   54.7802, -899.3543]), array([-223.0036,   84.5181, -332.5424]), array([ -17.1359,  367.805 , -598.4121]), array([-107.2546,  651.2802, -968.3823]), array([-248.951 ,  363.897 , -774.2449]), array([ -926.855 ,    78.9058, -1035.2666]), array([-433.8343,  129.5617, -688.8598]), array([-535.4957,  302.4958, -936.1756]), array([-145.7816,  321.9624, -555.5835]), array([ -81.0059,  173.4599, -333.1052]), array([-202.2888,  119.1195, -353.5976]), array([ -74.9686,   93.3825, -189.6187]), array([-655.6456,   32.3763, -925.8796]), array([-34.9691,   7.4992, -48.0706]), array([ -358.4981,   343.8268, -1090.1756]), array([-405.7865,  329.3214, -860.6005]), array([ -590.6808,   433.9932, -1078.256 ]), array([-802.3772,  -15.6591, -943.0768]), array([-771.7506,   -6.0649, -946.8061]), array([-782.9761,    8.2855, -945.2733]), array([-722.963 ,  -66.2895, -803.2055]), array([  742.9526,  1730.6386, -1841.6019]), array([-383.0986,   42.4519, -557.2959]), array([-728.5829,   19.5626, -905.2859]), array([ 102.7944,  736.1611, -644.5276]), array([-51.8213,  15.6632, -84.0003]), array([  23.3061,  629.8086, -780.1317]), array([-877.7642,  -80.9494, -911.1405]), array([-49.5891,   8.1899, -70.011 ]), array([-386.4956,  215.0856, -862.1475]), array([-739.3423,  142.8225, -957.8802]), array([-56.1978,  10.8395, -85.2754]), array([ -966.5638,   -14.1053, -1019.8299]), array([   14.1806,  1154.072 , -1149.5963]), array([ -72.6525,  793.8452, -761.8246]), array([ -73.9221,  526.1948, -983.4237]), array([  551.0168,  1287.9979, -1410.4554]), array([-120.6634,   51.2166, -190.2067]), array([-219.1313,  237.3385, -606.7803]), array([ -30.1865,  104.5804, -170.1406]), array([-120.0302,   95.8294, -249.0699]), array([-626.9733,   81.7441, -957.0837]), array([ -73.9118,   99.001 , -199.3564]), array([-46.2013,   1.5168, -51.6662]), array([-541.6765,   86.5793, -739.9733]), array([  -11.169 ,   650.7999, -1232.8413]), array([ -49.5094,   44.5948, -102.6739]), array([-411.474 ,   60.2422, -563.2536]), array([  137.4826,   818.5328, -1328.9892]), array([  116.6802,  1096.3467, -1243.0493]), array([ -68.4974,   21.7023, -101.2413]), array([-183.2161,   53.7129, -268.3747]), array([-410.9875,  358.6294, -901.8009]), array([  -83.4232,   611.1678, -1089.1826]), array([ -164.7951,   698.6559, -1121.9941]), array([ -96.3184,   18.8311, -128.672 ]), array([ -763.8511,    86.0364, -1055.8434]), array([-317.7077,   29.9423, -444.6482]), array([-16.6937,  37.2622, -67.3004]), array([ -83.7761,  114.7764, -192.1645]), array([-132.3307,   26.3622, -164.6077]), array([ -715.4812,   230.0353, -1081.8466]), array([  183.6607,  1060.7654, -1173.2487]), array([   50.7396,   688.8607, -1327.5769]), array([-27.9802,  13.5886, -51.7357]), array([-827.5052,  -12.348 , -934.5072]), array([-657.9993,  339.7643, -915.8112]), array([ -772.597 ,   -21.3819, -1037.3634]), array([-114.1791,   23.3066, -164.5086]), array([ -69.8128,   15.3721, -101.9845]), array([  -70.1067,   685.482 , -1290.8535]), array([ -36.2678,   78.0254, -117.9014]), array([-22.1424,  13.8025, -39.5254]), array([-345.6085,  293.6906, -769.9822]), array([-28.2098,  19.0053, -57.0822]), array([-366.6243,  278.5382, -800.4494]), array([-1009.4695,   -14.9992, -1043.7009]), array([ -46.1773,   47.5066, -111.0213]), array([ -35.2428,   80.3388, -131.7167]), array([-188.1335,   41.8828, -299.7516]), array([-273.9408,   13.6022, -326.7732]), array([-65.4589,  10.6354, -95.246 ]), array([-40.094 ,   5.8697, -46.8905]), array([ -969.4806,    39.2945, -1058.553 ]), array([-851.1871,  -52.1018, -942.3076]), array([   35.5621,   860.8237, -1412.4174]), array([ -13.5599,  128.0768, -177.5143]), array([-80.2613,  -9.1672, -78.6819]), array([ -81.9432,   15.1101, -105.9431]), array([-109.2357,   15.7413, -147.4381]), array([-108.6374,   26.9037, -157.0102]), array([-14.1586,   2.6696, -18.6364]), array([-118.6886,   16.1907, -156.1892]), array([ -59.9385,   15.5984, -102.8109]), array([ -78.0461,   12.3826, -105.1303]), array([-116.9991,   57.4778, -229.3341]), array([-39.9076,   6.0991, -58.7746]), array([-1018.7812,   -81.4748, -1141.9583]), array([-882.5188,  -90.4116, -941.2513]), array([-400.7411,   21.1607, -490.6318]), array([-37.0469,  15.8672, -47.6856]), array([-74.2574,  23.9769, -94.0818]), array([-28.3901,   9.0014, -33.7916]), array([-39.8677,   3.3391, -48.6582]), array([-102.1166,   27.8666, -177.0261]), array([ -253.0907,   430.942 , -1076.1334]), array([-178.2872,   23.9107, -231.2025]), array([-220.9883,   16.0422, -287.5342]), array([ -99.3101,   18.1554, -143.6569]), array([ -267.3272,   388.9203, -1035.0472]), array([ -120.1179,   737.2339, -1222.7846]), array([ -61.0639,   48.483 , -131.3943]), array([-353.7205,   80.21  , -592.2573]), array([ -697.6933,   147.9254, -1090.2793]), array([ -537.3398,   260.5593, -1074.3597]), array([-129.5574,   21.5038, -181.4212]), array([  -3.4139,  808.8578, -803.2863]), array([-237.7934,  606.3415, -692.0853]), array([-114.3278,   54.7238, -210.6276]), array([-20.1324,  11.0208, -43.6836]), array([ -253.5165,   614.5299, -1201.4752]), array([ -502.2523,   238.9998, -1011.126 ]), array([ -967.948 ,    15.3701, -1180.5692]), array([ -266.6081,   521.618 , -1195.6182]), array([-175.4482,   63.3857, -345.0539]), array([ -764.9446,   -40.3312, -1012.1914]), array([ -849.7382,   -77.9022, -1013.0776]), array([ -588.9976,   150.0038, -1022.4936]), array([-238.0993,   65.4463, -334.0676]), array([-347.2581,   55.0075, -462.9617]), array([-40.4563,   9.6565, -54.9711]), array([ -76.0266,   37.5608, -130.771 ]), array([ -72.2839,   16.8413, -102.7336]), array([-368.0477,  395.851 , -690.8141]), array([ -828.3408,   292.1747, -1190.1882]), array([ -969.3959,   -25.3226, -1172.3477]), array([-106.656 ,   13.2054, -137.4204]), array([-1312.2827,    21.2101, -1244.1209]), array([-34.3862,   7.9429, -52.6342]), array([-30.4414,   4.0491, -37.884 ]), array([  564.038 ,   891.5979, -2122.615 ]), array([  676.1385,  1183.5624, -2367.4578]), array([  689.2626,  1346.2817, -2323.7804]), array([  622.1651,  1366.9662, -2012.8611]), array([  564.038 ,   891.5979, -2122.615 ]), array([  676.1385,  1183.5624, -2367.4578]), array([  689.2626,  1346.2817, -2323.7804]), array([  622.1651,  1366.9662, -2012.8611]), array([ -876.488 ,   -54.9794, -1048.0543]), array([-713.2785,   29.863 , -953.3879]), array([  25.6069,  143.6341, -223.5866]), array([  115.4448,   956.5136, -1315.862 ]), array([  276.1922,  1355.8692, -1713.0054]), array([  452.848 ,  1566.0608, -1781.9898]), array([  470.7036,  1688.5513, -1871.7712]), array([  436.9927,  1421.2597, -1976.9461]), array([  656.3681,  1989.6007, -2742.3877]), array([  736.3706,  2274.8685, -3090.3528]), array([  666.7753,  2264.8242, -3099.3294]), array([  499.3254,  1964.7098, -2600.4248]), array([-47.4786,  14.9895, -67.2318]), array([-18.5507,   8.1605, -32.1827]), array([-52.868 ,  16.5632, -69.2651]), array([-176.6688,  166.9895, -274.4849]), array([-48.7327,   9.8927, -81.9032]), array([-25.8048,   1.8912, -30.8767]), array([ -74.8824,   18.1134, -111.9577]), array([ -77.7876,   25.2462, -126.0615]), array([  102.2668,   604.621 , -1295.0144]), array([-101.1433,   13.5711, -133.2132]), array([   98.2567,   422.5797, -1007.4536]), array([  463.3594,   773.8116, -2035.202 ]), array([  663.0282,  1168.3169, -2207.15  ]), array([  638.8598,  1221.21  , -2234.5613]), array([   98.2567,   422.5797, -1007.4536]), array([  463.3594,   773.8116, -2035.202 ]), array([  663.0282,  1168.3169, -2207.15  ]), array([  638.8598,  1221.21  , -2234.5613]), array([ -95.1362,   17.1259, -131.9933]), array([  383.0075,  1337.425 , -1449.1123]), array([-55.5258,   7.354 , -76.6617]), array([-132.7115,  271.6795, -367.6019]), array([-402.5334,   56.0989, -562.1069]), array([-1048.7432,   -55.8161, -1226.3661]), array([-720.308 ,   31.2178, -948.5367]), array([-123.5659,   42.4344, -230.6749]), array([-35.8304,  28.5617, -81.2236]), array([   31.3904,  1073.2267, -1461.9215]), array([ -28.3316,  234.8635, -355.6489]), array([-56.1003,  28.7815, -58.5613]), array([-27.5214,   7.2733, -37.7665]), array([-21.5597,   3.5847, -27.3273]), array([ -90.6326,   23.4157, -127.4484]), array([-218.1612,  151.7246, -356.0274]), array([-333.4491,  605.7806, -883.6912]), array([-41.089 ,  18.5539, -58.9413]), array([ -87.295 ,   37.8617, -132.0748]), array([-23.7085,   3.6493, -33.5806]), array([-16.6791,   1.3904, -21.1592]), array([-27.0323,   9.6646, -45.1104]), array([-293.0842,   38.9662, -393.9539]), array([-1166.3978,  -212.5098, -1184.5854]), array([-64.2661,  28.6621, -72.0499]), array([  672.9784,  1854.827 , -2250.6321]), array([  653.4785,  1810.862 , -2226.4284]), array([-31.7078,  11.4631, -53.2665]), array([ -94.685 ,   15.6024, -134.3356]), array([-119.1729,   14.9865, -157.3987]), array([-37.8189,   3.9645, -48.3763]), array([-249.8377,   40.5986, -333.1313]), array([-288.956 ,  129.7688, -525.5651]), array([-101.922 ,   12.5031, -121.1964]), array([-174.8665,  120.2285, -300.3119]), array([  -55.3446,  1153.4472, -1432.529 ]), array([-60.4075,  11.0618, -88.3339]), array([ -309.3678,   823.3254, -1465.5709]), array([-41.6132,   4.4761, -50.06  ]), array([-25.8101,   1.7192, -32.9178]), array([-26.687 ,  -2.4183, -32.4684]), array([-32.7633,   8.1642, -50.1068]), array([-824.57  ,  -59.2637, -906.5234]), array([-51.2762,  -2.0736, -60.648 ]), array([-125.9875,   36.8083, -207.1743]), array([-226.3479,   33.4809, -314.5813]), array([-250.753 ,   50.4321, -341.428 ]), array([ -92.0792,    2.9257, -109.0843]), array([-1245.4911,   -38.2698, -1399.7421]), array([-588.356 ,  349.1645, -991.8481]), array([  484.0902,  1383.7647, -1639.1281]), array([-300.911 ,   18.5634, -387.7935]), array([-151.6704,   16.6246, -219.2198]), array([-35.9881,   4.2026, -53.7784]), array([-371.1886,  -15.693 , -399.7377]), array([-58.0024,   8.6415, -75.8547]), array([-34.168 ,   0.3812, -43.3746]), array([-160.6975,  135.5863, -328.4078]), array([-881.5526,  -59.914 , -912.9085]), array([-126.0792,   10.311 , -156.7736]), array([-446.7259,  522.2383, -918.0639]), array([ -162.6059,   972.0211, -1045.9881]), array([-191.2034,   25.069 , -235.0948]), array([ -92.5992,   20.1332, -131.4766]), array([-27.6701,   3.8663, -39.4362]), array([-172.1412,   22.6486, -221.8095]), array([-329.612 ,   21.683 , -410.6249]), array([-44.6874,   7.8894, -58.7013]), array([-610.893 ,  269.4353, -779.2266]), array([-48.4285,   9.7031, -65.1067]), array([ -81.6408,   10.155 , -108.2754]), array([-78.9678,   1.8818, -88.554 ]), array([-31.5334,   2.6594, -42.7856]), array([-34.0814,   9.5727, -37.4687]), array([ -80.7866,    9.196 , -102.514 ]), array([-162.3949,   29.6695, -229.6232]), array([-307.0217,   16.1912, -358.8387]), array([-285.9315,   17.2256, -368.9035]), array([-1556.4974,  -428.049 , -1474.2696]), array([-47.4647,   1.159 , -58.6999]), array([-1077.2306,   158.2827, -1506.0193]), array([ -876.8084,   611.0506, -1768.8618]), array([-189.3873,   19.588 , -252.2888]), array([-222.1248,   19.0104, -299.0689]), array([-486.4822,   13.86  , -600.0898]), array([-922.0497, -145.0476, -836.9605]), array([-121.4224,   18.7425, -134.6722]), array([-135.5702,   17.279 , -187.8787]), array([-29.4551,   3.5594, -36.1348]), array([-776.9611,  -98.3125, -814.0999]), array([-176.1603,  124.4228, -399.3335]), array([-619.9134,   29.0466, -752.1329]), array([-115.4822,    7.6591, -146.7543]), array([-192.0656,   21.9448, -249.779 ]), array([-158.0812,   27.0284, -232.3448]), array([-148.5611,   57.4823, -250.5679]), array([-412.9939,   28.309 , -473.8833]), array([ -84.4381,    5.6773, -109.7882]), array([-696.1018,    9.6689, -782.2808]), array([-1099.8325,   -87.3752, -1165.7524]), array([-64.3116,   7.7041, -88.1729]), array([-140.2875,   10.7371, -173.9084]), array([-191.3858,   27.901 , -236.4569]), array([ -752.3428,   414.8846, -1561.6463]), array([-103.271 ,   30.522 , -147.5768]), array([-116.6545,   62.2521, -269.8244]), array([-225.1197,   21.7821, -293.2438]), array([-144.8507,  222.2274, -539.5256]), array([-131.4444,    6.2092, -162.1143]), array([-263.887 ,   38.9902, -331.4898]), array([-183.188 ,   12.4341, -237.2287]), array([-53.2569,   3.1804, -70.3189]), array([-1233.1887,    16.7054, -1495.3247]), array([-110.5744,    8.3533, -142.3972]), array([-334.3401,   62.1939, -460.7808]), array([-122.7031,   19.0902, -159.8658]), array([ -86.3862,   14.7964, -119.1954]), array([-219.7201,   29.7149, -304.9308]), array([-323.8763,   -5.7664, -372.8765]), array([-116.4515,   59.1497, -201.8343]), array([-31.1367,  10.9969, -51.9917]), array([-74.641 ,   6.809 , -98.0977]), array([-75.6367,  13.0719, -96.9843]), array([-620.7673,  -20.8329, -697.2579]), array([-1286.0758,  -195.1322, -1157.1124]), array([-152.5115,   15.8398, -194.2397]), array([-103.8018,   11.1483, -143.545 ]), array([ -80.1874,  145.0122, -297.87  ]), array([-131.3299,    1.0624, -144.9577]), array([-322.2971,    7.1458, -433.0011]), array([-117.8809,   17.0243, -140.4935]), array([ -288.9795,  1239.6764, -1637.001 ]), array([-219.7013,   30.3216, -281.8955]), array([-1120.6074,   -99.3398, -1217.8669]), array([-7.405160e+02,  6.327000e-01, -8.542122e+02]), array([-364.3045,   52.4669, -477.4055]), array([-220.3977,   26.6874, -270.4898]), array([-437.1002,   96.322 , -486.1597]), array([-113.2651,   13.071 , -150.1635]), array([-217.6592,   -6.8424, -274.3412]), array([-113.5506,   18.8711, -168.3142]), array([-1538.2768,  -188.0769, -1668.0284]), array([ -94.7625,   15.4159, -128.9801]), array([ -80.776 ,   18.7754, -117.3462]), array([-1082.2169,   -45.465 , -1108.3388]), array([-2178.8184,  -743.4205, -1657.3044]), array([-61.6646,   0.7846, -78.4176]), array([-1532.3532,  -267.6996, -1523.0847]), array([-1054.0443,   -21.7144, -1153.2131]), array([-624.565 ,   15.3009, -751.4749]), array([-743.829 ,  -29.0371, -805.6038]), array([-2382.1582,  -823.238 , -1759.3974]), array([-1187.6952,   128.7822, -1680.3347]), array([-1002.9828,  -133.5691, -1038.9689]), array([-630.7114,   39.2322, -712.3128]), array([ -79.0894,   13.1488, -111.0716]), array([-402.2593,   25.654 , -495.8392]), array([-862.9311,  -85.8446, -833.7824]), array([-577.9418,  -61.5692, -522.1239]), array([ -98.5118,   13.4779, -132.9099]), array([-904.0096,  -52.6271, -931.2318]), array([-382.0214,   25.7042, -471.8534]), array([-740.4766,  -18.0318, -811.8717]), array([-271.3443,  112.1721, -464.758 ]), array([-677.3063,  -42.7541, -741.6852]), array([-1341.414 ,  -124.1924, -1309.5737]), array([ -810.2974,   740.0407, -1851.3214]), array([-755.8415,  -56.8098, -827.1487]), array([ -886.863 ,    -1.7608, -1093.9315]), array([-45.1344,  10.8771, -58.4778]), array([-528.0727,  -35.9933, -629.6975]), array([ -672.28  ,   726.8744, -1770.0723]), array([-839.2776,  -51.4478, -859.8789]), array([-1423.3313,   -16.6687, -1671.8871]), array([-385.9819,  107.8514, -524.7182]), array([-492.0538,   -3.0336, -575.2174]), array([-313.1198,   30.7751, -408.522 ]), array([-545.5202,   17.784 , -588.1019]), array([-745.3563,    7.5433, -783.0891]), array([ -914.1755,   -87.4786, -1006.6728]), array([-57.9437,  12.3249, -78.2561]), array([-1797.8225,  -398.4126, -1566.0952]), array([-560.7034,   51.0697, -615.209 ]), array([-472.3319,   -8.6837, -558.8689]), array([-745.9993,  -14.7369, -771.6635]), array([-315.8815,   89.5581, -475.3486]), array([-60.3817,   2.2896, -79.2986]), array([-1126.0392,   140.2521, -1401.9124]), array([-117.2447,   20.9698, -142.081 ]), array([-129.0539,    9.6417, -146.912 ]), array([-839.7413,  -99.4908, -823.5235]), array([-401.1634,   24.7149, -550.7395]), array([-1157.6921,   -94.4771, -1192.2417]), array([ -88.8644,   18.7544, -121.6265]), array([-244.8073,  167.3277, -428.2019]), array([-461.283 ,   32.0759, -585.0223]), array([-559.7134,    2.0411, -649.6877]), array([-150.3656,   15.5938, -200.9397]), array([ -98.3038,   13.0826, -127.0015]), array([-136.6539,   17.4681, -180.4352]), array([-565.67  ,   28.0866, -641.7381]), array([-303.8541,   34.7051, -385.9947]), array([-316.8856,   15.4497, -387.257 ]), array([-64.2387,   9.494 , -81.6327]), array([-170.3033,    0.375 , -211.179 ]), array([-1254.0055,   -87.3781, -1443.973 ]), array([-145.2153,  442.3148, -794.1645]), array([-119.4619,    9.9555, -150.4823]), array([-119.4619,    9.9555, -150.4823]), array([-63.411 ,  21.5904, -97.525 ]), array([ -93.5279,   12.5257, -121.454 ]), array([-13.5145,   4.3011, -21.4831]), array([ -77.7806,   13.4308, -107.6615]), array([-148.624 ,   21.0495, -196.5454]), array([ -81.2173,   10.3901, -108.81  ]), array([-106.21  ,    9.0018, -132.4197]), array([-173.6477,   16.1311, -214.9748]), array([-11.5264,   0.1422, -12.8207]), array([-19.5453,   2.8418, -30.6865]), array([-25.8028,   0.1314, -29.2924])]\n"
     ]
    }
   ],
   "source": [
    "print([np.round(x, 4) for x in embeddings_spec2vec_lib])"
   ]
  },
  {
   "cell_type": "code",
   "execution_count": 108,
   "metadata": {},
   "outputs": [
    {
     "data": {
      "text/plain": [
       "(array([-46.50241708,  35.74422895, -98.19068345]),\n",
       " array([-27.02690245,  42.74319223, -85.46827176]))"
      ]
     },
     "execution_count": 108,
     "metadata": {},
     "output_type": "execute_result"
    }
   ],
   "source": [
    "import numpy as np\n",
    "from sklearn.mixture import GaussianMixture\n",
    "\n",
    "gm = GaussianMixture().fit(embeddings_spec2vec_lib)\n",
    "gm.means_\n",
    "gm.covariances_[0]\n",
    "np.dot(np.dot(D,np.linalg.inv(Sigma)),mu.T)\n",
    "np.dot(A, point.T)\n",
    "point,mu"
   ]
  },
  {
   "cell_type": "markdown",
   "metadata": {},
   "source": [
    "# Creating knockoffs\n"
   ]
  },
  {
   "cell_type": "code",
   "execution_count": 109,
   "metadata": {},
   "outputs": [
    {
     "name": "stdout",
     "output_type": "stream",
     "text": [
      "True\n",
      "[<spec2vec.SpectrumDocument.SpectrumDocument object at 0x0000025729997040>, <spec2vec.SpectrumDocument.SpectrumDocument object at 0x0000025729997610>, <spec2vec.SpectrumDocument.SpectrumDocument object at 0x00000257299A3700>, <spec2vec.SpectrumDocument.SpectrumDocument object at 0x00000257299A3C40>, <spec2vec.SpectrumDocument.SpectrumDocument object at 0x0000025729A92DC0>, <spec2vec.SpectrumDocument.SpectrumDocument object at 0x0000025729A92DF0>, <spec2vec.SpectrumDocument.SpectrumDocument object at 0x00000257299DCF70>, <spec2vec.SpectrumDocument.SpectrumDocument object at 0x00000257299DCC70>, <spec2vec.SpectrumDocument.SpectrumDocument object at 0x0000025729A954F0>, <spec2vec.SpectrumDocument.SpectrumDocument object at 0x0000025729A95880>, <spec2vec.SpectrumDocument.SpectrumDocument object at 0x0000025729A950D0>, <spec2vec.SpectrumDocument.SpectrumDocument object at 0x0000025729A99280>, <spec2vec.SpectrumDocument.SpectrumDocument object at 0x0000025729A996D0>, <spec2vec.SpectrumDocument.SpectrumDocument object at 0x0000025729A99640>, <spec2vec.SpectrumDocument.SpectrumDocument object at 0x0000025729A99FD0>, <spec2vec.SpectrumDocument.SpectrumDocument object at 0x0000025729A9D820>, <spec2vec.SpectrumDocument.SpectrumDocument object at 0x0000025729960130>, <spec2vec.SpectrumDocument.SpectrumDocument object at 0x0000025729960460>, <spec2vec.SpectrumDocument.SpectrumDocument object at 0x0000025729960040>, <spec2vec.SpectrumDocument.SpectrumDocument object at 0x00000257287ADEB0>, <spec2vec.SpectrumDocument.SpectrumDocument object at 0x00000257287B1790>, <spec2vec.SpectrumDocument.SpectrumDocument object at 0x00000257287B17C0>, <spec2vec.SpectrumDocument.SpectrumDocument object at 0x000002572879CCD0>, <spec2vec.SpectrumDocument.SpectrumDocument object at 0x00000257287A0A30>, <spec2vec.SpectrumDocument.SpectrumDocument object at 0x00000257287A8730>, <spec2vec.SpectrumDocument.SpectrumDocument object at 0x00000257287B8F70>, <spec2vec.SpectrumDocument.SpectrumDocument object at 0x00000257287BDD30>, <spec2vec.SpectrumDocument.SpectrumDocument object at 0x00000257287C5130>, <spec2vec.SpectrumDocument.SpectrumDocument object at 0x00000257287CD070>, <spec2vec.SpectrumDocument.SpectrumDocument object at 0x00000257287D0AF0>, <spec2vec.SpectrumDocument.SpectrumDocument object at 0x00000257287D4EB0>, <spec2vec.SpectrumDocument.SpectrumDocument object at 0x00000257287DF160>, <spec2vec.SpectrumDocument.SpectrumDocument object at 0x00000257287DFCA0>, <spec2vec.SpectrumDocument.SpectrumDocument object at 0x00000257287E49A0>, <spec2vec.SpectrumDocument.SpectrumDocument object at 0x00000257287E7FA0>, <spec2vec.SpectrumDocument.SpectrumDocument object at 0x00000257287EAD00>, <spec2vec.SpectrumDocument.SpectrumDocument object at 0x00000257287F02E0>, <spec2vec.SpectrumDocument.SpectrumDocument object at 0x00000257287F3BE0>, <spec2vec.SpectrumDocument.SpectrumDocument object at 0x00000257287F65E0>, <spec2vec.SpectrumDocument.SpectrumDocument object at 0x00000257287FC520>, <spec2vec.SpectrumDocument.SpectrumDocument object at 0x00000257288010A0>, <spec2vec.SpectrumDocument.SpectrumDocument object at 0x0000025728801D60>, <spec2vec.SpectrumDocument.SpectrumDocument object at 0x0000025728803FA0>, <spec2vec.SpectrumDocument.SpectrumDocument object at 0x000002572880EFA0>, <spec2vec.SpectrumDocument.SpectrumDocument object at 0x00000257297E1820>, <spec2vec.SpectrumDocument.SpectrumDocument object at 0x00000257297E49A0>, <spec2vec.SpectrumDocument.SpectrumDocument object at 0x00000257297E4CA0>, <spec2vec.SpectrumDocument.SpectrumDocument object at 0x00000257297F29A0>, <spec2vec.SpectrumDocument.SpectrumDocument object at 0x00000257297F5A60>, <spec2vec.SpectrumDocument.SpectrumDocument object at 0x00000257297F8BE0>, <spec2vec.SpectrumDocument.SpectrumDocument object at 0x000002572984CBB0>, <spec2vec.SpectrumDocument.SpectrumDocument object at 0x00000257297FE820>, <spec2vec.SpectrumDocument.SpectrumDocument object at 0x0000025729802160>, <spec2vec.SpectrumDocument.SpectrumDocument object at 0x00000257298050A0>, <spec2vec.SpectrumDocument.SpectrumDocument object at 0x0000025729805B20>, <spec2vec.SpectrumDocument.SpectrumDocument object at 0x0000025729809EE0>, <spec2vec.SpectrumDocument.SpectrumDocument object at 0x0000025729810460>, <spec2vec.SpectrumDocument.SpectrumDocument object at 0x0000025729813820>, <spec2vec.SpectrumDocument.SpectrumDocument object at 0x0000025729817160>, <spec2vec.SpectrumDocument.SpectrumDocument object at 0x000002572981A0A0>, <spec2vec.SpectrumDocument.SpectrumDocument object at 0x000002572981AB20>, <spec2vec.SpectrumDocument.SpectrumDocument object at 0x000002572981C820>, <spec2vec.SpectrumDocument.SpectrumDocument object at 0x000002572982D3A0>, <spec2vec.SpectrumDocument.SpectrumDocument object at 0x0000025728783940>, <spec2vec.SpectrumDocument.SpectrumDocument object at 0x0000025727BC4790>, <spec2vec.SpectrumDocument.SpectrumDocument object at 0x0000025727CA56D0>, <spec2vec.SpectrumDocument.SpectrumDocument object at 0x0000025727CA5E20>, <spec2vec.SpectrumDocument.SpectrumDocument object at 0x0000025727CA5880>, <spec2vec.SpectrumDocument.SpectrumDocument object at 0x0000025727CBE9A0>, <spec2vec.SpectrumDocument.SpectrumDocument object at 0x0000025727CB1F70>, <spec2vec.SpectrumDocument.SpectrumDocument object at 0x0000025727CDD0D0>, <spec2vec.SpectrumDocument.SpectrumDocument object at 0x0000025727CD5460>, <spec2vec.SpectrumDocument.SpectrumDocument object at 0x0000025727CE58E0>, <spec2vec.SpectrumDocument.SpectrumDocument object at 0x0000025727CE56D0>, <spec2vec.SpectrumDocument.SpectrumDocument object at 0x0000025727CF7A90>, <spec2vec.SpectrumDocument.SpectrumDocument object at 0x0000025727CF7100>, <spec2vec.SpectrumDocument.SpectrumDocument object at 0x0000025727CF7430>, <spec2vec.SpectrumDocument.SpectrumDocument object at 0x0000025727D1F670>, <spec2vec.SpectrumDocument.SpectrumDocument object at 0x0000025727D2DBB0>, <spec2vec.SpectrumDocument.SpectrumDocument object at 0x0000025727D154F0>, <spec2vec.SpectrumDocument.SpectrumDocument object at 0x0000025727D15B80>, <spec2vec.SpectrumDocument.SpectrumDocument object at 0x0000025727D39490>, <spec2vec.SpectrumDocument.SpectrumDocument object at 0x0000025727D39D00>, <spec2vec.SpectrumDocument.SpectrumDocument object at 0x0000025727D31CA0>, <spec2vec.SpectrumDocument.SpectrumDocument object at 0x0000025727D315B0>, <spec2vec.SpectrumDocument.SpectrumDocument object at 0x0000025727D4EF40>, <spec2vec.SpectrumDocument.SpectrumDocument object at 0x0000025727D4EAF0>, <spec2vec.SpectrumDocument.SpectrumDocument object at 0x0000025727CCBA00>, <spec2vec.SpectrumDocument.SpectrumDocument object at 0x0000025727CCBD60>, <spec2vec.SpectrumDocument.SpectrumDocument object at 0x0000025727C2C0A0>, <spec2vec.SpectrumDocument.SpectrumDocument object at 0x0000025727D7CFA0>, <spec2vec.SpectrumDocument.SpectrumDocument object at 0x0000025727D8E520>, <spec2vec.SpectrumDocument.SpectrumDocument object at 0x0000025727D97460>, <spec2vec.SpectrumDocument.SpectrumDocument object at 0x0000025727D979A0>, <spec2vec.SpectrumDocument.SpectrumDocument object at 0x0000025727CC5B20>, <spec2vec.SpectrumDocument.SpectrumDocument object at 0x0000025727CD8400>, <spec2vec.SpectrumDocument.SpectrumDocument object at 0x00000257299A62E0>, <spec2vec.SpectrumDocument.SpectrumDocument object at 0x00000257299A6B80>, <spec2vec.SpectrumDocument.SpectrumDocument object at 0x00000257299A6B50>, <spec2vec.SpectrumDocument.SpectrumDocument object at 0x00000257298A62B0>, <spec2vec.SpectrumDocument.SpectrumDocument object at 0x00000257298A6550>, <spec2vec.SpectrumDocument.SpectrumDocument object at 0x00000257298A6C70>, <spec2vec.SpectrumDocument.SpectrumDocument object at 0x0000025729963430>, <spec2vec.SpectrumDocument.SpectrumDocument object at 0x0000025729963490>, <spec2vec.SpectrumDocument.SpectrumDocument object at 0x0000025729963EE0>, <spec2vec.SpectrumDocument.SpectrumDocument object at 0x00000257299635B0>, <spec2vec.SpectrumDocument.SpectrumDocument object at 0x0000025729963B50>, <spec2vec.SpectrumDocument.SpectrumDocument object at 0x0000025729963BB0>, <spec2vec.SpectrumDocument.SpectrumDocument object at 0x0000025729963310>, <spec2vec.SpectrumDocument.SpectrumDocument object at 0x00000257299687F0>, <spec2vec.SpectrumDocument.SpectrumDocument object at 0x00000257299686D0>, <spec2vec.SpectrumDocument.SpectrumDocument object at 0x0000025729968D30>, <spec2vec.SpectrumDocument.SpectrumDocument object at 0x00000257298B00A0>, <spec2vec.SpectrumDocument.SpectrumDocument object at 0x00000257298B04F0>, <spec2vec.SpectrumDocument.SpectrumDocument object at 0x00000257298B03D0>, <spec2vec.SpectrumDocument.SpectrumDocument object at 0x00000257298B02B0>, <spec2vec.SpectrumDocument.SpectrumDocument object at 0x00000257298B0400>, <spec2vec.SpectrumDocument.SpectrumDocument object at 0x00000257298AB700>, <spec2vec.SpectrumDocument.SpectrumDocument object at 0x00000257298AB5B0>, <spec2vec.SpectrumDocument.SpectrumDocument object at 0x00000257298ABF10>, <spec2vec.SpectrumDocument.SpectrumDocument object at 0x00000257298AB400>, <spec2vec.SpectrumDocument.SpectrumDocument object at 0x00000257298ABE80>, <spec2vec.SpectrumDocument.SpectrumDocument object at 0x00000257298ABD60>, <spec2vec.SpectrumDocument.SpectrumDocument object at 0x00000257298AE1C0>, <spec2vec.SpectrumDocument.SpectrumDocument object at 0x00000257298AE490>, <spec2vec.SpectrumDocument.SpectrumDocument object at 0x00000257298AE5E0>, <spec2vec.SpectrumDocument.SpectrumDocument object at 0x00000257298AED30>, <spec2vec.SpectrumDocument.SpectrumDocument object at 0x00000257298AED60>, <spec2vec.SpectrumDocument.SpectrumDocument object at 0x00000257298AF8B0>, <spec2vec.SpectrumDocument.SpectrumDocument object at 0x00000257298AF520>, <spec2vec.SpectrumDocument.SpectrumDocument object at 0x00000257298AF730>, <spec2vec.SpectrumDocument.SpectrumDocument object at 0x00000257298AFD60>, <spec2vec.SpectrumDocument.SpectrumDocument object at 0x00000257298AF640>, <spec2vec.SpectrumDocument.SpectrumDocument object at 0x00000257298C10A0>, <spec2vec.SpectrumDocument.SpectrumDocument object at 0x00000257298C13A0>, <spec2vec.SpectrumDocument.SpectrumDocument object at 0x00000257298C1850>, <spec2vec.SpectrumDocument.SpectrumDocument object at 0x00000257298C1AC0>, <spec2vec.SpectrumDocument.SpectrumDocument object at 0x00000257298C1D60>, <spec2vec.SpectrumDocument.SpectrumDocument object at 0x00000257298C1F10>, <spec2vec.SpectrumDocument.SpectrumDocument object at 0x00000257298C4670>, <spec2vec.SpectrumDocument.SpectrumDocument object at 0x00000257298C42E0>, <spec2vec.SpectrumDocument.SpectrumDocument object at 0x00000257298C4310>, <spec2vec.SpectrumDocument.SpectrumDocument object at 0x00000257298C4700>, <spec2vec.SpectrumDocument.SpectrumDocument object at 0x00000257298C4A90>, <spec2vec.SpectrumDocument.SpectrumDocument object at 0x00000257298C4F40>, <spec2vec.SpectrumDocument.SpectrumDocument object at 0x00000257298CC400>, <spec2vec.SpectrumDocument.SpectrumDocument object at 0x00000257298CC460>, <spec2vec.SpectrumDocument.SpectrumDocument object at 0x00000257298CC880>, <spec2vec.SpectrumDocument.SpectrumDocument object at 0x00000257298CCE80>, <spec2vec.SpectrumDocument.SpectrumDocument object at 0x00000257298CCFA0>, <spec2vec.SpectrumDocument.SpectrumDocument object at 0x00000257298CC3D0>, <spec2vec.SpectrumDocument.SpectrumDocument object at 0x00000257298CCB20>, <spec2vec.SpectrumDocument.SpectrumDocument object at 0x00000257298CCBB0>, <spec2vec.SpectrumDocument.SpectrumDocument object at 0x00000257298CCDC0>, <spec2vec.SpectrumDocument.SpectrumDocument object at 0x00000257298C8940>, <spec2vec.SpectrumDocument.SpectrumDocument object at 0x00000257298C88B0>, <spec2vec.SpectrumDocument.SpectrumDocument object at 0x00000257298C80D0>, <spec2vec.SpectrumDocument.SpectrumDocument object at 0x00000257298C8100>, <spec2vec.SpectrumDocument.SpectrumDocument object at 0x00000257298C82B0>, <spec2vec.SpectrumDocument.SpectrumDocument object at 0x00000257298C8670>, <spec2vec.SpectrumDocument.SpectrumDocument object at 0x00000257298C8A60>, <spec2vec.SpectrumDocument.SpectrumDocument object at 0x00000257298C8A00>, <spec2vec.SpectrumDocument.SpectrumDocument object at 0x00000257298C8B80>, <spec2vec.SpectrumDocument.SpectrumDocument object at 0x00000257298C8790>, <spec2vec.SpectrumDocument.SpectrumDocument object at 0x00000257298D00A0>, <spec2vec.SpectrumDocument.SpectrumDocument object at 0x00000257298D0EE0>, <spec2vec.SpectrumDocument.SpectrumDocument object at 0x00000257298D0220>, <spec2vec.SpectrumDocument.SpectrumDocument object at 0x00000257298D0310>, <spec2vec.SpectrumDocument.SpectrumDocument object at 0x00000257298D04F0>, <spec2vec.SpectrumDocument.SpectrumDocument object at 0x00000257298D0670>, <spec2vec.SpectrumDocument.SpectrumDocument object at 0x00000257298D07F0>, <spec2vec.SpectrumDocument.SpectrumDocument object at 0x00000257298D0AF0>, <spec2vec.SpectrumDocument.SpectrumDocument object at 0x00000257298D0A00>, <spec2vec.SpectrumDocument.SpectrumDocument object at 0x00000257298D0E80>, <spec2vec.SpectrumDocument.SpectrumDocument object at 0x00000257298D0940>, <spec2vec.SpectrumDocument.SpectrumDocument object at 0x00000257298C4C70>, <spec2vec.SpectrumDocument.SpectrumDocument object at 0x00000257298AFC10>, <spec2vec.SpectrumDocument.SpectrumDocument object at 0x00000257298D4DC0>, <spec2vec.SpectrumDocument.SpectrumDocument object at 0x00000257298D4040>, <spec2vec.SpectrumDocument.SpectrumDocument object at 0x00000257298D4520>, <spec2vec.SpectrumDocument.SpectrumDocument object at 0x00000257298D4760>, <spec2vec.SpectrumDocument.SpectrumDocument object at 0x00000257298D4490>, <spec2vec.SpectrumDocument.SpectrumDocument object at 0x00000257298D47C0>, <spec2vec.SpectrumDocument.SpectrumDocument object at 0x00000257298D4EE0>, <spec2vec.SpectrumDocument.SpectrumDocument object at 0x00000257298D4B80>, <spec2vec.SpectrumDocument.SpectrumDocument object at 0x00000257298DE400>, <spec2vec.SpectrumDocument.SpectrumDocument object at 0x00000257298DE8E0>, <spec2vec.SpectrumDocument.SpectrumDocument object at 0x00000257298DE4F0>, <spec2vec.SpectrumDocument.SpectrumDocument object at 0x00000257298DE130>, <spec2vec.SpectrumDocument.SpectrumDocument object at 0x00000257298DE1C0>, <spec2vec.SpectrumDocument.SpectrumDocument object at 0x00000257298DE610>, <spec2vec.SpectrumDocument.SpectrumDocument object at 0x00000257298DED00>, <spec2vec.SpectrumDocument.SpectrumDocument object at 0x00000257298DEEE0>, <spec2vec.SpectrumDocument.SpectrumDocument object at 0x00000257298DECA0>, <spec2vec.SpectrumDocument.SpectrumDocument object at 0x00000257298DE940>, <spec2vec.SpectrumDocument.SpectrumDocument object at 0x00000257298DAFD0>, <spec2vec.SpectrumDocument.SpectrumDocument object at 0x00000257298DA040>, <spec2vec.SpectrumDocument.SpectrumDocument object at 0x00000257298DA2B0>, <spec2vec.SpectrumDocument.SpectrumDocument object at 0x00000257298DA430>, <spec2vec.SpectrumDocument.SpectrumDocument object at 0x00000257298DA8E0>, <spec2vec.SpectrumDocument.SpectrumDocument object at 0x00000257298DACA0>, <spec2vec.SpectrumDocument.SpectrumDocument object at 0x00000257298DAE20>, <spec2vec.SpectrumDocument.SpectrumDocument object at 0x00000257298DAEE0>, <spec2vec.SpectrumDocument.SpectrumDocument object at 0x00000257298DA5E0>, <spec2vec.SpectrumDocument.SpectrumDocument object at 0x00000257298E8490>, <spec2vec.SpectrumDocument.SpectrumDocument object at 0x00000257298E8F70>, <spec2vec.SpectrumDocument.SpectrumDocument object at 0x00000257298E8190>, <spec2vec.SpectrumDocument.SpectrumDocument object at 0x00000257298E89A0>, <spec2vec.SpectrumDocument.SpectrumDocument object at 0x00000257298E8BE0>, <spec2vec.SpectrumDocument.SpectrumDocument object at 0x00000257298E8CA0>, <spec2vec.SpectrumDocument.SpectrumDocument object at 0x00000257298E8FD0>, <spec2vec.SpectrumDocument.SpectrumDocument object at 0x00000257298E8EB0>, <spec2vec.SpectrumDocument.SpectrumDocument object at 0x00000257298E3A90>, <spec2vec.SpectrumDocument.SpectrumDocument object at 0x00000257298E3100>, <spec2vec.SpectrumDocument.SpectrumDocument object at 0x00000257298E3430>, <spec2vec.SpectrumDocument.SpectrumDocument object at 0x00000257298E3760>, <spec2vec.SpectrumDocument.SpectrumDocument object at 0x00000257298E3BE0>, <spec2vec.SpectrumDocument.SpectrumDocument object at 0x00000257298E3DC0>, <spec2vec.SpectrumDocument.SpectrumDocument object at 0x00000257298E3EB0>, <spec2vec.SpectrumDocument.SpectrumDocument object at 0x00000257298E3820>, <spec2vec.SpectrumDocument.SpectrumDocument object at 0x00000257298EFBB0>, <spec2vec.SpectrumDocument.SpectrumDocument object at 0x00000257298EFD30>, <spec2vec.SpectrumDocument.SpectrumDocument object at 0x00000257298EF040>, <spec2vec.SpectrumDocument.SpectrumDocument object at 0x00000257298EF4F0>, <spec2vec.SpectrumDocument.SpectrumDocument object at 0x00000257298EFB50>, <spec2vec.SpectrumDocument.SpectrumDocument object at 0x00000257298EF580>, <spec2vec.SpectrumDocument.SpectrumDocument object at 0x00000257298EF430>, <spec2vec.SpectrumDocument.SpectrumDocument object at 0x00000257298F36A0>, <spec2vec.SpectrumDocument.SpectrumDocument object at 0x00000257298F31C0>, <spec2vec.SpectrumDocument.SpectrumDocument object at 0x00000257298F3850>, <spec2vec.SpectrumDocument.SpectrumDocument object at 0x00000257298F3B50>, <spec2vec.SpectrumDocument.SpectrumDocument object at 0x00000257298F3A00>, <spec2vec.SpectrumDocument.SpectrumDocument object at 0x00000257298F3520>, <spec2vec.SpectrumDocument.SpectrumDocument object at 0x00000257298F3880>, <spec2vec.SpectrumDocument.SpectrumDocument object at 0x00000257298F81C0>, <spec2vec.SpectrumDocument.SpectrumDocument object at 0x00000257298F8730>, <spec2vec.SpectrumDocument.SpectrumDocument object at 0x00000257298F88B0>, <spec2vec.SpectrumDocument.SpectrumDocument object at 0x00000257298F8A30>, <spec2vec.SpectrumDocument.SpectrumDocument object at 0x00000257298F8D30>, <spec2vec.SpectrumDocument.SpectrumDocument object at 0x00000257298FB700>, <spec2vec.SpectrumDocument.SpectrumDocument object at 0x00000257298FB7F0>, <spec2vec.SpectrumDocument.SpectrumDocument object at 0x00000257298FBC70>, <spec2vec.SpectrumDocument.SpectrumDocument object at 0x00000257298FBF70>, <spec2vec.SpectrumDocument.SpectrumDocument object at 0x00000257298FB0D0>, <spec2vec.SpectrumDocument.SpectrumDocument object at 0x00000257298FBAF0>, <spec2vec.SpectrumDocument.SpectrumDocument object at 0x00000257298FB0A0>, <spec2vec.SpectrumDocument.SpectrumDocument object at 0x00000257298FF250>, <spec2vec.SpectrumDocument.SpectrumDocument object at 0x00000257298FF670>, <spec2vec.SpectrumDocument.SpectrumDocument object at 0x00000257298FF970>, <spec2vec.SpectrumDocument.SpectrumDocument object at 0x00000257298FFC70>, <spec2vec.SpectrumDocument.SpectrumDocument object at 0x00000257298FF3D0>, <spec2vec.SpectrumDocument.SpectrumDocument object at 0x00000257298FF6D0>, <spec2vec.SpectrumDocument.SpectrumDocument object at 0x00000257298FF9D0>, <spec2vec.SpectrumDocument.SpectrumDocument object at 0x00000257298FFCD0>, <spec2vec.SpectrumDocument.SpectrumDocument object at 0x00000257299042E0>, <spec2vec.SpectrumDocument.SpectrumDocument object at 0x0000025729904520>, <spec2vec.SpectrumDocument.SpectrumDocument object at 0x00000257299042B0>, <spec2vec.SpectrumDocument.SpectrumDocument object at 0x00000257299048B0>, <spec2vec.SpectrumDocument.SpectrumDocument object at 0x0000025729904970>, <spec2vec.SpectrumDocument.SpectrumDocument object at 0x00000257299047F0>, <spec2vec.SpectrumDocument.SpectrumDocument object at 0x0000025729904BB0>, <spec2vec.SpectrumDocument.SpectrumDocument object at 0x0000025729904C40>, <spec2vec.SpectrumDocument.SpectrumDocument object at 0x0000025729904F40>, <spec2vec.SpectrumDocument.SpectrumDocument object at 0x000002572990D430>, <spec2vec.SpectrumDocument.SpectrumDocument object at 0x000002572990D0A0>, <spec2vec.SpectrumDocument.SpectrumDocument object at 0x000002572990D850>, <spec2vec.SpectrumDocument.SpectrumDocument object at 0x000002572990D9D0>, <spec2vec.SpectrumDocument.SpectrumDocument object at 0x000002572990D6A0>, <spec2vec.SpectrumDocument.SpectrumDocument object at 0x000002572990DBB0>, <spec2vec.SpectrumDocument.SpectrumDocument object at 0x000002572990DE20>, <spec2vec.SpectrumDocument.SpectrumDocument object at 0x000002572990D070>, <spec2vec.SpectrumDocument.SpectrumDocument object at 0x00000257299080A0>, <spec2vec.SpectrumDocument.SpectrumDocument object at 0x0000025729908340>, <spec2vec.SpectrumDocument.SpectrumDocument object at 0x0000025729908670>, <spec2vec.SpectrumDocument.SpectrumDocument object at 0x00000257299085B0>, <spec2vec.SpectrumDocument.SpectrumDocument object at 0x0000025729908970>, <spec2vec.SpectrumDocument.SpectrumDocument object at 0x0000025729908A90>, <spec2vec.SpectrumDocument.SpectrumDocument object at 0x0000025729908DC0>, <spec2vec.SpectrumDocument.SpectrumDocument object at 0x0000025729908E80>, <spec2vec.SpectrumDocument.SpectrumDocument object at 0x0000025729911280>, <spec2vec.SpectrumDocument.SpectrumDocument object at 0x0000025729911F70>, <spec2vec.SpectrumDocument.SpectrumDocument object at 0x0000025729911220>, <spec2vec.SpectrumDocument.SpectrumDocument object at 0x0000025729911490>, <spec2vec.SpectrumDocument.SpectrumDocument object at 0x00000257299117C0>, <spec2vec.SpectrumDocument.SpectrumDocument object at 0x0000025729911A90>, <spec2vec.SpectrumDocument.SpectrumDocument object at 0x0000025729911C10>, <spec2vec.SpectrumDocument.SpectrumDocument object at 0x0000025729916580>, <spec2vec.SpectrumDocument.SpectrumDocument object at 0x00000257299165E0>, <spec2vec.SpectrumDocument.SpectrumDocument object at 0x0000025729916100>, <spec2vec.SpectrumDocument.SpectrumDocument object at 0x0000025729916490>, <spec2vec.SpectrumDocument.SpectrumDocument object at 0x0000025729916C70>, <spec2vec.SpectrumDocument.SpectrumDocument object at 0x0000025729916DF0>, <spec2vec.SpectrumDocument.SpectrumDocument object at 0x0000025729916F10>, <spec2vec.SpectrumDocument.SpectrumDocument object at 0x0000025729916EB0>, <spec2vec.SpectrumDocument.SpectrumDocument object at 0x0000025729919280>, <spec2vec.SpectrumDocument.SpectrumDocument object at 0x00000257299192E0>, <spec2vec.SpectrumDocument.SpectrumDocument object at 0x0000025729919820>, <spec2vec.SpectrumDocument.SpectrumDocument object at 0x00000257299199A0>, <spec2vec.SpectrumDocument.SpectrumDocument object at 0x0000025729919B20>, <spec2vec.SpectrumDocument.SpectrumDocument object at 0x0000025729919CA0>, <spec2vec.SpectrumDocument.SpectrumDocument object at 0x0000025729919E20>, <spec2vec.SpectrumDocument.SpectrumDocument object at 0x0000025729919FA0>, <spec2vec.SpectrumDocument.SpectrumDocument object at 0x0000025729919EB0>, <spec2vec.SpectrumDocument.SpectrumDocument object at 0x0000025729919070>, <spec2vec.SpectrumDocument.SpectrumDocument object at 0x000002572991E1F0>, <spec2vec.SpectrumDocument.SpectrumDocument object at 0x000002572991E280>, <spec2vec.SpectrumDocument.SpectrumDocument object at 0x000002572991E3D0>, <spec2vec.SpectrumDocument.SpectrumDocument object at 0x000002572991E6D0>, <spec2vec.SpectrumDocument.SpectrumDocument object at 0x000002572991E9D0>, <spec2vec.SpectrumDocument.SpectrumDocument object at 0x000002572991ECD0>, <spec2vec.SpectrumDocument.SpectrumDocument object at 0x000002572991EE50>, <spec2vec.SpectrumDocument.SpectrumDocument object at 0x000002572991EDC0>, <spec2vec.SpectrumDocument.SpectrumDocument object at 0x0000025729922700>, <spec2vec.SpectrumDocument.SpectrumDocument object at 0x0000025729922220>, <spec2vec.SpectrumDocument.SpectrumDocument object at 0x0000025729922310>, <spec2vec.SpectrumDocument.SpectrumDocument object at 0x0000025729922610>, <spec2vec.SpectrumDocument.SpectrumDocument object at 0x0000025729922790>, <spec2vec.SpectrumDocument.SpectrumDocument object at 0x0000025729922910>, <spec2vec.SpectrumDocument.SpectrumDocument object at 0x0000025729922C10>, <spec2vec.SpectrumDocument.SpectrumDocument object at 0x0000025729922D90>, <spec2vec.SpectrumDocument.SpectrumDocument object at 0x0000025729926580>, <spec2vec.SpectrumDocument.SpectrumDocument object at 0x0000025729926A60>, <spec2vec.SpectrumDocument.SpectrumDocument object at 0x0000025729926040>, <spec2vec.SpectrumDocument.SpectrumDocument object at 0x0000025729926340>, <spec2vec.SpectrumDocument.SpectrumDocument object at 0x0000025729926940>, <spec2vec.SpectrumDocument.SpectrumDocument object at 0x0000025729926AC0>, <spec2vec.SpectrumDocument.SpectrumDocument object at 0x0000025729926C40>, <spec2vec.SpectrumDocument.SpectrumDocument object at 0x0000025729926F40>, <spec2vec.SpectrumDocument.SpectrumDocument object at 0x000002572992C1C0>, <spec2vec.SpectrumDocument.SpectrumDocument object at 0x000002572992C100>, <spec2vec.SpectrumDocument.SpectrumDocument object at 0x000002572992C700>, <spec2vec.SpectrumDocument.SpectrumDocument object at 0x000002572992C400>, <spec2vec.SpectrumDocument.SpectrumDocument object at 0x000002572992C880>, <spec2vec.SpectrumDocument.SpectrumDocument object at 0x000002572992CA00>, <spec2vec.SpectrumDocument.SpectrumDocument object at 0x000002572992CB80>, <spec2vec.SpectrumDocument.SpectrumDocument object at 0x000002572992C190>, <spec2vec.SpectrumDocument.SpectrumDocument object at 0x00000257299305E0>, <spec2vec.SpectrumDocument.SpectrumDocument object at 0x00000257299302B0>, <spec2vec.SpectrumDocument.SpectrumDocument object at 0x00000257299308B0>, <spec2vec.SpectrumDocument.SpectrumDocument object at 0x0000025729930BB0>, <spec2vec.SpectrumDocument.SpectrumDocument object at 0x0000025729930EB0>, <spec2vec.SpectrumDocument.SpectrumDocument object at 0x00000257299342B0>, <spec2vec.SpectrumDocument.SpectrumDocument object at 0x0000025729934B20>, <spec2vec.SpectrumDocument.SpectrumDocument object at 0x0000025729934DC0>, <spec2vec.SpectrumDocument.SpectrumDocument object at 0x00000257299341F0>, <spec2vec.SpectrumDocument.SpectrumDocument object at 0x0000025729934400>, <spec2vec.SpectrumDocument.SpectrumDocument object at 0x0000025729934580>, <spec2vec.SpectrumDocument.SpectrumDocument object at 0x0000025729934B80>, <spec2vec.SpectrumDocument.SpectrumDocument object at 0x0000025729934D00>, <spec2vec.SpectrumDocument.SpectrumDocument object at 0x00000257299380D0>, <spec2vec.SpectrumDocument.SpectrumDocument object at 0x00000257299385B0>, <spec2vec.SpectrumDocument.SpectrumDocument object at 0x00000257299384C0>, <spec2vec.SpectrumDocument.SpectrumDocument object at 0x0000025729938640>, <spec2vec.SpectrumDocument.SpectrumDocument object at 0x00000257299387C0>, <spec2vec.SpectrumDocument.SpectrumDocument object at 0x0000025729938940>, <spec2vec.SpectrumDocument.SpectrumDocument object at 0x0000025729938AC0>, <spec2vec.SpectrumDocument.SpectrumDocument object at 0x0000025729938C40>, <spec2vec.SpectrumDocument.SpectrumDocument object at 0x0000025729938F40>, <spec2vec.SpectrumDocument.SpectrumDocument object at 0x00000257299410D0>, <spec2vec.SpectrumDocument.SpectrumDocument object at 0x0000025729941310>, <spec2vec.SpectrumDocument.SpectrumDocument object at 0x0000025729941490>, <spec2vec.SpectrumDocument.SpectrumDocument object at 0x0000025729941790>, <spec2vec.SpectrumDocument.SpectrumDocument object at 0x0000025729941C10>, <spec2vec.SpectrumDocument.SpectrumDocument object at 0x0000025729941D90>, <spec2vec.SpectrumDocument.SpectrumDocument object at 0x0000025729941070>, <spec2vec.SpectrumDocument.SpectrumDocument object at 0x00000257299447C0>, <spec2vec.SpectrumDocument.SpectrumDocument object at 0x0000025729944250>, <spec2vec.SpectrumDocument.SpectrumDocument object at 0x0000025729944460>, <spec2vec.SpectrumDocument.SpectrumDocument object at 0x00000257299448E0>, <spec2vec.SpectrumDocument.SpectrumDocument object at 0x00000257299445E0>, <spec2vec.SpectrumDocument.SpectrumDocument object at 0x0000025729944A60>, <spec2vec.SpectrumDocument.SpectrumDocument object at 0x0000025729944BE0>, <spec2vec.SpectrumDocument.SpectrumDocument object at 0x0000025729944EE0>, <spec2vec.SpectrumDocument.SpectrumDocument object at 0x0000025729944130>, <spec2vec.SpectrumDocument.SpectrumDocument object at 0x00000257299496D0>, <spec2vec.SpectrumDocument.SpectrumDocument object at 0x0000025729949250>, <spec2vec.SpectrumDocument.SpectrumDocument object at 0x0000025729949430>, <spec2vec.SpectrumDocument.SpectrumDocument object at 0x00000257299495B0>, <spec2vec.SpectrumDocument.SpectrumDocument object at 0x00000257299498B0>, <spec2vec.SpectrumDocument.SpectrumDocument object at 0x0000025729949A30>, <spec2vec.SpectrumDocument.SpectrumDocument object at 0x0000025729949BB0>, <spec2vec.SpectrumDocument.SpectrumDocument object at 0x0000025729949D30>, <spec2vec.SpectrumDocument.SpectrumDocument object at 0x0000025729949EB0>, <spec2vec.SpectrumDocument.SpectrumDocument object at 0x0000025729949070>, <spec2vec.SpectrumDocument.SpectrumDocument object at 0x000002572994D040>, <spec2vec.SpectrumDocument.SpectrumDocument object at 0x000002572994D3A0>, <spec2vec.SpectrumDocument.SpectrumDocument object at 0x000002572994D4C0>, <spec2vec.SpectrumDocument.SpectrumDocument object at 0x000002572994D640>, <spec2vec.SpectrumDocument.SpectrumDocument object at 0x000002572994D7C0>, <spec2vec.SpectrumDocument.SpectrumDocument object at 0x000002572994D940>, <spec2vec.SpectrumDocument.SpectrumDocument object at 0x000002572994DC40>, <spec2vec.SpectrumDocument.SpectrumDocument object at 0x000002572994DF40>, <spec2vec.SpectrumDocument.SpectrumDocument object at 0x000002572994D0D0>, <spec2vec.SpectrumDocument.SpectrumDocument object at 0x0000025729951400>, <spec2vec.SpectrumDocument.SpectrumDocument object at 0x0000025729951580>, <spec2vec.SpectrumDocument.SpectrumDocument object at 0x0000025729951700>, <spec2vec.SpectrumDocument.SpectrumDocument object at 0x0000025729951A00>, <spec2vec.SpectrumDocument.SpectrumDocument object at 0x0000025729951E80>, <spec2vec.SpectrumDocument.SpectrumDocument object at 0x0000025729951DF0>, <spec2vec.SpectrumDocument.SpectrumDocument object at 0x0000025729954040>, <spec2vec.SpectrumDocument.SpectrumDocument object at 0x00000257299543A0>, <spec2vec.SpectrumDocument.SpectrumDocument object at 0x00000257299544C0>, <spec2vec.SpectrumDocument.SpectrumDocument object at 0x0000025729954640>, <spec2vec.SpectrumDocument.SpectrumDocument object at 0x00000257299547C0>, <spec2vec.SpectrumDocument.SpectrumDocument object at 0x0000025729954940>, <spec2vec.SpectrumDocument.SpectrumDocument object at 0x0000025729954AC0>, <spec2vec.SpectrumDocument.SpectrumDocument object at 0x0000025729954C40>, <spec2vec.SpectrumDocument.SpectrumDocument object at 0x0000025729954DC0>, <spec2vec.SpectrumDocument.SpectrumDocument object at 0x0000025729954F40>, <spec2vec.SpectrumDocument.SpectrumDocument object at 0x00000257299540D0>, <spec2vec.SpectrumDocument.SpectrumDocument object at 0x0000025729957400>, <spec2vec.SpectrumDocument.SpectrumDocument object at 0x0000025729957700>, <spec2vec.SpectrumDocument.SpectrumDocument object at 0x0000025729957880>, <spec2vec.SpectrumDocument.SpectrumDocument object at 0x0000025729957A00>, <spec2vec.SpectrumDocument.SpectrumDocument object at 0x0000025729957B80>, <spec2vec.SpectrumDocument.SpectrumDocument object at 0x0000025729957D00>, <spec2vec.SpectrumDocument.SpectrumDocument object at 0x0000025729957F70>, <spec2vec.SpectrumDocument.SpectrumDocument object at 0x000002572995C2E0>, <spec2vec.SpectrumDocument.SpectrumDocument object at 0x000002572995C6A0>, <spec2vec.SpectrumDocument.SpectrumDocument object at 0x000002572995C3A0>, <spec2vec.SpectrumDocument.SpectrumDocument object at 0x000002572996D790>, <spec2vec.SpectrumDocument.SpectrumDocument object at 0x000002572996DBB0>, <spec2vec.SpectrumDocument.SpectrumDocument object at 0x000002572996DD30>, <spec2vec.SpectrumDocument.SpectrumDocument object at 0x000002572996DEB0>, <spec2vec.SpectrumDocument.SpectrumDocument object at 0x000002572996D3A0>, <spec2vec.SpectrumDocument.SpectrumDocument object at 0x000002572996D520>, <spec2vec.SpectrumDocument.SpectrumDocument object at 0x000002572996D310>, <spec2vec.SpectrumDocument.SpectrumDocument object at 0x000002572996DF40>, <spec2vec.SpectrumDocument.SpectrumDocument object at 0x000002572996D6D0>, <spec2vec.SpectrumDocument.SpectrumDocument object at 0x00000257297FB220>, <spec2vec.SpectrumDocument.SpectrumDocument object at 0x00000257297FB790>, <spec2vec.SpectrumDocument.SpectrumDocument object at 0x00000257297FB280>, <spec2vec.SpectrumDocument.SpectrumDocument object at 0x000002572873A9A0>, <spec2vec.SpectrumDocument.SpectrumDocument object at 0x000002572873AF40>, <spec2vec.SpectrumDocument.SpectrumDocument object at 0x000002572873AF70>, <spec2vec.SpectrumDocument.SpectrumDocument object at 0x0000025727C88A90>, <spec2vec.SpectrumDocument.SpectrumDocument object at 0x0000025727C88EE0>, <spec2vec.SpectrumDocument.SpectrumDocument object at 0x00000257298EA4F0>, <spec2vec.SpectrumDocument.SpectrumDocument object at 0x00000257298EA0A0>, <spec2vec.SpectrumDocument.SpectrumDocument object at 0x00000257298EACD0>, <spec2vec.SpectrumDocument.SpectrumDocument object at 0x00000257298EA8B0>, <spec2vec.SpectrumDocument.SpectrumDocument object at 0x00000257298EA2E0>, <spec2vec.SpectrumDocument.SpectrumDocument object at 0x00000257298EA040>, <spec2vec.SpectrumDocument.SpectrumDocument object at 0x00000257298EAE20>, <spec2vec.SpectrumDocument.SpectrumDocument object at 0x00000257298EAAC0>, <spec2vec.SpectrumDocument.SpectrumDocument object at 0x00000257298EA880>, <spec2vec.SpectrumDocument.SpectrumDocument object at 0x000002572993C1C0>, <spec2vec.SpectrumDocument.SpectrumDocument object at 0x000002572993C100>, <spec2vec.SpectrumDocument.SpectrumDocument object at 0x000002572993C280>, <spec2vec.SpectrumDocument.SpectrumDocument object at 0x000002572993C400>, <spec2vec.SpectrumDocument.SpectrumDocument object at 0x000002572993C580>, <spec2vec.SpectrumDocument.SpectrumDocument object at 0x000002572993C880>, <spec2vec.SpectrumDocument.SpectrumDocument object at 0x000002572993CA00>, <spec2vec.SpectrumDocument.SpectrumDocument object at 0x000002572993CB80>, <spec2vec.SpectrumDocument.SpectrumDocument object at 0x000002572993CD00>, <spec2vec.SpectrumDocument.SpectrumDocument object at 0x00000257299A1340>, <spec2vec.SpectrumDocument.SpectrumDocument object at 0x00000257299A1430>, <spec2vec.SpectrumDocument.SpectrumDocument object at 0x00000257299A1820>, <spec2vec.SpectrumDocument.SpectrumDocument object at 0x00000257297F0B20>, <spec2vec.SpectrumDocument.SpectrumDocument object at 0x00000257297F07C0>, <spec2vec.SpectrumDocument.SpectrumDocument object at 0x00000257297F09D0>, <spec2vec.SpectrumDocument.SpectrumDocument object at 0x00000257297F0A00>, <spec2vec.SpectrumDocument.SpectrumDocument object at 0x00000257297F0340>, <spec2vec.SpectrumDocument.SpectrumDocument object at 0x00000257298A9100>, <spec2vec.SpectrumDocument.SpectrumDocument object at 0x00000257298A9B20>, <spec2vec.SpectrumDocument.SpectrumDocument object at 0x00000257298A92E0>, <spec2vec.SpectrumDocument.SpectrumDocument object at 0x00000257298A9C10>, <spec2vec.SpectrumDocument.SpectrumDocument object at 0x00000257298A9880>, <spec2vec.SpectrumDocument.SpectrumDocument object at 0x00000257298A9970>, <spec2vec.SpectrumDocument.SpectrumDocument object at 0x00000257298A9820>, <spec2vec.SpectrumDocument.SpectrumDocument object at 0x00000257298A9D90>, <spec2vec.SpectrumDocument.SpectrumDocument object at 0x00000257298A9430>, <spec2vec.SpectrumDocument.SpectrumDocument object at 0x0000025729971FD0>, <spec2vec.SpectrumDocument.SpectrumDocument object at 0x0000025729971250>, <spec2vec.SpectrumDocument.SpectrumDocument object at 0x00000257299715E0>, <spec2vec.SpectrumDocument.SpectrumDocument object at 0x0000025729971430>, <spec2vec.SpectrumDocument.SpectrumDocument object at 0x0000025729971580>, <spec2vec.SpectrumDocument.SpectrumDocument object at 0x00000257299718B0>, <spec2vec.SpectrumDocument.SpectrumDocument object at 0x0000025729971CA0>, <spec2vec.SpectrumDocument.SpectrumDocument object at 0x0000025729971700>, <spec2vec.SpectrumDocument.SpectrumDocument object at 0x00000257299719D0>, <spec2vec.SpectrumDocument.SpectrumDocument object at 0x0000025729971970>, <spec2vec.SpectrumDocument.SpectrumDocument object at 0x0000025729971D60>, <spec2vec.SpectrumDocument.SpectrumDocument object at 0x0000025727CD9C40>, <spec2vec.SpectrumDocument.SpectrumDocument object at 0x0000025727CD9340>, <spec2vec.SpectrumDocument.SpectrumDocument object at 0x0000025727CD9580>, <spec2vec.SpectrumDocument.SpectrumDocument object at 0x0000025727CD97C0>, <spec2vec.SpectrumDocument.SpectrumDocument object at 0x0000025727CD9DC0>, <spec2vec.SpectrumDocument.SpectrumDocument object at 0x0000025727CD9F40>, <spec2vec.SpectrumDocument.SpectrumDocument object at 0x00000257299975E0>, <spec2vec.SpectrumDocument.SpectrumDocument object at 0x0000025727D4A250>, <spec2vec.SpectrumDocument.SpectrumDocument object at 0x0000025727D4A130>, <spec2vec.SpectrumDocument.SpectrumDocument object at 0x0000025727D4A6D0>, <spec2vec.SpectrumDocument.SpectrumDocument object at 0x0000025727D4A790>, <spec2vec.SpectrumDocument.SpectrumDocument object at 0x0000025727D4A970>, <spec2vec.SpectrumDocument.SpectrumDocument object at 0x0000025727D4AAF0>, <spec2vec.SpectrumDocument.SpectrumDocument object at 0x0000025727D4AC70>, <spec2vec.SpectrumDocument.SpectrumDocument object at 0x0000025727D4ADF0>, <spec2vec.SpectrumDocument.SpectrumDocument object at 0x0000025727D4AF70>, <spec2vec.SpectrumDocument.SpectrumDocument object at 0x0000025727D24100>, <spec2vec.SpectrumDocument.SpectrumDocument object at 0x0000025727D242B0>, <spec2vec.SpectrumDocument.SpectrumDocument object at 0x0000025727D24430>, <spec2vec.SpectrumDocument.SpectrumDocument object at 0x0000025727D245B0>, <spec2vec.SpectrumDocument.SpectrumDocument object at 0x0000025727D24730>, <spec2vec.SpectrumDocument.SpectrumDocument object at 0x0000025727D248B0>, <spec2vec.SpectrumDocument.SpectrumDocument object at 0x0000025727D24A30>, <spec2vec.SpectrumDocument.SpectrumDocument object at 0x0000025727D24BB0>, <spec2vec.SpectrumDocument.SpectrumDocument object at 0x0000025727D24D30>, <spec2vec.SpectrumDocument.SpectrumDocument object at 0x0000025727D24EB0>, <spec2vec.SpectrumDocument.SpectrumDocument object at 0x0000025727D42040>, <spec2vec.SpectrumDocument.SpectrumDocument object at 0x0000025727D421F0>, <spec2vec.SpectrumDocument.SpectrumDocument object at 0x0000025727D42370>, <spec2vec.SpectrumDocument.SpectrumDocument object at 0x0000025727D424F0>, <spec2vec.SpectrumDocument.SpectrumDocument object at 0x0000025727D42670>, <spec2vec.SpectrumDocument.SpectrumDocument object at 0x0000025727D427F0>, <spec2vec.SpectrumDocument.SpectrumDocument object at 0x0000025727D42970>, <spec2vec.SpectrumDocument.SpectrumDocument object at 0x0000025727D42AF0>, <spec2vec.SpectrumDocument.SpectrumDocument object at 0x0000025727D42C70>, <spec2vec.SpectrumDocument.SpectrumDocument object at 0x0000025727D42DF0>, <spec2vec.SpectrumDocument.SpectrumDocument object at 0x0000025727D42F70>, <spec2vec.SpectrumDocument.SpectrumDocument object at 0x0000025727D2E100>, <spec2vec.SpectrumDocument.SpectrumDocument object at 0x0000025727D2E2B0>, <spec2vec.SpectrumDocument.SpectrumDocument object at 0x0000025727D2E430>, <spec2vec.SpectrumDocument.SpectrumDocument object at 0x0000025727D2E5B0>, <spec2vec.SpectrumDocument.SpectrumDocument object at 0x0000025727D2E730>, <spec2vec.SpectrumDocument.SpectrumDocument object at 0x0000025727D2E8B0>, <spec2vec.SpectrumDocument.SpectrumDocument object at 0x0000025727D2EA30>, <spec2vec.SpectrumDocument.SpectrumDocument object at 0x0000025727D2EBB0>, <spec2vec.SpectrumDocument.SpectrumDocument object at 0x0000025727D2ED30>, <spec2vec.SpectrumDocument.SpectrumDocument object at 0x0000025727D2EEB0>, <spec2vec.SpectrumDocument.SpectrumDocument object at 0x0000025727D1D040>, <spec2vec.SpectrumDocument.SpectrumDocument object at 0x0000025727D1D1F0>, <spec2vec.SpectrumDocument.SpectrumDocument object at 0x0000025727D1D370>, <spec2vec.SpectrumDocument.SpectrumDocument object at 0x0000025727D1D4F0>, <spec2vec.SpectrumDocument.SpectrumDocument object at 0x0000025727D1D670>, <spec2vec.SpectrumDocument.SpectrumDocument object at 0x0000025727D1D7F0>, <spec2vec.SpectrumDocument.SpectrumDocument object at 0x0000025727D1D970>, <spec2vec.SpectrumDocument.SpectrumDocument object at 0x0000025727D1DAF0>, <spec2vec.SpectrumDocument.SpectrumDocument object at 0x0000025727D1DC70>, <spec2vec.SpectrumDocument.SpectrumDocument object at 0x0000025727D1DDF0>, <spec2vec.SpectrumDocument.SpectrumDocument object at 0x0000025727D1DF70>, <spec2vec.SpectrumDocument.SpectrumDocument object at 0x0000025727D17100>, <spec2vec.SpectrumDocument.SpectrumDocument object at 0x0000025727D172B0>, <spec2vec.SpectrumDocument.SpectrumDocument object at 0x0000025727D17430>, <spec2vec.SpectrumDocument.SpectrumDocument object at 0x0000025727D175B0>, <spec2vec.SpectrumDocument.SpectrumDocument object at 0x0000025727D17730>, <spec2vec.SpectrumDocument.SpectrumDocument object at 0x0000025727D178B0>, <spec2vec.SpectrumDocument.SpectrumDocument object at 0x0000025727D17A30>, <spec2vec.SpectrumDocument.SpectrumDocument object at 0x0000025727D17BB0>, <spec2vec.SpectrumDocument.SpectrumDocument object at 0x0000025727D17D30>, <spec2vec.SpectrumDocument.SpectrumDocument object at 0x0000025727D17EB0>, <spec2vec.SpectrumDocument.SpectrumDocument object at 0x0000025727CFB040>, <spec2vec.SpectrumDocument.SpectrumDocument object at 0x0000025727CFB1F0>, <spec2vec.SpectrumDocument.SpectrumDocument object at 0x0000025727CFB370>, <spec2vec.SpectrumDocument.SpectrumDocument object at 0x0000025727CFB4F0>, <spec2vec.SpectrumDocument.SpectrumDocument object at 0x0000025727CFB670>, <spec2vec.SpectrumDocument.SpectrumDocument object at 0x0000025727CFB7F0>, <spec2vec.SpectrumDocument.SpectrumDocument object at 0x0000025727CFB970>, <spec2vec.SpectrumDocument.SpectrumDocument object at 0x0000025727CFBAF0>, <spec2vec.SpectrumDocument.SpectrumDocument object at 0x0000025727CFBC70>, <spec2vec.SpectrumDocument.SpectrumDocument object at 0x0000025727CFBDF0>, <spec2vec.SpectrumDocument.SpectrumDocument object at 0x0000025727CFBF70>, <spec2vec.SpectrumDocument.SpectrumDocument object at 0x0000025727D018B0>, <spec2vec.SpectrumDocument.SpectrumDocument object at 0x0000025727D01220>, <spec2vec.SpectrumDocument.SpectrumDocument object at 0x0000025727D01430>, <spec2vec.SpectrumDocument.SpectrumDocument object at 0x0000025727D015B0>, <spec2vec.SpectrumDocument.SpectrumDocument object at 0x0000025727D01970>, <spec2vec.SpectrumDocument.SpectrumDocument object at 0x0000025727D01AC0>, <spec2vec.SpectrumDocument.SpectrumDocument object at 0x0000025727D01A30>, <spec2vec.SpectrumDocument.SpectrumDocument object at 0x0000025727D01E80>, <spec2vec.SpectrumDocument.SpectrumDocument object at 0x0000025727D01370>, <spec2vec.SpectrumDocument.SpectrumDocument object at 0x0000025727D01B50>, <spec2vec.SpectrumDocument.SpectrumDocument object at 0x0000025727CFF040>]\n"
     ]
    }
   ],
   "source": [
    "import copy\n",
    "import numpy as np\n",
    "from scipy.interpolate import griddata\n",
    "import matplotlib.pyplot as plt\n",
    "import numpy.ma as ma\n",
    "from numpy.random import uniform, seed\n",
    "from matplotlib import cm\n",
    "from scipy.stats import multivariate_normal\n",
    "from spec2vec.SpectrumDocument import SpectrumDocument\n",
    "from matchms import Spectrum\n",
    "\n",
    "\n",
    "def is_pos_def(x):\n",
    "    return np.all(np.linalg.eigvals(x) > 0)\n",
    "\n",
    "# seed(1234)\n",
    "nDim = len(embeddings_spec2vec_lib[0])\n",
    "# define the mean and covariance \n",
    "mu = gm.means_[0]\n",
    "Sigma = gm.covariances_[0]\n",
    "D = np.eye(nDim)*0.13\n",
    "\n",
    "joint_cov = np.hstack((Sigma, Sigma-D))\n",
    "joint_cov = np.vstack((joint_cov, np.hstack((Sigma-D,Sigma))))\n",
    "\n",
    "print(is_pos_def(joint_cov))\n",
    "\n",
    "A = np.eye(nDim) - np.dot(D,np.linalg.inv(Sigma))\n",
    "\n",
    "all_knockoffs = []\n",
    "# generate a sample\n",
    "for point in embeddings_spec2vec_lib:\n",
    "    # generate N knock-offs\n",
    "    kmu = np.dot(np.dot(D,np.linalg.inv(Sigma)),mu)\n",
    "    B = np.dot(A, point.T)\n",
    "    kmu += B\n",
    "    kSigma = 2*D - np.dot(np.dot(D,np.linalg.inv(Sigma)), D)\n",
    "    ko = np.random.multivariate_normal(kmu.flatten(), kSigma, 1)\n",
    "    all_knockoffs.append(ko)\n",
    "\n",
    "\n",
    "knockoff_documents = []\n",
    "for ko,v,d in zip(all_knockoffs,embeddings_spec2vec_lib,documents_lib):\n",
    "    #print(\"knockoff:\",ko,\"vector\",v,\"document\",d)\n",
    "    #print(\"\\n\")\n",
    "    e = copy.deepcopy(d)\n",
    "    e._obj.set('inchi', 'knockoff')\n",
    "    e._obj.set('vector', ko[0])\n",
    "    knockoff_documents.append(e)\n",
    "print(knockoff_documents)"
   ]
  },
  {
   "cell_type": "code",
   "execution_count": 110,
   "metadata": {},
   "outputs": [],
   "source": [
    "import importlib\n",
    "import cosine_calc\n",
    "importlib.reload(cosine_calc)\n",
    "hits, _ = cosine_calc.get_hits(documents_lib, knockoff_documents, decoys=True, spec2vec_model=model)\n"
   ]
  },
  {
   "cell_type": "code",
   "execution_count": 111,
   "metadata": {},
   "outputs": [
    {
     "name": "stdout",
     "output_type": "stream",
     "text": [
      "['peak@77.10', 'peak@78.02', 'peak@104.13', 'peak@124.96', 'peak@127.05', 'peak@128.10', 'peak@129.04', 'peak@130.15', 'peak@153.00', 'peak@153.98', 'peak@154.99', 'peak@164.04', 'peak@179.06', 'loss@16.96', 'loss@26.01', 'loss@27.02', 'loss@28.00', 'loss@50.85', 'loss@51.96', 'loss@52.90', 'loss@53.95', 'loss@56.04', 'loss@76.87', 'loss@102.98', 'loss@103.90'] ['peak@77.10', 'peak@78.02', 'peak@104.13', 'peak@124.96', 'peak@127.05', 'peak@128.10', 'peak@129.04', 'peak@130.15', 'peak@153.00', 'peak@153.98', 'peak@154.99', 'peak@164.04', 'peak@179.06', 'loss@16.96', 'loss@26.01', 'loss@27.02', 'loss@28.00', 'loss@50.85', 'loss@51.96', 'loss@52.90', 'loss@53.95', 'loss@56.04', 'loss@76.87', 'loss@102.98', 'loss@103.90'] [[-29.56194061  39.51309631 -55.956831  ]] [-28.72262837  39.64217337 -55.43547055]\n"
     ]
    }
   ],
   "source": [
    "print (documents_lib[0], knockoff_documents[0], all_knockoffs[0], embeddings_spec2vec_lib[0] )"
   ]
  },
  {
   "cell_type": "code",
   "execution_count": 114,
   "metadata": {},
   "outputs": [
    {
     "name": "stdout",
     "output_type": "stream",
     "text": [
      "[-28.72262837  39.64217337 -55.43547055]\n",
      "[-29.56194061  39.51309631 -55.956831  ]\n",
      "0.9999484772562907\n"
     ]
    },
    {
     "data": {
      "text/plain": [
       "Hit(query=<spec2vec.SpectrumDocument.SpectrumDocument object at 0x0000025726158BB0>, target=<spec2vec.SpectrumDocument.SpectrumDocument object at 0x0000025729997040>, score=0.9999484772562907, hit='decoy')"
      ]
     },
     "execution_count": 114,
     "metadata": {},
     "output_type": "execute_result"
    }
   ],
   "source": [
    "hits[0]\n",
    "hit = hits[0]\n",
    "from spec2vec.vector_operations import calc_vector, cosine_similarity\n",
    "print( calc_vector( model, documents_lib[0] ) )\n",
    "print( hit.target._obj.metadata['vector'] )\n",
    "print( cosine_similarity( calc_vector( model, hit.query ), hit.target._obj.metadata['vector'] ) )\n",
    "hit.query._obj.metadata['parent_mass'], hit.target._obj.metadata['parent_mass']\n",
    "hit"
   ]
  },
  {
   "cell_type": "code",
   "execution_count": null,
   "metadata": {},
   "outputs": [],
   "source": []
  },
  {
   "cell_type": "code",
   "execution_count": null,
   "metadata": {},
   "outputs": [],
   "source": []
  }
 ],
 "metadata": {
  "kernelspec": {
   "display_name": "Python 3",
   "language": "python",
   "name": "python3"
  },
  "language_info": {
   "codemirror_mode": {
    "name": "ipython",
    "version": 3
   },
   "file_extension": ".py",
   "mimetype": "text/x-python",
   "name": "python",
   "nbconvert_exporter": "python",
   "pygments_lexer": "ipython3",
   "version": "3.8.5"
  }
 },
 "nbformat": 4,
 "nbformat_minor": 4
}
