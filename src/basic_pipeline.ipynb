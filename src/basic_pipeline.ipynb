{
 "cells": [
  {
   "cell_type": "code",
   "execution_count": 1,
   "metadata": {},
   "outputs": [],
   "source": [
    "import sys\n",
    "sys.path.append(r'C:\\Users\\Gosia\\Desktop\\FDR-Metabolomics\\src\\passatutto_parser.py')\n",
    "import passatutto_parser as pp"
   ]
  },
  {
   "cell_type": "code",
   "execution_count": 2,
   "metadata": {},
   "outputs": [],
   "source": [
    "pre_spectrums_query = pp.PassatuttoParser(r'C:\\Users\\Gosia\\Desktop\\MassbankOrbi').parse_folder(False)\n",
    "pre_spectrums_lib = pp.PassatuttoParser(r'C:\\Users\\Gosia\\Desktop\\Gnps_Noise_Filtered').parse_folder(False)"
   ]
  },
  {
   "cell_type": "code",
   "execution_count": null,
   "metadata": {},
   "outputs": [],
   "source": [
    "from matchms.importing.load_from_json import as_spectrum\n",
    "spectrums_query = []\n",
    "for i, s in enumerate( pre_spectrums_query ):\n",
    "    spectrums_query.append(as_spectrum(s))\n",
    "    if i and i % 100 == 0:\n",
    "        print('processed %d', i)\n",
    "spectrums_lib = []\n",
    "for i, s in enumerate( pre_spectrums_lib ):\n",
    "    spectrums_lib.append(as_spectrum(s))\n",
    "    if i and i % 100 == 0:\n",
    "        print('processed %d', i)"
   ]
  },
  {
   "cell_type": "code",
   "execution_count": 9,
   "metadata": {},
   "outputs": [],
   "source": [
    "from cosine_calc import get_hits\n",
    "hits, misses = get_hits(spectrums_query, spectrums_lib, 2, cosine_tol=0.01)# 'exact_mass')"
   ]
  },
  {
   "cell_type": "code",
   "execution_count": null,
   "metadata": {
    "scrolled": true
   },
   "outputs": [],
   "source": [
    "from q_value_calc import calculate_q_value\n",
    "q_list = calculate_q_value(hits)\n",
    "print(q_list)"
   ]
  },
  {
   "cell_type": "code",
   "execution_count": 11,
   "metadata": {},
   "outputs": [],
   "source": [
    "cosine_scores = open(r'C:\\Users\\Gosia\\Desktop\\q_values\\MassbankOrbi-Gnps.txt', 'r').readlines() \n",
    "query_scores = {}\n",
    "for line in cosine_scores[1:]:\n",
    "    q,t,ti,s = line.split(\"\\t\") # q for query, t for target, ti for target inchi, s for score\n",
    "    query_scores[q] = (float(s),t,ti)\n"
   ]
  },
  {
   "cell_type": "code",
   "execution_count": 14,
   "metadata": {},
   "outputs": [
    {
     "name": "stdout",
     "output_type": "stream",
     "text": [
      "DErySphingosine\tC18_Sphingosine\tC18_Sphingosine\t0.9277338131401497\t0.8232295929697477\n",
      "Prednisolone\tPrednisolone\tPrednisolone\t0.9178586467476109\t0.927530390141308\n",
      "Hydrochlorothiazide\t58-93-5\t58-93-5\t0.8952372497287105\t0.8491576140089205\n",
      "Clotrimazole\tCLOTRIMAZOLE\tCLOTRIMAZOLE\t0.8753596956697863\t0.7911624344085376\n",
      "Methylprednisolone\tMethylprednisolone\tMethylprednisolone\t0.8426071294550487\t0.9175689084373738\n",
      "Atomoxetine\tAtomoxetine hydrochloride\tAtomoxetine hydrochloride\t0.8067385925897322\t0.8730037538142732\n",
      "Exemestane\tEXEMESTANE\tEXEMESTANE\t0.7991248975335187\t0.9289551036930237\n",
      "Fluconazole\tFluconazole\tFluconazole\t0.7960360828204446\t0.9552302415884909\n",
      "Rutin\tRUTIN\tRUTIN\t0.7881516148905984\t0.5125823983500516\n",
      "Fenofibrate\tFenofibrate (Tricor, Trilipix)\tFenofibrate (Tricor, Trilipix)\t0.7683539644958313\t0.9204728345768457\n",
      "Telmisartan\tTelmisartan\t2-[4-[[4-methyl-6-(1-methylbenzimidazol-2-yl)-2-propylbenzimidazol-1-yl]methyl]phenyl]benzoic acid\t0.7625919311189903\t0.9231596525626072\n",
      "Ketoprofen\tKetoprofen (Actron)\tKetoprofen (Actron)\t0.7534840919333287\t0.975022683538113\n",
      "Venlafaxine\tVenlafaxine hydrochloride\tVenlafaxine hydrochloride\t0.7484672620124343\t0.9584007548535975\n",
      "Clozapine\tClozapine\tMLS001077282-01!\t0.7445431949353551\t0.9442782410457566\n",
      "Genistein\tGenistein\tGenistein\t0.7434162616096652\t0.8683473625949429\n",
      "Quercetin\tMLS002153851-01!2-(3,4-dihydroxyphenyl)-3,5,7-trihydroxy-4H-chromen-4-one dihydrate117-39-5\tMLS002153851-01!2-(3,4-dihydroxyphenyl)-3,5,7-trihydroxy-4H-chromen-4-one dihydrate117-39-5\t0.7423771231858611\t0.6399952123966156\n",
      "Sulfathiazole\tSulfathiazole\tSulfathiazole\t0.736050173816486\t0.9361564216943767\n",
      "Sulfamethazine\tSulfamethazine\tSulfamethazine\t0.7298211320810218\t0.916095812351185\n",
      "Biochanin_A\t7-chloro-1-methyl-5-phenyl-3H-1,4-benzodiazepin-2-one\tMLS001148446-01!491-80-5\t0.7264601811353328\t0.6990587167950043\n",
      "Dexamethasone\tDexamethazone\tDexamethazone\t0.7188233116086616\t0.9126087151317807\n",
      "Adenosine\tMLS002153992-01!Vidarabine5536-17-4\tMLS002153992-01!Vidarabine5536-17-4\t0.7131328021728403\t0.325150839700464\n",
      "Ibuprofen\t15687-27-1\t15687-27-1\t0.6989230089706654\t0.9146055049247696\n",
      "Sulfamethoxazole\tSulfamethoxazole\t4-amino-N-(5-methyl-1,2-oxazol-3-yl)benzenesulfonamide\t0.6969821648157164\t0.8848020790508931\n",
      "Carbamazepine\t298-46-4\t298-46-4\t0.6939819171546028\t0.919005727331653\n",
      "Ranitidine\tRanitidine (Zantac)\tRanitidine\t0.6901498810539342\t0.8737230606475096\n",
      "Cetirizine\tCetirizine\tCetirizine\t0.6891857518184467\t0.8327118328582583\n",
      "Trans-Zeatin\tMLS001074742-01!\tMLS001074742-01!\t0.6858890765549998\t0.43286060698505613\n",
      "Naltrexone\tMLS001076516-01!\tMLS001076516-01!\t0.6810910514087574\t0.8619917106213583\n",
      "Sulfapyridine\tSulfapyridine (Dagenan)\tSulfapyridine (Dagenan)\t0.679636944273533\t0.9339875331483788\n",
      "Erythromycin\tErythromycin A\tErythromycin\t0.6793119197388638\t0.5646732153363266\n",
      "Candesartan\tCandesartan (Atacand)\tCandesartan (Atacand)\t0.6778517440045304\t0.911031850928121\n",
      "Sulfadimethoxine\tSulphadimethoxine\tSulphadimethoxine\t0.6667156995978415\t0.7863638794851244\n",
      "Sulfadiazine\tSulfadiazine\tSulfadiazine\t0.6634886368060987\t0.8642176813660046\n",
      "Aminopyrine\tAmidopyrine\tAmidopyrine\t0.6599532072396126\t0.8143383815980675\n",
      "Simvastatin\tSimvastatin (Zocor)\tSimvastatin (Zocor)\t0.6494845137605736\t0.8793459001464421\n",
      "Gabapentin\tGabapentin (Neurontin)\tGabapentin (Neurontin)\t0.64813622108769\t0.9610987411623332\n",
      "Amisulpride\tAmisulpride\tAmisulpride\t0.646482009190777\t0.9361261311267859\n",
      "Bergapten\tMethoxsalen\tMethoxsalen\t0.6443426767526724\t0.8559797220382699\n",
      "Bupropion\tAmfebutamone\tAmfebutamone\t0.6426577564146071\t0.9851224005685694\n",
      "Fluoxetine\tZacopride\tFluoxetine\t0.6414869124036955\t0.3347757630177313\n",
      "Amitriptyline\tAmitriptyline HCl\tAmitriptyline HCl\t0.6407483676335187\t0.9306677084425982\n",
      "Sotalol\tSotalol (Betapace)\tN-[4-[1-hydroxy-2-(propan-2-ylamino)ethyl]phenyl]methanesulfonamide\t0.6401668538291024\t0.9684284832892783\n",
      "Propranolol\tPropranolol HCl\tPropranolol HCl\t0.6310118443197742\t0.9224150909904397\n",
      "Tylosin\tMLS002695913-01!1405-53-4\tMLS002695913-01!1405-53-4\t0.6304407115441337\t0.8794754038990864\n",
      "Moclobemide\tMoclobemide\tMoclobemide\t0.6272959199501522\t0.9659893694244194\n",
      "Erythromycin\tErythromycin\tErythromycin\t0.6263836008038581\t0.5646732153363266\n",
      "Ciprofloxacin\tCiprofloxacin\tCiprofloxacin (Cipro)\t0.620581183438195\t0.701577774986778\n",
      "Ritonavir\tRITONAVIR\tRITONAVIR\t0.6189590644442862\t0.8396097440431683\n",
      "Ifosfamide\tIfosfamide\tIfosfamide\t0.6166937489663836\t0.8749223913911948\n",
      "Norfloxacin\tNorfloxacin (Norxacin)\tNorfloxacin (Norxacin)\t0.6121380345301708\t0.8252732974354803\n",
      "Kaempferol\tMLS000697730-01!\tMLS002473235-01!3-(3,4-dihydroxyphenyl)-6,8-dihydroxyisochromen-1-one\t0.6095876708417259\t0.48476351713325055\n",
      "Oseltamivir\tOseltamivir phosphate (Tamiflu)\tOseltamivir phosphate (Tamiflu)\t0.6092031139778532\t0.9139795643756791\n",
      "Azithromycin\tMLS001201763-01!Azithromycin\tMLS001201763-01!Azithromycin\t0.6030758414095378\t0.8166276877129541\n",
      "Primidone\tPrimidone (Mysoline)\t125-33-7\t0.6006225420054722\t0.7538349605980561\n",
      "Bicalutamide\tBicalutamide (Casodex)\tBicalutamide\t0.599126106441774\t0.8973982499294906\n",
      "Mycophenolic acid\tMycophenolic (Mycophenolate)\tMycophenolic (Mycophenolate)\t0.5871740230206998\t0.9140294178229369\n",
      "Flufenamic acid\tMLS001148610-01!530-78-9\tMLS001148610-01!530-78-9\t0.5844219776678\t0.9674959216849953\n",
      "Reserpine\tReserpine\tReserpine\t0.5697910119143972\t0.619897415389955\n",
      "Cyclophosphamide\tCytoxan\tClafen (Cyclophosphamide)\t0.5669645736810457\t0.9137140428593161\n",
      "Metoprolol\tMetoprolol tartrate\tMetoprolol tartrate\t0.5651189683463522\t0.9259643737038261\n",
      "Diazepam\t7-chloro-1-methyl-5-phenyl-3H-1,4-benzodiazepin-2-one\t7-chloro-1-methyl-5-phenyl-3H-1,4-benzodiazepin-2-one\t0.5643891999425955\t0.8543071399763441\n",
      "Cocaine\tMLS001048924-01!methyl 3-benzoyloxy-8-methyl-8-azabicyclo[3.2.1]octane-4-carboxylate\tMLS001048924-01!methyl 3-benzoyloxy-8-methyl-8-azabicyclo[3.2.1]octane-4-carboxylate\t0.5617490730551579\t0.8993448438921046\n",
      "Trimethoprim\t5-[(3,4,5-trimethoxyphenyl)methyl]pyrimidine-2,4-diamine\tMLS001148451-01!TRIMETHOPRIM LACTATE\t0.5542873734428013\t0.8178376756030572\n",
      "Albuterol\tSALBUTAMOL SULFATE\tSALBUTAMOL SULFATE\t0.5536189834718178\t0.912936871048683\n",
      "Metoclopramide\t4-amino-5-chloro-N-[2-(diethylamino)ethyl]-2-methoxybenzamide\t4-amino-5-chloro-N-[2-(diethylamino)ethyl]-2-methoxybenzamide\t0.5480250199257427\t0.9562742189004175\n",
      "Citalopram\tEscitalopram Oxalate\tCitalopram\t0.5476853153800486\t0.9072763844767469\n",
      "Mefenamic acid\tMefenamic Acid\tMefenamic Acid\t0.5476099831418394\t0.9615808119528895\n",
      "Verapamil\tMLS001055442-01!\tMLS001055442-01!\t0.5407110712813396\t0.9239621684446515\n",
      "Atenolol\t29122-68-7\t29122-68-7\t0.529680514076761\t0.8795194456949492\n",
      "Clarithromycin\tClarithromycin\tClarithromycin (Biaxin, Klacid)\t0.5254632394826689\t0.9578340406664027\n",
      "Cinchonine\tMLS002153905-01!(-)-Cinchonidine485-71-2\tMLS002153905-01!(-)-Cinchonidine485-71-2\t0.522283586333549\t0.7561832154539364\n",
      "Irbesartan\tIrbesartan (Avapro)\tIRBESARTAN\t0.5199700088361031\t0.8584526301743142\n",
      "Indomethacin\tIndomethacin (Indocid, Indocin)\tIndomethacin\t0.5161004451427101\t0.7684190059615034\n",
      "Terbutryn\tMLS001066371-01!Terbutryn886-50-0\tMLS001066371-01!Terbutryn886-50-0\t0.5089366658084729\t0.9520618389589149\n",
      "Lamotrigine\tLamotrigine\tLamotrigine\t0.5028621887157829\t0.8650794191202719\n",
      "Propachlor\tMLS002207036-01!Propachlor1918-16-7\tMLS002207036-01!Propachlor1918-16-7\t0.4900188350984389\t0.858335322854355\n",
      "S,R-Noscapine\tMLS001076557-01!Noscapine hydrochloride hydrate\tMLS001076557-01!Noscapine hydrochloride hydrate\t0.4858145607185017\t0.593826031359736\n",
      "Valsartan\tValsartan\tValsartan\t0.47801361302658524\t0.8698187000647111\n",
      "Diazinon\tMLS002207243-01!Diazinon333-41-5\tMLS002207243-01!Diazinon333-41-5\t0.4679008545704826\t0.9263964616723707\n",
      "Bicuculline\tMLS002153892-01!Bicuculline (+)485-49-4\tMLS002153892-01!Bicuculline (+)485-49-4\t0.4571236250379123\t0.5744746302986362\n",
      "Diclofenac\tDiclofenac Diethylamine\tDiclofenac Diethylamine\t0.45681653100573477\t0.8812251116234204\n",
      "Aspartame\tAspartame\tAspartame\t0.4542480096870326\t0.828806571262738\n",
      "Caffeine\tMLS000521341-01!Acridinamine\tMLS001055341-01!CAFFEINE58-08-2\t0.45246337265218284\t0.9002386155829648\n",
      "Dronedarone\tDronedarone HCl (Multaq)\tDronedarone HCl (Multaq)\t0.4463263986689269\t0.7957450600352186\n",
      "Dextromethorphan\tMLS001401442-01!d-3-Methoxy-N-methylmorphinan hydrobromide\tMLS001401442-01!d-3-Methoxy-N-methylmorphinan hydrobromide\t0.4433581508921631\t0.8919556493740165\n",
      "Berberine\tMLS002153890-01!Berberine chloride633-65-8\tMLS002153890-01!Berberine chloride633-65-8\t0.4429536703985114\t0.7425594058600761\n",
      "Kinetin\tKinetin\tKinetin\t0.42792751126019657\t0.8097519464644991\n",
      "3,4,5-Trimethoxycinnamic_acid\t3,4,5-Trimethoxy_ cinnamic acid\t3,4,5-Trimethoxy_ cinnamic acid\t0.4250320771646105\t0.6658245351011922\n",
      "DEET\tMLS000516055-01!\tMLS001333179-01!N,N-Diethyl-3-methylbenzamide134-62-3\t0.42184004571921097\t0.9017944528446099\n",
      "Resveratrol\t501-36-0\t501-36-0\t0.37462952302075114\t0.7757298772201056\n",
      "Laudanosine\tMLS000060551-01!\tMLS000060551-01!\t0.3649848095946191\t0.6258713909428341\n",
      "Roxithromycin\tMLS002154033-01!Roxithromycin80214-83-1\tMLS002154033-01!Roxithromycin80214-83-1\t0.3613676744199842\t0.7804339819659317\n",
      "Levamisole\tMLS002153440-01!16595-80-5\tMLS000028416-01!TETRAMISOLE HYDROCHLORIDE\t0.3427354021484218\t0.8956714549652002\n",
      "Naproxen\tNCGC00021127-04!NAPROXEN\tNCGC00021127-04!NAPROXEN\t0.33323286412118874\t0.7928348136671715\n",
      "Imidacloprid\tMLS001304087-01!Imidacloprid138261-41-3\tMLS001304087-01!Imidacloprid138261-41-3\t0.31650083295340187\t0.6318056413304796\n",
      "Bezafibrate\tMLS001148205-01!41859-67-0\tMLS001148205-01!41859-67-0\t0.2847279641791849\t0.3698759553656898\n",
      "1-(3-(Trifluoromethyl)phenyl)piperazine\tTFMPP\tTFMPP\t0.27986463294841885\t0.9371598416745701\n",
      "Reserpine\tMLS002154046-01!50-55-5\tReserpine\t0.19980830250835402\t0.619897415389955\n",
      "Dimethoate\tMLS002207196-01!Dimethoate60-51-5\tMLS002207196-01!Dimethoate60-51-5\t0.1983705552310479\t0.45700684113180123\n",
      "Ephedrine\tMLS000069657-01!(1R,2R)-(-)-PSEUDOEPHEDRINE\tMLS000069657-01!(1R,2R)-(-)-PSEUDOEPHEDRINE\t0.1797494881379085\t0.702164620287562\n",
      "Trimipramine\tMLS001056765-01!Trimipramine maleate salt\tMLS001056765-01!Trimipramine maleate salt\t0.16804231353988655\t0.8848889271861856\n",
      "Apomorphine\tMLS000069811-01!APOMORPHINE HYDROCHLORIDE HEMIHYDRATE\tMLS000069811-01!APOMORPHINE HYDROCHLORIDE HEMIHYDRATE\t0.11606408354486217\t0.4952619815871259\n",
      "Naringin\tMLS001140674-01!\tMLS001143533-01!\t0.000820964930050494\t0.0\n",
      "Microcystin-LR\tMicrocystin LR\tMicrocystin LR\t0.0\t0.0\n",
      "Rifampicin\tAmmonium Glycyrrhizinate (AMGZ)\tRIFAMPICIN\t0.0\t0.0\n",
      "81 24\n"
     ]
    }
   ],
   "source": [
    "same = 0\n",
    "different = 0\n",
    "for hit in hits:\n",
    "    if hit.target.get('compound_name') == query_scores[hit.query.get('compound_name')][1]:\n",
    "        same += 1\n",
    "    else:\n",
    "        different += 1\n",
    "    print('\\t'.join((hit.query.get('compound_name'),hit.target.get('compound_name'), query_scores[hit.query.get('compound_name')][1], str(hit.score), str(query_scores[hit.query.get('compound_name')][0]))))\n",
    "print(same, different)    "
   ]
  },
  {
   "cell_type": "code",
   "execution_count": null,
   "metadata": {},
   "outputs": [],
   "source": []
  },
  {
   "cell_type": "code",
   "execution_count": null,
   "metadata": {},
   "outputs": [],
   "source": []
  },
  {
   "cell_type": "code",
   "execution_count": null,
   "metadata": {},
   "outputs": [],
   "source": []
  }
 ],
 "metadata": {
  "kernelspec": {
   "display_name": "Python 3",
   "language": "python",
   "name": "python3"
  },
  "language_info": {
   "codemirror_mode": {
    "name": "ipython",
    "version": 3
   },
   "file_extension": ".py",
   "mimetype": "text/x-python",
   "name": "python",
   "nbconvert_exporter": "python",
   "pygments_lexer": "ipython3",
   "version": "3.8.5"
  }
 },
 "nbformat": 4,
 "nbformat_minor": 4
}
