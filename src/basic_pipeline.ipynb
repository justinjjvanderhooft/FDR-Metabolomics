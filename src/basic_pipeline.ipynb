{
 "cells": [
  {
   "cell_type": "code",
   "execution_count": 1,
   "metadata": {},
   "outputs": [],
   "source": [
    "# as MatchMS can't parse the Passatuto files, I created my own parser which matches spectra to spectrum objects from MatchMS\n",
    "# it is available under my FDR-Metabolomics repo: src/passatutto_parser.py\n",
    "import sys\n",
    "sys.path.append(r'C:\\Users\\Gosia\\Desktop\\FDR-Metabolomics\\src\\passatutto_parser.py')\n",
    "import passatutto_parser as pp"
   ]
  },
  {
   "cell_type": "code",
   "execution_count": null,
   "metadata": {},
   "outputs": [],
   "source": [
    "# Taking all the files from MassBankOrbi (queries) and Gnps_Noise_Filtered (library), parsing them to json objects\n",
    "pre_spectrums_query = pp.PassatuttoParser(r'C:\\Users\\Gosia\\Desktop\\MassbankOrbi').parse_folder()\n",
    "pre_spectrums_lib = pp.PassatuttoParser(r'C:\\Users\\Gosia\\Desktop\\Gnps_Noise_Filtered').parse_folder()"
   ]
  },
  {
   "cell_type": "code",
   "execution_count": null,
   "metadata": {},
   "outputs": [],
   "source": [
    "# Using MatchMS to create spectra for both\n",
    "from matchms.importing.load_from_json import as_spectrum\n",
    "spectrums_query = []\n",
    "for i, s in enumerate( pre_spectrums_query ):\n",
    "    spectrums_query.append(as_spectrum(s))\n",
    "    if i and i % 100 == 0:\n",
    "        print('processed %d', i)\n",
    "spectrums_lib = []\n",
    "for i, s in enumerate( pre_spectrums_lib ):\n",
    "    spectrums_lib.append(as_spectrum(s))\n",
    "    if i and i % 100 == 0:\n",
    "        print('processed %d', i)"
   ]
  },
  {
   "cell_type": "code",
   "execution_count": 4,
   "metadata": {},
   "outputs": [],
   "source": [
    "# Calculating cosine similarity\n",
    "from cosine_calc import get_hits\n",
    "hits, misses = get_hits(spectrums_query, spectrums_lib, 2, cosine_tol=0.1)"
   ]
  },
  {
   "cell_type": "code",
   "execution_count": 5,
   "metadata": {
    "scrolled": true
   },
   "outputs": [],
   "source": [
    "# Calculating q-value scores\n",
    "from q_value_calc import calculate_q_value\n",
    "q_list = calculate_q_value(hits)"
   ]
  },
  {
   "cell_type": "code",
   "execution_count": 6,
   "metadata": {},
   "outputs": [],
   "source": [
    "# this cell is just loading their cosine similarity and saving them by the query compound name\n",
    "cosine_scores = open(r'C:\\Users\\Gosia\\Desktop\\q_values\\MassbankOrbi-Gnps.txt', 'r').readlines() \n",
    "query_scores = {}\n",
    "for line in cosine_scores[1:]:\n",
    "    q,t,ti,s = line.split(\"\\t\") # q for query, t for target, ti for target inchi, s for score\n",
    "    query_scores[q] = (float(s),t,ti)\n",
    "    "
   ]
  },
  {
   "cell_type": "code",
   "execution_count": null,
   "metadata": {},
   "outputs": [],
   "source": [
    "# useful for visualisation of cosine differences\n",
    "same = 0\n",
    "different = 0\n",
    "for hit in hits:\n",
    "    if hit.target.get('compound_name') == query_scores[hit.query.get('compound_name')][1]:\n",
    "        same += 1\n",
    "    else:\n",
    "        different += 1\n",
    "    print('\\t'.join((hit.query.get('compound_name'),hit.target.get('compound_name'), query_scores[hit.query.get('compound_name')][1], str(hit.score), str(query_scores[hit.query.get('compound_name')][0]))))\n",
    "print(same, different)  "
   ]
  },
  {
   "cell_type": "markdown",
   "metadata": {},
   "source": [
    "# Below is my attempt at Grid-Searching the cosine-tolerance parameter\n",
    "# For each of the chosen tolerance-candidates, I see:\n",
    "# 1) how many queries result in the same target by choosing the highest score\n",
    "# 2) what is the average cosine-similarity difference between our scores and their, given the same query & target"
   ]
  },
  {
   "cell_type": "code",
   "execution_count": 8,
   "metadata": {},
   "outputs": [],
   "source": [
    "from matchms.similarity import CosineGreedy\n",
    "from rdkit.Chem.inchi import InchiToInchiKey, MolToInchiKey\n",
    "import bisect\n",
    "from collections import namedtuple\n",
    "\n",
    "Hit = namedtuple('Hit', ['query', 'target', 'score', 'hit'])\n",
    "\n",
    "\n",
    "def inchis_equal(s1, s2):\n",
    "    return s1.metadata['inchi'].split(\"/\")[:4] == s2.metadata['inchi'].split(\"/\")[:4]\n",
    "    # return InchiToInchiKey(s1.metadata['inchi']).split('-')[0] == InchiToInchiKey(s2.metadata['inchi']).split('-')[0]\n",
    "\n",
    "\n",
    "def get_hits_2(query_spec, library_spec, precursor_tol=1, metaKey='parent_mass', cosine_tol=0.1):\n",
    "    cosine_greedy = CosineGreedy(tolerance=cosine_tol)\n",
    "    library_spec.sort(key=lambda x: x.metadata[metaKey])\n",
    "    hits = []\n",
    "    misses = []\n",
    "    library_prec_list = [x.metadata[metaKey] for x in library_spec]\n",
    "    for q in query_spec:\n",
    "        if metaKey not in q.metadata:\n",
    "            continue\n",
    "        min_mz = q.metadata[metaKey] - precursor_tol\n",
    "        max_mz = q.metadata[metaKey] + precursor_tol\n",
    "        pos = bisect.bisect_right(library_prec_list, min_mz)\n",
    "        pos2 = pos\n",
    "        while pos2 < len(library_prec_list) and library_prec_list[pos2] < max_mz:\n",
    "            pos2 += 1\n",
    "        if pos == pos2:\n",
    "            # nothing in precursor range\n",
    "            misses.append(q)\n",
    "        else:\n",
    "            scores = []\n",
    "            for l in library_spec[pos:pos2]:\n",
    "                s, _ = cosine_greedy.pair(q, l)\n",
    "                scores.append((s, l))\n",
    "            # if all( s[0] == 0.0 for s in scores ):\n",
    "            #    print(q.get('compound_name'))\n",
    "            for score in scores:\n",
    "                hits.append(Hit(q, score[1], score[0], inchis_equal(q, score[1])))\n",
    "    return hits, misses\n"
   ]
  },
  {
   "cell_type": "code",
   "execution_count": 9,
   "metadata": {},
   "outputs": [
    {
     "name": "stdout",
     "output_type": "stream",
     "text": [
      "0.0 46 0.5756801887799549\n",
      "0.001 73 0.36505103163697705\n",
      "0.005 81 0.25503798541973555\n",
      "0.01 80 0.2541797954808381\n",
      "0.02 79 0.2539194279040465\n",
      "0.08 76 0.25698665954923905\n",
      "0.1 75 0.2572404030117687\n",
      "0.12 75 0.25724035510685905\n",
      "0.2 75 0.2584404508640584\n",
      "0.4 74 0.2587497252527731\n",
      "0.75 74 0.258776676170086\n",
      "0.9 74 0.2587944857415175\n",
      "1.0 70 0.25863776477416717\n",
      "1.1 69 0.25589094506072046\n",
      "1.3 68 0.2558926123983358\n",
      "1.5 68 0.255893388279548\n",
      "2.0 64 0.2552602984337558\n"
     ]
    }
   ],
   "source": [
    "tolerances = [ 0.0, 0.001, 0.005, 0.01, 0.02, 0.08, 0.1, 0.12, 0.2, 0.4, 0.75, 0.9, 1.0, 1.1, 1.3, 1.5, 2.0 ]\n",
    "for tolerance in tolerances:\n",
    "    hit_count = 0\n",
    "    hits, _ = get_hits(spectrums_query, spectrums_lib, cosine_tol=tolerance)    \n",
    "    for hit in hits:\n",
    "        if hit.target.get('compound_name') == query_scores.get(hit.query.get('compound_name'), ['',''])[1]:\n",
    "            hit_count += 1\n",
    "\n",
    "    score_diff = 0.0\n",
    "    hits_2, _ = get_hits_2(spectrums_query, spectrums_lib, cosine_tol=tolerance)    \n",
    "    for hit in hits_2:\n",
    "        if hit.target.get('compound_name') == query_scores.get(hit.query.get('compound_name'), ['',''])[1]:\n",
    "            score_diff += abs(hit.score - query_scores.get(hit.query.get('compound_name'))[0])\n",
    "    \n",
    "    print( tolerance, hit_count, score_diff/192 )"
   ]
  },
  {
   "cell_type": "code",
   "execution_count": null,
   "metadata": {},
   "outputs": [],
   "source": []
  }
 ],
 "metadata": {
  "kernelspec": {
   "display_name": "Python 3",
   "language": "python",
   "name": "python3"
  },
  "language_info": {
   "codemirror_mode": {
    "name": "ipython",
    "version": 3
   },
   "file_extension": ".py",
   "mimetype": "text/x-python",
   "name": "python",
   "nbconvert_exporter": "python",
   "pygments_lexer": "ipython3",
   "version": "3.8.5"
  }
 },
 "nbformat": 4,
 "nbformat_minor": 4
}
