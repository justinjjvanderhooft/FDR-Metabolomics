{
 "cells": [
  {
   "cell_type": "code",
   "execution_count": null,
   "metadata": {},
   "outputs": [],
   "source": [
    "import sys\n",
    "sys.path.append(r'C:\\Users\\Gosia\\Desktop\\FDR-Metabolomics\\src\\passatutto_parser.py')\n",
    "import passatutto_parser as pp"
   ]
  },
  {
   "cell_type": "code",
   "execution_count": null,
   "metadata": {},
   "outputs": [],
   "source": [
    "pre_spectrums_query = pp.PassatuttoParser(r'C:\\Users\\Gosia\\Desktop\\MassbankOrbi').parse_folder()\n",
    "pre_spectrums_lib = pp.PassatuttoParser(r'C:\\Users\\Gosia\\Desktop\\Gnps_Noise_Filtered').parse_folder()"
   ]
  },
  {
   "cell_type": "code",
   "execution_count": null,
   "metadata": {},
   "outputs": [],
   "source": [
    "from matchms.importing.load_from_json import as_spectrum\n",
    "spectrums_query = []\n",
    "for i, s in enumerate( pre_spectrums_query ):\n",
    "    spectrums_query.append(as_spectrum(s))\n",
    "    if i and i % 10 == 0:\n",
    "        print('processed %d', i)\n",
    "spectrums_lib = []\n",
    "for i, s in enumerate( pre_spectrums_lib ):\n",
    "    spectrums_lib.append(as_spectrum(s))\n",
    "    if i and i % 10 == 0:\n",
    "        print('processed %d', i)"
   ]
  },
  {
   "cell_type": "code",
   "execution_count": 56,
   "metadata": {},
   "outputs": [],
   "source": [
    "from matchms.similarity import CosineGreedy\n",
    "cosine_greedy = CosineGreedy(tolerance=0.2)"
   ]
  },
  {
   "cell_type": "code",
   "execution_count": 57,
   "metadata": {},
   "outputs": [],
   "source": [
    "from rdkit.Chem.inchi import InchiToInchiKey,MolToInchiKey\n",
    "def inchisEqual(i1, i2):\n",
    "    return i1.split(\"/\")[:4] == i2.split(\"/\")[:4]\n",
    "    #return InchiToInchiKey(i1).split('-')[0] == InchiToInchiKey(i2).split('-')[0]"
   ]
  },
  {
   "cell_type": "code",
   "execution_count": 58,
   "metadata": {},
   "outputs": [],
   "source": [
    "import bisect\n",
    "from collections import namedtuple\n",
    "Hit = namedtuple('Hit', ['query', 'target', 'score', 'hit'])\n",
    "def get_hits(query_spec, library_spec, precursor_tol = 1, metaKey='parent_mass'):\n",
    "    library_spec.sort(key = lambda x: x.metadata[metaKey])\n",
    "    hits = []\n",
    "    misses = []\n",
    "    library_prec_list = [x.metadata[metaKey] for x in library_spec]\n",
    "    for q in query_spec:\n",
    "        min_mz = q.metadata[metaKey] - precursor_tol\n",
    "        max_mz = q.metadata[metaKey] + precursor_tol\n",
    "        pos = bisect.bisect_right(library_prec_list, min_mz)\n",
    "        pos2 = pos\n",
    "        if pos2 <= len(library_prec_list) -1:\n",
    "            while library_prec_list[pos2] < max_mz:\n",
    "                if pos2 < len(library_prec_list)-1:\n",
    "                    pos2 += 1 \n",
    "        if pos == pos2:\n",
    "            # nothing in precursor range\n",
    "            misses.append(q)\n",
    "        else:\n",
    "            scores = []\n",
    "            for l in library_spec[pos:pos2]:\n",
    "                s,_ = cosine_greedy.pair(q,l)\n",
    "                scores.append((s, l))\n",
    "            scores.sort(key = lambda x: x[0], reverse=True)\n",
    "            hits.append(Hit(q, scores[0][0], scores[0][1], inchisEqual(q.metadata['inchi'],scores[0][1].metadata['inchi']))) # query, best cosine score, target, hit_true \n",
    "    return hits, misses"
   ]
  },
  {
   "cell_type": "code",
   "execution_count": null,
   "metadata": {},
   "outputs": [],
   "source": [
    "hits, misses = get_hits(spectrums_query, spectrums_lib)"
   ]
  },
  {
   "cell_type": "code",
   "execution_count": null,
   "metadata": {},
   "outputs": [],
   "source": [
    "print(hits)"
   ]
  }
 ],
 "metadata": {
  "kernelspec": {
   "display_name": "Python 3",
   "language": "python",
   "name": "python3"
  },
  "language_info": {
   "codemirror_mode": {
    "name": "ipython",
    "version": 3
   },
   "file_extension": ".py",
   "mimetype": "text/x-python",
   "name": "python",
   "nbconvert_exporter": "python",
   "pygments_lexer": "ipython3",
   "version": "3.8.5"
  }
 },
 "nbformat": 4,
 "nbformat_minor": 4
}
