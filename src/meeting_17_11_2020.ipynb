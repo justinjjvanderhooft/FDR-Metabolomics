{
 "cells": [
  {
   "cell_type": "code",
   "execution_count": 45,
   "metadata": {},
   "outputs": [],
   "source": [
    "import sys\n",
    "sys.path.append(r'C:\\Users\\Gosia\\Desktop\\FDR-Metabolomics\\src\\passatutto_parser.py')\n",
    "import passatutto_parser as pp"
   ]
  },
  {
   "cell_type": "code",
   "execution_count": null,
   "metadata": {},
   "outputs": [],
   "source": [
    "pre_spectrums_lib = pp.PassatuttoParser(r'C:\\Users\\Gosia\\Desktop\\Gnps_Noise_Filtered').parse_folder()\n",
    "pre_spectrums_query = pp.PassatuttoParser(r'C:\\Users\\Gosia\\Desktop\\MassbankOrbi').parse_folder()\n"
   ]
  },
  {
   "cell_type": "code",
   "execution_count": null,
   "metadata": {},
   "outputs": [],
   "source": [
    "from matchms.importing.load_from_json import as_spectrum\n",
    "spectrums_query = []\n",
    "for i, s in enumerate( pre_spectrums_query ):\n",
    "    spectrums_query.append(as_spectrum(s))\n",
    "    if i and i % 100 == 0:\n",
    "        print('processed %d', i)\n",
    "spectrums_lib = []\n",
    "for i, s in enumerate( pre_spectrums_lib ):\n",
    "    spectrums_lib.append(as_spectrum(s))\n",
    "    if i and i % 100 == 0:\n",
    "        print('processed %d', i)"
   ]
  },
  {
   "cell_type": "code",
   "execution_count": 44,
   "metadata": {},
   "outputs": [
    {
     "name": "stdout",
     "output_type": "stream",
     "text": [
      "MLS001401442-01!d-3-Methoxy-N-methylmorphinan hydrobromide\n"
     ]
    }
   ],
   "source": [
    "for s in spectrums_lib:\n",
    "    if s.metadata['compound_name'] == 'MLS001074742-01!':\n",
    "        print(s.metadata['spectrumid'])"
   ]
  },
  {
   "cell_type": "markdown",
   "metadata": {},
   "source": [
    "How to put data in the visualiser:\n",
    "mzspec:MASSBANK::accession:EA282407\n",
    "mzspec:GNPS:GNPS-LIBRARY:accession:CCMSLIB00000084759"
   ]
  },
  {
   "attachments": {},
   "cell_type": "markdown",
   "metadata": {},
   "source": [
    "Two compounds where our score is higher:\n",
    "MassBank: Trans-Zeatin\n",
    "Gnps: MLS001074742-01!\n",
    "Visualised here: https://metabolomics-usi.ucsd.edu/mirror?usi1=mzspec:MASSBANK::accession:NA001378&usi2=mzspec:GNPS:GNPS-LIBRARY:accession:CCMSLIB00000079576&width=10.0&height=6.0&mz_min=&mz_max=&max_intensity=150.0&grid=true&annotate_peaks=[[119.0352,136.0617],[136.0614,810.889,1056.7943]]&annotate_precision=4&annotation_rotation=90.0&cosine=standard&fragment_mz_tolerance=0.02\n",
    "Difference: 0.25302847\n",
    "\n",
    "\n",
    "Two compounds where our score is lower:\n",
    "MassBank: Dextromethorphan\n",
    "Gnps: MLS001401442-01!d-3-Methoxy-N-methylmorphinan hydrobromide\n",
    "Difference: -0.448597498\n",
    "https://metabolomics-usi.ucsd.edu/mirror?usi1=mzspec:MASSBANK::accession:EA282407&usi2=mzspec:GNPS:GNPS-LIBRARY:accession:CCMSLIB00000084759&width=10.0&height=6.0&mz_min=&mz_max=&max_intensity=150.0&grid=true&annotate_peaks=[[121.0648,147.0804,159.0804,171.0805,198.1039,213.1272],[171.0819,272.2025]]&annotate_precision=4&annotation_rotation=90.0&cosine=standard&fragment_mz_tolerance=0.02"
   ]
  },
  {
   "cell_type": "code",
   "execution_count": 41,
   "metadata": {},
   "outputs": [],
   "source": [
    "from sklearn.model_selection import GridSearchCV\n",
    "from sklearn.linear_model import Ridge"
   ]
  },
  {
   "cell_type": "code",
   "execution_count": 42,
   "metadata": {},
   "outputs": [],
   "source": [
    "model = Ridge()"
   ]
  },
  {
   "cell_type": "code",
   "execution_count": null,
   "metadata": {},
   "outputs": [],
   "source": [
    "gs = GridSearchCV(estimator=model,param_grid={'tolerance':[0.05,0.1],mz_power:[0,1],'intensity_power':[1,2]})\n",
    "fitted_model = gs.fit()\n"
   ]
  },
  {
   "cell_type": "code",
   "execution_count": null,
   "metadata": {},
   "outputs": [],
   "source": [
    "print(grid.best_score_)\n",
    "print(grid.best_param_)"
   ]
  }
 ],
 "metadata": {
  "kernelspec": {
   "display_name": "Python 3",
   "language": "python",
   "name": "python3"
  },
  "language_info": {
   "codemirror_mode": {
    "name": "ipython",
    "version": 3
   },
   "file_extension": ".py",
   "mimetype": "text/x-python",
   "name": "python",
   "nbconvert_exporter": "python",
   "pygments_lexer": "ipython3",
   "version": "3.8.5"
  }
 },
 "nbformat": 4,
 "nbformat_minor": 4
}
