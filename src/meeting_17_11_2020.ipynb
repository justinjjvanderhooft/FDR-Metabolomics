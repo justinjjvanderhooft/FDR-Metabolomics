{
 "cells": [
  {
   "cell_type": "code",
   "execution_count": 26,
   "metadata": {},
   "outputs": [],
   "source": [
    "import sys\n",
    "sys.path.append(r'C:\\Users\\Gosia\\Desktop\\FDR-Metabolomics\\src\\passatutto_parser.py')\n",
    "import passatutto_parser as pp"
   ]
  },
  {
   "cell_type": "code",
   "execution_count": null,
   "metadata": {},
   "outputs": [],
   "source": [
    "pre_spectrums_lib = pp.PassatuttoParser(r'C:\\Users\\Gosia\\Desktop\\Gnps_Noise_Filtered').parse_folder()\n",
    "pre_spectrums_query = pp.PassatuttoParser(r'C:\\Users\\Gosia\\Desktop\\MassbankOrbi').parse_folder()\n"
   ]
  },
  {
   "cell_type": "code",
   "execution_count": null,
   "metadata": {},
   "outputs": [],
   "source": [
    "from matchms.importing.load_from_json import as_spectrum\n",
    "spectrums_query = []\n",
    "for i, s in enumerate( pre_spectrums_query ):\n",
    "    spectrums_query.append(as_spectrum(s))\n",
    "    if i and i % 100 == 0:\n",
    "        print('processed %d', i)\n",
    "spectrums_lib = []\n",
    "for i, s in enumerate( pre_spectrums_lib ):\n",
    "    spectrums_lib.append(as_spectrum(s))\n",
    "    if i and i % 100 == 0:\n",
    "        print('processed %d', i)"
   ]
  },
  {
   "cell_type": "code",
   "execution_count": 33,
   "metadata": {},
   "outputs": [
    {
     "name": "stdout",
     "output_type": "stream",
     "text": [
      "CCMSLIB00000079576\n"
     ]
    }
   ],
   "source": [
    "for s in spectrums_lib:\n",
    "    if s.metadata['compound_name'] == 'MLS001074742-01!':\n",
    "        print(s.metadata['spectrumid'])"
   ]
  },
  {
   "cell_type": "code",
   "execution_count": null,
   "metadata": {},
   "outputs": [],
   "source": [
    "mzspec:MASSBANK::accession:EA282407\n",
    "mzspec:GNPS:GNPS-LIBRARY:accession:CCMSLIB00000084759"
   ]
  },
  {
   "cell_type": "code",
   "execution_count": null,
   "metadata": {},
   "outputs": [],
   "source": [
    "'Adenosine'\n",
    "'MLS002153992-01!Vidarabine5536-17-4'\n",
    "mzspec:MASSBANK::accession:NA002113\n",
    "mzspec:GNPS:GNPS-LIBRARY:accession:CCMSLIB00000079576"
   ]
  },
  {
   "cell_type": "code",
   "execution_count": 34,
   "metadata": {},
   "outputs": [
    {
     "name": "stdout",
     "output_type": "stream",
     "text": [
      "Help on class CosineGreedy in module matchms.similarity.CosineGreedy:\n",
      "\n",
      "class CosineGreedy(matchms.similarity.BaseSimilarity.BaseSimilarity)\n",
      " |  CosineGreedy(tolerance: float = 0.1, mz_power: float = 0.0, intensity_power: float = 1.0)\n",
      " |  \n",
      " |  Calculate 'cosine similarity score' between two spectra.\n",
      " |  \n",
      " |  The cosine score aims at quantifying the similarity between two mass spectra.\n",
      " |  The score is calculated by finding best possible matches between peaks\n",
      " |  of two spectra. Two peaks are considered a potential match if their\n",
      " |  m/z ratios lie within the given 'tolerance'.\n",
      " |  The underlying peak assignment problem is here solved in a 'greedy' way.\n",
      " |  This can perform notably faster, but does occasionally deviate slightly from\n",
      " |  a fully correct solution (as with the Hungarian algorithm, see\n",
      " |  :class:`~matchms.similarity.CosineHungarian`). In practice this will rarely\n",
      " |  affect similarity scores notably, in particular for smaller tolerances.\n",
      " |  \n",
      " |  For example\n",
      " |  \n",
      " |  .. testcode::\n",
      " |  \n",
      " |      import numpy as np\n",
      " |      from matchms import Spectrum\n",
      " |      from matchms.similarity import CosineGreedy\n",
      " |  \n",
      " |      reference = Spectrum(mz=np.array([100, 150, 200.]),\n",
      " |                           intensities=np.array([0.7, 0.2, 0.1]))\n",
      " |      query = Spectrum(mz=np.array([100, 140, 190.]),\n",
      " |                       intensities=np.array([0.4, 0.2, 0.1]))\n",
      " |  \n",
      " |      # Use factory to construct a similarity function\n",
      " |      cosine_greedy = CosineGreedy(tolerance=0.2)\n",
      " |  \n",
      " |      score, n_matches = cosine_greedy.pair(reference, query)\n",
      " |  \n",
      " |      print(f\"Cosine score is {score:.2f} with {n_matches} matched peaks\")\n",
      " |  \n",
      " |  Should output\n",
      " |  \n",
      " |  .. testoutput::\n",
      " |  \n",
      " |      Cosine score is 0.83 with 1 matched peaks\n",
      " |  \n",
      " |  Method resolution order:\n",
      " |      CosineGreedy\n",
      " |      matchms.similarity.BaseSimilarity.BaseSimilarity\n",
      " |      builtins.object\n",
      " |  \n",
      " |  Methods defined here:\n",
      " |  \n",
      " |  __init__(self, tolerance: float = 0.1, mz_power: float = 0.0, intensity_power: float = 1.0)\n",
      " |      Parameters\n",
      " |      ----------\n",
      " |      tolerance:\n",
      " |          Peaks will be considered a match when <= tolerance apart. Default is 0.1.\n",
      " |      mz_power:\n",
      " |          The power to raise m/z to in the cosine function. The default is 0, in which\n",
      " |          case the peak intensity products will not depend on the m/z ratios.\n",
      " |      intensity_power:\n",
      " |          The power to raise intensity to in the cosine function. The default is 1.\n",
      " |  \n",
      " |  pair(self, reference: Union[matchms.Spectrum.Spectrum, NoneType], query: Union[matchms.Spectrum.Spectrum, NoneType]) -> Tuple[float, int]\n",
      " |      Calculate cosine score between two spectra.\n",
      " |      \n",
      " |      Parameters\n",
      " |      ----------\n",
      " |      reference\n",
      " |          Single reference spectrum.\n",
      " |      query\n",
      " |          Single query spectrum.\n",
      " |      \n",
      " |      Returns\n",
      " |      -------\n",
      " |      Score\n",
      " |          Tuple with cosine score and number of matched peaks.\n",
      " |  \n",
      " |  ----------------------------------------------------------------------\n",
      " |  Data and other attributes defined here:\n",
      " |  \n",
      " |  is_commutative = True\n",
      " |  \n",
      " |  ----------------------------------------------------------------------\n",
      " |  Methods inherited from matchms.similarity.BaseSimilarity.BaseSimilarity:\n",
      " |  \n",
      " |  matrix(self, references: List[Union[matchms.Spectrum.Spectrum, NoneType]], queries: List[Union[matchms.Spectrum.Spectrum, NoneType]], is_symmetric: bool = False) -> numpy.ndarray\n",
      " |      Optional: Provide optimized method to calculate an numpy.array of similarity scores\n",
      " |      for given reference and query spectrums. If no method is added here, the following naive\n",
      " |      implementation (i.e. a double for-loop) is used.\n",
      " |      \n",
      " |      Parameters\n",
      " |      ----------\n",
      " |      references\n",
      " |          List of reference objects\n",
      " |      queries\n",
      " |          List of query objects\n",
      " |      is_symmetric\n",
      " |          Set to True when *references* and *queries* are identical (as for instance for an all-vs-all\n",
      " |          comparison). By using the fact that score[i,j] = score[j,i] the calculation will be about\n",
      " |          2x faster.\n",
      " |  \n",
      " |  ----------------------------------------------------------------------\n",
      " |  Data descriptors inherited from matchms.similarity.BaseSimilarity.BaseSimilarity:\n",
      " |  \n",
      " |  __dict__\n",
      " |      dictionary for instance variables (if defined)\n",
      " |  \n",
      " |  __weakref__\n",
      " |      list of weak references to the object (if defined)\n",
      "\n"
     ]
    }
   ],
   "source": [
    "from matchms.similarity import CosineGreedy\n",
    "help(CosineGreedy)"
   ]
  },
  {
   "cell_type": "code",
   "execution_count": null,
   "metadata": {},
   "outputs": [],
   "source": []
  }
 ],
 "metadata": {
  "kernelspec": {
   "display_name": "Python 3",
   "language": "python",
   "name": "python3"
  },
  "language_info": {
   "codemirror_mode": {
    "name": "ipython",
    "version": 3
   },
   "file_extension": ".py",
   "mimetype": "text/x-python",
   "name": "python",
   "nbconvert_exporter": "python",
   "pygments_lexer": "ipython3",
   "version": "3.8.5"
  }
 },
 "nbformat": 4,
 "nbformat_minor": 4
}
