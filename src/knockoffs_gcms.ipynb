{
 "cells": [
  {
   "cell_type": "code",
   "execution_count": 1,
   "metadata": {},
   "outputs": [],
   "source": [
    "import os\n",
    "import sys\n",
    "import gensim\n",
    "import numpy as np\n",
    "\n",
    "ROOT = os.path.dirname(os.getcwd())\n",
    "#path_data = os.path.join(ROOT, 'data')\n",
    "path_data = 'C:\\\\Users\\\\Gosia\\\\Desktop\\\\'\n",
    "sys.path.insert(0, ROOT)"
   ]
  },
  {
   "cell_type": "code",
   "execution_count": 2,
   "metadata": {},
   "outputs": [],
   "source": [
    "from matchms.importing.load_from_msp import load_from_msp\n",
    "spectrums = list(load_from_msp('C:\\\\Users\\\\Gosia\\\\Desktop\\\\MoNA-export-GC-MS_Spectra-msp\\\\MoNA-export-GC-MS_Spectra.msp'))\n"
   ]
  },
  {
   "cell_type": "code",
   "execution_count": 3,
   "metadata": {},
   "outputs": [],
   "source": [
    "from matchms.filtering import normalize_intensities\n",
    "from matchms.filtering import select_by_mz\n",
    "from matchms.filtering import select_by_relative_intensity\n",
    "from matchms.filtering import reduce_to_number_of_peaks\n",
    "from matchms.filtering import require_minimum_number_of_peaks\n",
    "\n",
    "def apply_my_filters(s):\n",
    "    s = select_by_mz(s, mz_from=0, mz_to=1000)\n",
    "    s = normalize_intensities(s)\n",
    "    s = select_by_relative_intensity(s, intensity_from=0.05, intensity_to=1)\n",
    "    return s"
   ]
  },
  {
   "cell_type": "code",
   "execution_count": 4,
   "metadata": {},
   "outputs": [
    {
     "name": "stdout",
     "output_type": "stream",
     "text": [
      "18892 remaining spectra.\n"
     ]
    }
   ],
   "source": [
    "# apply filters to the data\n",
    "spectrums_classical = [apply_my_filters(s) for s in spectrums]\n",
    "\n",
    "# omit spectrums that didn't qualify for analysis\n",
    "spectrums = [s for s in spectrums_classical if s is not None and 'inchikey' in s.metadata]\n",
    "\n",
    "print(\"{} remaining spectra.\".format(len(spectrums)))"
   ]
  },
  {
   "cell_type": "code",
   "execution_count": 5,
   "metadata": {},
   "outputs": [],
   "source": [
    "inchi_dict = {}\n",
    "for s in spectrums:\n",
    "    ik = s.metadata.get('inchikey','')\n",
    "    init_ik = ik.split('-')[0]\n",
    "    if not init_ik in inchi_dict:\n",
    "        inchi_dict[init_ik] = [s]\n",
    "    else:\n",
    "        inchi_dict[init_ik].append(s)\n"
   ]
  },
  {
   "cell_type": "code",
   "execution_count": 6,
   "metadata": {},
   "outputs": [],
   "source": [
    "query_size = 1000"
   ]
  },
  {
   "cell_type": "code",
   "execution_count": 7,
   "metadata": {},
   "outputs": [],
   "source": [
    "# choosing queries from multis ensures a possible true match\n",
    "multis = set([i for i,v in inchi_dict.items() if len(v) > 1])\n",
    "\n",
    "matching_keys = np.random.choice(list(multis), size=query_size, replace=False)\n",
    "\n",
    "query_spec = {}\n",
    "spectrums_lib = []\n",
    "# We select query_size queries that have at least 1 matching spectrum in the library\n",
    "for q in matching_keys:\n",
    "    spec_to_add = np.random.choice(inchi_dict[q], size=1, replace=False)\n",
    "    query_spec[spec_to_add[0].metadata['inchikey']] = spec_to_add[0]\n",
    "\n",
    "# And everything else goes into the library\n",
    "for s in spectrums:\n",
    "    if s.metadata['inchikey'] not in query_spec or s != query_spec[s.metadata['inchikey']]:\n",
    "        spectrums_lib.append(s)\n",
    "\n",
    "spectrums_query = list(query_spec.values())"
   ]
  },
  {
   "cell_type": "code",
   "execution_count": 8,
   "metadata": {},
   "outputs": [
    {
     "name": "stdout",
     "output_type": "stream",
     "text": [
      "1000 17892\n"
     ]
    }
   ],
   "source": [
    "print(len(spectrums_query), len(spectrums_lib))"
   ]
  },
  {
   "cell_type": "code",
   "execution_count": 9,
   "metadata": {},
   "outputs": [],
   "source": [
    "from spec2vec import Spec2Vec\n",
    "from spec2vec import SpectrumDocument\n",
    "\n",
    "documents = [SpectrumDocument(s, n_decimals=0) for s in spectrums]\n"
   ]
  },
  {
   "cell_type": "code",
   "execution_count": 10,
   "metadata": {},
   "outputs": [
    {
     "name": "stdout",
     "output_type": "stream",
     "text": [
      "The value of size is set from 300 (default) to 50\n",
      "  Epoch 1 of 30.Change in loss after epoch 1: 141520.4375\n",
      "Saving model with name: C:\\Users\\Gosia\\Desktop\\trained_models\\spec2vec_gcms_model_50_iter_1.model\n",
      "  Epoch 2 of 30.Change in loss after epoch 2: 132790.9375\n",
      "  Epoch 3 of 30.Change in loss after epoch 3: 129153.8125\n",
      "Saving model with name: C:\\Users\\Gosia\\Desktop\\trained_models\\spec2vec_gcms_model_50_iter_3.model\n",
      "  Epoch 4 of 30.Change in loss after epoch 4: 120176.5\n",
      "  Epoch 5 of 30.Change in loss after epoch 5: 129326.75\n",
      "Saving model with name: C:\\Users\\Gosia\\Desktop\\trained_models\\spec2vec_gcms_model_50_iter_5.model\n",
      "  Epoch 6 of 30.Change in loss after epoch 6: 119906.125\n",
      "  Epoch 7 of 30.Change in loss after epoch 7: 109046.8125\n",
      "  Epoch 8 of 30.Change in loss after epoch 8: 130149.625\n",
      "  Epoch 9 of 30.Change in loss after epoch 9: 114309.0\n",
      "  Epoch 10 of 30.Change in loss after epoch 10: 126971.0\n",
      "Saving model with name: C:\\Users\\Gosia\\Desktop\\trained_models\\spec2vec_gcms_model_50_iter_10.model\n",
      "  Epoch 11 of 30.Change in loss after epoch 11: 106837.125\n",
      "  Epoch 12 of 30.Change in loss after epoch 12: 105031.625\n",
      "  Epoch 13 of 30.Change in loss after epoch 13: 125119.75\n",
      "  Epoch 14 of 30.Change in loss after epoch 14: 127625.375\n",
      "  Epoch 15 of 30.Change in loss after epoch 15: 116218.375\n",
      "Saving model with name: C:\\Users\\Gosia\\Desktop\\trained_models\\spec2vec_gcms_model_50_iter_15.model\n",
      "  Epoch 16 of 30.Change in loss after epoch 16: 117975.125\n",
      "  Epoch 17 of 30.Change in loss after epoch 17: 102019.625\n",
      "  Epoch 18 of 30.Change in loss after epoch 18: 116865.0\n",
      "  Epoch 19 of 30.Change in loss after epoch 19: 113083.25\n",
      "  Epoch 20 of 30.Change in loss after epoch 20: 115194.5\n",
      "Saving model with name: C:\\Users\\Gosia\\Desktop\\trained_models\\spec2vec_gcms_model_50_iter_20.model\n",
      "  Epoch 21 of 30.Change in loss after epoch 21: 120904.5\n",
      "  Epoch 22 of 30.Change in loss after epoch 22: 114738.5\n",
      "  Epoch 23 of 30.Change in loss after epoch 23: 124444.75\n",
      "  Epoch 24 of 30.Change in loss after epoch 24: 110980.75\n",
      "  Epoch 25 of 30.Change in loss after epoch 25: 121696.75\n",
      "Saving model with name: C:\\Users\\Gosia\\Desktop\\trained_models\\spec2vec_gcms_model_50_iter_25.model\n",
      "  Epoch 26 of 30.Change in loss after epoch 26: 108925.0\n",
      "  Epoch 27 of 30.Change in loss after epoch 27: 114900.25\n",
      "  Epoch 28 of 30.Change in loss after epoch 28: 112993.25\n",
      "  Epoch 29 of 30.Change in loss after epoch 29: 110618.0\n",
      "  Epoch 30 of 30.Change in loss after epoch 30: 104362.0\n",
      "Saving model with name: C:\\Users\\Gosia\\Desktop\\trained_models\\spec2vec_gcms_model_50.model\n"
     ]
    }
   ],
   "source": [
    "from spec2vec.model_building import train_new_word2vec_model\n",
    "\n",
    "path_models = os.path.join(path_data, \"trained_models\")\n",
    "model_file = os.path.join(path_models, \"spec2vec_gcms_model_50.model\")\n",
    "\n",
    "iterations = [1, 3, 5, 10, 15, 20, 25, 30]\n",
    "\n",
    "# Train model with default parameters\n",
    "model = train_new_word2vec_model(documents, iterations, model_file, size=50)"
   ]
  },
  {
   "cell_type": "markdown",
   "metadata": {},
   "source": [
    "Create spectrum \"documents\""
   ]
  },
  {
   "cell_type": "code",
   "execution_count": 11,
   "metadata": {},
   "outputs": [],
   "source": [
    "from rdkit.Chem import MolFromSmiles, MolToSmiles\n",
    "from rdkit.Chem.inchi import MolFromInchi, MolToInchi\n",
    "from rdkit.Chem.rdMolDescriptors import CalcExactMolWt, CalcMolFormula\n",
    "\n",
    "def f(specs):\n",
    "    successes = []\n",
    "    for s in specs:\n",
    "        try:\n",
    "            mol = MolFromSmiles(s.get('smiles'))\n",
    "        except Exception as e:\n",
    "            pass\n",
    "        if mol is not None:\n",
    "            exact_mass_smi = CalcExactMolWt(mol)\n",
    "            #print(mol,exact_mass_smi,s.get('parent_mass'))\n",
    "            #if s.get('parent_mass') is None\n",
    "            successes.append(s)\n",
    "            s.set('very_exact_mass', exact_mass_smi)\n",
    "    return successes"
   ]
  },
  {
   "cell_type": "code",
   "execution_count": 12,
   "metadata": {},
   "outputs": [],
   "source": [
    "spectrums_query = f(spectrums_query)\n",
    "spectrums_lib = f(spectrums_lib)"
   ]
  },
  {
   "cell_type": "code",
   "execution_count": 13,
   "metadata": {},
   "outputs": [
    {
     "name": "stdout",
     "output_type": "stream",
     "text": [
      "997 17854\n"
     ]
    }
   ],
   "source": [
    "print(len(spectrums_query), len(spectrums_lib))"
   ]
  },
  {
   "cell_type": "code",
   "execution_count": 14,
   "metadata": {},
   "outputs": [
    {
     "name": "stdout",
     "output_type": "stream",
     "text": [
      "[<spec2vec.SpectrumDocument.SpectrumDocument object at 0x0000018B884C4190>, <spec2vec.SpectrumDocument.SpectrumDocument object at 0x0000018B884C4B80>, <spec2vec.SpectrumDocument.SpectrumDocument object at 0x0000018B884C4BE0>, <spec2vec.SpectrumDocument.SpectrumDocument object at 0x0000018B884C4C40>, <spec2vec.SpectrumDocument.SpectrumDocument object at 0x0000018B884C4C70>, <spec2vec.SpectrumDocument.SpectrumDocument object at 0x0000018B884C4CA0>, <spec2vec.SpectrumDocument.SpectrumDocument object at 0x0000018B884C4E80>, <spec2vec.SpectrumDocument.SpectrumDocument object at 0x0000018B884C4EB0>, <spec2vec.SpectrumDocument.SpectrumDocument object at 0x0000018B884C4F40>, <spec2vec.SpectrumDocument.SpectrumDocument object at 0x0000018B8847BCD0>, <spec2vec.SpectrumDocument.SpectrumDocument object at 0x0000018B884C4FA0>, <spec2vec.SpectrumDocument.SpectrumDocument object at 0x0000018B884C4F10>, <spec2vec.SpectrumDocument.SpectrumDocument object at 0x0000018B884C4DC0>, <spec2vec.SpectrumDocument.SpectrumDocument object at 0x0000018B884C4520>, <spec2vec.SpectrumDocument.SpectrumDocument object at 0x0000018B884B2CA0>, <spec2vec.SpectrumDocument.SpectrumDocument object at 0x0000018B884B2B80>, <spec2vec.SpectrumDocument.SpectrumDocument object at 0x0000018B884B2CD0>, <spec2vec.SpectrumDocument.SpectrumDocument object at 0x0000018B884B2760>, <spec2vec.SpectrumDocument.SpectrumDocument object at 0x0000018B884B24C0>, <spec2vec.SpectrumDocument.SpectrumDocument object at 0x0000018B884B25E0>, <spec2vec.SpectrumDocument.SpectrumDocument object at 0x0000018B884B2550>, <spec2vec.SpectrumDocument.SpectrumDocument object at 0x0000018B884B2D60>, <spec2vec.SpectrumDocument.SpectrumDocument object at 0x0000018B884B2580>, <spec2vec.SpectrumDocument.SpectrumDocument object at 0x0000018B884B2F70>, <spec2vec.SpectrumDocument.SpectrumDocument object at 0x0000018B884B24F0>, <spec2vec.SpectrumDocument.SpectrumDocument object at 0x0000018B884B29A0>, <spec2vec.SpectrumDocument.SpectrumDocument object at 0x0000018B884B2EB0>, <spec2vec.SpectrumDocument.SpectrumDocument object at 0x0000018B884B2FA0>, <spec2vec.SpectrumDocument.SpectrumDocument object at 0x0000018B884B2D30>, <spec2vec.SpectrumDocument.SpectrumDocument object at 0x0000018B884B2E50>, <spec2vec.SpectrumDocument.SpectrumDocument object at 0x0000018B884B27F0>, <spec2vec.SpectrumDocument.SpectrumDocument object at 0x0000018B884B2910>, <spec2vec.SpectrumDocument.SpectrumDocument object at 0x0000018B884B2C10>, <spec2vec.SpectrumDocument.SpectrumDocument object at 0x0000018B884B2640>, <spec2vec.SpectrumDocument.SpectrumDocument object at 0x0000018B885700A0>, <spec2vec.SpectrumDocument.SpectrumDocument object at 0x0000018B88570100>, <spec2vec.SpectrumDocument.SpectrumDocument object at 0x0000018B88570160>, <spec2vec.SpectrumDocument.SpectrumDocument object at 0x0000018B885701C0>, <spec2vec.SpectrumDocument.SpectrumDocument object at 0x0000018B88570220>, <spec2vec.SpectrumDocument.SpectrumDocument object at 0x0000018B88570280>, <spec2vec.SpectrumDocument.SpectrumDocument object at 0x0000018B885702E0>, <spec2vec.SpectrumDocument.SpectrumDocument object at 0x0000018B88570340>, <spec2vec.SpectrumDocument.SpectrumDocument object at 0x0000018B885703A0>, <spec2vec.SpectrumDocument.SpectrumDocument object at 0x0000018B88570400>, <spec2vec.SpectrumDocument.SpectrumDocument object at 0x0000018B88570460>, <spec2vec.SpectrumDocument.SpectrumDocument object at 0x0000018B885704C0>, <spec2vec.SpectrumDocument.SpectrumDocument object at 0x0000018B88570520>, <spec2vec.SpectrumDocument.SpectrumDocument object at 0x0000018B88570580>, <spec2vec.SpectrumDocument.SpectrumDocument object at 0x0000018B885705E0>, <spec2vec.SpectrumDocument.SpectrumDocument object at 0x0000018B88570640>, <spec2vec.SpectrumDocument.SpectrumDocument object at 0x0000018B885706A0>, <spec2vec.SpectrumDocument.SpectrumDocument object at 0x0000018B88570700>, <spec2vec.SpectrumDocument.SpectrumDocument object at 0x0000018B88570760>, <spec2vec.SpectrumDocument.SpectrumDocument object at 0x0000018B885707C0>, <spec2vec.SpectrumDocument.SpectrumDocument object at 0x0000018B88570820>, <spec2vec.SpectrumDocument.SpectrumDocument object at 0x0000018B88570880>, <spec2vec.SpectrumDocument.SpectrumDocument object at 0x0000018B885708E0>, <spec2vec.SpectrumDocument.SpectrumDocument object at 0x0000018B88570940>, <spec2vec.SpectrumDocument.SpectrumDocument object at 0x0000018B885709A0>, <spec2vec.SpectrumDocument.SpectrumDocument object at 0x0000018B88570A00>, <spec2vec.SpectrumDocument.SpectrumDocument object at 0x0000018B88570A60>, <spec2vec.SpectrumDocument.SpectrumDocument object at 0x0000018B88570AC0>, <spec2vec.SpectrumDocument.SpectrumDocument object at 0x0000018B88570B20>, <spec2vec.SpectrumDocument.SpectrumDocument object at 0x0000018B88570B80>, <spec2vec.SpectrumDocument.SpectrumDocument object at 0x0000018B88570BE0>, <spec2vec.SpectrumDocument.SpectrumDocument object at 0x0000018B88570CA0>, <spec2vec.SpectrumDocument.SpectrumDocument object at 0x0000018B88570D00>, <spec2vec.SpectrumDocument.SpectrumDocument object at 0x0000018B88570D60>, <spec2vec.SpectrumDocument.SpectrumDocument object at 0x0000018B88570DC0>, <spec2vec.SpectrumDocument.SpectrumDocument object at 0x0000018B88570E20>, <spec2vec.SpectrumDocument.SpectrumDocument object at 0x0000018B88570E80>, <spec2vec.SpectrumDocument.SpectrumDocument object at 0x0000018B88570EE0>, <spec2vec.SpectrumDocument.SpectrumDocument object at 0x0000018B88570F40>, <spec2vec.SpectrumDocument.SpectrumDocument object at 0x0000018B88570FA0>, <spec2vec.SpectrumDocument.SpectrumDocument object at 0x0000018B88587040>, <spec2vec.SpectrumDocument.SpectrumDocument object at 0x0000018B885870A0>, <spec2vec.SpectrumDocument.SpectrumDocument object at 0x0000018B88587100>, <spec2vec.SpectrumDocument.SpectrumDocument object at 0x0000018B88587160>, <spec2vec.SpectrumDocument.SpectrumDocument object at 0x0000018B885871C0>, <spec2vec.SpectrumDocument.SpectrumDocument object at 0x0000018B88587280>, <spec2vec.SpectrumDocument.SpectrumDocument object at 0x0000018B885872E0>, <spec2vec.SpectrumDocument.SpectrumDocument object at 0x0000018B88587340>, <spec2vec.SpectrumDocument.SpectrumDocument object at 0x0000018B885873A0>, <spec2vec.SpectrumDocument.SpectrumDocument object at 0x0000018B88587400>, <spec2vec.SpectrumDocument.SpectrumDocument object at 0x0000018B88587460>, <spec2vec.SpectrumDocument.SpectrumDocument object at 0x0000018B885874C0>, <spec2vec.SpectrumDocument.SpectrumDocument object at 0x0000018B88587520>, <spec2vec.SpectrumDocument.SpectrumDocument object at 0x0000018B88587580>, <spec2vec.SpectrumDocument.SpectrumDocument object at 0x0000018B885875E0>, <spec2vec.SpectrumDocument.SpectrumDocument object at 0x0000018B88587640>, <spec2vec.SpectrumDocument.SpectrumDocument object at 0x0000018B885876A0>, <spec2vec.SpectrumDocument.SpectrumDocument object at 0x0000018B8847BAC0>, <spec2vec.SpectrumDocument.SpectrumDocument object at 0x0000018B8847BB80>, <spec2vec.SpectrumDocument.SpectrumDocument object at 0x0000018B88587760>, <spec2vec.SpectrumDocument.SpectrumDocument object at 0x0000018B88587820>, <spec2vec.SpectrumDocument.SpectrumDocument object at 0x0000018B88587880>, <spec2vec.SpectrumDocument.SpectrumDocument object at 0x0000018B885878E0>, <spec2vec.SpectrumDocument.SpectrumDocument object at 0x0000018B88587940>, <spec2vec.SpectrumDocument.SpectrumDocument object at 0x0000018B885879A0>, <spec2vec.SpectrumDocument.SpectrumDocument object at 0x0000018B88587A00>, <spec2vec.SpectrumDocument.SpectrumDocument object at 0x0000018B88587A60>, <spec2vec.SpectrumDocument.SpectrumDocument object at 0x0000018B88587AC0>, <spec2vec.SpectrumDocument.SpectrumDocument object at 0x0000018B88587B20>, <spec2vec.SpectrumDocument.SpectrumDocument object at 0x0000018B88587B80>, <spec2vec.SpectrumDocument.SpectrumDocument object at 0x0000018B88587C40>, <spec2vec.SpectrumDocument.SpectrumDocument object at 0x0000018B88587CA0>, <spec2vec.SpectrumDocument.SpectrumDocument object at 0x0000018B88587D00>, <spec2vec.SpectrumDocument.SpectrumDocument object at 0x0000018B88587D60>, <spec2vec.SpectrumDocument.SpectrumDocument object at 0x0000018B88587DC0>, <spec2vec.SpectrumDocument.SpectrumDocument object at 0x0000018B88587E20>, <spec2vec.SpectrumDocument.SpectrumDocument object at 0x0000018B88587E80>, <spec2vec.SpectrumDocument.SpectrumDocument object at 0x0000018B88587EE0>, <spec2vec.SpectrumDocument.SpectrumDocument object at 0x0000018B88587F40>, <spec2vec.SpectrumDocument.SpectrumDocument object at 0x0000018B88599040>, <spec2vec.SpectrumDocument.SpectrumDocument object at 0x0000018B885990A0>, <spec2vec.SpectrumDocument.SpectrumDocument object at 0x0000018B88599100>, <spec2vec.SpectrumDocument.SpectrumDocument object at 0x0000018B88599160>, <spec2vec.SpectrumDocument.SpectrumDocument object at 0x0000018B885991C0>, <spec2vec.SpectrumDocument.SpectrumDocument object at 0x0000018B88599220>, <spec2vec.SpectrumDocument.SpectrumDocument object at 0x0000018B88599280>, <spec2vec.SpectrumDocument.SpectrumDocument object at 0x0000018B885992E0>, <spec2vec.SpectrumDocument.SpectrumDocument object at 0x0000018B88599340>, <spec2vec.SpectrumDocument.SpectrumDocument object at 0x0000018B88599400>, <spec2vec.SpectrumDocument.SpectrumDocument object at 0x0000018B88599460>, <spec2vec.SpectrumDocument.SpectrumDocument object at 0x0000018B885994C0>, <spec2vec.SpectrumDocument.SpectrumDocument object at 0x0000018B88599520>, <spec2vec.SpectrumDocument.SpectrumDocument object at 0x0000018B885995E0>, <spec2vec.SpectrumDocument.SpectrumDocument object at 0x0000018B88599640>, <spec2vec.SpectrumDocument.SpectrumDocument object at 0x0000018B885996A0>, <spec2vec.SpectrumDocument.SpectrumDocument object at 0x0000018B88599700>, <spec2vec.SpectrumDocument.SpectrumDocument object at 0x0000018B88599760>, <spec2vec.SpectrumDocument.SpectrumDocument object at 0x0000018B885997C0>, <spec2vec.SpectrumDocument.SpectrumDocument object at 0x0000018B88599820>, <spec2vec.SpectrumDocument.SpectrumDocument object at 0x0000018B88599880>, <spec2vec.SpectrumDocument.SpectrumDocument object at 0x0000018B885998E0>, <spec2vec.SpectrumDocument.SpectrumDocument object at 0x0000018B885999A0>, <spec2vec.SpectrumDocument.SpectrumDocument object at 0x0000018B88599A00>, <spec2vec.SpectrumDocument.SpectrumDocument object at 0x0000018B88599AC0>, <spec2vec.SpectrumDocument.SpectrumDocument object at 0x0000018B88599B20>, <spec2vec.SpectrumDocument.SpectrumDocument object at 0x0000018B88599B80>, <spec2vec.SpectrumDocument.SpectrumDocument object at 0x0000018B88599BE0>, <spec2vec.SpectrumDocument.SpectrumDocument object at 0x0000018B88599C40>, <spec2vec.SpectrumDocument.SpectrumDocument object at 0x0000018B88599CA0>, <spec2vec.SpectrumDocument.SpectrumDocument object at 0x0000018B88599D00>, <spec2vec.SpectrumDocument.SpectrumDocument object at 0x0000018B88599D60>, <spec2vec.SpectrumDocument.SpectrumDocument object at 0x0000018B88599DC0>, <spec2vec.SpectrumDocument.SpectrumDocument object at 0x0000018B88599E20>, <spec2vec.SpectrumDocument.SpectrumDocument object at 0x0000018B88599E80>, <spec2vec.SpectrumDocument.SpectrumDocument object at 0x0000018B88599EE0>, <spec2vec.SpectrumDocument.SpectrumDocument object at 0x0000018B88599F40>, <spec2vec.SpectrumDocument.SpectrumDocument object at 0x0000018B88599FA0>, <spec2vec.SpectrumDocument.SpectrumDocument object at 0x0000018B885B0040>, <spec2vec.SpectrumDocument.SpectrumDocument object at 0x0000018B885B00A0>, <spec2vec.SpectrumDocument.SpectrumDocument object at 0x0000018B885B0100>, <spec2vec.SpectrumDocument.SpectrumDocument object at 0x0000018B885B0160>, <spec2vec.SpectrumDocument.SpectrumDocument object at 0x0000018B885B01C0>, <spec2vec.SpectrumDocument.SpectrumDocument object at 0x0000018B885B0220>, <spec2vec.SpectrumDocument.SpectrumDocument object at 0x0000018B885B0280>, <spec2vec.SpectrumDocument.SpectrumDocument object at 0x0000018B885B02E0>, <spec2vec.SpectrumDocument.SpectrumDocument object at 0x0000018B885B0340>, <spec2vec.SpectrumDocument.SpectrumDocument object at 0x0000018B885B03A0>, <spec2vec.SpectrumDocument.SpectrumDocument object at 0x0000018B885B0400>, <spec2vec.SpectrumDocument.SpectrumDocument object at 0x0000018B885B0460>, <spec2vec.SpectrumDocument.SpectrumDocument object at 0x0000018B885B04C0>, <spec2vec.SpectrumDocument.SpectrumDocument object at 0x0000018B885B0520>, <spec2vec.SpectrumDocument.SpectrumDocument object at 0x0000018B885B0580>, <spec2vec.SpectrumDocument.SpectrumDocument object at 0x0000018B885B05E0>, <spec2vec.SpectrumDocument.SpectrumDocument object at 0x0000018B885B0640>, <spec2vec.SpectrumDocument.SpectrumDocument object at 0x0000018B885B06A0>, <spec2vec.SpectrumDocument.SpectrumDocument object at 0x0000018B885B0700>, <spec2vec.SpectrumDocument.SpectrumDocument object at 0x0000018B885B0760>, <spec2vec.SpectrumDocument.SpectrumDocument object at 0x0000018B885B07C0>, <spec2vec.SpectrumDocument.SpectrumDocument object at 0x0000018B885B0820>, <spec2vec.SpectrumDocument.SpectrumDocument object at 0x0000018B885B0880>, <spec2vec.SpectrumDocument.SpectrumDocument object at 0x0000018B885B08E0>, <spec2vec.SpectrumDocument.SpectrumDocument object at 0x0000018B885B0940>, <spec2vec.SpectrumDocument.SpectrumDocument object at 0x0000018B885B09A0>, <spec2vec.SpectrumDocument.SpectrumDocument object at 0x0000018B885B0A00>, <spec2vec.SpectrumDocument.SpectrumDocument object at 0x0000018B885B0A60>, <spec2vec.SpectrumDocument.SpectrumDocument object at 0x0000018B885B0AC0>, <spec2vec.SpectrumDocument.SpectrumDocument object at 0x0000018B885B0B20>, <spec2vec.SpectrumDocument.SpectrumDocument object at 0x0000018B885B0B80>, <spec2vec.SpectrumDocument.SpectrumDocument object at 0x0000018B885B0BE0>, <spec2vec.SpectrumDocument.SpectrumDocument object at 0x0000018B885B0C40>, <spec2vec.SpectrumDocument.SpectrumDocument object at 0x0000018B885B0CA0>, <spec2vec.SpectrumDocument.SpectrumDocument object at 0x0000018B885B0D00>, <spec2vec.SpectrumDocument.SpectrumDocument object at 0x0000018B885B0D60>, <spec2vec.SpectrumDocument.SpectrumDocument object at 0x0000018B885B0E20>, <spec2vec.SpectrumDocument.SpectrumDocument object at 0x0000018B885B0E80>, <spec2vec.SpectrumDocument.SpectrumDocument object at 0x0000018B885B0EE0>, <spec2vec.SpectrumDocument.SpectrumDocument object at 0x0000018B885B0FA0>, <spec2vec.SpectrumDocument.SpectrumDocument object at 0x0000018B885C1040>, <spec2vec.SpectrumDocument.SpectrumDocument object at 0x0000018B885C10A0>, <spec2vec.SpectrumDocument.SpectrumDocument object at 0x0000018B885C1100>, <spec2vec.SpectrumDocument.SpectrumDocument object at 0x0000018B885C1160>, <spec2vec.SpectrumDocument.SpectrumDocument object at 0x0000018B885C11C0>, <spec2vec.SpectrumDocument.SpectrumDocument object at 0x0000018B885C1220>, <spec2vec.SpectrumDocument.SpectrumDocument object at 0x0000018B885C1280>, <spec2vec.SpectrumDocument.SpectrumDocument object at 0x0000018B885C12E0>, <spec2vec.SpectrumDocument.SpectrumDocument object at 0x0000018B885C1340>, <spec2vec.SpectrumDocument.SpectrumDocument object at 0x0000018B885C13A0>, <spec2vec.SpectrumDocument.SpectrumDocument object at 0x0000018B885C1400>, <spec2vec.SpectrumDocument.SpectrumDocument object at 0x0000018B885C1460>, <spec2vec.SpectrumDocument.SpectrumDocument object at 0x0000018B885C14C0>, <spec2vec.SpectrumDocument.SpectrumDocument object at 0x0000018B885C1520>, <spec2vec.SpectrumDocument.SpectrumDocument object at 0x0000018B885C1580>, <spec2vec.SpectrumDocument.SpectrumDocument object at 0x0000018B885C15E0>, <spec2vec.SpectrumDocument.SpectrumDocument object at 0x0000018B885C1640>, <spec2vec.SpectrumDocument.SpectrumDocument object at 0x0000018B885C16A0>, <spec2vec.SpectrumDocument.SpectrumDocument object at 0x0000018B885C1700>, <spec2vec.SpectrumDocument.SpectrumDocument object at 0x0000018B885C1760>, <spec2vec.SpectrumDocument.SpectrumDocument object at 0x0000018B885C17C0>, <spec2vec.SpectrumDocument.SpectrumDocument object at 0x0000018B885C1820>, <spec2vec.SpectrumDocument.SpectrumDocument object at 0x0000018B885C1880>, <spec2vec.SpectrumDocument.SpectrumDocument object at 0x0000018B885C18E0>, <spec2vec.SpectrumDocument.SpectrumDocument object at 0x0000018B885C1940>, <spec2vec.SpectrumDocument.SpectrumDocument object at 0x0000018B885C19A0>, <spec2vec.SpectrumDocument.SpectrumDocument object at 0x0000018B885C1A00>, <spec2vec.SpectrumDocument.SpectrumDocument object at 0x0000018B885C1A60>, <spec2vec.SpectrumDocument.SpectrumDocument object at 0x0000018B885C1B20>, <spec2vec.SpectrumDocument.SpectrumDocument object at 0x0000018B885C1B80>, <spec2vec.SpectrumDocument.SpectrumDocument object at 0x0000018B885C1BE0>, <spec2vec.SpectrumDocument.SpectrumDocument object at 0x0000018B885C1CA0>, <spec2vec.SpectrumDocument.SpectrumDocument object at 0x0000018B885C1D00>, <spec2vec.SpectrumDocument.SpectrumDocument object at 0x0000018B885C1D60>, <spec2vec.SpectrumDocument.SpectrumDocument object at 0x0000018B885C1DC0>, <spec2vec.SpectrumDocument.SpectrumDocument object at 0x0000018B885C1E20>, <spec2vec.SpectrumDocument.SpectrumDocument object at 0x0000018B885C1EE0>, <spec2vec.SpectrumDocument.SpectrumDocument object at 0x0000018B885C1FA0>, <spec2vec.SpectrumDocument.SpectrumDocument object at 0x0000018B885D1040>, <spec2vec.SpectrumDocument.SpectrumDocument object at 0x0000018B885D10A0>, <spec2vec.SpectrumDocument.SpectrumDocument object at 0x0000018B885D1100>, <spec2vec.SpectrumDocument.SpectrumDocument object at 0x0000018B885D1160>, <spec2vec.SpectrumDocument.SpectrumDocument object at 0x0000018B885D1220>, <spec2vec.SpectrumDocument.SpectrumDocument object at 0x0000018B885D1280>, <spec2vec.SpectrumDocument.SpectrumDocument object at 0x0000018B885D12E0>, <spec2vec.SpectrumDocument.SpectrumDocument object at 0x0000018B885D1340>, <spec2vec.SpectrumDocument.SpectrumDocument object at 0x0000018B885D13A0>, <spec2vec.SpectrumDocument.SpectrumDocument object at 0x0000018B885D1400>, <spec2vec.SpectrumDocument.SpectrumDocument object at 0x0000018B885D1460>, <spec2vec.SpectrumDocument.SpectrumDocument object at 0x0000018B885D14C0>, <spec2vec.SpectrumDocument.SpectrumDocument object at 0x0000018B885D1580>, <spec2vec.SpectrumDocument.SpectrumDocument object at 0x0000018B885D15E0>, <spec2vec.SpectrumDocument.SpectrumDocument object at 0x0000018B885D1640>, <spec2vec.SpectrumDocument.SpectrumDocument object at 0x0000018B885D16A0>, <spec2vec.SpectrumDocument.SpectrumDocument object at 0x0000018B885D1700>, <spec2vec.SpectrumDocument.SpectrumDocument object at 0x0000018B885D1760>, <spec2vec.SpectrumDocument.SpectrumDocument object at 0x0000018B885D17C0>, <spec2vec.SpectrumDocument.SpectrumDocument object at 0x0000018B885D1820>, <spec2vec.SpectrumDocument.SpectrumDocument object at 0x0000018B885D1880>, <spec2vec.SpectrumDocument.SpectrumDocument object at 0x0000018B885D1940>, <spec2vec.SpectrumDocument.SpectrumDocument object at 0x0000018B885D19A0>, <spec2vec.SpectrumDocument.SpectrumDocument object at 0x0000018B885D1A00>, <spec2vec.SpectrumDocument.SpectrumDocument object at 0x0000018B885D1A60>, <spec2vec.SpectrumDocument.SpectrumDocument object at 0x0000018B885D1AC0>, <spec2vec.SpectrumDocument.SpectrumDocument object at 0x0000018B885D1B20>, <spec2vec.SpectrumDocument.SpectrumDocument object at 0x0000018B885D1B80>, <spec2vec.SpectrumDocument.SpectrumDocument object at 0x0000018B885D1BE0>, <spec2vec.SpectrumDocument.SpectrumDocument object at 0x0000018B885D1C40>, <spec2vec.SpectrumDocument.SpectrumDocument object at 0x0000018B885D1CA0>, <spec2vec.SpectrumDocument.SpectrumDocument object at 0x0000018B885D1D00>, <spec2vec.SpectrumDocument.SpectrumDocument object at 0x0000018B885D1D60>, <spec2vec.SpectrumDocument.SpectrumDocument object at 0x0000018B885D1DC0>, <spec2vec.SpectrumDocument.SpectrumDocument object at 0x0000018B885D1E20>, <spec2vec.SpectrumDocument.SpectrumDocument object at 0x0000018B885D1E80>, <spec2vec.SpectrumDocument.SpectrumDocument object at 0x0000018B885D1EE0>, <spec2vec.SpectrumDocument.SpectrumDocument object at 0x0000018B885D1F40>, <spec2vec.SpectrumDocument.SpectrumDocument object at 0x0000018B885D1FA0>, <spec2vec.SpectrumDocument.SpectrumDocument object at 0x0000018B885E9040>, <spec2vec.SpectrumDocument.SpectrumDocument object at 0x0000018B885E90A0>, <spec2vec.SpectrumDocument.SpectrumDocument object at 0x0000018B885E9100>, <spec2vec.SpectrumDocument.SpectrumDocument object at 0x0000018B885E9160>, <spec2vec.SpectrumDocument.SpectrumDocument object at 0x0000018B885E91C0>, <spec2vec.SpectrumDocument.SpectrumDocument object at 0x0000018B885E9220>, <spec2vec.SpectrumDocument.SpectrumDocument object at 0x0000018B885E9280>, <spec2vec.SpectrumDocument.SpectrumDocument object at 0x0000018B885E92E0>, <spec2vec.SpectrumDocument.SpectrumDocument object at 0x0000018B885E9340>, <spec2vec.SpectrumDocument.SpectrumDocument object at 0x0000018B885E93A0>, <spec2vec.SpectrumDocument.SpectrumDocument object at 0x0000018B885E9400>, <spec2vec.SpectrumDocument.SpectrumDocument object at 0x0000018B885E9460>, <spec2vec.SpectrumDocument.SpectrumDocument object at 0x0000018B885E9520>, <spec2vec.SpectrumDocument.SpectrumDocument object at 0x0000018B885E9580>, <spec2vec.SpectrumDocument.SpectrumDocument object at 0x0000018B885E95E0>, <spec2vec.SpectrumDocument.SpectrumDocument object at 0x0000018B885E9640>, <spec2vec.SpectrumDocument.SpectrumDocument object at 0x0000018B885E96A0>, <spec2vec.SpectrumDocument.SpectrumDocument object at 0x0000018B885E9700>, <spec2vec.SpectrumDocument.SpectrumDocument object at 0x0000018B885E9760>, <spec2vec.SpectrumDocument.SpectrumDocument object at 0x0000018B885E97C0>, <spec2vec.SpectrumDocument.SpectrumDocument object at 0x0000018B885E9820>, <spec2vec.SpectrumDocument.SpectrumDocument object at 0x0000018B885E9880>, <spec2vec.SpectrumDocument.SpectrumDocument object at 0x0000018B885E98E0>, <spec2vec.SpectrumDocument.SpectrumDocument object at 0x0000018B885E9940>, <spec2vec.SpectrumDocument.SpectrumDocument object at 0x0000018B885E99A0>, <spec2vec.SpectrumDocument.SpectrumDocument object at 0x0000018B885E9A00>, <spec2vec.SpectrumDocument.SpectrumDocument object at 0x0000018B885E9A60>, <spec2vec.SpectrumDocument.SpectrumDocument object at 0x0000018B885E9AC0>, <spec2vec.SpectrumDocument.SpectrumDocument object at 0x0000018B885E9B20>, <spec2vec.SpectrumDocument.SpectrumDocument object at 0x0000018B885E9B80>, <spec2vec.SpectrumDocument.SpectrumDocument object at 0x0000018B885E9BE0>, <spec2vec.SpectrumDocument.SpectrumDocument object at 0x0000018B885E9C40>, <spec2vec.SpectrumDocument.SpectrumDocument object at 0x0000018B885E9CA0>, <spec2vec.SpectrumDocument.SpectrumDocument object at 0x0000018B885E9D00>, <spec2vec.SpectrumDocument.SpectrumDocument object at 0x0000018B885E9DC0>, <spec2vec.SpectrumDocument.SpectrumDocument object at 0x0000018B885E9E20>, <spec2vec.SpectrumDocument.SpectrumDocument object at 0x0000018B885E9E80>, <spec2vec.SpectrumDocument.SpectrumDocument object at 0x0000018B885E9EE0>, <spec2vec.SpectrumDocument.SpectrumDocument object at 0x0000018B885E9F40>, <spec2vec.SpectrumDocument.SpectrumDocument object at 0x0000018B885E9FA0>, <spec2vec.SpectrumDocument.SpectrumDocument object at 0x0000018B88603040>, <spec2vec.SpectrumDocument.SpectrumDocument object at 0x0000018B886030A0>, <spec2vec.SpectrumDocument.SpectrumDocument object at 0x0000018B88603100>, <spec2vec.SpectrumDocument.SpectrumDocument object at 0x0000018B88603160>, <spec2vec.SpectrumDocument.SpectrumDocument object at 0x0000018B886031C0>, <spec2vec.SpectrumDocument.SpectrumDocument object at 0x0000018B88603220>, <spec2vec.SpectrumDocument.SpectrumDocument object at 0x0000018B88603280>, <spec2vec.SpectrumDocument.SpectrumDocument object at 0x0000018B886032E0>, <spec2vec.SpectrumDocument.SpectrumDocument object at 0x0000018B88603340>, <spec2vec.SpectrumDocument.SpectrumDocument object at 0x0000018B886033A0>, <spec2vec.SpectrumDocument.SpectrumDocument object at 0x0000018B88603400>, <spec2vec.SpectrumDocument.SpectrumDocument object at 0x0000018B88603460>, <spec2vec.SpectrumDocument.SpectrumDocument object at 0x0000018B886034C0>, <spec2vec.SpectrumDocument.SpectrumDocument object at 0x0000018B88603520>, <spec2vec.SpectrumDocument.SpectrumDocument object at 0x0000018B88603580>, <spec2vec.SpectrumDocument.SpectrumDocument object at 0x0000018B886035E0>, <spec2vec.SpectrumDocument.SpectrumDocument object at 0x0000018B88603640>, <spec2vec.SpectrumDocument.SpectrumDocument object at 0x0000018B886036A0>, <spec2vec.SpectrumDocument.SpectrumDocument object at 0x0000018B88603700>, <spec2vec.SpectrumDocument.SpectrumDocument object at 0x0000018B88603760>, <spec2vec.SpectrumDocument.SpectrumDocument object at 0x0000018B886037C0>, <spec2vec.SpectrumDocument.SpectrumDocument object at 0x0000018B88603820>, <spec2vec.SpectrumDocument.SpectrumDocument object at 0x0000018B88603880>, <spec2vec.SpectrumDocument.SpectrumDocument object at 0x0000018B886038E0>, <spec2vec.SpectrumDocument.SpectrumDocument object at 0x0000018B88603940>, <spec2vec.SpectrumDocument.SpectrumDocument object at 0x0000018B886039A0>, <spec2vec.SpectrumDocument.SpectrumDocument object at 0x0000018B88603A00>, <spec2vec.SpectrumDocument.SpectrumDocument object at 0x0000018B88603A60>, <spec2vec.SpectrumDocument.SpectrumDocument object at 0x0000018B88603AC0>, <spec2vec.SpectrumDocument.SpectrumDocument object at 0x0000018B88603B20>, <spec2vec.SpectrumDocument.SpectrumDocument object at 0x0000018B88603B80>, <spec2vec.SpectrumDocument.SpectrumDocument object at 0x0000018B88603BE0>, <spec2vec.SpectrumDocument.SpectrumDocument object at 0x0000018B88603C40>, <spec2vec.SpectrumDocument.SpectrumDocument object at 0x0000018B88603CA0>, <spec2vec.SpectrumDocument.SpectrumDocument object at 0x0000018B88603D00>, <spec2vec.SpectrumDocument.SpectrumDocument object at 0x0000018B88603D60>, <spec2vec.SpectrumDocument.SpectrumDocument object at 0x0000018B88603DC0>, <spec2vec.SpectrumDocument.SpectrumDocument object at 0x0000018B88603E20>, <spec2vec.SpectrumDocument.SpectrumDocument object at 0x0000018B88603E80>, <spec2vec.SpectrumDocument.SpectrumDocument object at 0x0000018B88603EE0>, <spec2vec.SpectrumDocument.SpectrumDocument object at 0x0000018B88603F40>, <spec2vec.SpectrumDocument.SpectrumDocument object at 0x0000018B88603FA0>, <spec2vec.SpectrumDocument.SpectrumDocument object at 0x0000018B8861F040>, <spec2vec.SpectrumDocument.SpectrumDocument object at 0x0000018B8861F0A0>, <spec2vec.SpectrumDocument.SpectrumDocument object at 0x0000018B8861F100>, <spec2vec.SpectrumDocument.SpectrumDocument object at 0x0000018B8861F160>, <spec2vec.SpectrumDocument.SpectrumDocument object at 0x0000018B8861F1C0>, <spec2vec.SpectrumDocument.SpectrumDocument object at 0x0000018B8861F220>, <spec2vec.SpectrumDocument.SpectrumDocument object at 0x0000018B8861F280>, <spec2vec.SpectrumDocument.SpectrumDocument object at 0x0000018B8861F2E0>, <spec2vec.SpectrumDocument.SpectrumDocument object at 0x0000018B8861F3A0>, <spec2vec.SpectrumDocument.SpectrumDocument object at 0x0000018B8861F400>, <spec2vec.SpectrumDocument.SpectrumDocument object at 0x0000018B8861F460>, <spec2vec.SpectrumDocument.SpectrumDocument object at 0x0000018B8861F4C0>, <spec2vec.SpectrumDocument.SpectrumDocument object at 0x0000018B8861F520>, <spec2vec.SpectrumDocument.SpectrumDocument object at 0x0000018B8861F580>, <spec2vec.SpectrumDocument.SpectrumDocument object at 0x0000018B8861F5E0>, <spec2vec.SpectrumDocument.SpectrumDocument object at 0x0000018B8861F640>, <spec2vec.SpectrumDocument.SpectrumDocument object at 0x0000018B8861F6A0>, <spec2vec.SpectrumDocument.SpectrumDocument object at 0x0000018B8861F700>, <spec2vec.SpectrumDocument.SpectrumDocument object at 0x0000018B8861F760>, <spec2vec.SpectrumDocument.SpectrumDocument object at 0x0000018B8861F7C0>, <spec2vec.SpectrumDocument.SpectrumDocument object at 0x0000018B8861F880>, <spec2vec.SpectrumDocument.SpectrumDocument object at 0x0000018B8861F8E0>, <spec2vec.SpectrumDocument.SpectrumDocument object at 0x0000018B8861F940>, <spec2vec.SpectrumDocument.SpectrumDocument object at 0x0000018B8861F9A0>, <spec2vec.SpectrumDocument.SpectrumDocument object at 0x0000018B8861FA60>, <spec2vec.SpectrumDocument.SpectrumDocument object at 0x0000018B8861FAC0>, <spec2vec.SpectrumDocument.SpectrumDocument object at 0x0000018B8861FB20>, <spec2vec.SpectrumDocument.SpectrumDocument object at 0x0000018B8861FB80>, <spec2vec.SpectrumDocument.SpectrumDocument object at 0x0000018B8861FBE0>, <spec2vec.SpectrumDocument.SpectrumDocument object at 0x0000018B8861FC40>, <spec2vec.SpectrumDocument.SpectrumDocument object at 0x0000018B8861FCA0>, <spec2vec.SpectrumDocument.SpectrumDocument object at 0x0000018B8861FD00>, <spec2vec.SpectrumDocument.SpectrumDocument object at 0x0000018B8861FD60>, <spec2vec.SpectrumDocument.SpectrumDocument object at 0x0000018B8861FDC0>, <spec2vec.SpectrumDocument.SpectrumDocument object at 0x0000018B8861FE20>, <spec2vec.SpectrumDocument.SpectrumDocument object at 0x0000018B8861FE80>, <spec2vec.SpectrumDocument.SpectrumDocument object at 0x0000018B8861FEE0>, <spec2vec.SpectrumDocument.SpectrumDocument object at 0x0000018B8861FF40>, <spec2vec.SpectrumDocument.SpectrumDocument object at 0x0000018B8861FFA0>, <spec2vec.SpectrumDocument.SpectrumDocument object at 0x0000018B88635040>, <spec2vec.SpectrumDocument.SpectrumDocument object at 0x0000018B886350A0>, <spec2vec.SpectrumDocument.SpectrumDocument object at 0x0000018B88635160>, <spec2vec.SpectrumDocument.SpectrumDocument object at 0x0000018B886351C0>, <spec2vec.SpectrumDocument.SpectrumDocument object at 0x0000018B88635280>, <spec2vec.SpectrumDocument.SpectrumDocument object at 0x0000018B886352E0>, <spec2vec.SpectrumDocument.SpectrumDocument object at 0x0000018B88635340>, <spec2vec.SpectrumDocument.SpectrumDocument object at 0x0000018B886353A0>, <spec2vec.SpectrumDocument.SpectrumDocument object at 0x0000018B88635460>, <spec2vec.SpectrumDocument.SpectrumDocument object at 0x0000018B886354C0>, <spec2vec.SpectrumDocument.SpectrumDocument object at 0x0000018B88635520>, <spec2vec.SpectrumDocument.SpectrumDocument object at 0x0000018B88635580>, <spec2vec.SpectrumDocument.SpectrumDocument object at 0x0000018B886355E0>, <spec2vec.SpectrumDocument.SpectrumDocument object at 0x0000018B88635640>, <spec2vec.SpectrumDocument.SpectrumDocument object at 0x0000018B886356A0>, <spec2vec.SpectrumDocument.SpectrumDocument object at 0x0000018B88635700>, <spec2vec.SpectrumDocument.SpectrumDocument object at 0x0000018B88635760>, <spec2vec.SpectrumDocument.SpectrumDocument object at 0x0000018B886357C0>, <spec2vec.SpectrumDocument.SpectrumDocument object at 0x0000018B88635820>, <spec2vec.SpectrumDocument.SpectrumDocument object at 0x0000018B886358E0>, <spec2vec.SpectrumDocument.SpectrumDocument object at 0x0000018B88635940>, <spec2vec.SpectrumDocument.SpectrumDocument object at 0x0000018B886359A0>, <spec2vec.SpectrumDocument.SpectrumDocument object at 0x0000018B88635A00>, <spec2vec.SpectrumDocument.SpectrumDocument object at 0x0000018B88635A60>, <spec2vec.SpectrumDocument.SpectrumDocument object at 0x0000018B88635AC0>, <spec2vec.SpectrumDocument.SpectrumDocument object at 0x0000018B88635B20>, <spec2vec.SpectrumDocument.SpectrumDocument object at 0x0000018B88635B80>, <spec2vec.SpectrumDocument.SpectrumDocument object at 0x0000018B88635BE0>, <spec2vec.SpectrumDocument.SpectrumDocument object at 0x0000018B88635C40>, <spec2vec.SpectrumDocument.SpectrumDocument object at 0x0000018B88635CA0>, <spec2vec.SpectrumDocument.SpectrumDocument object at 0x0000018B88635D00>, <spec2vec.SpectrumDocument.SpectrumDocument object at 0x0000018B88635D60>, <spec2vec.SpectrumDocument.SpectrumDocument object at 0x0000018B88635DC0>, <spec2vec.SpectrumDocument.SpectrumDocument object at 0x0000018B88635E20>, <spec2vec.SpectrumDocument.SpectrumDocument object at 0x0000018B88635EE0>, <spec2vec.SpectrumDocument.SpectrumDocument object at 0x0000018B88635F40>, <spec2vec.SpectrumDocument.SpectrumDocument object at 0x0000018B88635FA0>, <spec2vec.SpectrumDocument.SpectrumDocument object at 0x0000018B88649040>, <spec2vec.SpectrumDocument.SpectrumDocument object at 0x0000018B886490A0>, <spec2vec.SpectrumDocument.SpectrumDocument object at 0x0000018B88649100>, <spec2vec.SpectrumDocument.SpectrumDocument object at 0x0000018B88649160>, <spec2vec.SpectrumDocument.SpectrumDocument object at 0x0000018B886491C0>, <spec2vec.SpectrumDocument.SpectrumDocument object at 0x0000018B88649280>, <spec2vec.SpectrumDocument.SpectrumDocument object at 0x0000018B886492E0>, <spec2vec.SpectrumDocument.SpectrumDocument object at 0x0000018B88649340>, <spec2vec.SpectrumDocument.SpectrumDocument object at 0x0000018B886493A0>, <spec2vec.SpectrumDocument.SpectrumDocument object at 0x0000018B88649400>, <spec2vec.SpectrumDocument.SpectrumDocument object at 0x0000018B88649460>, <spec2vec.SpectrumDocument.SpectrumDocument object at 0x0000018B886494C0>, <spec2vec.SpectrumDocument.SpectrumDocument object at 0x0000018B88649520>, <spec2vec.SpectrumDocument.SpectrumDocument object at 0x0000018B88649580>, <spec2vec.SpectrumDocument.SpectrumDocument object at 0x0000018B886495E0>, <spec2vec.SpectrumDocument.SpectrumDocument object at 0x0000018B88649640>, <spec2vec.SpectrumDocument.SpectrumDocument object at 0x0000018B886496A0>, <spec2vec.SpectrumDocument.SpectrumDocument object at 0x0000018B88649760>, <spec2vec.SpectrumDocument.SpectrumDocument object at 0x0000018B886497C0>, <spec2vec.SpectrumDocument.SpectrumDocument object at 0x0000018B88649820>, <spec2vec.SpectrumDocument.SpectrumDocument object at 0x0000018B88649880>, <spec2vec.SpectrumDocument.SpectrumDocument object at 0x0000018B886498E0>, <spec2vec.SpectrumDocument.SpectrumDocument object at 0x0000018B88649940>, <spec2vec.SpectrumDocument.SpectrumDocument object at 0x0000018B886499A0>, <spec2vec.SpectrumDocument.SpectrumDocument object at 0x0000018B88649A00>, <spec2vec.SpectrumDocument.SpectrumDocument object at 0x0000018B88649A60>, <spec2vec.SpectrumDocument.SpectrumDocument object at 0x0000018B88649AC0>, <spec2vec.SpectrumDocument.SpectrumDocument object at 0x0000018B88649B20>, <spec2vec.SpectrumDocument.SpectrumDocument object at 0x0000018B88649B80>, <spec2vec.SpectrumDocument.SpectrumDocument object at 0x0000018B88649BE0>, <spec2vec.SpectrumDocument.SpectrumDocument object at 0x0000018B88649C40>, <spec2vec.SpectrumDocument.SpectrumDocument object at 0x0000018B88649CA0>, <spec2vec.SpectrumDocument.SpectrumDocument object at 0x0000018B88649D60>, <spec2vec.SpectrumDocument.SpectrumDocument object at 0x0000018B88649DC0>, <spec2vec.SpectrumDocument.SpectrumDocument object at 0x0000018B88649E20>, <spec2vec.SpectrumDocument.SpectrumDocument object at 0x0000018B88649EE0>, <spec2vec.SpectrumDocument.SpectrumDocument object at 0x0000018B88649F40>, <spec2vec.SpectrumDocument.SpectrumDocument object at 0x0000018B88649FA0>, <spec2vec.SpectrumDocument.SpectrumDocument object at 0x0000018B8865E040>, <spec2vec.SpectrumDocument.SpectrumDocument object at 0x0000018B8865E0A0>, <spec2vec.SpectrumDocument.SpectrumDocument object at 0x0000018B8865E100>, <spec2vec.SpectrumDocument.SpectrumDocument object at 0x0000018B8865E160>, <spec2vec.SpectrumDocument.SpectrumDocument object at 0x0000018B8865E1C0>, <spec2vec.SpectrumDocument.SpectrumDocument object at 0x0000018B8865E220>, <spec2vec.SpectrumDocument.SpectrumDocument object at 0x0000018B8865E280>, <spec2vec.SpectrumDocument.SpectrumDocument object at 0x0000018B8865E2E0>, <spec2vec.SpectrumDocument.SpectrumDocument object at 0x0000018B8865E340>, <spec2vec.SpectrumDocument.SpectrumDocument object at 0x0000018B8865E3A0>, <spec2vec.SpectrumDocument.SpectrumDocument object at 0x0000018B8865E400>, <spec2vec.SpectrumDocument.SpectrumDocument object at 0x0000018B8865E460>, <spec2vec.SpectrumDocument.SpectrumDocument object at 0x0000018B8865E520>, <spec2vec.SpectrumDocument.SpectrumDocument object at 0x0000018B8865E5E0>, <spec2vec.SpectrumDocument.SpectrumDocument object at 0x0000018B8865E640>, <spec2vec.SpectrumDocument.SpectrumDocument object at 0x0000018B8865E6A0>, <spec2vec.SpectrumDocument.SpectrumDocument object at 0x0000018B8865E700>, <spec2vec.SpectrumDocument.SpectrumDocument object at 0x0000018B8865E760>, <spec2vec.SpectrumDocument.SpectrumDocument object at 0x0000018B8865E7C0>, <spec2vec.SpectrumDocument.SpectrumDocument object at 0x0000018B8865E820>, <spec2vec.SpectrumDocument.SpectrumDocument object at 0x0000018B8865E880>, <spec2vec.SpectrumDocument.SpectrumDocument object at 0x0000018B8865E8E0>, <spec2vec.SpectrumDocument.SpectrumDocument object at 0x0000018B8865E940>, <spec2vec.SpectrumDocument.SpectrumDocument object at 0x0000018B8865E9A0>, <spec2vec.SpectrumDocument.SpectrumDocument object at 0x0000018B8865EA00>, <spec2vec.SpectrumDocument.SpectrumDocument object at 0x0000018B8865EA60>, <spec2vec.SpectrumDocument.SpectrumDocument object at 0x0000018B8865EAC0>, <spec2vec.SpectrumDocument.SpectrumDocument object at 0x0000018B8865EB20>, <spec2vec.SpectrumDocument.SpectrumDocument object at 0x0000018B8865EB80>, <spec2vec.SpectrumDocument.SpectrumDocument object at 0x0000018B8865EBE0>, <spec2vec.SpectrumDocument.SpectrumDocument object at 0x0000018B8865EC40>, <spec2vec.SpectrumDocument.SpectrumDocument object at 0x0000018B8865ECA0>, <spec2vec.SpectrumDocument.SpectrumDocument object at 0x0000018B8865ED00>, <spec2vec.SpectrumDocument.SpectrumDocument object at 0x0000018B8865ED60>, <spec2vec.SpectrumDocument.SpectrumDocument object at 0x0000018B8865EDC0>, <spec2vec.SpectrumDocument.SpectrumDocument object at 0x0000018B8865EE80>, <spec2vec.SpectrumDocument.SpectrumDocument object at 0x0000018B8865EEE0>, <spec2vec.SpectrumDocument.SpectrumDocument object at 0x0000018B8865EF40>, <spec2vec.SpectrumDocument.SpectrumDocument object at 0x0000018B8865EFA0>, <spec2vec.SpectrumDocument.SpectrumDocument object at 0x0000018B88670040>, <spec2vec.SpectrumDocument.SpectrumDocument object at 0x0000018B886700A0>, <spec2vec.SpectrumDocument.SpectrumDocument object at 0x0000018B88670100>, <spec2vec.SpectrumDocument.SpectrumDocument object at 0x0000018B88670160>, <spec2vec.SpectrumDocument.SpectrumDocument object at 0x0000018B886701C0>, <spec2vec.SpectrumDocument.SpectrumDocument object at 0x0000018B88670220>, <spec2vec.SpectrumDocument.SpectrumDocument object at 0x0000018B88670280>, <spec2vec.SpectrumDocument.SpectrumDocument object at 0x0000018B886702E0>, <spec2vec.SpectrumDocument.SpectrumDocument object at 0x0000018B88670340>, <spec2vec.SpectrumDocument.SpectrumDocument object at 0x0000018B886703A0>, <spec2vec.SpectrumDocument.SpectrumDocument object at 0x0000018B88670400>, <spec2vec.SpectrumDocument.SpectrumDocument object at 0x0000018B88670460>, <spec2vec.SpectrumDocument.SpectrumDocument object at 0x0000018B886704C0>, <spec2vec.SpectrumDocument.SpectrumDocument object at 0x0000018B88670520>, <spec2vec.SpectrumDocument.SpectrumDocument object at 0x0000018B88670580>, <spec2vec.SpectrumDocument.SpectrumDocument object at 0x0000018B886705E0>, <spec2vec.SpectrumDocument.SpectrumDocument object at 0x0000018B88670640>, <spec2vec.SpectrumDocument.SpectrumDocument object at 0x0000018B886706A0>, <spec2vec.SpectrumDocument.SpectrumDocument object at 0x0000018B88670700>, <spec2vec.SpectrumDocument.SpectrumDocument object at 0x0000018B88670760>, <spec2vec.SpectrumDocument.SpectrumDocument object at 0x0000018B886707C0>, <spec2vec.SpectrumDocument.SpectrumDocument object at 0x0000018B88670820>, <spec2vec.SpectrumDocument.SpectrumDocument object at 0x0000018B88670880>, <spec2vec.SpectrumDocument.SpectrumDocument object at 0x0000018B886708E0>, <spec2vec.SpectrumDocument.SpectrumDocument object at 0x0000018B88670940>, <spec2vec.SpectrumDocument.SpectrumDocument object at 0x0000018B886709A0>, <spec2vec.SpectrumDocument.SpectrumDocument object at 0x0000018B88670A00>, <spec2vec.SpectrumDocument.SpectrumDocument object at 0x0000018B88670A60>, <spec2vec.SpectrumDocument.SpectrumDocument object at 0x0000018B88670AC0>, <spec2vec.SpectrumDocument.SpectrumDocument object at 0x0000018B88670B20>, <spec2vec.SpectrumDocument.SpectrumDocument object at 0x0000018B88670B80>, <spec2vec.SpectrumDocument.SpectrumDocument object at 0x0000018B88670BE0>, <spec2vec.SpectrumDocument.SpectrumDocument object at 0x0000018B88670C40>, <spec2vec.SpectrumDocument.SpectrumDocument object at 0x0000018B88670CA0>, <spec2vec.SpectrumDocument.SpectrumDocument object at 0x0000018B88670D00>, <spec2vec.SpectrumDocument.SpectrumDocument object at 0x0000018B88670D60>, <spec2vec.SpectrumDocument.SpectrumDocument object at 0x0000018B88670DC0>, <spec2vec.SpectrumDocument.SpectrumDocument object at 0x0000018B88670E20>, <spec2vec.SpectrumDocument.SpectrumDocument object at 0x0000018B88670E80>, <spec2vec.SpectrumDocument.SpectrumDocument object at 0x0000018B88670EE0>, <spec2vec.SpectrumDocument.SpectrumDocument object at 0x0000018B88670F40>, <spec2vec.SpectrumDocument.SpectrumDocument object at 0x0000018B88670FA0>, <spec2vec.SpectrumDocument.SpectrumDocument object at 0x0000018B8868A040>, <spec2vec.SpectrumDocument.SpectrumDocument object at 0x0000018B8868A0A0>, <spec2vec.SpectrumDocument.SpectrumDocument object at 0x0000018B8868A100>, <spec2vec.SpectrumDocument.SpectrumDocument object at 0x0000018B8868A160>, <spec2vec.SpectrumDocument.SpectrumDocument object at 0x0000018B8868A220>, <spec2vec.SpectrumDocument.SpectrumDocument object at 0x0000018B8868A280>, <spec2vec.SpectrumDocument.SpectrumDocument object at 0x0000018B8868A2E0>, <spec2vec.SpectrumDocument.SpectrumDocument object at 0x0000018B8868A340>, <spec2vec.SpectrumDocument.SpectrumDocument object at 0x0000018B8868A3A0>, <spec2vec.SpectrumDocument.SpectrumDocument object at 0x0000018B8868A400>, <spec2vec.SpectrumDocument.SpectrumDocument object at 0x0000018B8868A460>, <spec2vec.SpectrumDocument.SpectrumDocument object at 0x0000018B8868A4C0>, <spec2vec.SpectrumDocument.SpectrumDocument object at 0x0000018B8868A520>, <spec2vec.SpectrumDocument.SpectrumDocument object at 0x0000018B8868A580>, <spec2vec.SpectrumDocument.SpectrumDocument object at 0x0000018B8868A5E0>, <spec2vec.SpectrumDocument.SpectrumDocument object at 0x0000018B8868A640>, <spec2vec.SpectrumDocument.SpectrumDocument object at 0x0000018B8868A6A0>, <spec2vec.SpectrumDocument.SpectrumDocument object at 0x0000018B8868A700>, <spec2vec.SpectrumDocument.SpectrumDocument object at 0x0000018B8868A760>, <spec2vec.SpectrumDocument.SpectrumDocument object at 0x0000018B8868A7C0>, <spec2vec.SpectrumDocument.SpectrumDocument object at 0x0000018B8868A820>, <spec2vec.SpectrumDocument.SpectrumDocument object at 0x0000018B8868A880>, <spec2vec.SpectrumDocument.SpectrumDocument object at 0x0000018B8868A8E0>, <spec2vec.SpectrumDocument.SpectrumDocument object at 0x0000018B8868A9A0>, <spec2vec.SpectrumDocument.SpectrumDocument object at 0x0000018B8868AA00>, <spec2vec.SpectrumDocument.SpectrumDocument object at 0x0000018B8868AA60>, <spec2vec.SpectrumDocument.SpectrumDocument object at 0x0000018B8868AAC0>, <spec2vec.SpectrumDocument.SpectrumDocument object at 0x0000018B8868AB20>, <spec2vec.SpectrumDocument.SpectrumDocument object at 0x0000018B8868AB80>, <spec2vec.SpectrumDocument.SpectrumDocument object at 0x0000018B8868ABE0>, <spec2vec.SpectrumDocument.SpectrumDocument object at 0x0000018B8868AC40>, <spec2vec.SpectrumDocument.SpectrumDocument object at 0x0000018B8868ACA0>, <spec2vec.SpectrumDocument.SpectrumDocument object at 0x0000018B8868AD00>, <spec2vec.SpectrumDocument.SpectrumDocument object at 0x0000018B8868AD60>, <spec2vec.SpectrumDocument.SpectrumDocument object at 0x0000018B8868ADC0>, <spec2vec.SpectrumDocument.SpectrumDocument object at 0x0000018B8868AE20>, <spec2vec.SpectrumDocument.SpectrumDocument object at 0x0000018B8868AE80>, <spec2vec.SpectrumDocument.SpectrumDocument object at 0x0000018B8868AEE0>, <spec2vec.SpectrumDocument.SpectrumDocument object at 0x0000018B8868AF40>, <spec2vec.SpectrumDocument.SpectrumDocument object at 0x0000018B886A0040>, <spec2vec.SpectrumDocument.SpectrumDocument object at 0x0000018B886A00A0>, <spec2vec.SpectrumDocument.SpectrumDocument object at 0x0000018B886A0100>, <spec2vec.SpectrumDocument.SpectrumDocument object at 0x0000018B886A0160>, <spec2vec.SpectrumDocument.SpectrumDocument object at 0x0000018B886A0220>, <spec2vec.SpectrumDocument.SpectrumDocument object at 0x0000018B886A0280>, <spec2vec.SpectrumDocument.SpectrumDocument object at 0x0000018B886A02E0>, <spec2vec.SpectrumDocument.SpectrumDocument object at 0x0000018B886A0340>, <spec2vec.SpectrumDocument.SpectrumDocument object at 0x0000018B886A03A0>, <spec2vec.SpectrumDocument.SpectrumDocument object at 0x0000018B886A0400>, <spec2vec.SpectrumDocument.SpectrumDocument object at 0x0000018B886A0460>, <spec2vec.SpectrumDocument.SpectrumDocument object at 0x0000018B886A04C0>, <spec2vec.SpectrumDocument.SpectrumDocument object at 0x0000018B886A0520>, <spec2vec.SpectrumDocument.SpectrumDocument object at 0x0000018B886A0580>, <spec2vec.SpectrumDocument.SpectrumDocument object at 0x0000018B886A05E0>, <spec2vec.SpectrumDocument.SpectrumDocument object at 0x0000018B886A0640>, <spec2vec.SpectrumDocument.SpectrumDocument object at 0x0000018B886A06A0>, <spec2vec.SpectrumDocument.SpectrumDocument object at 0x0000018B886A0700>, <spec2vec.SpectrumDocument.SpectrumDocument object at 0x0000018B886A0760>, <spec2vec.SpectrumDocument.SpectrumDocument object at 0x0000018B886A07C0>, <spec2vec.SpectrumDocument.SpectrumDocument object at 0x0000018B886A0820>, <spec2vec.SpectrumDocument.SpectrumDocument object at 0x0000018B886A0880>, <spec2vec.SpectrumDocument.SpectrumDocument object at 0x0000018B886A08E0>, <spec2vec.SpectrumDocument.SpectrumDocument object at 0x0000018B886A0940>, <spec2vec.SpectrumDocument.SpectrumDocument object at 0x0000018B886A09A0>, <spec2vec.SpectrumDocument.SpectrumDocument object at 0x0000018B886A0A00>, <spec2vec.SpectrumDocument.SpectrumDocument object at 0x0000018B886A0A60>, <spec2vec.SpectrumDocument.SpectrumDocument object at 0x0000018B886A0AC0>, <spec2vec.SpectrumDocument.SpectrumDocument object at 0x0000018B886A0B20>, <spec2vec.SpectrumDocument.SpectrumDocument object at 0x0000018B886A0B80>, <spec2vec.SpectrumDocument.SpectrumDocument object at 0x0000018B886A0BE0>, <spec2vec.SpectrumDocument.SpectrumDocument object at 0x0000018B886A0C40>, <spec2vec.SpectrumDocument.SpectrumDocument object at 0x0000018B886A0CA0>, <spec2vec.SpectrumDocument.SpectrumDocument object at 0x0000018B886A0D00>, <spec2vec.SpectrumDocument.SpectrumDocument object at 0x0000018B886A0D60>, <spec2vec.SpectrumDocument.SpectrumDocument object at 0x0000018B886A0DC0>, <spec2vec.SpectrumDocument.SpectrumDocument object at 0x0000018B886A0E20>, <spec2vec.SpectrumDocument.SpectrumDocument object at 0x0000018B886A0E80>, <spec2vec.SpectrumDocument.SpectrumDocument object at 0x0000018B886A0EE0>, <spec2vec.SpectrumDocument.SpectrumDocument object at 0x0000018B886A0F40>, <spec2vec.SpectrumDocument.SpectrumDocument object at 0x0000018B886A0FA0>, <spec2vec.SpectrumDocument.SpectrumDocument object at 0x0000018B886BD040>, <spec2vec.SpectrumDocument.SpectrumDocument object at 0x0000018B886BD0A0>, <spec2vec.SpectrumDocument.SpectrumDocument object at 0x0000018B886BD100>, <spec2vec.SpectrumDocument.SpectrumDocument object at 0x0000018B886BD160>, <spec2vec.SpectrumDocument.SpectrumDocument object at 0x0000018B886BD1C0>, <spec2vec.SpectrumDocument.SpectrumDocument object at 0x0000018B886BD220>, <spec2vec.SpectrumDocument.SpectrumDocument object at 0x0000018B886BD280>, <spec2vec.SpectrumDocument.SpectrumDocument object at 0x0000018B886BD2E0>, <spec2vec.SpectrumDocument.SpectrumDocument object at 0x0000018B886BD340>, <spec2vec.SpectrumDocument.SpectrumDocument object at 0x0000018B886BD3A0>, <spec2vec.SpectrumDocument.SpectrumDocument object at 0x0000018B886BD400>, <spec2vec.SpectrumDocument.SpectrumDocument object at 0x0000018B886BD460>, <spec2vec.SpectrumDocument.SpectrumDocument object at 0x0000018B886BD4C0>, <spec2vec.SpectrumDocument.SpectrumDocument object at 0x0000018B886BD520>, <spec2vec.SpectrumDocument.SpectrumDocument object at 0x0000018B886BD580>, <spec2vec.SpectrumDocument.SpectrumDocument object at 0x0000018B886BD5E0>, <spec2vec.SpectrumDocument.SpectrumDocument object at 0x0000018B886BD640>, <spec2vec.SpectrumDocument.SpectrumDocument object at 0x0000018B886BD6A0>, <spec2vec.SpectrumDocument.SpectrumDocument object at 0x0000018B886BD700>, <spec2vec.SpectrumDocument.SpectrumDocument object at 0x0000018B886BD760>, <spec2vec.SpectrumDocument.SpectrumDocument object at 0x0000018B886BD7C0>, <spec2vec.SpectrumDocument.SpectrumDocument object at 0x0000018B886BD820>, <spec2vec.SpectrumDocument.SpectrumDocument object at 0x0000018B886BD880>, <spec2vec.SpectrumDocument.SpectrumDocument object at 0x0000018B886BD8E0>, <spec2vec.SpectrumDocument.SpectrumDocument object at 0x0000018B886BD940>, <spec2vec.SpectrumDocument.SpectrumDocument object at 0x0000018B886BD9A0>, <spec2vec.SpectrumDocument.SpectrumDocument object at 0x0000018B886BDA00>, <spec2vec.SpectrumDocument.SpectrumDocument object at 0x0000018B886BDA60>, <spec2vec.SpectrumDocument.SpectrumDocument object at 0x0000018B886BDAC0>, <spec2vec.SpectrumDocument.SpectrumDocument object at 0x0000018B886BDB20>, <spec2vec.SpectrumDocument.SpectrumDocument object at 0x0000018B886BDB80>, <spec2vec.SpectrumDocument.SpectrumDocument object at 0x0000018B886BDBE0>, <spec2vec.SpectrumDocument.SpectrumDocument object at 0x0000018B886BDC40>, <spec2vec.SpectrumDocument.SpectrumDocument object at 0x0000018B886BDD00>, <spec2vec.SpectrumDocument.SpectrumDocument object at 0x0000018B886BDD60>, <spec2vec.SpectrumDocument.SpectrumDocument object at 0x0000018B886BDE20>, <spec2vec.SpectrumDocument.SpectrumDocument object at 0x0000018B886BDE80>, <spec2vec.SpectrumDocument.SpectrumDocument object at 0x0000018B886BDEE0>, <spec2vec.SpectrumDocument.SpectrumDocument object at 0x0000018B886BDF40>, <spec2vec.SpectrumDocument.SpectrumDocument object at 0x0000018B886BDFA0>, <spec2vec.SpectrumDocument.SpectrumDocument object at 0x0000018B886D6040>, <spec2vec.SpectrumDocument.SpectrumDocument object at 0x0000018B886D60A0>, <spec2vec.SpectrumDocument.SpectrumDocument object at 0x0000018B886D6100>, <spec2vec.SpectrumDocument.SpectrumDocument object at 0x0000018B886D6160>, <spec2vec.SpectrumDocument.SpectrumDocument object at 0x0000018B886D61C0>, <spec2vec.SpectrumDocument.SpectrumDocument object at 0x0000018B886D6220>, <spec2vec.SpectrumDocument.SpectrumDocument object at 0x0000018B886D6280>, <spec2vec.SpectrumDocument.SpectrumDocument object at 0x0000018B886D62E0>, <spec2vec.SpectrumDocument.SpectrumDocument object at 0x0000018B886D6340>, <spec2vec.SpectrumDocument.SpectrumDocument object at 0x0000018B886D63A0>, <spec2vec.SpectrumDocument.SpectrumDocument object at 0x0000018B886D6400>, <spec2vec.SpectrumDocument.SpectrumDocument object at 0x0000018B886D6460>, <spec2vec.SpectrumDocument.SpectrumDocument object at 0x0000018B886D64C0>, <spec2vec.SpectrumDocument.SpectrumDocument object at 0x0000018B886D6520>, <spec2vec.SpectrumDocument.SpectrumDocument object at 0x0000018B886D6580>, <spec2vec.SpectrumDocument.SpectrumDocument object at 0x0000018B886D65E0>, <spec2vec.SpectrumDocument.SpectrumDocument object at 0x0000018B886D6640>, <spec2vec.SpectrumDocument.SpectrumDocument object at 0x0000018B886D66A0>, <spec2vec.SpectrumDocument.SpectrumDocument object at 0x0000018B886D6700>, <spec2vec.SpectrumDocument.SpectrumDocument object at 0x0000018B886D6760>, <spec2vec.SpectrumDocument.SpectrumDocument object at 0x0000018B886D67C0>, <spec2vec.SpectrumDocument.SpectrumDocument object at 0x0000018B886D6820>, <spec2vec.SpectrumDocument.SpectrumDocument object at 0x0000018B886D6880>, <spec2vec.SpectrumDocument.SpectrumDocument object at 0x0000018B886D6940>, <spec2vec.SpectrumDocument.SpectrumDocument object at 0x0000018B886D69A0>, <spec2vec.SpectrumDocument.SpectrumDocument object at 0x0000018B886D6A60>, <spec2vec.SpectrumDocument.SpectrumDocument object at 0x0000018B886D6AC0>, <spec2vec.SpectrumDocument.SpectrumDocument object at 0x0000018B886D6B20>, <spec2vec.SpectrumDocument.SpectrumDocument object at 0x0000018B886D6B80>, <spec2vec.SpectrumDocument.SpectrumDocument object at 0x0000018B886D6BE0>, <spec2vec.SpectrumDocument.SpectrumDocument object at 0x0000018B886D6C40>, <spec2vec.SpectrumDocument.SpectrumDocument object at 0x0000018B886D6CA0>, <spec2vec.SpectrumDocument.SpectrumDocument object at 0x0000018B886D6D00>, <spec2vec.SpectrumDocument.SpectrumDocument object at 0x0000018B886D6DC0>, <spec2vec.SpectrumDocument.SpectrumDocument object at 0x0000018B886D6E20>, <spec2vec.SpectrumDocument.SpectrumDocument object at 0x0000018B886D6E80>, <spec2vec.SpectrumDocument.SpectrumDocument object at 0x0000018B886D6EE0>, <spec2vec.SpectrumDocument.SpectrumDocument object at 0x0000018B886D6F40>, <spec2vec.SpectrumDocument.SpectrumDocument object at 0x0000018B886D6FA0>, <spec2vec.SpectrumDocument.SpectrumDocument object at 0x0000018B886E8040>, <spec2vec.SpectrumDocument.SpectrumDocument object at 0x0000018B886E80A0>, <spec2vec.SpectrumDocument.SpectrumDocument object at 0x0000018B886E8100>, <spec2vec.SpectrumDocument.SpectrumDocument object at 0x0000018B886E8160>, <spec2vec.SpectrumDocument.SpectrumDocument object at 0x0000018B886E81C0>, <spec2vec.SpectrumDocument.SpectrumDocument object at 0x0000018B886E8280>, <spec2vec.SpectrumDocument.SpectrumDocument object at 0x0000018B886E82E0>, <spec2vec.SpectrumDocument.SpectrumDocument object at 0x0000018B886E83A0>, <spec2vec.SpectrumDocument.SpectrumDocument object at 0x0000018B886E8400>, <spec2vec.SpectrumDocument.SpectrumDocument object at 0x0000018B886E8460>, <spec2vec.SpectrumDocument.SpectrumDocument object at 0x0000018B886E84C0>, <spec2vec.SpectrumDocument.SpectrumDocument object at 0x0000018B886E8520>, <spec2vec.SpectrumDocument.SpectrumDocument object at 0x0000018B886E8580>, <spec2vec.SpectrumDocument.SpectrumDocument object at 0x0000018B886E85E0>, <spec2vec.SpectrumDocument.SpectrumDocument object at 0x0000018B886E8640>, <spec2vec.SpectrumDocument.SpectrumDocument object at 0x0000018B886E86A0>, <spec2vec.SpectrumDocument.SpectrumDocument object at 0x0000018B886E8700>, <spec2vec.SpectrumDocument.SpectrumDocument object at 0x0000018B886E8760>, <spec2vec.SpectrumDocument.SpectrumDocument object at 0x0000018B886E87C0>, <spec2vec.SpectrumDocument.SpectrumDocument object at 0x0000018B886E8820>, <spec2vec.SpectrumDocument.SpectrumDocument object at 0x0000018B886E8880>, <spec2vec.SpectrumDocument.SpectrumDocument object at 0x0000018B886E88E0>, <spec2vec.SpectrumDocument.SpectrumDocument object at 0x0000018B886E8940>, <spec2vec.SpectrumDocument.SpectrumDocument object at 0x0000018B886E89A0>, <spec2vec.SpectrumDocument.SpectrumDocument object at 0x0000018B886E8A00>, <spec2vec.SpectrumDocument.SpectrumDocument object at 0x0000018B886E8A60>, <spec2vec.SpectrumDocument.SpectrumDocument object at 0x0000018B886E8AC0>, <spec2vec.SpectrumDocument.SpectrumDocument object at 0x0000018B886E8B20>, <spec2vec.SpectrumDocument.SpectrumDocument object at 0x0000018B886E8B80>, <spec2vec.SpectrumDocument.SpectrumDocument object at 0x0000018B886E8BE0>, <spec2vec.SpectrumDocument.SpectrumDocument object at 0x0000018B886E8C40>, <spec2vec.SpectrumDocument.SpectrumDocument object at 0x0000018B886E8CA0>, <spec2vec.SpectrumDocument.SpectrumDocument object at 0x0000018B886E8D00>, <spec2vec.SpectrumDocument.SpectrumDocument object at 0x0000018B886E8D60>, <spec2vec.SpectrumDocument.SpectrumDocument object at 0x0000018B886E8DC0>, <spec2vec.SpectrumDocument.SpectrumDocument object at 0x0000018B886E8E20>, <spec2vec.SpectrumDocument.SpectrumDocument object at 0x0000018B886E8E80>, <spec2vec.SpectrumDocument.SpectrumDocument object at 0x0000018B886E8EE0>, <spec2vec.SpectrumDocument.SpectrumDocument object at 0x0000018B886E8F40>, <spec2vec.SpectrumDocument.SpectrumDocument object at 0x0000018B886E8FA0>, <spec2vec.SpectrumDocument.SpectrumDocument object at 0x0000018B88702040>, <spec2vec.SpectrumDocument.SpectrumDocument object at 0x0000018B887020A0>, <spec2vec.SpectrumDocument.SpectrumDocument object at 0x0000018B88702160>, <spec2vec.SpectrumDocument.SpectrumDocument object at 0x0000018B887021C0>, <spec2vec.SpectrumDocument.SpectrumDocument object at 0x0000018B88702220>, <spec2vec.SpectrumDocument.SpectrumDocument object at 0x0000018B88702280>, <spec2vec.SpectrumDocument.SpectrumDocument object at 0x0000018B887022E0>, <spec2vec.SpectrumDocument.SpectrumDocument object at 0x0000018B88702340>, <spec2vec.SpectrumDocument.SpectrumDocument object at 0x0000018B887023A0>, <spec2vec.SpectrumDocument.SpectrumDocument object at 0x0000018B88702400>, <spec2vec.SpectrumDocument.SpectrumDocument object at 0x0000018B88702460>, <spec2vec.SpectrumDocument.SpectrumDocument object at 0x0000018B887024C0>, <spec2vec.SpectrumDocument.SpectrumDocument object at 0x0000018B88702520>, <spec2vec.SpectrumDocument.SpectrumDocument object at 0x0000018B88702580>, <spec2vec.SpectrumDocument.SpectrumDocument object at 0x0000018B887025E0>, <spec2vec.SpectrumDocument.SpectrumDocument object at 0x0000018B88702640>, <spec2vec.SpectrumDocument.SpectrumDocument object at 0x0000018B887026A0>, <spec2vec.SpectrumDocument.SpectrumDocument object at 0x0000018B88702700>, <spec2vec.SpectrumDocument.SpectrumDocument object at 0x0000018B88702760>, <spec2vec.SpectrumDocument.SpectrumDocument object at 0x0000018B887027C0>, <spec2vec.SpectrumDocument.SpectrumDocument object at 0x0000018B88702880>, <spec2vec.SpectrumDocument.SpectrumDocument object at 0x0000018B887028E0>, <spec2vec.SpectrumDocument.SpectrumDocument object at 0x0000018B88702940>, <spec2vec.SpectrumDocument.SpectrumDocument object at 0x0000018B887029A0>, <spec2vec.SpectrumDocument.SpectrumDocument object at 0x0000018B88702A00>, <spec2vec.SpectrumDocument.SpectrumDocument object at 0x0000018B88702A60>, <spec2vec.SpectrumDocument.SpectrumDocument object at 0x0000018B88702AC0>, <spec2vec.SpectrumDocument.SpectrumDocument object at 0x0000018B88702B20>, <spec2vec.SpectrumDocument.SpectrumDocument object at 0x0000018B88702B80>, <spec2vec.SpectrumDocument.SpectrumDocument object at 0x0000018B88702BE0>, <spec2vec.SpectrumDocument.SpectrumDocument object at 0x0000018B88702C40>, <spec2vec.SpectrumDocument.SpectrumDocument object at 0x0000018B88702CA0>, <spec2vec.SpectrumDocument.SpectrumDocument object at 0x0000018B88702D00>, <spec2vec.SpectrumDocument.SpectrumDocument object at 0x0000018B88702D60>, <spec2vec.SpectrumDocument.SpectrumDocument object at 0x0000018B88702DC0>, <spec2vec.SpectrumDocument.SpectrumDocument object at 0x0000018B88702E80>, <spec2vec.SpectrumDocument.SpectrumDocument object at 0x0000018B88702EE0>, <spec2vec.SpectrumDocument.SpectrumDocument object at 0x0000018B88702F40>, <spec2vec.SpectrumDocument.SpectrumDocument object at 0x0000018B88702FA0>, <spec2vec.SpectrumDocument.SpectrumDocument object at 0x0000018B88712040>, <spec2vec.SpectrumDocument.SpectrumDocument object at 0x0000018B887120A0>, <spec2vec.SpectrumDocument.SpectrumDocument object at 0x0000018B88712100>, <spec2vec.SpectrumDocument.SpectrumDocument object at 0x0000018B88712160>, <spec2vec.SpectrumDocument.SpectrumDocument object at 0x0000018B887121C0>, <spec2vec.SpectrumDocument.SpectrumDocument object at 0x0000018B88712220>, <spec2vec.SpectrumDocument.SpectrumDocument object at 0x0000018B88712280>, <spec2vec.SpectrumDocument.SpectrumDocument object at 0x0000018B887122E0>, <spec2vec.SpectrumDocument.SpectrumDocument object at 0x0000018B88712340>, <spec2vec.SpectrumDocument.SpectrumDocument object at 0x0000018B887123A0>, <spec2vec.SpectrumDocument.SpectrumDocument object at 0x0000018B88712400>, <spec2vec.SpectrumDocument.SpectrumDocument object at 0x0000018B88712460>, <spec2vec.SpectrumDocument.SpectrumDocument object at 0x0000018B887124C0>, <spec2vec.SpectrumDocument.SpectrumDocument object at 0x0000018B88712520>, <spec2vec.SpectrumDocument.SpectrumDocument object at 0x0000018B887125E0>, <spec2vec.SpectrumDocument.SpectrumDocument object at 0x0000018B88712640>, <spec2vec.SpectrumDocument.SpectrumDocument object at 0x0000018B88712700>, <spec2vec.SpectrumDocument.SpectrumDocument object at 0x0000018B88712760>, <spec2vec.SpectrumDocument.SpectrumDocument object at 0x0000018B887127C0>, <spec2vec.SpectrumDocument.SpectrumDocument object at 0x0000018B88712820>, <spec2vec.SpectrumDocument.SpectrumDocument object at 0x0000018B88712880>, <spec2vec.SpectrumDocument.SpectrumDocument object at 0x0000018B887128E0>, <spec2vec.SpectrumDocument.SpectrumDocument object at 0x0000018B88712940>, <spec2vec.SpectrumDocument.SpectrumDocument object at 0x0000018B887129A0>, <spec2vec.SpectrumDocument.SpectrumDocument object at 0x0000018B88712A00>, <spec2vec.SpectrumDocument.SpectrumDocument object at 0x0000018B88712A60>, <spec2vec.SpectrumDocument.SpectrumDocument object at 0x0000018B88712AC0>, <spec2vec.SpectrumDocument.SpectrumDocument object at 0x0000018B88712B20>, <spec2vec.SpectrumDocument.SpectrumDocument object at 0x0000018B88712B80>, <spec2vec.SpectrumDocument.SpectrumDocument object at 0x0000018B88712BE0>, <spec2vec.SpectrumDocument.SpectrumDocument object at 0x0000018B88712C40>, <spec2vec.SpectrumDocument.SpectrumDocument object at 0x0000018B88712CA0>, <spec2vec.SpectrumDocument.SpectrumDocument object at 0x0000018B88712D00>, <spec2vec.SpectrumDocument.SpectrumDocument object at 0x0000018B88712D60>, <spec2vec.SpectrumDocument.SpectrumDocument object at 0x0000018B88712DC0>, <spec2vec.SpectrumDocument.SpectrumDocument object at 0x0000018B88712E20>, <spec2vec.SpectrumDocument.SpectrumDocument object at 0x0000018B88712E80>, <spec2vec.SpectrumDocument.SpectrumDocument object at 0x0000018B88712EE0>, <spec2vec.SpectrumDocument.SpectrumDocument object at 0x0000018B88712F40>, <spec2vec.SpectrumDocument.SpectrumDocument object at 0x0000018B88712FA0>, <spec2vec.SpectrumDocument.SpectrumDocument object at 0x0000018B88729040>, <spec2vec.SpectrumDocument.SpectrumDocument object at 0x0000018B887290A0>, <spec2vec.SpectrumDocument.SpectrumDocument object at 0x0000018B88729100>, <spec2vec.SpectrumDocument.SpectrumDocument object at 0x0000018B88729160>, <spec2vec.SpectrumDocument.SpectrumDocument object at 0x0000018B88729220>, <spec2vec.SpectrumDocument.SpectrumDocument object at 0x0000018B88729280>, <spec2vec.SpectrumDocument.SpectrumDocument object at 0x0000018B887292E0>, <spec2vec.SpectrumDocument.SpectrumDocument object at 0x0000018B88729340>, <spec2vec.SpectrumDocument.SpectrumDocument object at 0x0000018B887293A0>, <spec2vec.SpectrumDocument.SpectrumDocument object at 0x0000018B88729400>, <spec2vec.SpectrumDocument.SpectrumDocument object at 0x0000018B88729460>, <spec2vec.SpectrumDocument.SpectrumDocument object at 0x0000018B887294C0>, <spec2vec.SpectrumDocument.SpectrumDocument object at 0x0000018B88729520>, <spec2vec.SpectrumDocument.SpectrumDocument object at 0x0000018B88729580>, <spec2vec.SpectrumDocument.SpectrumDocument object at 0x0000018B887295E0>, <spec2vec.SpectrumDocument.SpectrumDocument object at 0x0000018B88729640>, <spec2vec.SpectrumDocument.SpectrumDocument object at 0x0000018B887296A0>, <spec2vec.SpectrumDocument.SpectrumDocument object at 0x0000018B88729700>, <spec2vec.SpectrumDocument.SpectrumDocument object at 0x0000018B88729760>, <spec2vec.SpectrumDocument.SpectrumDocument object at 0x0000018B887297C0>, <spec2vec.SpectrumDocument.SpectrumDocument object at 0x0000018B88729820>, <spec2vec.SpectrumDocument.SpectrumDocument object at 0x0000018B88729880>, <spec2vec.SpectrumDocument.SpectrumDocument object at 0x0000018B887298E0>, <spec2vec.SpectrumDocument.SpectrumDocument object at 0x0000018B88729940>, <spec2vec.SpectrumDocument.SpectrumDocument object at 0x0000018B887299A0>, <spec2vec.SpectrumDocument.SpectrumDocument object at 0x0000018B88729A00>, <spec2vec.SpectrumDocument.SpectrumDocument object at 0x0000018B88729A60>, <spec2vec.SpectrumDocument.SpectrumDocument object at 0x0000018B88729AC0>, <spec2vec.SpectrumDocument.SpectrumDocument object at 0x0000018B88729B20>, <spec2vec.SpectrumDocument.SpectrumDocument object at 0x0000018B88729B80>, <spec2vec.SpectrumDocument.SpectrumDocument object at 0x0000018B88729BE0>, <spec2vec.SpectrumDocument.SpectrumDocument object at 0x0000018B88729C40>, <spec2vec.SpectrumDocument.SpectrumDocument object at 0x0000018B88729CA0>, <spec2vec.SpectrumDocument.SpectrumDocument object at 0x0000018B88729D00>, <spec2vec.SpectrumDocument.SpectrumDocument object at 0x0000018B88729D60>, <spec2vec.SpectrumDocument.SpectrumDocument object at 0x0000018B88729DC0>, <spec2vec.SpectrumDocument.SpectrumDocument object at 0x0000018B88729E20>, <spec2vec.SpectrumDocument.SpectrumDocument object at 0x0000018B88729E80>, <spec2vec.SpectrumDocument.SpectrumDocument object at 0x0000018B88729EE0>, <spec2vec.SpectrumDocument.SpectrumDocument object at 0x0000018B88729F40>, <spec2vec.SpectrumDocument.SpectrumDocument object at 0x0000018B88729FA0>, <spec2vec.SpectrumDocument.SpectrumDocument object at 0x0000018B88746040>, <spec2vec.SpectrumDocument.SpectrumDocument object at 0x0000018B887460A0>, <spec2vec.SpectrumDocument.SpectrumDocument object at 0x0000018B88746100>, <spec2vec.SpectrumDocument.SpectrumDocument object at 0x0000018B88746160>, <spec2vec.SpectrumDocument.SpectrumDocument object at 0x0000018B887461C0>, <spec2vec.SpectrumDocument.SpectrumDocument object at 0x0000018B88746220>, <spec2vec.SpectrumDocument.SpectrumDocument object at 0x0000018B88746280>, <spec2vec.SpectrumDocument.SpectrumDocument object at 0x0000018B887462E0>, <spec2vec.SpectrumDocument.SpectrumDocument object at 0x0000018B88746340>, <spec2vec.SpectrumDocument.SpectrumDocument object at 0x0000018B887463A0>, <spec2vec.SpectrumDocument.SpectrumDocument object at 0x0000018B88746400>, <spec2vec.SpectrumDocument.SpectrumDocument object at 0x0000018B88746460>, <spec2vec.SpectrumDocument.SpectrumDocument object at 0x0000018B88746520>, <spec2vec.SpectrumDocument.SpectrumDocument object at 0x0000018B88746580>, <spec2vec.SpectrumDocument.SpectrumDocument object at 0x0000018B88746640>, <spec2vec.SpectrumDocument.SpectrumDocument object at 0x0000018B887466A0>, <spec2vec.SpectrumDocument.SpectrumDocument object at 0x0000018B88746700>, <spec2vec.SpectrumDocument.SpectrumDocument object at 0x0000018B88746760>, <spec2vec.SpectrumDocument.SpectrumDocument object at 0x0000018B887467C0>, <spec2vec.SpectrumDocument.SpectrumDocument object at 0x0000018B88746820>, <spec2vec.SpectrumDocument.SpectrumDocument object at 0x0000018B88746880>, <spec2vec.SpectrumDocument.SpectrumDocument object at 0x0000018B887468E0>, <spec2vec.SpectrumDocument.SpectrumDocument object at 0x0000018B88746940>, <spec2vec.SpectrumDocument.SpectrumDocument object at 0x0000018B887469A0>, <spec2vec.SpectrumDocument.SpectrumDocument object at 0x0000018B88746A00>, <spec2vec.SpectrumDocument.SpectrumDocument object at 0x0000018B88746A60>, <spec2vec.SpectrumDocument.SpectrumDocument object at 0x0000018B88746AC0>, <spec2vec.SpectrumDocument.SpectrumDocument object at 0x0000018B88746B20>, <spec2vec.SpectrumDocument.SpectrumDocument object at 0x0000018B88746B80>, <spec2vec.SpectrumDocument.SpectrumDocument object at 0x0000018B88746BE0>, <spec2vec.SpectrumDocument.SpectrumDocument object at 0x0000018B88746CA0>, <spec2vec.SpectrumDocument.SpectrumDocument object at 0x0000018B88746D00>, <spec2vec.SpectrumDocument.SpectrumDocument object at 0x0000018B88746D60>, <spec2vec.SpectrumDocument.SpectrumDocument object at 0x0000018B88746DC0>, <spec2vec.SpectrumDocument.SpectrumDocument object at 0x0000018B88746E80>, <spec2vec.SpectrumDocument.SpectrumDocument object at 0x0000018B88746F40>, <spec2vec.SpectrumDocument.SpectrumDocument object at 0x0000018B8875A040>, <spec2vec.SpectrumDocument.SpectrumDocument object at 0x0000018B8875A0A0>, <spec2vec.SpectrumDocument.SpectrumDocument object at 0x0000018B8875A100>, <spec2vec.SpectrumDocument.SpectrumDocument object at 0x0000018B8875A160>, <spec2vec.SpectrumDocument.SpectrumDocument object at 0x0000018B8875A1C0>, <spec2vec.SpectrumDocument.SpectrumDocument object at 0x0000018B8875A280>, <spec2vec.SpectrumDocument.SpectrumDocument object at 0x0000018B8875A2E0>, <spec2vec.SpectrumDocument.SpectrumDocument object at 0x0000018B8875A340>, <spec2vec.SpectrumDocument.SpectrumDocument object at 0x0000018B8875A3A0>, <spec2vec.SpectrumDocument.SpectrumDocument object at 0x0000018B8875A460>, <spec2vec.SpectrumDocument.SpectrumDocument object at 0x0000018B8875A4C0>, <spec2vec.SpectrumDocument.SpectrumDocument object at 0x0000018B8875A520>, <spec2vec.SpectrumDocument.SpectrumDocument object at 0x0000018B8875A580>, <spec2vec.SpectrumDocument.SpectrumDocument object at 0x0000018B8875A5E0>, <spec2vec.SpectrumDocument.SpectrumDocument object at 0x0000018B8875A640>, <spec2vec.SpectrumDocument.SpectrumDocument object at 0x0000018B8875A6A0>, <spec2vec.SpectrumDocument.SpectrumDocument object at 0x0000018B8875A700>, <spec2vec.SpectrumDocument.SpectrumDocument object at 0x0000018B8875A760>, <spec2vec.SpectrumDocument.SpectrumDocument object at 0x0000018B8875A7C0>, <spec2vec.SpectrumDocument.SpectrumDocument object at 0x0000018B8875A820>, <spec2vec.SpectrumDocument.SpectrumDocument object at 0x0000018B8875A880>, <spec2vec.SpectrumDocument.SpectrumDocument object at 0x0000018B8875A8E0>, <spec2vec.SpectrumDocument.SpectrumDocument object at 0x0000018B8875A940>, <spec2vec.SpectrumDocument.SpectrumDocument object at 0x0000018B8875A9A0>, <spec2vec.SpectrumDocument.SpectrumDocument object at 0x0000018B8875AA60>, <spec2vec.SpectrumDocument.SpectrumDocument object at 0x0000018B8875AAC0>, <spec2vec.SpectrumDocument.SpectrumDocument object at 0x0000018B8875AB20>, <spec2vec.SpectrumDocument.SpectrumDocument object at 0x0000018B8875AB80>, <spec2vec.SpectrumDocument.SpectrumDocument object at 0x0000018B8875ABE0>, <spec2vec.SpectrumDocument.SpectrumDocument object at 0x0000018B8875AC40>, <spec2vec.SpectrumDocument.SpectrumDocument object at 0x0000018B8875ACA0>, <spec2vec.SpectrumDocument.SpectrumDocument object at 0x0000018B8875AD00>, <spec2vec.SpectrumDocument.SpectrumDocument object at 0x0000018B8875AD60>, <spec2vec.SpectrumDocument.SpectrumDocument object at 0x0000018B8875AE20>, <spec2vec.SpectrumDocument.SpectrumDocument object at 0x0000018B8875AE80>, <spec2vec.SpectrumDocument.SpectrumDocument object at 0x0000018B8875AEE0>, <spec2vec.SpectrumDocument.SpectrumDocument object at 0x0000018B8875AF40>, <spec2vec.SpectrumDocument.SpectrumDocument object at 0x0000018B8875AFA0>, <spec2vec.SpectrumDocument.SpectrumDocument object at 0x0000018B8876F040>, <spec2vec.SpectrumDocument.SpectrumDocument object at 0x0000018B8876F0A0>, <spec2vec.SpectrumDocument.SpectrumDocument object at 0x0000018B8876F100>, <spec2vec.SpectrumDocument.SpectrumDocument object at 0x0000018B8876F160>, <spec2vec.SpectrumDocument.SpectrumDocument object at 0x0000018B8876F1C0>, <spec2vec.SpectrumDocument.SpectrumDocument object at 0x0000018B8876F220>, <spec2vec.SpectrumDocument.SpectrumDocument object at 0x0000018B8876F280>, <spec2vec.SpectrumDocument.SpectrumDocument object at 0x0000018B8876F2E0>, <spec2vec.SpectrumDocument.SpectrumDocument object at 0x0000018B8876F340>, <spec2vec.SpectrumDocument.SpectrumDocument object at 0x0000018B8876F3A0>, <spec2vec.SpectrumDocument.SpectrumDocument object at 0x0000018B8876F400>, <spec2vec.SpectrumDocument.SpectrumDocument object at 0x0000018B8876F460>, <spec2vec.SpectrumDocument.SpectrumDocument object at 0x0000018B8876F520>, <spec2vec.SpectrumDocument.SpectrumDocument object at 0x0000018B8876F580>, <spec2vec.SpectrumDocument.SpectrumDocument object at 0x0000018B8876F5E0>, <spec2vec.SpectrumDocument.SpectrumDocument object at 0x0000018B8876F640>, <spec2vec.SpectrumDocument.SpectrumDocument object at 0x0000018B8876F6A0>, <spec2vec.SpectrumDocument.SpectrumDocument object at 0x0000018B8876F700>, <spec2vec.SpectrumDocument.SpectrumDocument object at 0x0000018B8876F760>, <spec2vec.SpectrumDocument.SpectrumDocument object at 0x0000018B8876F7C0>, <spec2vec.SpectrumDocument.SpectrumDocument object at 0x0000018B8876F820>, <spec2vec.SpectrumDocument.SpectrumDocument object at 0x0000018B8876F880>, <spec2vec.SpectrumDocument.SpectrumDocument object at 0x0000018B8876F8E0>, <spec2vec.SpectrumDocument.SpectrumDocument object at 0x0000018B8876F940>, <spec2vec.SpectrumDocument.SpectrumDocument object at 0x0000018B8876F9A0>, <spec2vec.SpectrumDocument.SpectrumDocument object at 0x0000018B8876FA00>, <spec2vec.SpectrumDocument.SpectrumDocument object at 0x0000018B8876FA60>, <spec2vec.SpectrumDocument.SpectrumDocument object at 0x0000018B8876FAC0>, <spec2vec.SpectrumDocument.SpectrumDocument object at 0x0000018B8876FB20>, <spec2vec.SpectrumDocument.SpectrumDocument object at 0x0000018B8876FB80>, <spec2vec.SpectrumDocument.SpectrumDocument object at 0x0000018B8876FBE0>, <spec2vec.SpectrumDocument.SpectrumDocument object at 0x0000018B8876FC40>, <spec2vec.SpectrumDocument.SpectrumDocument object at 0x0000018B8876FCA0>, <spec2vec.SpectrumDocument.SpectrumDocument object at 0x0000018B8876FD60>, <spec2vec.SpectrumDocument.SpectrumDocument object at 0x0000018B8876FDC0>, <spec2vec.SpectrumDocument.SpectrumDocument object at 0x0000018B8876FE20>, <spec2vec.SpectrumDocument.SpectrumDocument object at 0x0000018B8876FE80>, <spec2vec.SpectrumDocument.SpectrumDocument object at 0x0000018B8876FEE0>, <spec2vec.SpectrumDocument.SpectrumDocument object at 0x0000018B8876FF40>, <spec2vec.SpectrumDocument.SpectrumDocument object at 0x0000018B8876FFA0>, <spec2vec.SpectrumDocument.SpectrumDocument object at 0x0000018B88787040>, <spec2vec.SpectrumDocument.SpectrumDocument object at 0x0000018B887870A0>, <spec2vec.SpectrumDocument.SpectrumDocument object at 0x0000018B88787100>, <spec2vec.SpectrumDocument.SpectrumDocument object at 0x0000018B88787160>, <spec2vec.SpectrumDocument.SpectrumDocument object at 0x0000018B887871C0>, <spec2vec.SpectrumDocument.SpectrumDocument object at 0x0000018B88787220>, <spec2vec.SpectrumDocument.SpectrumDocument object at 0x0000018B88787280>, <spec2vec.SpectrumDocument.SpectrumDocument object at 0x0000018B887872E0>, <spec2vec.SpectrumDocument.SpectrumDocument object at 0x0000018B88787340>, <spec2vec.SpectrumDocument.SpectrumDocument object at 0x0000018B887873A0>, <spec2vec.SpectrumDocument.SpectrumDocument object at 0x0000018B88787400>, <spec2vec.SpectrumDocument.SpectrumDocument object at 0x0000018B88787460>, <spec2vec.SpectrumDocument.SpectrumDocument object at 0x0000018B887874C0>, <spec2vec.SpectrumDocument.SpectrumDocument object at 0x0000018B88787520>, <spec2vec.SpectrumDocument.SpectrumDocument object at 0x0000018B88787580>, <spec2vec.SpectrumDocument.SpectrumDocument object at 0x0000018B887875E0>, <spec2vec.SpectrumDocument.SpectrumDocument object at 0x0000018B88787640>, <spec2vec.SpectrumDocument.SpectrumDocument object at 0x0000018B887876A0>, <spec2vec.SpectrumDocument.SpectrumDocument object at 0x0000018B88787700>]\n"
     ]
    }
   ],
   "source": [
    "from spec2vec import Spec2Vec\n",
    "from spec2vec import SpectrumDocument\n",
    "\n",
    "documents_query = [SpectrumDocument(s, n_decimals=0) for s in spectrums_query]\n",
    "documents_lib = [SpectrumDocument(s, n_decimals=0) for s in spectrums_lib]\n",
    "print(documents_query)"
   ]
  },
  {
   "cell_type": "code",
   "execution_count": 15,
   "metadata": {},
   "outputs": [
    {
     "data": {
      "text/plain": [
       "997"
      ]
     },
     "execution_count": 15,
     "metadata": {},
     "output_type": "execute_result"
    }
   ],
   "source": [
    "intensity_weighting_power = 0.5\n",
    "allowed_missing_percentage = 15\n",
    "from cosine_calc import get_hits\n",
    "\n",
    "hits = get_hits( documents_query, documents_lib, metaKey='very_exact_mass', spec2vec_model=model, precursor_tol=1,\n",
    "                                                        intensity_weighting_power=intensity_weighting_power,\n",
    "                                                        allowed_missing_percentage=allowed_missing_percentage, passatutto=True)\n",
    "len(hits)"
   ]
  },
  {
   "cell_type": "code",
   "execution_count": 16,
   "metadata": {},
   "outputs": [
    {
     "name": "stdout",
     "output_type": "stream",
     "text": [
      "997\n",
      "997\n",
      "312\n"
     ]
    }
   ],
   "source": [
    "# out of\n",
    "print( len(documents_query) )\n",
    "# we got this many hits\n",
    "print( len( hits ))\n",
    "# and out of those this many were false\n",
    "print( len( [ h for h in hits if not h.hit ]))"
   ]
  },
  {
   "cell_type": "code",
   "execution_count": 17,
   "metadata": {},
   "outputs": [],
   "source": [
    "# Calculating true q-value scores\n",
    "from q_value_calc import calculate_q_value\n",
    "q_list_true = calculate_q_value(hits)"
   ]
  },
  {
   "cell_type": "code",
   "execution_count": null,
   "metadata": {},
   "outputs": [
    {
     "name": "stdout",
     "output_type": "stream",
     "text": [
      "Embedding vector size: 50\n"
     ]
    }
   ],
   "source": [
    "from knockoffs import generate_knockoffs\n",
    "#diags = [0.00000070, 0.00000075, 0.00000080, 0.00000085, 0.00000090, 0.00000095]\n",
    "#diags = [0.00000083]\n",
    "#diags = [0.000001] #closer\n",
    "#diags = [0.000005] #non semi positive\n",
    "#diags = [0.0000011,0.0000012,0.0000013,0.0000014]\n",
    "#diags = [0.0000015,0.0000016,0.0000017,0.0000018]\n",
    "#diags = [0.000001645,0.0000018]\n",
    "#diags = [0.0000022,0.0000025,0.000003] #no graphs, all in except\n",
    "#diags = [0.00000168,0.00000189]\n",
    "diags = [4]\n",
    "randy = [True]#, False]\n",
    "#sigs = [1]#,2,4,10,20]\n",
    "\n",
    "q_list_knockoffs = {}\n",
    "for diag in diags:\n",
    "        for comp in [10]:\n",
    "                try:\n",
    "                    knockoff_documents = generate_knockoffs(model,documents_lib,allowed_missing_percentage=allowed_missing_percentage,n_components=comp, diagonal_matrix=diag)\n",
    "\n",
    "                    hits_knockoffs = get_hits(documents_query, knockoff_documents, decoys=True, spec2vec_model=model, precursor_tol=3, metaKey=\"very_exact_mass\",\n",
    "                                                                            intensity_weighting_power=intensity_weighting_power,\n",
    "                                                                            allowed_missing_percentage=allowed_missing_percentage, passatutto=False)\n",
    "                    q_list_knockoffs[(diag, comp)] = calculate_q_value(hits+hits_knockoffs,True)\n",
    "                except Exception as e:\n",
    "                    print( diag, \"failed\", e )\n",
    "                    #raise"
   ]
  },
  {
   "cell_type": "code",
   "execution_count": null,
   "metadata": {},
   "outputs": [],
   "source": [
    "# plot estimated and true q-values\n",
    "def combine_true_est(q_val_true,q_val_est):\n",
    "    res = []\n",
    "    q_idx = 0\n",
    "    for q_e, _, score in q_val_est:\n",
    "        while q_idx < len(q_val_true)-1 and q_val_true[q_idx+1][2] >= score:\n",
    "            q_idx += 1\n",
    "        res.append((score, q_val_true[q_idx][0], q_e))\n",
    "    return res\n",
    "        \n",
    "to_plot = {}\n",
    "for k,v in q_list_knockoffs.items():\n",
    "    to_plot[k] = list(zip(*combine_true_est(q_list_true, v)))[1], list(zip(*combine_true_est(q_list_true, v)))[2]\n",
    "\n",
    "import plot_q_vals\n",
    "plot_q_vals.plot_q_vals( to_plot )"
   ]
  },
  {
   "cell_type": "code",
   "execution_count": null,
   "metadata": {},
   "outputs": [],
   "source": []
  },
  {
   "cell_type": "code",
   "execution_count": null,
   "metadata": {},
   "outputs": [],
   "source": []
  }
 ],
 "metadata": {
  "kernelspec": {
   "display_name": "Python 3",
   "language": "python",
   "name": "python3"
  },
  "language_info": {
   "codemirror_mode": {
    "name": "ipython",
    "version": 3
   },
   "file_extension": ".py",
   "mimetype": "text/x-python",
   "name": "python",
   "nbconvert_exporter": "python",
   "pygments_lexer": "ipython3",
   "version": "3.8.5"
  }
 },
 "nbformat": 4,
 "nbformat_minor": 4
}
